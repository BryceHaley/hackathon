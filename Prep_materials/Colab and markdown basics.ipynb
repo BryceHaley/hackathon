{
 "cells": [
  {
   "cell_type": "markdown",
   "metadata": {},
   "source": [
    "# Colab basics\n",
    "Colaboratory is a free Jupyter notebook environment provided by Google.   \n",
    "It's available [here](https://colab.research.google.com)"
   ]
  },
  {
   "cell_type": "markdown",
   "metadata": {},
   "source": [
    "### Open notebook from GitHub\n",
    "\n",
    "In order to open Jupyter notebook on colab  \n",
    "- select `File` $\\rightarrow$ `Open Notebook`  \n",
    "- choose `GitHub` section  \n",
    "- enter GitHub project name \n",
    "- leave branch at `master`\n",
    "- choose notebook from the list  \n",
    "\n",
    "![](https://swift-yeg.cloud.cybera.ca:8080/v1/AUTH_d22d1e3f28be45209ba8f660295c84cf/hackaton/open_notebook.png))\n"
   ]
  },
  {
   "cell_type": "markdown",
   "metadata": {},
   "source": [
    "### Download notebook\n",
    "\n",
    "In order to download your current version of the notebook\n",
    "\n",
    "- select `File` $\\rightarrow$ `Download .ipynb`  \n",
    "\n",
    "![](https://swift-yeg.cloud.cybera.ca:8080/v1/AUTH_d22d1e3f28be45209ba8f660295c84cf/hackaton/download_notebook.png)"
   ]
  },
  {
   "cell_type": "markdown",
   "metadata": {},
   "source": [
    "### Create new cell\n",
    "\n",
    "In order to create new cell\n",
    "- select `Insert` $\\rightarrow$ `Code Cell`  or  `Text Cell`  \n",
    "- click on buttons **Code Cell**/**Text Cell** in the top left corner\n",
    "![](https://swift-yeg.cloud.cybera.ca:8080/v1/AUTH_d22d1e3f28be45209ba8f660295c84cf/hackaton/create_cell.png)"
   ]
  },
  {
   "cell_type": "markdown",
   "metadata": {},
   "source": [
    "### Delete cell\n",
    "In order to delete cell\n",
    "\n",
    " - Click on Garbage been icon in the top left  corner of the cell: \n",
    "\n",
    "\n",
    "![](https://swift-yeg.cloud.cybera.ca:8080/v1/AUTH_d22d1e3f28be45209ba8f660295c84cf/hackaton/delete_cell.png)"
   ]
  },
  {
   "cell_type": "markdown",
   "metadata": {},
   "source": [
    "### Run cell\n",
    "In order to run the cell:\n",
    "\n",
    " - hit `Shift-Enter`  or `Ctrl-Enter`\n",
    " - click the `Run` icon in the left side of the cell: \n",
    " \n",
    " ![](https://swift-yeg.cloud.cybera.ca:8080/v1/AUTH_d22d1e3f28be45209ba8f660295c84cf/hackaton/run_cell.png)"
   ]
  },
  {
   "cell_type": "markdown",
   "metadata": {},
   "source": [
    "### Undo deleting cells\n",
    " If you accidentally deleted an incorrect cell, you can always bring it back\n",
    " - select `Edit` $\\rightarrow$ `Undo delete cell`\n",
    " \n",
    " ![](https://swift-yeg.cloud.cybera.ca:8080/v1/AUTH_d22d1e3f28be45209ba8f660295c84cf/hackaton/undo_cell.png)\n",
    " "
   ]
  },
  {
   "cell_type": "markdown",
   "metadata": {},
   "source": [
    "# Markdown basics\n",
    "\n",
    "Note that you can view the source code behind any cell by double clicking it.  \n",
    "Markdown cells in Colab are called **Text Cells**.  \n",
    "Click on `+Text` in the top  left corner to create a new Text cell.   "
   ]
  },
  {
   "cell_type": "markdown",
   "metadata": {},
   "source": [
    "## Creating Titles\n",
    "\n",
    "Creating large bold title text with markdown is very simple! All you need to do is on a new line, type the pound sign and then a space. After the space, add your title. It's that simple. By adding extra pound signs, you will create different title levels. \n",
    "\n",
    "Double click on the cell below to see how the souce code looks like."
   ]
  },
  {
   "cell_type": "markdown",
   "metadata": {},
   "source": [
    "# I am a level one title\n",
    "## I am a level two title\n",
    "### I am a level three title\n",
    "#### I am a level four title\n",
    "##### I am a level five title\n",
    "###### I am a level six title \n",
    "####### I would be a level seven title if such a thing existed\n",
    "\n",
    "If  # isn't the first character, that line does not get rendered as a title. "
   ]
  },
  {
   "cell_type": "markdown",
   "metadata": {},
   "source": [
    "## Bold /italic /strikethrough\n",
    "\n",
    "You can easily create formatted text in markdown: double click on the cell below to see how the source code looks like."
   ]
  },
  {
   "cell_type": "markdown",
   "metadata": {},
   "source": [
    "*writing in italics* \n",
    "  \n",
    "**this text is bold**\n",
    "\n",
    "~~this is strikethrough~~\n",
    "\n",
    "`monospace`"
   ]
  },
  {
   "cell_type": "markdown",
   "metadata": {},
   "source": [
    "## Creating Itemized Lists\n",
    "Creating lists in markdown  is also straight forward! To do so you simply need to start a new line and begin counting. The markdown syntax is shown in the code below. "
   ]
  },
  {
   "cell_type": "markdown",
   "metadata": {},
   "source": [
    "#### Double Click Me\n",
    "\n",
    "1. This is the first item of a list\n",
    "1. This is the second\n",
    "50. Notice how the numbers we use don't matter once it's rendered\n",
    "    1. By pressing the `Tab` key we can add sub items\n",
    "    45. The numbers don't matter here either\n",
    "        - We can add many sub-lists\n",
    "            - But at some point it starts to get redundant\n",
    "        - We can also go back a few levels of nesting by lining the text up with the line above\n",
    "2346. By going back to the original line, we leave our nested lists\n",
    "23236235672456. The numbers really don't matter.\n",
    "* In fact, you can give up on numbers at any time.\n",
    "1. Or start counting again\n",
    "    \n",
    "\n",
    "- We also don't need to have numbers if we don't want to!\n",
    "    * We have plenty of options\n",
    "-Notice how if we don't put a space between the dash and the first term it doesn't become a new item in the list!\n",
    "\n"
   ]
  },
  {
   "cell_type": "markdown",
   "metadata": {},
   "source": [
    "---\n",
    "### Exercise 1\n",
    "1. In the cell above, try fixing the last line so that the last item in the list becomes properly formatted once it's rendered. \n",
    "2. Create a new cell below, add a title, and an ordered list of your five favourite fruits.\n",
    "---"
   ]
  },
  {
   "cell_type": "markdown",
   "metadata": {},
   "source": [
    "## Links\n",
    "You can add hyper links to webpages anywhere you'd like right in the text. The syntax is as follows\n",
    "```markdown\n",
    "[text you want to display](link to a file or url page)\n",
    "```\n",
    "Double click on the cell below to see how the source code looks like:"
   ]
  },
  {
   "cell_type": "markdown",
   "metadata": {},
   "source": [
    "[this is the text that becomes the hyperlink](https://media.giphy.com/media/Vs44a88Dvbnkk/giphy.gif)"
   ]
  },
  {
   "cell_type": "markdown",
   "metadata": {},
   "source": [
    "## Images/gifs\n",
    "Images and gifs can be emebedded in a markdown cell nearly identically to placing a hyperlink. To display the image, add an exclamation point to the command as demonstrated below. \n",
    "```markdown\n",
    "![type anything here, it really doesn't matter, it's more for your reference](link in parenthesis)\n",
    "```\n",
    "would display an image/gif. It can either be a url link to an image, or one you have saved on the hub/locally. Double click on the cell below to see the source code. "
   ]
  },
  {
   "cell_type": "markdown",
   "metadata": {},
   "source": [
    "![type type type](https://media.giphy.com/media/gVoBC0SuaHStq/giphy.gif)"
   ]
  },
  {
   "cell_type": "markdown",
   "metadata": {},
   "source": [
    "---\n",
    "### Exercise 2\n",
    "1. In a new cell below, embed an image of a cat. \n",
    "2. In the same cell, add a hyperlink below the image that links to the original image.\n",
    "3. Change the text displayed in the hyperlink to say \"Kitty Kitty\".\n",
    "---"
   ]
  },
  {
   "cell_type": "markdown",
   "metadata": {},
   "source": [
    "## Block Quotes\n",
    "Block quotes are a way to indent text/images with a grey bar in order to distinguish them from the main text. It is quite simlly done by adding a `>` at the beginning of a line. See some examples in the cell below, double click on it to view the source code:"
   ]
  },
  {
   "cell_type": "markdown",
   "metadata": {},
   "source": [
    "> This is an example of a block quote. You can type as long as you like and all the resulting text will be to the right of a the vertical grey bar. \n",
    "\n",
    "You can also use block quotes to easily format images with captions! \n",
    "\n",
    "> ![this image will be in block quotes](https://media.giphy.com/media/fs6rnt1K0YyVWRXNwY/giphy.gif)\n",
    ">\n",
    "> Now we can include a caption for images. This is nice because the image is now distinguishable from the main text. This makes it easy to include images without interrupting any narrative you've created. Notice how I have included a blank `>` under the image. That is so the spacing of this text looks nice underneath. Try removing it and see what happens"
   ]
  },
  {
   "cell_type": "markdown",
   "metadata": {},
   "source": [
    "[Markdown cheetsheet from Colab](https://colab.research.google.com/notebooks/markdown_guide.ipynb)"
   ]
  }
 ],
 "metadata": {
  "kernelspec": {
   "display_name": "Python 3",
   "language": "python",
   "name": "python3"
  },
  "language_info": {
   "codemirror_mode": {
    "name": "ipython",
    "version": 3
   },
   "file_extension": ".py",
   "mimetype": "text/x-python",
   "name": "python",
   "nbconvert_exporter": "python",
   "pygments_lexer": "ipython3",
   "version": "3.6.8"
  },
  "nbTranslate": {
   "displayLangs": [
    "*"
   ],
   "hotkey": "alt-t",
   "langInMainMenu": true,
   "sourceLang": "en",
   "targetLang": "fr",
   "useGoogleTranslate": true
  }
 },
 "nbformat": 4,
 "nbformat_minor": 2
}
