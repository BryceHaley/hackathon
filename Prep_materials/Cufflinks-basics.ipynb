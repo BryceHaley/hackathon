{
 "cells": [
  {
   "cell_type": "markdown",
   "metadata": {},
   "source": [
    "![alt text](https://github.com/callysto/callysto-sample-notebooks/blob/master/notebooks/images/Callysto_Notebook-Banner_Top_06.06.18.jpg?raw=true)"
   ]
  },
  {
   "cell_type": "markdown",
   "metadata": {},
   "source": [
    "# Basics of Cufflinks\n",
    "\n",
    "This notebook will provide an introduction to graphics in Python using the **cufflinks** library. Cufflinks connects [pandas](https://pandas.pydata.org/) DataFrames to [Plotly](https://plot.ly/python/) visualizations.\n",
    "\n",
    "Please go through the **Python and pandas basics** tutorial first."
   ]
  },
  {
   "cell_type": "code",
   "execution_count": null,
   "metadata": {},
   "outputs": [],
   "source": [
    "#load \"pandas\" library under short name \"pd\"\n",
    "import pandas as pd\n",
    "\n",
    "# we have csv file of data related to hypothetical pets for adoption\n",
    "# from https://www.bootstrapworld.org/materials/data-science/\n",
    "#url = \"https://swift-yeg.cloud.cybera.ca:8080/v1/AUTH_d22d1e3f28be45209ba8f660295c84cf/hackaton/titanic_short.csv\"\n",
    "url = './pets.csv'\n",
    "\n",
    "#read csv file from url and save it as dataframe\n",
    "pets = pd.read_csv(url)\n",
    "\n",
    "#print data on the screen\n",
    "pets"
   ]
  },
  {
   "cell_type": "markdown",
   "metadata": {},
   "source": [
    "# Interactive plotting using cufflinks\n",
    "\n",
    "Cufflinks is one of the Python libraries that allows us to work with interactive graphs. It requires some preparation steps."
   ]
  },
  {
   "cell_type": "code",
   "execution_count": null,
   "metadata": {},
   "outputs": [],
   "source": [
    "#library should be installed already\n",
    "#!pip install cufflinks ipywidgets"
   ]
  },
  {
   "cell_type": "markdown",
   "metadata": {},
   "source": [
    "1. Load library:"
   ]
  },
  {
   "cell_type": "code",
   "execution_count": null,
   "metadata": {},
   "outputs": [],
   "source": [
    "#load the \"cufflinks\" library under the short name \"cf\"\n",
    "import cufflinks as cf\n",
    "\n",
    "#command to display graphics correctly in a Jupyter notebook\n",
    "cf.go_offline()"
   ]
  },
  {
   "cell_type": "markdown",
   "metadata": {},
   "source": [
    "2. If you are using Colab, run the cell below to enable interactive plotting. *This step isn't necessary if you are using Callysto Hub.*"
   ]
  },
  {
   "cell_type": "code",
   "execution_count": null,
   "metadata": {},
   "outputs": [],
   "source": [
    "def enable_plotly_in_cell():\n",
    "    import IPython\n",
    "    from plotly.offline import init_notebook_mode\n",
    "    display(IPython.core.display.HTML('''<script src=\"/static/components/requirejs/require.js\"></script>'''))\n",
    "    init_notebook_mode(connected=False)\n",
    "get_ipython().events.register('pre_run_cell', enable_plotly_in_cell)\n",
    "print('Interactive plotting enabled')"
   ]
  },
  {
   "cell_type": "markdown",
   "metadata": {},
   "source": [
    "## Scatter plot"
   ]
  },
  {
   "cell_type": "code",
   "execution_count": null,
   "metadata": {},
   "outputs": [],
   "source": [
    "#use iplot(kind=\"scatter\",mode='markers') to create scatterplot\n",
    "pets.iplot(kind=\"scatter\", mode='markers', y=\"Time to Adoption (weeks)\", x=\"Age (years)\") #x and y are dataset columns"
   ]
  },
  {
   "cell_type": "markdown",
   "metadata": {},
   "source": [
    "### Scatter plot colored by category"
   ]
  },
  {
   "cell_type": "code",
   "execution_count": null,
   "metadata": {},
   "outputs": [],
   "source": [
    "#use categories=\"column1\" to color by a specific column\n",
    "#use text=\"column2\" to set text that appears on the screen when you hover your mouse over the plot\n",
    "pets.iplot(kind=\"scatter\",mode='markers',y=\"Time to Adoption (weeks)\", x=\"Age (years)\",categories =\"Species\",text=\"Gender\")"
   ]
  },
  {
   "cell_type": "markdown",
   "metadata": {},
   "source": [
    "## Line plot"
   ]
  },
  {
   "cell_type": "code",
   "execution_count": null,
   "metadata": {},
   "outputs": [],
   "source": [
    "#selecting one column of data: \"Age (years)\"\n",
    "age = pets[[\"Age (years)\"]]\n",
    "age"
   ]
  },
  {
   "cell_type": "code",
   "execution_count": null,
   "metadata": {},
   "outputs": [],
   "source": [
    "#use iplot() function to create a simeple line graph\n",
    "#note - x axis are indices (row names)\n",
    "age.iplot()"
   ]
  },
  {
   "cell_type": "markdown",
   "metadata": {},
   "source": [
    "### Axis labels"
   ]
  },
  {
   "cell_type": "code",
   "execution_count": null,
   "metadata": {},
   "outputs": [],
   "source": [
    "#Use xTitle and yTitle to set axis labels\n",
    "age.iplot(xTitle=\"Pet Index Number\",yTitle=\"Age (years)\") "
   ]
  },
  {
   "cell_type": "markdown",
   "metadata": {},
   "source": [
    "---\n",
    "### Exercise 1\n",
    "\n",
    "1. Change the cell below to select only the column \"Weight (lbs)\" from the pets DataFrame and make a line plot \n",
    "2. Set the x-axis label to \"Pet\" and the y-axis label to \"Weight (lbs)\"\n",
    "\n",
    "---"
   ]
  },
  {
   "cell_type": "code",
   "execution_count": null,
   "metadata": {},
   "outputs": [],
   "source": [
    "weight = pets[[\"column1\"]] #modify column1 to select age\n",
    "weight.iplot() #set axis labels"
   ]
  },
  {
   "cell_type": "markdown",
   "metadata": {},
   "source": [
    "## Bar chart"
   ]
  },
  {
   "cell_type": "code",
   "execution_count": null,
   "metadata": {},
   "outputs": [],
   "source": [
    "#use kind=\"bar\" for bar charts\n",
    "weight.iplot(kind=\"bar\")"
   ]
  },
  {
   "cell_type": "markdown",
   "metadata": {},
   "source": [
    "### Bar chart: multiple bars per group"
   ]
  },
  {
   "cell_type": "code",
   "execution_count": null,
   "metadata": {},
   "outputs": [],
   "source": [
    "#we will calculate some statistics grouped by column \"Species\" first\n",
    "#go back to the Python and pandas basics notebook for more details\n",
    "\n",
    "min_max = pets[[\"Species\", \"Weight (lbs)\"]].groupby(\"Species\").agg([\"min\", \"max\"])\n",
    "min_max"
   ]
  },
  {
   "cell_type": "code",
   "execution_count": null,
   "metadata": {},
   "outputs": [],
   "source": [
    "#use (kind=\"bar\",barmode=\"stack\") to stack bars on top of each other\n",
    "min_max.iplot(kind=\"bar\")"
   ]
  },
  {
   "cell_type": "markdown",
   "metadata": {},
   "source": [
    "---\n",
    "### Exercise 2\n",
    "\n",
    "1. Change the cell below to calculate  min and max age grouped by \"Species\" column\n",
    "2. Cerate a bar chart of the results\n",
    "\n",
    "---"
   ]
  },
  {
   "cell_type": "code",
   "execution_count": null,
   "metadata": {},
   "outputs": [],
   "source": [
    "min_max_age = pets[[\"Species\",\"Age (years)\"]].groupby(\"column1\").agg([\"min\",\"max\"]) #change \"column1\" to column name\n",
    "#create bar chart here"
   ]
  },
  {
   "cell_type": "markdown",
   "metadata": {},
   "source": [
    "## Area plot"
   ]
  },
  {
   "cell_type": "code",
   "execution_count": null,
   "metadata": {},
   "outputs": [],
   "source": [
    "#to create an area plot use (kind=\"area\",fill=True)\n",
    "min_max.iplot(kind=\"area\",fill=True)"
   ]
  },
  {
   "cell_type": "markdown",
   "metadata": {},
   "source": [
    "## Pie chart"
   ]
  },
  {
   "cell_type": "code",
   "execution_count": null,
   "metadata": {},
   "outputs": [],
   "source": [
    "#number of rows grouped by \"Species\" column\n",
    "count_by_species = pets.groupby(\"Species\").size().reset_index(name=\"Count\")\n",
    "\n",
    "count_by_species"
   ]
  },
  {
   "cell_type": "code",
   "execution_count": null,
   "metadata": {},
   "outputs": [],
   "source": [
    "#use kind=\"pie\" for pie charts\n",
    "count_by_species.iplot(kind=\"pie\", values=\"Count\", labels=\"Species\") #values and labels are DataFrame columns"
   ]
  },
  {
   "cell_type": "markdown",
   "metadata": {},
   "source": [
    "---\n",
    "### Exercise 3\n",
    "\n",
    "1. Change the cell below to count how many pets have been fixed (grouped by \"Fixed\" column)\n",
    "2. Create a pie chart of the results\n",
    "\n",
    "---"
   ]
  },
  {
   "cell_type": "code",
   "execution_count": null,
   "metadata": {},
   "outputs": [],
   "source": [
    "#change \"column1\" to the correct column name \n",
    "count_by_fixed = pets.groupby(\"column1\").size().reset_index(name=\"Count\") \n",
    "\n",
    "count_by_fixed"
   ]
  },
  {
   "cell_type": "code",
   "execution_count": null,
   "metadata": {},
   "outputs": [],
   "source": [
    "#create a pie chart\n"
   ]
  },
  {
   "cell_type": "markdown",
   "metadata": {},
   "source": [
    "More resources for cufflinks plots are [here](https://plot.ly/python/v3/ipython-notebooks/cufflinks/)"
   ]
  },
  {
   "cell_type": "markdown",
   "metadata": {},
   "source": [
    "![alt text](https://github.com/callysto/callysto-sample-notebooks/blob/master/notebooks/images/Callysto_Notebook-Banners_Bottom_06.06.18.jpg?raw=true)"
   ]
  }
 ],
 "metadata": {
  "kernelspec": {
   "display_name": "Python 3",
   "language": "python",
   "name": "python3"
  },
  "language_info": {
   "codemirror_mode": {
    "name": "ipython",
    "version": 3
   },
   "file_extension": ".py",
   "mimetype": "text/x-python",
   "name": "python",
   "nbconvert_exporter": "python",
   "pygments_lexer": "ipython3",
   "version": "3.7.3"
  },
  "nbTranslate": {
   "displayLangs": [
    "*"
   ],
   "hotkey": "alt-t",
   "langInMainMenu": true,
   "sourceLang": "en",
   "targetLang": "fr",
   "useGoogleTranslate": true
  }
 },
 "nbformat": 4,
 "nbformat_minor": 2
}
