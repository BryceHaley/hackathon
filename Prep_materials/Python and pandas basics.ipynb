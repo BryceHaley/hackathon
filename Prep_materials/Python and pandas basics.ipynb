{
 "cells": [
  {
   "cell_type": "markdown",
   "metadata": {},
   "source": [
    "# Basics of Python\n",
    "This notebook will provide basics of python and introduction to DataFrames.\n",
    "\n",
    "To enter code in Colab we are going to use **Code Cells**.  \n",
    "Click on `+Code` in the top left corner (or inbetween cells) to create a new Code cell."
   ]
  },
  {
   "cell_type": "code",
   "execution_count": null,
   "metadata": {},
   "outputs": [],
   "source": [
    "# Anything in a code cell after a pound sign is a comment! \n",
    "# You can type anything here and it will not be excecuted \n",
    "\n",
    "# Variables are defined with an equals sign (=)\n",
    "\n",
    "my_variable = 10             # You cannot put spaces in variable names. \n",
    "other_variable = \"some text\" # variables need not be numbers!\n",
    "\n",
    "# Print will output our variables below the cell\n",
    "print(my_variable, other_variable)"
   ]
  },
  {
   "cell_type": "code",
   "execution_count": null,
   "metadata": {},
   "outputs": [],
   "source": [
    "# Variables are also shared between cells. You can also pring words and sentences directly. \n",
    "print(my_variable, other_variable, \"We can print text directly in quotes\")"
   ]
  },
  {
   "cell_type": "code",
   "execution_count": null,
   "metadata": {},
   "outputs": [],
   "source": [
    "# You can do mathematical operations in python\n",
    "\n",
    "x = 5\n",
    "y = 10\n",
    "\n",
    "add = x + y\n",
    "subtract = x - y\n",
    "multiply = x * y\n",
    "divide = x/y\n",
    "\n",
    "print(add, subtract, multiply, divide)\n"
   ]
  },
  {
   "cell_type": "markdown",
   "metadata": {},
   "source": [
    "---\n",
    "### Exercise 1\n",
    "\n",
    "1. In the cell below, assign variable z to your name and run the cell. \n",
    "2. In the cell below, write a comment on the same line where you define z. Run the cell to make sure the comment is not changing anything.\n",
    "---\n"
   ]
  },
  {
   "cell_type": "code",
   "execution_count": null,
   "metadata": {},
   "outputs": [],
   "source": [
    "## Enter your code in the line below\n",
    "z = \"your name here\"\n",
    "\n",
    "##\n",
    "\n",
    "print(z, \"is loving Python!\")"
   ]
  },
  {
   "cell_type": "markdown",
   "metadata": {},
   "source": [
    "# Basics of DataFrames and pandas"
   ]
  },
  {
   "cell_type": "markdown",
   "metadata": {},
   "source": [
    "**DataFrame** - two-dimentional data structure(similar to a table). \n",
    "\n",
    "In Python there is a library of predifened functions to work with  DataFrames  - **pandas**.    "
   ]
  },
  {
   "cell_type": "code",
   "execution_count": null,
   "metadata": {},
   "outputs": [],
   "source": [
    "#load \"pandas\" library under short name \"pd\"\n",
    "import pandas as pd"
   ]
  },
  {
   "cell_type": "markdown",
   "metadata": {},
   "source": [
    "To read file in csv format - **read_csv()** is used, it can read local files and files from URL as well."
   ]
  },
  {
   "cell_type": "code",
   "execution_count": null,
   "metadata": {},
   "outputs": [],
   "source": [
    "#we have csv stored in the cloud - it is 10 rows of data related to Titanic\n",
    "url = \"https://swift-yeg.cloud.cybera.ca:8080/v1/AUTH_d22d1e3f28be45209ba8f660295c84cf/hackaton/titanic_short.csv\"\n",
    "\n",
    "#read csv file from url and save it as dataframe\n",
    "titanic = pd.read_csv(url)"
   ]
  },
  {
   "cell_type": "code",
   "execution_count": null,
   "metadata": {},
   "outputs": [],
   "source": [
    "#shape shows number of rows and number of columns\n",
    "titanic.shape"
   ]
  },
  {
   "cell_type": "markdown",
   "metadata": {},
   "source": [
    "## Basic operations with DataFrames  "
   ]
  },
  {
   "cell_type": "markdown",
   "metadata": {},
   "source": [
    "### Select specific rows/colums  by name"
   ]
  },
  {
   "cell_type": "code",
   "execution_count": null,
   "metadata": {},
   "outputs": [],
   "source": [
    "#Getting column names\n",
    "titanic.columns"
   ]
  },
  {
   "cell_type": "code",
   "execution_count": null,
   "metadata": {},
   "outputs": [],
   "source": [
    "#Selecting one column:\n",
    "titanic['survived']"
   ]
  },
  {
   "cell_type": "code",
   "execution_count": null,
   "metadata": {},
   "outputs": [],
   "source": [
    "#Selecting multiple columns:\n",
    "titanic[['survived','age']]  "
   ]
  },
  {
   "cell_type": "code",
   "execution_count": null,
   "metadata": {},
   "outputs": [],
   "source": [
    "#Selecting first 5 rows\n",
    "titanic.head()"
   ]
  },
  {
   "cell_type": "code",
   "execution_count": null,
   "metadata": {},
   "outputs": [],
   "source": [
    "#Getting index (row names)  - note row names start at 0\n",
    "titanic.index.tolist()"
   ]
  },
  {
   "cell_type": "code",
   "execution_count": null,
   "metadata": {},
   "outputs": [],
   "source": [
    "#Selecting one row:\n",
    "titanic.iloc[[2]]\n",
    "#(its row 3, remember row number start at zero)"
   ]
  },
  {
   "cell_type": "code",
   "execution_count": null,
   "metadata": {},
   "outputs": [],
   "source": [
    "#Selecting multiple rows(rows 2 and 5):\n",
    "titanic.iloc[[2,5]]"
   ]
  },
  {
   "cell_type": "code",
   "execution_count": null,
   "metadata": {},
   "outputs": [],
   "source": [
    "#Selecting rows and columns:\n",
    "titanic[['survived','age']].iloc[[2,5]]"
   ]
  },
  {
   "cell_type": "markdown",
   "metadata": {},
   "source": [
    "---\n",
    "### Exercise 2\n",
    "\n",
    "1. In the cell below, uncomment the code\n",
    "2. Change \"column1\", \"column2\" and \"column3\" to \"fare\",\t\"age\" and \"class\" to get these 3 columns\n",
    "\n",
    "---"
   ]
  },
  {
   "cell_type": "code",
   "execution_count": null,
   "metadata": {},
   "outputs": [],
   "source": [
    "#titanic[[\"column1\",\"column2\",\"column3\"]]"
   ]
  },
  {
   "cell_type": "markdown",
   "metadata": {},
   "source": [
    "### Select specific colums  by condition"
   ]
  },
  {
   "cell_type": "code",
   "execution_count": null,
   "metadata": {},
   "outputs": [],
   "source": [
    "#create a condition: for example sex equals to female\n",
    "condition = titanic['sex']==\"female\" #note == sign\n",
    "\n",
    "condition #it shows True for rows where sex is equal to female"
   ]
  },
  {
   "cell_type": "code",
   "execution_count": null,
   "metadata": {},
   "outputs": [],
   "source": [
    "#subset by condition\n",
    "titanic[condition]"
   ]
  },
  {
   "cell_type": "code",
   "execution_count": null,
   "metadata": {},
   "outputs": [],
   "source": [
    "#other examples of conditions:\n",
    "\n",
    "#Not equal:\n",
    "condition1 = titanic['sex']!=\"female\"\n",
    "\n",
    "#equal to one value in the list:\n",
    "condition2 = titanic['class'].isin([\"First\",\"Second\"])\n",
    "\n",
    "#Multiple conditions - \"and\" (sex is \"female\" and class id \"First\"):\n",
    "condition3 = (titanic['sex']==\"female\") & (titanic['class']==\"First\")\n",
    "\n",
    "#Multiple conditions - \"or\" (sex is \"female\" or class id \"First\"):\n",
    "condition4 = (titanic['sex']==\"female\") | (titanic['class']==\"First\")"
   ]
  },
  {
   "cell_type": "markdown",
   "metadata": {},
   "source": [
    "---\n",
    "### Exercise 3\n",
    "\n",
    "1. Change the cell below to subset only sex \"female\" and embark_town \"Cherbourg\"\n",
    "\n",
    "---"
   ]
  },
  {
   "cell_type": "code",
   "execution_count": null,
   "metadata": {},
   "outputs": [],
   "source": [
    "condition5 = (titanic['sex']==\"female\") | (titanic['class']==\"First\") #change the condition here\n",
    "\n",
    "\n",
    "titanic[condition5]"
   ]
  },
  {
   "cell_type": "markdown",
   "metadata": {},
   "source": [
    "### Sorting "
   ]
  },
  {
   "cell_type": "code",
   "execution_count": null,
   "metadata": {},
   "outputs": [],
   "source": [
    "#sorting by pclass\n",
    "titanic.sort_values(\"pclass\")"
   ]
  },
  {
   "cell_type": "code",
   "execution_count": null,
   "metadata": {},
   "outputs": [],
   "source": [
    "#sort by two columns - first by pclass and then by age\n",
    "titanic.sort_values([\"pclass\",\"age\"])"
   ]
  },
  {
   "cell_type": "markdown",
   "metadata": {},
   "source": [
    "### Grouping and calculating summaries on groups"
   ]
  },
  {
   "cell_type": "code",
   "execution_count": null,
   "metadata": {},
   "outputs": [],
   "source": [
    "#split data into two groups based on survived column\n",
    "#calculate averages for every column for both groups\n",
    "titanic.groupby(\"survived\").mean()"
   ]
  },
  {
   "cell_type": "code",
   "execution_count": null,
   "metadata": {},
   "outputs": [],
   "source": [
    "#another operations you can do on groups  are\n",
    "# min(), max(), median(), sum(), count()"
   ]
  },
  {
   "cell_type": "markdown",
   "metadata": {},
   "source": [
    "---\n",
    "### Exercise 4\n",
    "\n",
    "1. Modify the cell below to  calculate max() for every column grouped by \"class\"\n",
    "---"
   ]
  },
  {
   "cell_type": "code",
   "execution_count": null,
   "metadata": {},
   "outputs": [],
   "source": [
    "titanic.groupby(\"survived\").mean() ##modify this cell"
   ]
  },
  {
   "cell_type": "markdown",
   "metadata": {},
   "source": [
    "Addtional resources for Pandas and DataFrames can be found [here](https://www.datacamp.com/community/tutorials/pandas-tutorial-dataframe-python) and \n",
    "[here](https://www.kaggle.com/grroverpr/pandas-cheatsheet)."
   ]
  }
 ],
 "metadata": {
  "kernelspec": {
   "display_name": "Python 3",
   "language": "python",
   "name": "python3"
  },
  "language_info": {
   "codemirror_mode": {
    "name": "ipython",
    "version": 3
   },
   "file_extension": ".py",
   "mimetype": "text/x-python",
   "name": "python",
   "nbconvert_exporter": "python",
   "pygments_lexer": "ipython3",
   "version": "3.6.8"
  },
  "nbTranslate": {
   "displayLangs": [
    "*"
   ],
   "hotkey": "alt-t",
   "langInMainMenu": true,
   "sourceLang": "en",
   "targetLang": "fr",
   "useGoogleTranslate": true
  }
 },
 "nbformat": 4,
 "nbformat_minor": 2
}
