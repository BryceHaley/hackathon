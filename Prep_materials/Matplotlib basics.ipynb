{
 "cells": [
  {
   "cell_type": "markdown",
   "metadata": {},
   "source": [
    "![alt text](https://github.com/callysto/callysto-sample-notebooks/blob/master/notebooks/images/Callysto_Notebook-Banner_Top_06.06.18.jpg?raw=true)"
   ]
  },
  {
   "cell_type": "markdown",
   "metadata": {},
   "source": [
    "This notebook will provide introduction to graphics in python using **matplotlib** libraray.\n",
    "\n",
    "Please go through **Python and pandas basics** tutorial first."
   ]
  },
  {
   "cell_type": "code",
   "execution_count": null,
   "metadata": {},
   "outputs": [],
   "source": [
    "#load \"pandas\" library under short name \"pd\"\n",
    "import pandas as pd\n",
    "\n",
    "#we have csv file stored in the cloud - it is 10 rows of data related to Titanic\n",
    "url = \"https://swift-yeg.cloud.cybera.ca:8080/v1/AUTH_d22d1e3f28be45209ba8f660295c84cf/hackaton/titanic_short.csv\"\n",
    "\n",
    "#read csv file from url and save it as dataframe\n",
    "titanic = pd.read_csv(url)"
   ]
  },
  {
   "cell_type": "code",
   "execution_count": null,
   "metadata": {},
   "outputs": [],
   "source": [
    "#print data on the screen\n",
    "titanic"
   ]
  },
  {
   "cell_type": "markdown",
   "metadata": {},
   "source": [
    "# Basics of matplotlib"
   ]
  },
  {
   "cell_type": "markdown",
   "metadata": {},
   "source": [
    "In Python there is a library of pre-defined functions to work with  graphics  - **matplotlib**. "
   ]
  },
  {
   "cell_type": "code",
   "execution_count": null,
   "metadata": {},
   "outputs": [],
   "source": [
    "#load \"matplotlib.pyplot\" library under short name \"plt\"\n",
    "import matplotlib.pyplot as plt\n",
    "\n",
    "#command to display graphics correctly in Jupyter notebook\n",
    "%matplotlib inline"
   ]
  },
  {
   "cell_type": "markdown",
   "metadata": {},
   "source": [
    "## Scatter plot"
   ]
  },
  {
   "cell_type": "code",
   "execution_count": null,
   "metadata": {},
   "outputs": [],
   "source": [
    "#use plot(kind=\"scatter\") to create scatterplot\n",
    "titanic.plot(kind=\"scatter\",y=\"fare\",x=\"age\") #x and y are dataset columns"
   ]
  },
  {
   "cell_type": "markdown",
   "metadata": {},
   "source": [
    "## Line plot"
   ]
  },
  {
   "cell_type": "code",
   "execution_count": null,
   "metadata": {},
   "outputs": [],
   "source": [
    "#selecting one column of data - fare\n",
    "fare = titanic[[\"fare\"]]\n",
    "fare"
   ]
  },
  {
   "cell_type": "code",
   "execution_count": null,
   "metadata": {},
   "outputs": [],
   "source": [
    "#to create a line plot - use plot() function\n",
    "#note x axis are row indices\n",
    "fare.plot()"
   ]
  },
  {
   "cell_type": "markdown",
   "metadata": {},
   "source": [
    "### Figure size"
   ]
  },
  {
   "cell_type": "code",
   "execution_count": null,
   "metadata": {},
   "outputs": [],
   "source": [
    "#to change plot size use figsize argument\n",
    "fare.plot(figsize=(20,7))"
   ]
  },
  {
   "cell_type": "markdown",
   "metadata": {},
   "source": [
    "### Axis labels"
   ]
  },
  {
   "cell_type": "code",
   "execution_count": null,
   "metadata": {},
   "outputs": [],
   "source": [
    "fare.plot(figsize=(20,7))\n",
    "\n",
    "#to set axis lables use plt.xlabel() and plt.ylabel() commands\n",
    "plt.xlabel('Passenger',size=16) #x axis label, font size is 16\n",
    "plt.ylabel('Fare -$',size=16) #y axis label, font size is 16"
   ]
  },
  {
   "cell_type": "markdown",
   "metadata": {},
   "source": [
    "---\n",
    "### Exercise 1\n",
    "\n",
    "1. Change the cell below to select only column \"age\" from the titanic DataFrame and make a line plot with figure size 15,5  \n",
    "2. Set x axis label to \"Passenger\", Y axis labe to \"Age\"\n",
    "\n",
    "---"
   ]
  },
  {
   "cell_type": "code",
   "execution_count": null,
   "metadata": {},
   "outputs": [],
   "source": [
    "age = titanic[[\"column1\"]] #modify column1 to select age\n",
    "age.plot() #set figsize\n",
    "#set axis labels"
   ]
  },
  {
   "cell_type": "markdown",
   "metadata": {},
   "source": [
    "## Bar chart"
   ]
  },
  {
   "cell_type": "code",
   "execution_count": null,
   "metadata": {},
   "outputs": [],
   "source": [
    "#use kind=\"bar\" for bar charts, note x axis are row indices\n",
    "fare.plot(kind=\"bar\",figsize=(20,7))"
   ]
  },
  {
   "cell_type": "markdown",
   "metadata": {},
   "source": [
    "### Bar chart: multiple bars per group"
   ]
  },
  {
   "cell_type": "code",
   "execution_count": null,
   "metadata": {},
   "outputs": [],
   "source": [
    "#we will calculate some statistics grouped by column \"sex\" first\n",
    "#see basics of pandas  notebook for more details\n",
    "\n",
    "min_max = titanic[[\"age\",\"sex\"]].groupby(\"sex\").agg([\"min\",\"max\"])\n",
    "min_max"
   ]
  },
  {
   "cell_type": "code",
   "execution_count": null,
   "metadata": {},
   "outputs": [],
   "source": [
    "#use (kind=\"bar\",stacked=True) to stack bars on top of each other\n",
    "min_max.plot(kind=\"bar\")"
   ]
  },
  {
   "cell_type": "markdown",
   "metadata": {},
   "source": [
    "---\n",
    "### Exercise 2\n",
    "\n",
    "1. Change the cell below to calculate  min and max age grouped by \"who\" column\n",
    "2. Cerate a bar chart of the results\n",
    "\n",
    "---"
   ]
  },
  {
   "cell_type": "code",
   "execution_count": null,
   "metadata": {},
   "outputs": [],
   "source": [
    "min_max_who = titanic[[\"age\",\"who\"]].groupby(\"column1\").agg([\"min\",\"max\"]) #change \"column1\" to column name\n",
    "#create bar chart here"
   ]
  },
  {
   "cell_type": "markdown",
   "metadata": {},
   "source": [
    "## Area plot"
   ]
  },
  {
   "cell_type": "code",
   "execution_count": null,
   "metadata": {},
   "outputs": [],
   "source": [
    "#to create an area plot use kind=\"area\"\n",
    "min_max.plot(kind=\"area\")"
   ]
  },
  {
   "cell_type": "markdown",
   "metadata": {},
   "source": [
    "## Pie chart"
   ]
  },
  {
   "cell_type": "code",
   "execution_count": null,
   "metadata": {},
   "outputs": [],
   "source": [
    "#number of rows grouped by \"who\" column\n",
    "count_by_who = titanic.groupby(\"who\").size()\n",
    "\n",
    "count_by_who"
   ]
  },
  {
   "cell_type": "code",
   "execution_count": null,
   "metadata": {},
   "outputs": [],
   "source": [
    "#use kind=\"pie\" for pie charts\n",
    "count_by_who.plot(kind=\"pie\", figsize=(5,5))\n",
    "\n",
    "#setting axis labels to blanks\n",
    "plt.xlabel('') \n",
    "plt.ylabel('') "
   ]
  },
  {
   "cell_type": "markdown",
   "metadata": {},
   "source": [
    "---\n",
    "### Exercise 3\n",
    "\n",
    "1. Change the cell below to calculate row number  grouped by \"class\" column\n",
    "2. Cerate a pie chart of the results\n",
    "\n",
    "---"
   ]
  },
  {
   "cell_type": "code",
   "execution_count": null,
   "metadata": {},
   "outputs": [],
   "source": [
    "count_by_class = titanic.groupby(\"column1\").size() #change \"column1\" to column name \n",
    "\n",
    "#create  a pie chart"
   ]
  },
  {
   "cell_type": "markdown",
   "metadata": {},
   "source": [
    "More resources for Matplotlib plots are [here](http://queirozf.com/entries/pandas-dataframe-plot-examples-with-matplotlib-pyplot)."
   ]
  },
  {
   "cell_type": "markdown",
   "metadata": {},
   "source": [
    "![alt text](https://github.com/callysto/callysto-sample-notebooks/blob/master/notebooks/images/Callysto_Notebook-Banners_Bottom_06.06.18.jpg?raw=true)"
   ]
  }
 ],
 "metadata": {
  "kernelspec": {
   "display_name": "Python 3",
   "language": "python",
   "name": "python3"
  },
  "language_info": {
   "codemirror_mode": {
    "name": "ipython",
    "version": 3
   },
   "file_extension": ".py",
   "mimetype": "text/x-python",
   "name": "python",
   "nbconvert_exporter": "python",
   "pygments_lexer": "ipython3",
   "version": "3.7.3"
  },
  "nbTranslate": {
   "displayLangs": [
    "*"
   ],
   "hotkey": "alt-t",
   "langInMainMenu": true,
   "sourceLang": "en",
   "targetLang": "fr",
   "useGoogleTranslate": true
  }
 },
 "nbformat": 4,
 "nbformat_minor": 2
}
