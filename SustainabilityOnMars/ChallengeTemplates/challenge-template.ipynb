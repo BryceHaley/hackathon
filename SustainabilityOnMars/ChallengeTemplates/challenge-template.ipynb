{
 "cells": [
  {
   "cell_type": "markdown",
   "metadata": {},
   "source": [
    "### ![Callysto.ca Banner](https://github.com/callysto/curriculum-notebooks/blob/master/callysto-notebook-banner-top.jpg?raw=true)\n",
    "\n",
    "<a href=\"https://hub.callysto.ca/jupyter/hub/user-redirect/git-pull?repo=https%3A%2F%2Fgithub.com%2Fcallysto%2Fhackathon&branch=master&subPath=ColonizingMars/ChallengeTemplates/challenge-option-2-how-could-we-colonize-mars.ipynb&depth=1\" target=\"_parent\"><img src=\"https://raw.githubusercontent.com/callysto/curriculum-notebooks/master/open-in-callysto-button.svg?sanitize=true\" width=\"123\" height=\"24\" alt=\"Open in Callysto\"/></a>"
   ]
  },
  {
   "cell_type": "markdown",
   "metadata": {},
   "source": [
    "# Data Scientist Challenge: Humanity must build a new home on Mars.\n",
    "\n",
    "\n",
    "You’re a data scientist on a team of newly-arrived humans. While you were on Earth, you figured out how you could make the planet habitable. From growing food to clothing needs, you need to start building the framework for sustaining life on the red planet. \n",
    "\n",
    "Use data to answer questions such as:\n",
    "\n",
    "1. What food do we need to bring?\n",
    "        e.g. trees, seeds, genetically-modified foods\n",
    "        \n",
    "2. How do we feed people there?\n",
    "        Consider: supply, manage, distribute, connect\n",
    "\n",
    "7. What are essential key resources? \n",
    "        e.g. Electricity, oxygen, water, fuel, brick, plastics, steel, food. \n",
    "\n",
    "4. How do we decide who will go?\n",
    "        e.g. population proportions, demographics, health, qualifications, genetic diversity\n",
    "\n",
    "5. What forms of entertainment would people need? \n",
    "        e.g. music, books, pets, lego\n",
    "\n",
    "6. What machines do we need? \n",
    "        e.g. cars, ships, fighter jets, rockets, computers, mobile phones.  \n",
    "        \n",
    "#### Pick as many questions from the above section (or come up with your own) and complete the sections within this notebook. Check out the example notebooks for attempts to answer some of the above questions. "
   ]
  },
  {
   "cell_type": "markdown",
   "metadata": {},
   "source": [
    "### Section I: About You\n",
    "\n",
    "Double-click this cell and tell us:\n",
    "\n",
    "✏️\n",
    "1. Your name\n",
    "2. Your email address\n",
    "3. Why you picked this challenge\n",
    "4. The questions you picked\n",
    "\n",
    "For example\n",
    "\n",
    "    1. Your name: Not-my Name\n",
    "    2. Your email address: not_my_real_address@domain.com\n",
    "    3. Why you picked this challenge: \n",
    "    4. The questions you picked: "
   ]
  },
  {
   "cell_type": "markdown",
   "metadata": {},
   "source": [
    "### Section II: The data you used\n",
    "\n",
    "Please provide the following information: (Double-click to edit this cell)\n",
    "\n",
    "✏️ \n",
    "1. Name of dataset\n",
    "2. Link to dataset\n",
    "3. Why you picked the dataset\n",
    "\n",
    "If you picked multiple datasets, separate them using commas \",\""
   ]
  },
  {
   "cell_type": "code",
   "execution_count": null,
   "metadata": {},
   "outputs": [],
   "source": [
    "# Use this cell to import libraries\n",
    "import pandas as pd\n",
    "import matplotlib.pyplot as plt\n",
    "import cufflinks as cf"
   ]
  },
  {
   "cell_type": "code",
   "execution_count": null,
   "metadata": {},
   "outputs": [],
   "source": [
    "# Use this cell to read the data - use the tutorials if you are not sure how to do this\n",
    "# Double-click to edit this cell. \n",
    "\n",
    "\n"
   ]
  },
  {
   "cell_type": "markdown",
   "metadata": {},
   "source": [
    "### Section III: Data Analysis and Visualization\n",
    "\n",
    "Use as many code cells as you need - remember to add a title, as well as appropriate x and y labels to your visualizations. \n",
    "\n",
    "Make sure you write down what things you notice in the data such as trends, patterns, and basic statistics.\n",
    "\n",
    "Use the code cell below to start adding your code for data analysis and visualization"
   ]
  },
  {
   "cell_type": "markdown",
   "metadata": {},
   "source": [
    "### 👨🏽‍💻 Provide your code to explore and analyse your data"
   ]
  },
  {
   "cell_type": "code",
   "execution_count": null,
   "metadata": {},
   "outputs": [],
   "source": [
    "# Double-click this cell and provide your code here. Use as many code cells as you need to analyze and visualize your data. \n",
    "# Remember to add a title, as well as appropriate x and y labels to your visualizations\n",
    "\n"
   ]
  },
  {
   "cell_type": "markdown",
   "metadata": {},
   "source": [
    "### Observations\n",
    "Double-click this cell and write down 2 - 3 things you learned from the data and how they help answer your main question(s).\n",
    "\n",
    "✏️ "
   ]
  },
  {
   "cell_type": "markdown",
   "metadata": {},
   "source": [
    "### Section IV: Conclusion\n",
    "\n",
    "It is crucial that you connect what you learned via the dataset to the main question(s) you are asking. \n",
    "\n",
    "Use this space to propose a solution to the question you picked. Make sure it is clear in your answer what area of development you chose to focus on and your proposed solution based on the dataset(s) you worked on. \n",
    "\n",
    "See our example notebooks for some inspiration on questions and solutions that you can develop using data."
   ]
  },
  {
   "cell_type": "markdown",
   "metadata": {},
   "source": [
    "Provide your analysis-driven result(s) here. Tell us 2-3 things your leanrt from the data. \n",
    "Double-click to edit this cell. \n",
    "\n",
    "✏️ "
   ]
  },
  {
   "cell_type": "markdown",
   "metadata": {},
   "source": [
    "### [![Callysto.ca License](https://github.com/callysto/curriculum-notebooks/blob/master/callysto-notebook-banner-bottom.jpg?raw=true)](https://github.com/callysto/curriculum-notebooks/blob/master/LICENSE.md)"
   ]
  }
 ],
 "metadata": {
  "kernelspec": {
   "display_name": "Python 3",
   "language": "python",
   "name": "python3"
  },
  "language_info": {
   "codemirror_mode": {
    "name": "ipython",
    "version": 3
   },
   "file_extension": ".py",
   "mimetype": "text/x-python",
   "name": "python",
   "nbconvert_exporter": "python",
   "pygments_lexer": "ipython3",
   "version": "3.7.6"
  }
 },
 "nbformat": 4,
 "nbformat_minor": 4
}
