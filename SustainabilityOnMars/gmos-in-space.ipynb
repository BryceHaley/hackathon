{
 "cells": [
  {
   "cell_type": "markdown",
   "metadata": {},
   "source": [
    "# Spacer's Challenge: Use Data and Biology to Decide What We Should Grow On Mars\n",
    "\n",
    "## Mission Statement\n",
    "\n",
    "You are a top scientist sent from Earth tasked with the most important mission of all: ensuring our survival on other planets. Before sending you off to space, your team gave you a variety of crop seeds and a data set containing information on them, including some biological traits that were designed to give them an edge in this new environment. Now on Mars, it is your job to use this data to decide which crops to grow. As part of this mission, you will be asked to convince the other astronauts to explain your reasoning. \n",
    "\n",
    "\n",
    "**Inspiration:** https://www.sciencealert.com/growing-potatoes-on-mars-might-actually-work-hints-a-new-experiment"
   ]
  },
  {
   "cell_type": "code",
   "execution_count": null,
   "metadata": {},
   "outputs": [],
   "source": []
  }
 ],
 "metadata": {
  "kernelspec": {
   "display_name": "Python 3",
   "language": "python",
   "name": "python3"
  },
  "language_info": {
   "codemirror_mode": {
    "name": "ipython",
    "version": 3
   },
   "file_extension": ".py",
   "mimetype": "text/x-python",
   "name": "python",
   "nbconvert_exporter": "python",
   "pygments_lexer": "ipython3",
   "version": "3.7.6"
  }
 },
 "nbformat": 4,
 "nbformat_minor": 4
}
