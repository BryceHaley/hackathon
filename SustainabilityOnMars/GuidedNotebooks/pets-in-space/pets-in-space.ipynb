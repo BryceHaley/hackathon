{
 "cells": [
  {
   "cell_type": "markdown",
   "metadata": {},
   "source": [
    "![Callysto.ca Banner](https://github.com/callysto/curriculum-notebooks/blob/master/callysto-notebook-banner-top.jpg?raw=true)\n",
    "\n",
    "<a href=\"https://hub.callysto.ca/jupyter/hub/user-redirect/git-pull?repo=https%3A%2F%2Fgithub.com%2Fcallysto%2Fhackathon&branch=master&subPath=ColonizingMars/ChallengeTemplates/challenge-option-1-should-we-colonize-Mars.ipynb&depth=1\" target=\"_parent\"><img src=\"https://raw.githubusercontent.com/callysto/curriculum-notebooks/master/open-in-callysto-button.svg?sanitize=true\" width=\"123\" height=\"24\" alt=\"Open in Callysto\"/></a>"
   ]
  },
  {
   "cell_type": "code",
   "execution_count": 1,
   "metadata": {},
   "outputs": [],
   "source": [
    "# Run this cell\n",
    "import interactive as i\n",
    "from IPython.display import IFrame"
   ]
  },
  {
   "cell_type": "markdown",
   "metadata": {},
   "source": [
    "# Best Friends in Space: Which pets should we bring to Mars? \n",
    "\n",
    "As one of the world's leading experts on cute animals, NASA has asked you to help decide which pets to bring onto Mars, since it might get lonely out there. In this adventure, you will learn datascience skills  and solve several challenges that will help you reach your goal. \n",
    "\n",
    "If you're stuck at any point, you can use [this link](https://hub.callysto.ca/jupyter/user/fbde8dcc92b359bd09845d32c52390da68637752/tree/hackathon/ColonizingMars/Tutorials) to access some tutorial notebooks. You can also check out [this](https://www.youtube.com/playlist?list=PL-j7ku2URmjZ1F3-9jvBuvsf0KcWPsxab) video series that can help you cover some basics. **Remember, to \"run\" a notebook cell, we can either use the button above or press `shift + enter`.** Make sure you do this in every cell that starts with `# Run this cell` and cells you write code in. If it doesn't work, try hitting the stop button (square button on the top bar) and try again.\n",
    "\n",
    "To begin, NASA has assigned you a helper name **Rover**. Rover will provide hints along the way and help you when you get stuck. Remember that you can save this notebook by pressing `ctrl (or cmd on mac) + s` or going to `File -> Save and Checkpoint` in the toolbar. For more information see [notebook basics.](./notebook-basics.ipynb)\n"
   ]
  },
  {
   "cell_type": "code",
   "execution_count": 2,
   "metadata": {},
   "outputs": [
    {
     "name": "stdout",
     "output_type": "stream",
     "text": [
      " Rover: Heya! I guess we'll be working together from now on! What's your name? Lisa\n",
      "\u001b[1;37;40m Rover: \u001b[0;30m Nice to meet you,  Lisa !\n"
     ]
    }
   ],
   "source": [
    "# Run this cell\n",
    "i.userinfo()"
   ]
  },
  {
   "cell_type": "markdown",
   "metadata": {},
   "source": [
    "## Challenge #1: Accessing the Pet Archives\n",
    "\n",
    "In this challenge you are tasked with using computer commands to access the Pet Archives Data which was collected by Bootstrap World. \n",
    "\n",
    "**Rover**: *ruff!* The first thing we should do is tell our notebook that we want to access the group of computer commands that lets us work with data. I think it was called `pandas`..?"
   ]
  },
  {
   "cell_type": "code",
   "execution_count": 34,
   "metadata": {},
   "outputs": [
    {
     "data": {
      "text/html": [
       "\n",
       "        <iframe\n",
       "            width=\"560\"\n",
       "            height=\"315\"\n",
       "            src=\"https://www.youtube.com/embed/P6KNkb7xVjk\"\n",
       "            frameborder=\"0\"\n",
       "            allowfullscreen\n",
       "        ></iframe>\n",
       "        "
      ],
      "text/plain": [
       "<IPython.lib.display.IFrame at 0x7fe01c050890>"
      ]
     },
     "metadata": {},
     "output_type": "display_data"
    }
   ],
   "source": [
    "# Run this cell\n",
    "display(IFrame('https://www.youtube.com/embed/P6KNkb7xVjk', width=560, height=315)) "
   ]
  },
  {
   "cell_type": "code",
   "execution_count": 3,
   "metadata": {},
   "outputs": [
    {
     "name": "stdout",
     "output_type": "stream",
     "text": [
      "\u001b[1;37;40m Rover: \u001b[0;30m According to the documents, if we want to use the commands we need to bring in a library called \u001b[1;32mpandas\u001b[1;0m into the notebook using some code. \u001b[1;36mTry to fill in the import command.\u001b[1;0m\n",
      " import pandas\n",
      "\u001b[1;35mRight on! \u001b[1;0m\n"
     ]
    }
   ],
   "source": [
    "# Run this cell\n",
    "i.challenge1A()"
   ]
  },
  {
   "cell_type": "markdown",
   "metadata": {},
   "source": [
    "### Debrief: Functions, Libraries, and Filenames\n",
    "Now that we have access to the special commands we need to access the data, let's use them! The data file they gave us is called `pets_from_bootstrap_world.csv` - the .csv at the end tells us it is a csv file. The CSV stands for \"Comma Separated Values\", there is a special function in the `pandas` library we can use to view this data file called `read_csv()`. \n",
    "\n",
    "Python is a little tricky though, and needs us to put in the code which library the function we want to use comes from. For example, if I wanted to use the `loadtxt()` function from the `numpy` library, I would have to write it like `numpy.loadtxt('file.txt')`. See how the library is first, then there is a `.`, followed by the function? We then use the function on the file by putting the filename in the brackets. The file name is surrounded by `\"` `\"` so that it is read as characters. "
   ]
  },
  {
   "cell_type": "code",
   "execution_count": 4,
   "metadata": {
    "scrolled": true
   },
   "outputs": [
    {
     "name": "stdout",
     "output_type": "stream",
     "text": [
      "If I wanted to write code to access the Pets Archives from Earth, I would write: \n",
      "\u001b[1;37;40m Rover: \u001b[0;30m Hmm, not quite. Try following the format \u001b[1;32mlibrary.function(\"file.csv\")\u001b[1;0m, or double check your spelling.\n",
      "If I wanted to write code to access the Pets Archives from Earth, I would write: pandas.read_csv(\"pets_from_bootstrap_world.csv\")\n",
      "\u001b[1;35mYou're picking up on this really well! \u001b[1;0m\n"
     ]
    },
    {
     "data": {
      "text/html": [
       "<div>\n",
       "<style scoped>\n",
       "    .dataframe tbody tr th:only-of-type {\n",
       "        vertical-align: middle;\n",
       "    }\n",
       "\n",
       "    .dataframe tbody tr th {\n",
       "        vertical-align: top;\n",
       "    }\n",
       "\n",
       "    .dataframe thead th {\n",
       "        text-align: right;\n",
       "    }\n",
       "</style>\n",
       "<table border=\"1\" class=\"dataframe\">\n",
       "  <thead>\n",
       "    <tr style=\"text-align: right;\">\n",
       "      <th></th>\n",
       "      <th>Name</th>\n",
       "      <th>Species</th>\n",
       "      <th>Gender</th>\n",
       "      <th>Age (years)</th>\n",
       "      <th>Fixed</th>\n",
       "      <th>Legs</th>\n",
       "      <th>Weight (lbs)</th>\n",
       "      <th>Time to Adoption (weeks)</th>\n",
       "    </tr>\n",
       "  </thead>\n",
       "  <tbody>\n",
       "    <tr>\n",
       "      <th>0</th>\n",
       "      <td>Sasha</td>\n",
       "      <td>cat</td>\n",
       "      <td>female</td>\n",
       "      <td>1</td>\n",
       "      <td>False</td>\n",
       "      <td>4</td>\n",
       "      <td>6.5</td>\n",
       "      <td>3</td>\n",
       "    </tr>\n",
       "    <tr>\n",
       "      <th>1</th>\n",
       "      <td>Mittens</td>\n",
       "      <td>cat</td>\n",
       "      <td>female</td>\n",
       "      <td>2</td>\n",
       "      <td>True</td>\n",
       "      <td>4</td>\n",
       "      <td>7.4</td>\n",
       "      <td>1</td>\n",
       "    </tr>\n",
       "    <tr>\n",
       "      <th>2</th>\n",
       "      <td>Sunflower</td>\n",
       "      <td>cat</td>\n",
       "      <td>female</td>\n",
       "      <td>5</td>\n",
       "      <td>True</td>\n",
       "      <td>4</td>\n",
       "      <td>8.1</td>\n",
       "      <td>6</td>\n",
       "    </tr>\n",
       "    <tr>\n",
       "      <th>3</th>\n",
       "      <td>Sheba</td>\n",
       "      <td>cat</td>\n",
       "      <td>female</td>\n",
       "      <td>7</td>\n",
       "      <td>True</td>\n",
       "      <td>4</td>\n",
       "      <td>8.4</td>\n",
       "      <td>6</td>\n",
       "    </tr>\n",
       "    <tr>\n",
       "      <th>4</th>\n",
       "      <td>Felix</td>\n",
       "      <td>cat</td>\n",
       "      <td>male</td>\n",
       "      <td>16</td>\n",
       "      <td>True</td>\n",
       "      <td>4</td>\n",
       "      <td>9.2</td>\n",
       "      <td>5</td>\n",
       "    </tr>\n",
       "    <tr>\n",
       "      <th>5</th>\n",
       "      <td>Snowcone</td>\n",
       "      <td>cat</td>\n",
       "      <td>female</td>\n",
       "      <td>2</td>\n",
       "      <td>True</td>\n",
       "      <td>4</td>\n",
       "      <td>6.5</td>\n",
       "      <td>5</td>\n",
       "    </tr>\n",
       "    <tr>\n",
       "      <th>6</th>\n",
       "      <td>Wade</td>\n",
       "      <td>cat</td>\n",
       "      <td>male</td>\n",
       "      <td>1</td>\n",
       "      <td>False</td>\n",
       "      <td>4</td>\n",
       "      <td>3.2</td>\n",
       "      <td>1</td>\n",
       "    </tr>\n",
       "    <tr>\n",
       "      <th>7</th>\n",
       "      <td>Hercules</td>\n",
       "      <td>cat</td>\n",
       "      <td>male</td>\n",
       "      <td>3</td>\n",
       "      <td>False</td>\n",
       "      <td>4</td>\n",
       "      <td>13.4</td>\n",
       "      <td>2</td>\n",
       "    </tr>\n",
       "    <tr>\n",
       "      <th>8</th>\n",
       "      <td>Toggle</td>\n",
       "      <td>dog</td>\n",
       "      <td>female</td>\n",
       "      <td>3</td>\n",
       "      <td>True</td>\n",
       "      <td>4</td>\n",
       "      <td>48.0</td>\n",
       "      <td>1</td>\n",
       "    </tr>\n",
       "    <tr>\n",
       "      <th>9</th>\n",
       "      <td>Boo-boo</td>\n",
       "      <td>dog</td>\n",
       "      <td>male</td>\n",
       "      <td>11</td>\n",
       "      <td>True</td>\n",
       "      <td>4</td>\n",
       "      <td>123.0</td>\n",
       "      <td>24</td>\n",
       "    </tr>\n",
       "    <tr>\n",
       "      <th>10</th>\n",
       "      <td>Fritz</td>\n",
       "      <td>dog</td>\n",
       "      <td>male</td>\n",
       "      <td>4</td>\n",
       "      <td>True</td>\n",
       "      <td>4</td>\n",
       "      <td>92.0</td>\n",
       "      <td>3</td>\n",
       "    </tr>\n",
       "    <tr>\n",
       "      <th>11</th>\n",
       "      <td>Maple</td>\n",
       "      <td>dog</td>\n",
       "      <td>female</td>\n",
       "      <td>3</td>\n",
       "      <td>True</td>\n",
       "      <td>4</td>\n",
       "      <td>51.6</td>\n",
       "      <td>4</td>\n",
       "    </tr>\n",
       "    <tr>\n",
       "      <th>12</th>\n",
       "      <td>Bo</td>\n",
       "      <td>dog</td>\n",
       "      <td>male</td>\n",
       "      <td>8</td>\n",
       "      <td>True</td>\n",
       "      <td>4</td>\n",
       "      <td>76.1</td>\n",
       "      <td>10</td>\n",
       "    </tr>\n",
       "    <tr>\n",
       "      <th>13</th>\n",
       "      <td>Midnight</td>\n",
       "      <td>dog</td>\n",
       "      <td>female</td>\n",
       "      <td>5</td>\n",
       "      <td>False</td>\n",
       "      <td>4</td>\n",
       "      <td>112.0</td>\n",
       "      <td>4</td>\n",
       "    </tr>\n",
       "    <tr>\n",
       "      <th>14</th>\n",
       "      <td>Rex</td>\n",
       "      <td>dog</td>\n",
       "      <td>male</td>\n",
       "      <td>1</td>\n",
       "      <td>False</td>\n",
       "      <td>4</td>\n",
       "      <td>28.9</td>\n",
       "      <td>9</td>\n",
       "    </tr>\n",
       "    <tr>\n",
       "      <th>15</th>\n",
       "      <td>Gir</td>\n",
       "      <td>dog</td>\n",
       "      <td>male</td>\n",
       "      <td>8</td>\n",
       "      <td>False</td>\n",
       "      <td>4</td>\n",
       "      <td>88.0</td>\n",
       "      <td>5</td>\n",
       "    </tr>\n",
       "    <tr>\n",
       "      <th>16</th>\n",
       "      <td>Max</td>\n",
       "      <td>dog</td>\n",
       "      <td>male</td>\n",
       "      <td>3</td>\n",
       "      <td>False</td>\n",
       "      <td>4</td>\n",
       "      <td>52.8</td>\n",
       "      <td>8</td>\n",
       "    </tr>\n",
       "    <tr>\n",
       "      <th>17</th>\n",
       "      <td>Nori</td>\n",
       "      <td>dog</td>\n",
       "      <td>female</td>\n",
       "      <td>3</td>\n",
       "      <td>True</td>\n",
       "      <td>4</td>\n",
       "      <td>35.3</td>\n",
       "      <td>1</td>\n",
       "    </tr>\n",
       "    <tr>\n",
       "      <th>18</th>\n",
       "      <td>Mr. Peanutbutter</td>\n",
       "      <td>dog</td>\n",
       "      <td>male</td>\n",
       "      <td>10</td>\n",
       "      <td>False</td>\n",
       "      <td>4</td>\n",
       "      <td>161.0</td>\n",
       "      <td>6</td>\n",
       "    </tr>\n",
       "    <tr>\n",
       "      <th>19</th>\n",
       "      <td>Lucky</td>\n",
       "      <td>dog</td>\n",
       "      <td>male</td>\n",
       "      <td>3</td>\n",
       "      <td>True</td>\n",
       "      <td>3</td>\n",
       "      <td>45.4</td>\n",
       "      <td>9</td>\n",
       "    </tr>\n",
       "    <tr>\n",
       "      <th>20</th>\n",
       "      <td>Kujo</td>\n",
       "      <td>dog</td>\n",
       "      <td>male</td>\n",
       "      <td>8</td>\n",
       "      <td>False</td>\n",
       "      <td>4</td>\n",
       "      <td>172.0</td>\n",
       "      <td>30</td>\n",
       "    </tr>\n",
       "    <tr>\n",
       "      <th>21</th>\n",
       "      <td>Buddy</td>\n",
       "      <td>lizard</td>\n",
       "      <td>male</td>\n",
       "      <td>2</td>\n",
       "      <td>False</td>\n",
       "      <td>4</td>\n",
       "      <td>0.3</td>\n",
       "      <td>3</td>\n",
       "    </tr>\n",
       "    <tr>\n",
       "      <th>22</th>\n",
       "      <td>Gila</td>\n",
       "      <td>lizard</td>\n",
       "      <td>female</td>\n",
       "      <td>3</td>\n",
       "      <td>True</td>\n",
       "      <td>4</td>\n",
       "      <td>1.2</td>\n",
       "      <td>4</td>\n",
       "    </tr>\n",
       "    <tr>\n",
       "      <th>23</th>\n",
       "      <td>Snuffles</td>\n",
       "      <td>rabbit</td>\n",
       "      <td>female</td>\n",
       "      <td>3</td>\n",
       "      <td>True</td>\n",
       "      <td>4</td>\n",
       "      <td>3.5</td>\n",
       "      <td>8</td>\n",
       "    </tr>\n",
       "    <tr>\n",
       "      <th>24</th>\n",
       "      <td>Nibblet</td>\n",
       "      <td>rabbit</td>\n",
       "      <td>male</td>\n",
       "      <td>6</td>\n",
       "      <td>False</td>\n",
       "      <td>4</td>\n",
       "      <td>4.3</td>\n",
       "      <td>2</td>\n",
       "    </tr>\n",
       "    <tr>\n",
       "      <th>25</th>\n",
       "      <td>Snuggles</td>\n",
       "      <td>tarantula</td>\n",
       "      <td>female</td>\n",
       "      <td>2</td>\n",
       "      <td>False</td>\n",
       "      <td>8</td>\n",
       "      <td>0.1</td>\n",
       "      <td>1</td>\n",
       "    </tr>\n",
       "    <tr>\n",
       "      <th>26</th>\n",
       "      <td>Daisy</td>\n",
       "      <td>dog</td>\n",
       "      <td>female</td>\n",
       "      <td>5</td>\n",
       "      <td>True</td>\n",
       "      <td>4</td>\n",
       "      <td>68.0</td>\n",
       "      <td>8</td>\n",
       "    </tr>\n",
       "    <tr>\n",
       "      <th>27</th>\n",
       "      <td>Ada</td>\n",
       "      <td>dog</td>\n",
       "      <td>female</td>\n",
       "      <td>2</td>\n",
       "      <td>True</td>\n",
       "      <td>4</td>\n",
       "      <td>32.0</td>\n",
       "      <td>3</td>\n",
       "    </tr>\n",
       "    <tr>\n",
       "      <th>28</th>\n",
       "      <td>Miaulis</td>\n",
       "      <td>cat</td>\n",
       "      <td>male</td>\n",
       "      <td>7</td>\n",
       "      <td>False</td>\n",
       "      <td>4</td>\n",
       "      <td>8.8</td>\n",
       "      <td>4</td>\n",
       "    </tr>\n",
       "    <tr>\n",
       "      <th>29</th>\n",
       "      <td>Heathcliff</td>\n",
       "      <td>cat</td>\n",
       "      <td>male</td>\n",
       "      <td>1</td>\n",
       "      <td>True</td>\n",
       "      <td>4</td>\n",
       "      <td>2.1</td>\n",
       "      <td>2</td>\n",
       "    </tr>\n",
       "    <tr>\n",
       "      <th>30</th>\n",
       "      <td>Tinkles</td>\n",
       "      <td>cat</td>\n",
       "      <td>female</td>\n",
       "      <td>1</td>\n",
       "      <td>True</td>\n",
       "      <td>4</td>\n",
       "      <td>1.7</td>\n",
       "      <td>3</td>\n",
       "    </tr>\n",
       "  </tbody>\n",
       "</table>\n",
       "</div>"
      ],
      "text/plain": [
       "                Name    Species  Gender  Age (years)  Fixed  Legs  \\\n",
       "0              Sasha        cat  female            1  False     4   \n",
       "1            Mittens        cat  female            2   True     4   \n",
       "2          Sunflower        cat  female            5   True     4   \n",
       "3              Sheba        cat  female            7   True     4   \n",
       "4              Felix        cat    male           16   True     4   \n",
       "5           Snowcone        cat  female            2   True     4   \n",
       "6               Wade        cat    male            1  False     4   \n",
       "7           Hercules        cat    male            3  False     4   \n",
       "8             Toggle        dog  female            3   True     4   \n",
       "9            Boo-boo        dog    male           11   True     4   \n",
       "10             Fritz        dog    male            4   True     4   \n",
       "11             Maple        dog  female            3   True     4   \n",
       "12                Bo        dog    male            8   True     4   \n",
       "13          Midnight        dog  female            5  False     4   \n",
       "14               Rex        dog    male            1  False     4   \n",
       "15               Gir        dog    male            8  False     4   \n",
       "16               Max        dog    male            3  False     4   \n",
       "17              Nori        dog  female            3   True     4   \n",
       "18  Mr. Peanutbutter        dog    male           10  False     4   \n",
       "19             Lucky        dog    male            3   True     3   \n",
       "20              Kujo        dog    male            8  False     4   \n",
       "21             Buddy     lizard    male            2  False     4   \n",
       "22              Gila     lizard  female            3   True     4   \n",
       "23          Snuffles     rabbit  female            3   True     4   \n",
       "24           Nibblet     rabbit    male            6  False     4   \n",
       "25          Snuggles  tarantula  female            2  False     8   \n",
       "26             Daisy        dog  female            5   True     4   \n",
       "27               Ada        dog  female            2   True     4   \n",
       "28           Miaulis        cat    male            7  False     4   \n",
       "29        Heathcliff        cat    male            1   True     4   \n",
       "30           Tinkles        cat  female            1   True     4   \n",
       "\n",
       "    Weight (lbs)  Time to Adoption (weeks)  \n",
       "0            6.5                         3  \n",
       "1            7.4                         1  \n",
       "2            8.1                         6  \n",
       "3            8.4                         6  \n",
       "4            9.2                         5  \n",
       "5            6.5                         5  \n",
       "6            3.2                         1  \n",
       "7           13.4                         2  \n",
       "8           48.0                         1  \n",
       "9          123.0                        24  \n",
       "10          92.0                         3  \n",
       "11          51.6                         4  \n",
       "12          76.1                        10  \n",
       "13         112.0                         4  \n",
       "14          28.9                         9  \n",
       "15          88.0                         5  \n",
       "16          52.8                         8  \n",
       "17          35.3                         1  \n",
       "18         161.0                         6  \n",
       "19          45.4                         9  \n",
       "20         172.0                        30  \n",
       "21           0.3                         3  \n",
       "22           1.2                         4  \n",
       "23           3.5                         8  \n",
       "24           4.3                         2  \n",
       "25           0.1                         1  \n",
       "26          68.0                         8  \n",
       "27          32.0                         3  \n",
       "28           8.8                         4  \n",
       "29           2.1                         2  \n",
       "30           1.7                         3  "
      ]
     },
     "execution_count": 4,
     "metadata": {},
     "output_type": "execute_result"
    }
   ],
   "source": [
    "# Run this cell\n",
    "i.challenge1B()"
   ]
  },
  {
   "cell_type": "markdown",
   "metadata": {},
   "source": [
    "\n",
    "# HEAD and TAIL() \n",
    "### Debrief: Functions, Libraries, and Filenames\n",
    "You might notice when you view the dataset, it's the *whole* dataset. Say we wanted to only see the first few or the last few rows of the data. To do this we can use `dataset.head()` "
   ]
  },
  {
   "cell_type": "code",
   "execution_count": 10,
   "metadata": {},
   "outputs": [
    {
     "data": {
      "text/html": [
       "<div>\n",
       "<style scoped>\n",
       "    .dataframe tbody tr th:only-of-type {\n",
       "        vertical-align: middle;\n",
       "    }\n",
       "\n",
       "    .dataframe tbody tr th {\n",
       "        vertical-align: top;\n",
       "    }\n",
       "\n",
       "    .dataframe thead th {\n",
       "        text-align: right;\n",
       "    }\n",
       "</style>\n",
       "<table border=\"1\" class=\"dataframe\">\n",
       "  <thead>\n",
       "    <tr style=\"text-align: right;\">\n",
       "      <th></th>\n",
       "      <th>Name</th>\n",
       "      <th>Species</th>\n",
       "      <th>Gender</th>\n",
       "      <th>Age (years)</th>\n",
       "      <th>Fixed</th>\n",
       "      <th>Legs</th>\n",
       "      <th>Weight (lbs)</th>\n",
       "      <th>Time to Adoption (weeks)</th>\n",
       "    </tr>\n",
       "  </thead>\n",
       "  <tbody>\n",
       "    <tr>\n",
       "      <th>0</th>\n",
       "      <td>Sasha</td>\n",
       "      <td>cat</td>\n",
       "      <td>female</td>\n",
       "      <td>1</td>\n",
       "      <td>False</td>\n",
       "      <td>4</td>\n",
       "      <td>6.5</td>\n",
       "      <td>3</td>\n",
       "    </tr>\n",
       "    <tr>\n",
       "      <th>1</th>\n",
       "      <td>Mittens</td>\n",
       "      <td>cat</td>\n",
       "      <td>female</td>\n",
       "      <td>2</td>\n",
       "      <td>True</td>\n",
       "      <td>4</td>\n",
       "      <td>7.4</td>\n",
       "      <td>1</td>\n",
       "    </tr>\n",
       "    <tr>\n",
       "      <th>2</th>\n",
       "      <td>Sunflower</td>\n",
       "      <td>cat</td>\n",
       "      <td>female</td>\n",
       "      <td>5</td>\n",
       "      <td>True</td>\n",
       "      <td>4</td>\n",
       "      <td>8.1</td>\n",
       "      <td>6</td>\n",
       "    </tr>\n",
       "    <tr>\n",
       "      <th>3</th>\n",
       "      <td>Sheba</td>\n",
       "      <td>cat</td>\n",
       "      <td>female</td>\n",
       "      <td>7</td>\n",
       "      <td>True</td>\n",
       "      <td>4</td>\n",
       "      <td>8.4</td>\n",
       "      <td>6</td>\n",
       "    </tr>\n",
       "    <tr>\n",
       "      <th>4</th>\n",
       "      <td>Felix</td>\n",
       "      <td>cat</td>\n",
       "      <td>male</td>\n",
       "      <td>16</td>\n",
       "      <td>True</td>\n",
       "      <td>4</td>\n",
       "      <td>9.2</td>\n",
       "      <td>5</td>\n",
       "    </tr>\n",
       "  </tbody>\n",
       "</table>\n",
       "</div>"
      ],
      "text/plain": [
       "        Name Species  Gender  Age (years)  Fixed  Legs  Weight (lbs)  \\\n",
       "0      Sasha     cat  female            1  False     4           6.5   \n",
       "1    Mittens     cat  female            2   True     4           7.4   \n",
       "2  Sunflower     cat  female            5   True     4           8.1   \n",
       "3      Sheba     cat  female            7   True     4           8.4   \n",
       "4      Felix     cat    male           16   True     4           9.2   \n",
       "\n",
       "   Time to Adoption (weeks)  \n",
       "0                         3  \n",
       "1                         1  \n",
       "2                         6  \n",
       "3                         6  \n",
       "4                         5  "
      ]
     },
     "execution_count": 10,
     "metadata": {},
     "output_type": "execute_result"
    }
   ],
   "source": [
    "pandas.read_csv(\"pets_from_bootstrap_world.csv\").head()"
   ]
  },
  {
   "cell_type": "markdown",
   "metadata": {},
   "source": [
    "### Challenge Complete!\n",
    "Wow, great job! You've completed the very first challenge with flying colours. Now, before moving onto the next challenge, write down the age of the pets in rows `28` (Miaulis), `15` (Gir), and `11` (Maple). **Make sure you write it somewhere that's safe, because you never know when it will come in handy! ;)**"
   ]
  },
  {
   "cell_type": "markdown",
   "metadata": {},
   "source": [
    "## Challenge #2: Making Data Easy\n",
    "\n",
    "Now that we have successfully accessed the data archives from our friends back on Earth, it's now time to explore what pets there are. This will help us get an idea of not only what our options are, but which pets can be most suitable for life on Mars. \n",
    "\n",
    "**Rover**: *I hope it's dogs!*"
   ]
  },
  {
   "cell_type": "code",
   "execution_count": 35,
   "metadata": {},
   "outputs": [
    {
     "data": {
      "text/html": [
       "\n",
       "        <iframe\n",
       "            width=\"560\"\n",
       "            height=\"315\"\n",
       "            src=\"https://www.youtube.com/embed/gCcyJdQyvjo\"\n",
       "            frameborder=\"0\"\n",
       "            allowfullscreen\n",
       "        ></iframe>\n",
       "        "
      ],
      "text/plain": [
       "<IPython.lib.display.IFrame at 0x7fe01c050250>"
      ]
     },
     "metadata": {},
     "output_type": "display_data"
    }
   ],
   "source": [
    "# Run this cell\n",
    "display(IFrame('https://www.youtube.com/embed/gCcyJdQyvjo', width=560, height=315)) "
   ]
  },
  {
   "cell_type": "markdown",
   "metadata": {},
   "source": [
    "### Debrief: Variables\n",
    "\n",
    "Now that we've learned how to access the data, we need to make a codeword for it to make it easier for the computer to recognize it later. In this process, we end up making what's called a variable. Think about it this way, depending on what you put on the right side of the `=` sign, the codeword's value may vary. The codeword is called a variable name, when you give it a value you can use it to mean that value in other parts of the notebook. Let's say I ran `a = 2` in a cell, now whenever I type `a` it will mean the same as 2."
   ]
  },
  {
   "cell_type": "code",
   "execution_count": 5,
   "metadata": {
    "scrolled": true
   },
   "outputs": [
    {
     "name": "stdout",
     "output_type": "stream",
     "text": [
      "Now, let's try assign the dataset to as a variable!\n",
      " pets =  ks\n",
      "\u001b[1;37;40m Rover: \u001b[0;30m Try the code from the last question!\n"
     ]
    }
   ],
   "source": [
    "# Run this cell\n",
    "i.challenge2A()"
   ]
  },
  {
   "cell_type": "markdown",
   "metadata": {},
   "source": [
    "It would be very useful to assign the code used to access the `pets dataset` to a variable named `pets`. Can you do that in the cell below?"
   ]
  },
  {
   "cell_type": "markdown",
   "metadata": {},
   "source": [
    "### Debrief: Selecting Data Columns\n",
    "\n",
    "With the data now easily accessible, let's try using some cool functions from the `pandas` library to get to know our data more. You can also check out the Tutorial's [pandas cheatsheet](./pandas-dataframes.ipynb) for a whole list of things we can do.\n",
    "\n",
    "For example, to access the values in a column, we can use `dataset_variable_name[\"column_name\"]`. In Python `\"\"` and `''` are the same. You can also select multiple columns like this: `dataset_variable_name[[\"column_name1\", \"column_name2\"]]`. Note the double `[[ ]]`.\n",
    "\n",
    "To list all the columns in a dataset, use `dataset_variable_name,columns` or `list(dataset_variable_name.columns)` for a list instead of an index.\n",
    "\n",
    "Let's try it below with our pets dataset. "
   ]
  },
  {
   "cell_type": "code",
   "execution_count": 6,
   "metadata": {},
   "outputs": [
    {
     "name": "stdout",
     "output_type": "stream",
     "text": [
      "First, we will need to know what columns are in the data. We can do this by either looking at the dataset again, or use \u001b[1;32mlist(dataset_variable_name.columns)\u001b[1;0m\n",
      " Try filling in the command: \n",
      " list(pets.columns)\n",
      "\u001b[1;35mNice job! \u001b[1;0m\n"
     ]
    },
    {
     "data": {
      "text/plain": [
       "['Name',\n",
       " 'Species',\n",
       " 'Gender',\n",
       " 'Age (years)',\n",
       " 'Fixed',\n",
       " 'Legs',\n",
       " 'Weight (lbs)',\n",
       " 'Time to Adoption (weeks)']"
      ]
     },
     "execution_count": 6,
     "metadata": {},
     "output_type": "execute_result"
    }
   ],
   "source": [
    "# Run this cell\n",
    "i.challenge2b()"
   ]
  },
  {
   "cell_type": "code",
   "execution_count": 7,
   "metadata": {},
   "outputs": [
    {
     "name": "stdout",
     "output_type": "stream",
     "text": [
      "Now that we have all the column names, let's choose a couple to look at. How about the \u001b[1;32m'Name'\u001b[1;0m column?\n",
      " \u001b[1;36mSelect the column using \u001b[1;32mdataset_variable_name[\"column_name\"]\u001b[1;0m.\n",
      "pets['Name']\n",
      "\u001b[1;35mNice job! \u001b[1;0m\n"
     ]
    },
    {
     "data": {
      "text/plain": [
       "0                Sasha\n",
       "1              Mittens\n",
       "2            Sunflower\n",
       "3                Sheba\n",
       "4                Felix\n",
       "5             Snowcone\n",
       "6                 Wade\n",
       "7             Hercules\n",
       "8               Toggle\n",
       "9              Boo-boo\n",
       "10               Fritz\n",
       "11               Maple\n",
       "12                  Bo\n",
       "13            Midnight\n",
       "14                 Rex\n",
       "15                 Gir\n",
       "16                 Max\n",
       "17                Nori\n",
       "18    Mr. Peanutbutter\n",
       "19               Lucky\n",
       "20                Kujo\n",
       "21               Buddy\n",
       "22                Gila\n",
       "23            Snuffles\n",
       "24             Nibblet\n",
       "25            Snuggles\n",
       "26               Daisy\n",
       "27                 Ada\n",
       "28             Miaulis\n",
       "29          Heathcliff\n",
       "30             Tinkles\n",
       "Name: Name, dtype: object"
      ]
     },
     "execution_count": 7,
     "metadata": {},
     "output_type": "execute_result"
    }
   ],
   "source": [
    "# Run this cell\n",
    "i.challenge2c()"
   ]
  },
  {
   "cell_type": "markdown",
   "metadata": {},
   "source": [
    "## Challenge #3: Narrowing Down the Data\n",
    "\n",
    "N"
   ]
  },
  {
   "cell_type": "markdown",
   "metadata": {},
   "source": [
    "### Debrief: Unique Values\n",
    "\n",
    "**Unique Values `.unique()`**: Sometimes instead of viewing all the values in a column, we just want to see the different types of values instead. For example, in this dataset it can be useful to know what types of animals there are without knowing all of them. We can do this by writing `dataset_variable_name.[\"column_name\"].unique()`. Note the `.unique()` is at the end. "
   ]
  },
  {
   "cell_type": "code",
   "execution_count": 8,
   "metadata": {},
   "outputs": [
    {
     "name": "stdout",
     "output_type": "stream",
     "text": [
      "Now, because all the pet names are unique we should try using another column of data.\n",
      "\u001b[1;37;40m Rover: \u001b[0;30m Hmm, how about animal types? Or better yet, the number of legs on each animal!\n",
      "Fill in the command to get the unique values for the number of legs in the pets data\n",
      "petlegs = pets[\"Legs\"]== 3\n",
      "\u001b[1;37;40m Rover: \u001b[0;30m Close! Make sure you remember the period and brackets \u001b[1;32m.\u001b[1;0munique\u001b[1;32m()\n",
      "Fill in the command to get the unique values for the number of legs in the pets data\n",
      "petlegs = pets[\"Legs\"].unique()\n",
      "\u001b[1;35mI wish I was this good!\n"
     ]
    },
    {
     "data": {
      "text/plain": [
       "array([4, 3, 8])"
      ]
     },
     "execution_count": 8,
     "metadata": {},
     "output_type": "execute_result"
    }
   ],
   "source": [
    "# Run this cell\n",
    "i.challenge2d()"
   ]
  },
  {
   "cell_type": "markdown",
   "metadata": {},
   "source": [
    "### Debrief: Basic Operators and Label-based Location\n",
    "\n",
    "**Basic Operators**: In computer programming languages, we can do a lot of things using basic math alone. With data, we can use symbols like `>, <, ==, %, /, *` and others to do cool things. For instance, if we wanted to select all entries in a dataset with a value above 5, we could do `dataset_variable_name[\"column_name\"] >= 5`. This will give us the all of the matching data entries who's value in the column is greater or equal to 5.\n",
    "\n",
    "We can also use words as long as they are in quotes (case-sensitive), such as `dataset_variable_name[\"column_name\"] == \"searchterm\"`. The `==` means that it has to be exactly that.\n",
    "\n",
    "**Logical Operators**: To use more than one we need to use a logical operators. For example, `&` means and, `|` (vertical bar) means or, and `~` means not. Therefore we can do something like: \n",
    "\n",
    "`dataset_variable_name[\"column_name\"] >= 5 & dataset_variable_name[\"column_name\"] < 10`\n",
    "\n",
    "or even: \n",
    "\n",
    "`dataset_variable_name[\"column_name\"] >= 5 | dataset_variable_name[\"column_name\"] < 2 ` \n",
    "\n",
    "*Learn more about operators [here](https://www.w3schools.com/python/python_operators.asp).*\n",
    "\n",
    "**Label-based Location `.loc`**: You may notice that when doing the above you only get `True/False` values. We can get the actual rows of data by using by using `dataset_variable_name.loc[label]`. Basic operators can act as labels.\n",
    "\n",
    "For example, I can use something like: \n",
    "`dataset_variable_name.loc[dataset_variable_name[\"column_name\"] >= 5]` to get all the rows with a value of greater than 5 for a given column.\n",
    "\n",
    "We can also use & to have multiple basic operators "
   ]
  },
  {
   "cell_type": "code",
   "execution_count": null,
   "metadata": {},
   "outputs": [],
   "source": [
    "pets.loc[pets[\"Species\"] == \"dog\"]\n",
    "pets[\"Species\"] == \"dog\"\n",
    "\n",
    "l = pets['Weight (lbs)'] >= 5\n",
    "pets.loc[(pets['Weight (lbs)'] > 100) & (pets[\"Species\"] == \"dog\")]"
   ]
  },
  {
   "cell_type": "code",
   "execution_count": 37,
   "metadata": {
    "scrolled": true
   },
   "outputs": [
    {
     "name": "stdout",
     "output_type": "stream",
     "text": [
      "Based on the output, it seems we have a 3 legged animal! Do you know any reason why that might be?\n",
      "Let's try and find out which animals are 3 legged.\n",
      "First, we'll need to use a basic operator on the 'Legs' column to find the ones that equal to 3.\n",
      "Try filling in the command\n",
      "pets['Legs'] == 3\n"
     ]
    }
   ],
   "source": [
    "i.challenge2e()"
   ]
  },
  {
   "cell_type": "code",
   "execution_count": null,
   "metadata": {
    "scrolled": true
   },
   "outputs": [],
   "source": [
    "# Use label-based location to get information on the 3 legged pet. What is their name?\n",
    "#========= PLACE ANSWER BELOW ===========#\n",
    "pets.loc[[19]]"
   ]
  },
  {
   "cell_type": "markdown",
   "metadata": {},
   "source": [
    "### Challenge Complete!\n",
    "\n",
    "What is the name of the three legged pet? **Write it down in a safe place for later!**\n"
   ]
  },
  {
   "cell_type": "markdown",
   "metadata": {},
   "source": [
    "## Challenge #4: Making Our Own Dataframe\n",
    "\n",
    "Now that we have successfully accessed the data archives from our frien"
   ]
  },
  {
   "cell_type": "markdown",
   "metadata": {},
   "source": [
    "### Debrief: Sorting and Subsetting\n",
    "\n",
    "ghjkl;'\n"
   ]
  },
  {
   "cell_type": "code",
   "execution_count": null,
   "metadata": {},
   "outputs": [],
   "source": [
    "def challenge3a():\n",
    "    sdlfs"
   ]
  },
  {
   "cell_type": "code",
   "execution_count": null,
   "metadata": {},
   "outputs": [],
   "source": [
    "# Sort time to adoption, age, etc. \n",
    "#========= PLACE ANSWER BELOW ===========#\n",
    "\n"
   ]
  },
  {
   "cell_type": "code",
   "execution_count": null,
   "metadata": {},
   "outputs": [],
   "source": [
    "def challenge3b():\n",
    "    sdlfs"
   ]
  },
  {
   "cell_type": "code",
   "execution_count": null,
   "metadata": {},
   "outputs": [],
   "source": [
    "# subset species, gender, fixed, etc and assign to variable name\n",
    "#========= PLACE ANSWER BELOW ===========#\n",
    "\n"
   ]
  },
  {
   "cell_type": "code",
   "execution_count": null,
   "metadata": {},
   "outputs": [],
   "source": [
    "## code for generate and append example\n",
    "\n",
    "#pets = pandas.read_csv(\"pets_from_bootstrap_world.csv\")\n",
    "pets_list = pets[\"Species\"].unique()\n",
    "emoji_list = [\"🐈\", \"🐕\", \"🦎\", \"🐇\", \"🕷\"]\n",
    "for i in range(len(emoji_list)):\n",
    "    pets.loc[pets[\"Species\"] == pets_list[i], \"Emoji\"] = emoji_list[i]\n",
    "    \n",
    "pets"
   ]
  },
  {
   "cell_type": "markdown",
   "metadata": {},
   "source": [
    "## Challenge #5: Visualization\n",
    "\n",
    "Now that we have successfully accessed the data archives from our frien"
   ]
  },
  {
   "cell_type": "code",
   "execution_count": null,
   "metadata": {},
   "outputs": [],
   "source": [
    "# Histogram of pet species, also include male/female split\n",
    "#========= PLACE ANSWER BELOW ===========#\n",
    "\n",
    "\n"
   ]
  },
  {
   "cell_type": "code",
   "execution_count": null,
   "metadata": {},
   "outputs": [],
   "source": [
    "# Graph the ages of the species using groupby() \n",
    "#========= PLACE ANSWER BELOW ===========#\n",
    "\n"
   ]
  },
  {
   "cell_type": "markdown",
   "metadata": {},
   "source": [
    "## Challenge #6: Making Observations & Drawing a Conclusion\n",
    "\n",
    "Now that we have successfully accessed the data archives from our frien"
   ]
  },
  {
   "cell_type": "code",
   "execution_count": null,
   "metadata": {},
   "outputs": [],
   "source": [
    "# List 3 observations about the data you've noticed\n",
    "#========= PLACE ANSWER BELOW ===========#\n",
    "\n",
    "\n"
   ]
  },
  {
   "cell_type": "code",
   "execution_count": null,
   "metadata": {},
   "outputs": [],
   "source": [
    "# Which pets would you bring to Mars? Use your observations from above to justify your answer. \n",
    "#========= PLACE ANSWER BELOW ===========#\n",
    "\n",
    "\n"
   ]
  },
  {
   "cell_type": "markdown",
   "metadata": {},
   "source": [
    "[![Callysto.ca License](https://github.com/callysto/curriculum-notebooks/blob/master/callysto-notebook-banner-bottom.jpg?raw=true)](https://github.com/callysto/curriculum-notebooks/blob/master/LICENSE.md)"
   ]
  }
 ],
 "metadata": {
  "kernelspec": {
   "display_name": "Python 3",
   "language": "python",
   "name": "python3"
  },
  "language_info": {
   "codemirror_mode": {
    "name": "ipython",
    "version": 3
   },
   "file_extension": ".py",
   "mimetype": "text/x-python",
   "name": "python",
   "nbconvert_exporter": "python",
   "pygments_lexer": "ipython3",
   "version": "3.7.6"
  }
 },
 "nbformat": 4,
 "nbformat_minor": 4
}
