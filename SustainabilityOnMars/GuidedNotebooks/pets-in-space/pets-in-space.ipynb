{
 "cells": [
  {
   "cell_type": "markdown",
   "metadata": {},
   "source": [
    "![Callysto.ca Banner](https://github.com/callysto/curriculum-notebooks/blob/master/callysto-notebook-banner-top.jpg?raw=true)\n",
    "\n",
    "<a href=\"https://hub.callysto.ca/jupyter/hub/user-redirect/git-pull?repo=https%3A%2F%2Fgithub.com%2Fcallysto%2Fhackathon&branch=master&subPath=ColonizingMars/ChallengeTemplates/challenge-option-1-should-we-colonize-Mars.ipynb&depth=1\" target=\"_parent\"><img src=\"https://raw.githubusercontent.com/callysto/curriculum-notebooks/master/open-in-callysto-button.svg?sanitize=true\" width=\"123\" height=\"24\" alt=\"Open in Callysto\"/></a>"
   ]
  },
  {
   "cell_type": "markdown",
   "metadata": {},
   "source": [
    "# <p style=\"text-align: center;\"> Best Friends in Space 🚀: Which pets should we bring to Mars? </p>\n",
    "\n",
    "<p style=\"text-align: center;\"> As one of the world's leading experts on cute animals, NASA has asked you to help decide which pets to bring onto Mars, since it might get lonely out there. In this adventure, you will learn datascience skills  and solve several challenges that will help you reach your goal. </p>\n",
    "\n",
    "![https://publicdomainvectors.org/en/free-clipart/Cat-and-dog-cartoon-style/48545.html](https://publicdomainvectors.org/photos/cat-dog.jpg)\n",
    "\n",
    "If you're stuck at any point, you can use [this link](https://hub.callysto.ca/jupyter/user/fbde8dcc92b359bd09845d32c52390da68637752/tree/hackathon/ColonizingMars/Tutorials) to access some tutorial notebooks. You can also check out [this](https://www.youtube.com/playlist?list=PL-j7ku2URmjZ1F3-9jvBuvsf0KcWPsxab) video series that can help you cover some basics. **Remember, to \"run\" a notebook cell, we can either use the button above or press `shift + enter`.** Make sure you do this in every cell that starts with `# Run this cell` and cells you write code in. If it doesn't work, try hitting the stop button (square button on the top bar) and try again.\n",
    "\n",
    "To begin, NASA has assigned you a helper name **Rover**. Rover will provide hints along the way and help you when you get stuck. Remember that you can save this notebook by pressing `ctrl (or cmd on mac) + s` or going to `File -> Save and Checkpoint` in the toolbar. For more information see [notebook basics.](./notebook-basics.ipynb). **Don't forget to save your notebook regularly!**\n",
    "\n",
    "# <p style=\"text-align: center;\"> 🌟🌟🌟🌟🌟🌟🌟🌟🌟🌟🌟🌟🌟🌟🌟🌟🌟🌟🌟🌟🌟🌟🌟🌟🌟🌟🌟🌟🌟🌟 </p>\n"
   ]
  },
  {
   "cell_type": "code",
   "execution_count": null,
   "metadata": {},
   "outputs": [],
   "source": [
    "#❗️Run this cell\n",
    "import interactive as i\n",
    "from IPython.display import IFrame"
   ]
  },
  {
   "cell_type": "code",
   "execution_count": null,
   "metadata": {},
   "outputs": [],
   "source": [
    "#❗️Run this cell\n",
    "i.userinfo()"
   ]
  },
  {
   "cell_type": "code",
   "execution_count": null,
   "metadata": {},
   "outputs": [],
   "source": [
    "#❗️Run this cell\n",
    "i.challengeplotall()"
   ]
  },
  {
   "cell_type": "markdown",
   "metadata": {},
   "source": [
    "# <p style=\"text-align: center;\"> 📌 Challenge 1: Accessing the Pet Archives </p>\n",
    "\n",
    "In this challenge you are tasked with using computer commands to access the Pet Archives Data which was collected by Bootstrap World. \n",
    "\n",
    "Here are some tips and tricks to help you out: \n",
    "- Python is very picky about capitalization and spelling, even if you have everything else right!\n",
    "- Make sure every open bracket `(`, `[`, `[[`, has a closing one, `]]`, `]`, `)`\n",
    "- No one gets it right the first time, so make sure you have fun!\n",
    "\n",
    "**Rover**: *ruff!* The first thing we should do is tell our notebook that we want to access the group of computer commands that lets us work with data. I think it was called `pandas`..?\n",
    "\n",
    "![https://publicdomainvectors.org/en/free-clipart/Server-rack-cabinet/83360.html](https://publicdomainvectors.org/photos/server-tower-publicdomain.jpg)\n",
    "\n",
    "# <p style=\"text-align: center;\"> 🌟🌟🌟🌟🌟🌟🌟🌟🌟🌟🌟🌟🌟🌟🌟🌟🌟🌟🌟🌟🌟🌟🌟🌟🌟🌟🌟🌟🌟🌟 </p>\n"
   ]
  },
  {
   "cell_type": "code",
   "execution_count": null,
   "metadata": {},
   "outputs": [],
   "source": [
    "#❗️Run this cell\n",
    "display(IFrame('https://www.youtube.com/embed/P6KNkb7xVjk', width=960, height=515)) "
   ]
  },
  {
   "cell_type": "code",
   "execution_count": null,
   "metadata": {},
   "outputs": [],
   "source": [
    "#❗️Run this cell\n",
    "i.challenge1a()"
   ]
  },
  {
   "cell_type": "markdown",
   "metadata": {},
   "source": [
    "### 📕 Debrief: Functions, Libraries, and Filenames\n",
    "Now that we have access to the special commands we need to access the data, let's use them! The data file they gave us is called `pets_from_bootstrap_world.csv` - the .csv at the end tells us it is a csv file. The CSV stands for \"Comma Separated Values\", there is a special function in the `pandas` library we can use to view this data file called `read_csv()`. \n",
    "\n",
    "Python is a little tricky though, and needs us to put in the code which library the function we want to use comes from. For example, if I wanted to use the `loadtxt()` function from the `numpy` library, I would have to write it like `numpy.loadtxt('file.txt')`. See how the library is first, then there is a `.`, followed by the function? We then use the function on the file by putting the filename in the brackets. The file name is surrounded by `\"` `\"` so that it is read as characters. \n"
   ]
  },
  {
   "cell_type": "code",
   "execution_count": null,
   "metadata": {
    "scrolled": true
   },
   "outputs": [],
   "source": [
    "#❗️Run this cell\n",
    "i.challenge1b()"
   ]
  },
  {
   "cell_type": "markdown",
   "metadata": {},
   "source": [
    "### 📕 Debrief: How to Avoid Writing Long Code Over and Over Again\n",
    "\n",
    "Now that we've learned how to access the data, we need to make a codeword for it to make it easier for the computer to recognize it later. In this process, we end up making what's called a variable. Think about it this way, depending on what you put on the right side of the `=` sign, the codeword's value may vary. The codeword is called a variable name, when you give it a value you can use it to mean that value in other parts of the notebook. Let's say I ran `a = 2` in a cell, now whenever I type `a` it will mean the same as 2."
   ]
  },
  {
   "cell_type": "code",
   "execution_count": null,
   "metadata": {
    "scrolled": true
   },
   "outputs": [],
   "source": [
    "#❗️Run this cell\n",
    "i.challenge1c()"
   ]
  },
  {
   "cell_type": "markdown",
   "metadata": {},
   "source": [
    "## 📚 Challenge Complete!\n",
    "Wow, great job! You've completed the very first challenge with flying colours. Now, before moving onto the next challenge, write down the age of the pets in rows `28` (Miaulis), `15` (Gir), and `11` (Maple). **Make sure you write it somewhere that's safe, because you never know when it will come in handy! ;)**"
   ]
  },
  {
   "cell_type": "markdown",
   "metadata": {},
   "source": [
    "# <p style=\"text-align: center;\">  📌 Challenge 2: Making Data Easy </p>\n",
    "\n",
    "Now that we have successfully accessed the data archives from our friends back on Earth, it's now time to explore what pets there are. This will help us get an idea of not only what our options are, but which pets can be most suitable for life on Mars. \n",
    "\n",
    "**Rover**: *I hope it's dogs!*\n",
    "\n",
    "![https://publicdomainvectors.org/en/free-clipart/Astronaut-in-space/85289.html](https://publicdomainvectors.org/photos/astronaut-in-space-publicdomain.jpg)\n",
    "\n",
    "# <p style=\"text-align: center;\"> 🌟🌟🌟🌟🌟🌟🌟🌟🌟🌟🌟🌟🌟🌟🌟🌟🌟🌟🌟🌟🌟🌟🌟🌟🌟🌟🌟🌟🌟🌟 </p>\n"
   ]
  },
  {
   "cell_type": "code",
   "execution_count": null,
   "metadata": {},
   "outputs": [],
   "source": [
    "#❗️Run this cell\n",
    "display(IFrame('https://www.youtube.com/embed/gCcyJdQyvjo', width=960, height=515)) "
   ]
  },
  {
   "cell_type": "markdown",
   "metadata": {},
   "source": [
    "\n",
    "### 📕 Debrief: Heads and Tails\n",
    "You might notice when you view the dataset, it's the *whole* dataset. Say we wanted to only see the first few or the last few rows of the data. To do this we can use `dataset.head()` to see the first 5 rows or `dataset.tail()` to see the last 5 rows. Try it out below! :) "
   ]
  },
  {
   "cell_type": "code",
   "execution_count": null,
   "metadata": {
    "scrolled": true
   },
   "outputs": [],
   "source": [
    "#❗️Run this cell\n",
    "i.challenge2a()"
   ]
  },
  {
   "cell_type": "markdown",
   "metadata": {},
   "source": [
    "### 📕 Debrief: Selecting Data Columns\n",
    "\n",
    "With the data now easily accessible, let's try using some cool functions from the `pandas` library to get to know our data more. You can also check out the Tutorial's [pandas cheatsheet](./pandas-dataframes.ipynb) for a whole list of things we can do.\n",
    "\n",
    "For example, to access the values in a column, we can use `dataset[\"column_name\"]`. In Python `\"\"` and `''` are the same. You can also select multiple columns like this: `dataset[[\"column_name1\", \"column_name2\"]]`. Note the double `[[ ]]` will give you a dataframe, which is most of the time what we want, versus `[]` which will give you only the single column. Later on we will focus more on getting multiple columns, so right now let's just focus on seeing one.\n",
    "\n",
    "To list all the columns in a dataset, use `dataset.columns` or `list(dataset.columns)` for a list instead of an index."
   ]
  },
  {
   "cell_type": "code",
   "execution_count": null,
   "metadata": {},
   "outputs": [],
   "source": [
    "#❗️Run this cell\n",
    "i.challenge2b()"
   ]
  },
  {
   "cell_type": "code",
   "execution_count": null,
   "metadata": {},
   "outputs": [],
   "source": [
    "#❗️Run this cell\n",
    "i.challenge2c()"
   ]
  },
  {
   "cell_type": "markdown",
   "metadata": {},
   "source": [
    "# 📚 Challenge Complete!\n",
    "\n",
    "### What are the row numbers of the dogs that are over 100lbs? Write them down in order from smallest to largest!"
   ]
  },
  {
   "cell_type": "markdown",
   "metadata": {},
   "source": [
    "# <p style=\"text-align: center;\"> 📌 Challenge 3: Narrowing Down the Data </p>\n",
    "\n",
    "You've done great getting to this point. Now that we are getting more comfortable with data science, let's work on our skills at narrowing down the data. This will help us narrow down *which* pets we should consider based on different criteria. This part might get a little tough, so make sure you ask for help if you get stuck!\n",
    "\n",
    "![https://publicdomainvectors.org/en/free-clipart/Open-book-and-magnifying-glass/85092.html](https://publicdomainvectors.org/photos/text-book-search-publicdomain.jpg)\n",
    "# <p style=\"text-align: center;\"> 🌟🌟🌟🌟🌟🌟🌟🌟🌟🌟🌟🌟🌟🌟🌟🌟🌟🌟🌟🌟🌟🌟🌟🌟🌟🌟🌟🌟🌟🌟 </p>\n"
   ]
  },
  {
   "cell_type": "code",
   "execution_count": null,
   "metadata": {
    "scrolled": true
   },
   "outputs": [],
   "source": [
    "#❗️Run this cell\n",
    "display(IFrame('https://www.youtube.com/embed/gCcyJdQyvjo', width=960, height=515)) "
   ]
  },
  {
   "cell_type": "markdown",
   "metadata": {},
   "source": [
    "### 📕 Debrief: Getting Unique Entries in a Column\n",
    "\n",
    "**Unique Values `.unique()`**: Sometimes instead of viewing all the values in a column, we just want to see the different types of values instead. For example, in this dataset it can be useful to know what types of animals there are without knowing all of them. We can do this by writing `dataset.[\"column_name\"].unique()`. Note the `.unique()` is at the end. "
   ]
  },
  {
   "cell_type": "code",
   "execution_count": null,
   "metadata": {},
   "outputs": [],
   "source": [
    "#❗️Run this cell\n",
    "i.challenge3a()"
   ]
  },
  {
   "cell_type": "markdown",
   "metadata": {},
   "source": [
    "### 📕 Debrief: Narrowing Down Data Based on Criteria\n",
    "\n",
    "**Basic Operators**: In computer programming languages, we can do a lot of things using basic math alone. With data, we can use symbols like `>, <, ==, %, /, *` and others to do cool things. For instance, if we wanted to select all entries in a dataset's column with a value above 5, we could do `dataset[\"column_name\"] >= 5`. This will give us the all of the matching data entries who's value in the column is greater or equal to 5. We can also use words as long as they are in quotes (case-sensitive), such as `dataset[\"column_name\"] == \"searchterm\"`. The `==` means that it has to be exactly that.\n",
    "\n",
    "**Logical Operators**: To use more than one we need to use a logical operators. For example, `&` means and, `|` (vertical bar) means or, and `~` means not. Therefore we can do something like: `dataset[\"column_name\"] >= 5 & dataset[\"column_name\"] < 10` or even: `dataset[\"column_name\"] >= 5 | dataset[\"column_name\"] < 2 ` \n",
    "\n",
    "*Learn more about operators [here](https://www.w3schools.com/python/python_operators.asp).*"
   ]
  },
  {
   "cell_type": "code",
   "execution_count": null,
   "metadata": {
    "scrolled": false
   },
   "outputs": [],
   "source": [
    "#❗️Run this cell\n",
    "i.challenge3b()"
   ]
  },
  {
   "cell_type": "markdown",
   "metadata": {},
   "source": [
    "### 📕 Debrief: Locating a Data Entry\n",
    "\n",
    "**Locating Data Using Labels `.loc`**: You may notice that when doing the above you only get `True/False` values. We can get the actual rows of data by using by using `dataset.loc[label]`. Basic operators can act as labels. For example, I can use something like: \n",
    "`dataset.loc[dataset[\"column_name\"] >= 5]` to get all the rows with a value of greater than 5 for a given column. You can also have multiple operators, such as `.loc[basic_operator1 & basic_operator2]`."
   ]
  },
  {
   "cell_type": "code",
   "execution_count": null,
   "metadata": {
    "scrolled": false
   },
   "outputs": [],
   "source": [
    "#❗️Run this cell\n",
    "i.challenge3c()"
   ]
  },
  {
   "cell_type": "code",
   "execution_count": null,
   "metadata": {},
   "outputs": [],
   "source": [
    "#❗️Run this cell\n",
    "i.challenge3d()"
   ]
  },
  {
   "cell_type": "markdown",
   "metadata": {},
   "source": [
    "# 📚 Challenge Complete!\n",
    "\n",
    "### What is the name of the three legged pet? **Write it down in a safe place for later!**\n"
   ]
  },
  {
   "cell_type": "markdown",
   "metadata": {},
   "source": [
    "# <p style=\"text-align: center;\"> 📌 Challenge 4: Choosing Our Pets and Making Observations </p>\n",
    "\n",
    "\n",
    "![https://publicdomainvectors.org/en/free-clipart/Cute-Animals-Flat-Origami-Style/46710.html](https://publicdomainvectors.org/photos/222-1014-hewan-dan-binatang-lucu-origami-style.png)\n",
    "# <p style=\"text-align: center;\"> 🌟🌟🌟🌟🌟🌟🌟🌟🌟🌟🌟🌟🌟🌟🌟🌟🌟🌟🌟🌟🌟🌟🌟🌟🌟🌟🌟🌟🌟🌟 </p>\n"
   ]
  },
  {
   "cell_type": "code",
   "execution_count": null,
   "metadata": {
    "scrolled": true
   },
   "outputs": [],
   "source": [
    "#❗️Run this cell\n",
    "display(IFrame('https://www.youtube.com/embed/gCcyJdQyvjo', width=960, height=515)) "
   ]
  },
  {
   "cell_type": "markdown",
   "metadata": {},
   "source": [
    "### 📕 Debrief: Sorting and Subsetting\n",
    "\n",
    "**Sorting**: We can sort values based on alphabetical or numerical order. To do this we just use `dataset.sort_values(by ='column_name')` or `dataset.sort_values(by ='column_name', ascending = False)` if we want it to be listed in reverse order. Because there are lots of ways to sort, we need to choose a specific column in the `by = 'column_name'` part. \n",
    "\n",
    "**Subsetting**: We can also create new datasets by picking the columns and rows that we want. To create a new dataset that only has the columns we want we can write:\n",
    "        `custom_dataset = dataset[[\"column_name\", \"column_name2\"]]`, just like before.  We can also create a new dataset that only has the rows we want we can write:`custom_dataset = dataset.loc[row1:row2]`, we an also do `[row1:row2, row4:row5]` if we want rows that aren't close to each other. If we want columns and rows we can do `pets.loc[rows1:row2,'column_name']`, with rows first and columns second.\n",
    "\n",
    "If you're confused about using `[[]]` and `.loc`, it's okay! For now just know we either use one or the other depending on the situation."
   ]
  },
  {
   "cell_type": "code",
   "execution_count": null,
   "metadata": {},
   "outputs": [],
   "source": [
    "#❗️Run this cell\n",
    "i.challenge4a()"
   ]
  },
  {
   "cell_type": "code",
   "execution_count": null,
   "metadata": {},
   "outputs": [],
   "source": [
    "#❗️Run this cell\n",
    "i.challenge4b()"
   ]
  },
  {
   "cell_type": "code",
   "execution_count": null,
   "metadata": {},
   "outputs": [],
   "source": [
    "#❗️Run this cell\n",
    "i.challenge4c()"
   ]
  },
  {
   "cell_type": "markdown",
   "metadata": {},
   "source": [
    "### 📕Debrief: Getting Basic Statistics\n",
    "\n",
    "There are lots of cool ways we can explore our data. Even though it we may not always enjoy looking at pure numbers, they help make the graphing parts what they are, and can help us better understand the graphs we see! Here are some basic statistics we can use right away:\n",
    "\n",
    "📙 `dataset['column_name'].max()`: This will get us the maximum value of a column.\n",
    "\n",
    "📙 `dataset['column_name'].min()`: This will get us the minimum value of a column.\n",
    "\n",
    "📙 `dataset['column_name'].mean()`: This will get us the mean (also known as average) of the values in a column.\n",
    "\n",
    "📙 `dataset['column_name'].describe()`: This will get us some basic statistics of a column.\n",
    "\n",
    "📙 `dataset.describe()`: This will give us some basic statistics of the entire dataset. \n",
    "\n",
    "**Try some out below!**"
   ]
  },
  {
   "cell_type": "code",
   "execution_count": null,
   "metadata": {},
   "outputs": [],
   "source": [
    "#❗️Run this cell\n",
    "i.challenge4d()"
   ]
  },
  {
   "cell_type": "markdown",
   "metadata": {},
   "source": [
    "# 📚 Challenge Complete!\n",
    "\n",
    "### Write down the weight of the heaviest animal! What are the names of the 3 oldest animals?\n"
   ]
  },
  {
   "cell_type": "markdown",
   "metadata": {},
   "source": [
    "# <p style=\"text-align: center;\"> 📌 Challenge 5: Visualizating the Data </p>\n",
    "\n",
    "![https://publicdomainvectors.org/en/free-clipart/Abacus-calculating-tool/85145.html](https://publicdomainvectors.org/photos/abacus-sheet-paper-publicdomain.jpg)\n",
    "\n",
    "# <p style=\"text-align: center;\"> 🌟🌟🌟🌟🌟🌟🌟🌟🌟🌟🌟🌟🌟🌟🌟🌟🌟🌟🌟🌟🌟🌟🌟🌟🌟🌟🌟🌟🌟🌟 </p>\n"
   ]
  },
  {
   "cell_type": "markdown",
   "metadata": {},
   "source": [
    "### 📕 Debrief: Visualizing Data (aka the fun stuff!)\n",
    "\n",
    "histogram \n",
    "\n",
    "bar graph\n",
    "\n",
    "line graph \n",
    "\n",
    "scatterplot\n",
    "\n",
    "labelling axes "
   ]
  },
  {
   "cell_type": "code",
   "execution_count": null,
   "metadata": {},
   "outputs": [],
   "source": [
    "#❗️Run this cell\n",
    "display(IFrame('https://www.youtube.com/embed/gCcyJdQyvjo', width=960, height=515)) "
   ]
  },
  {
   "cell_type": "code",
   "execution_count": null,
   "metadata": {},
   "outputs": [],
   "source": [
    "# Histogram of pet species, also include male/female split"
   ]
  },
  {
   "cell_type": "code",
   "execution_count": null,
   "metadata": {},
   "outputs": [],
   "source": [
    "# Graph the ages of the species using groupby() "
   ]
  },
  {
   "cell_type": "markdown",
   "metadata": {},
   "source": [
    "# 📚 Challenge Complete!\n",
    "\n",
    "### FILL IN\n"
   ]
  },
  {
   "cell_type": "markdown",
   "metadata": {},
   "source": [
    "# <p style=\"text-align: center;\">  📌 Challenge 6: Drawing a Conclusion & Sending Them Off! </p>\n",
    "\n",
    "Double click on the cells with pencils on them and fill them in. After you're done, run the cell and save the notebook!\n",
    "\n",
    "![https://publicdomainvectors.org/en/free-clipart/Rocket-in-space-vector-clip-art/78567.html](https://publicdomainvectors.org/photos/spaceship-in-space-publicdomain(1).jpg)\n",
    "# <p style=\"text-align: center;\"> 🌟🌟🌟🌟🌟🌟🌟🌟🌟🌟🌟🌟🌟🌟🌟🌟🌟🌟🌟🌟🌟🌟🌟🌟🌟🌟🌟🌟🌟🌟 </p>\n"
   ]
  },
  {
   "cell_type": "markdown",
   "metadata": {},
   "source": [
    "## ✏️ List 3 observations about the data you've noticed\n",
    "\n",
    "1.\n",
    "\n",
    "2.\n",
    "\n",
    "3.\n"
   ]
  },
  {
   "cell_type": "markdown",
   "metadata": {},
   "source": [
    "## ✏️ Which pets would you bring to Mars? Use your observations from above to justify your answer. \n",
    "\n",
    "### **Pets:**\n",
    "1.\n",
    "\n",
    "2.\n",
    "\n",
    "3.\n",
    "\n",
    "4.\n",
    "\n",
    "5.\n",
    "\n",
    "### **Reasoning:**\n",
    "\n",
    "1.\n",
    "\n",
    "2.\n",
    "\n",
    "3.\n",
    "\n",
    "4.\n",
    "\n",
    "5.\n"
   ]
  },
  {
   "cell_type": "markdown",
   "metadata": {},
   "source": [
    "# 📚 Challenge Complete!\n",
    "\n",
    "### TBD - GO to this link/notebook and fill in the questions\n"
   ]
  },
  {
   "cell_type": "markdown",
   "metadata": {},
   "source": [
    "# <p style=\"text-align: center;\">  📌 Bonus Challenge: Advanced Emoji Methods </p>\n",
    "\n",
    "\n",
    "![https://publicdomainvectors.org/en/free-clipart/Spacecraft-flying-in-space/84795.html](https://publicdomainvectors.org/photos/spaceship-in-space-publicdo.jpg)\n",
    "\n",
    "\n",
    "# <p style=\"text-align: center;\"> 🌟🌟🌟🌟🌟🌟🌟🌟🌟🌟🌟🌟🌟🌟🌟🌟🌟🌟🌟🌟🌟🌟🌟🌟🌟🌟🌟🌟🌟🌟 </p>\n"
   ]
  },
  {
   "cell_type": "markdown",
   "metadata": {},
   "source": [
    "### 📕Debrief: For Loops \n",
    "\n",
    "### 📕Debrief: Appending data"
   ]
  },
  {
   "cell_type": "code",
   "execution_count": null,
   "metadata": {},
   "outputs": [],
   "source": [
    "import pandas\n",
    "pets = pandas.read_csv(\"pets_from_bootstrap_world.csv\")\n",
    "pets_list = pets[\"Species\"].unique()\n",
    "emoji_list = [\"🐈\", \"🐕\", \"🦎\", \"🐇\", \"🕷\"]\n",
    "for i in range(len(emoji_list)):\n",
    "    pets.loc[pets[\"Species\"] == pets_list[i], \"Emoji\"] = emoji_list[i]\n",
    "    \n",
    "pets"
   ]
  },
  {
   "cell_type": "markdown",
   "metadata": {},
   "source": [
    "# 📚 Challenge Complete!\n",
    "\n",
    "### \n"
   ]
  },
  {
   "cell_type": "markdown",
   "metadata": {},
   "source": [
    "[![Callysto.ca License](https://github.com/callysto/curriculum-notebooks/blob/master/callysto-notebook-banner-bottom.jpg?raw=true)](https://github.com/callysto/curriculum-notebooks/blob/master/LICENSE.md)"
   ]
  }
 ],
 "metadata": {
  "kernelspec": {
   "display_name": "Python 3",
   "language": "python",
   "name": "python3"
  },
  "language_info": {
   "codemirror_mode": {
    "name": "ipython",
    "version": 3
   },
   "file_extension": ".py",
   "mimetype": "text/x-python",
   "name": "python",
   "nbconvert_exporter": "python",
   "pygments_lexer": "ipython3",
   "version": "3.7.6"
  }
 },
 "nbformat": 4,
 "nbformat_minor": 4
}
