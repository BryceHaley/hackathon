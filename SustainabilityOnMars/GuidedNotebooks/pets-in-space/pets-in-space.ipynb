{
 "cells": [
  {
   "cell_type": "markdown",
   "metadata": {},
   "source": [
    "![Callysto.ca Banner](https://github.com/callysto/curriculum-notebooks/blob/master/callysto-notebook-banner-top.jpg?raw=true)\n",
    "\n",
    "<a href=\"https://hub.callysto.ca/jupyter/hub/user-redirect/git-pull?repo=https%3A%2F%2Fgithub.com%2Fcallysto%2Fhackathon&branch=master&subPath=ColonizingMars/ChallengeTemplates/challenge-option-1-should-we-colonize-Mars.ipynb&depth=1\" target=\"_parent\"><img src=\"https://raw.githubusercontent.com/callysto/curriculum-notebooks/master/open-in-callysto-button.svg?sanitize=true\" width=\"123\" height=\"24\" alt=\"Open in Callysto\"/></a>"
   ]
  },
  {
   "cell_type": "code",
   "execution_count": null,
   "metadata": {},
   "outputs": [],
   "source": [
    "#temp cell\n",
    "import pandas\n",
    "pets = pandas.read_csv(\"pets_from_bootstrap_world.csv\")\n"
   ]
  },
  {
   "cell_type": "code",
   "execution_count": null,
   "metadata": {},
   "outputs": [],
   "source": [
    "# Run this cell\n",
    "import interactive as i\n",
    "from IPython.display import IFrame"
   ]
  },
  {
   "cell_type": "markdown",
   "metadata": {},
   "source": [
    "# Best Friends in Space: Which pets should we bring to Mars? \n",
    "\n",
    "As one of the world's leading experts on cute animals, NASA has asked you to help decide which pets to bring onto Mars, since it might get lonely out there. In this adventure, you will learn datascience skills  and solve several challenges that will help you reach your goal. \n",
    "\n",
    "If you're stuck at any point, you can use [this link](https://hub.callysto.ca/jupyter/user/fbde8dcc92b359bd09845d32c52390da68637752/tree/hackathon/ColonizingMars/Tutorials) to access some tutorial notebooks. You can also check out [this](https://www.youtube.com/playlist?list=PL-j7ku2URmjZ1F3-9jvBuvsf0KcWPsxab) video series that can help you cover some basics. **Remember, to \"run\" a notebook cell, we can either use the button above or press `shift + enter`.** Make sure you do this in every cell that starts with `# Run this cell` and cells you write code in. If it doesn't work, try hitting the stop button (square button on the top bar) and try again.\n",
    "\n",
    "To begin, NASA has assigned you a helper name **Rover**. Rover will provide hints along the way and help you when you get stuck. Remember that you can save this notebook by pressing `ctrl (or cmd on mac) + s` or going to `File -> Save and Checkpoint` in the toolbar. For more information see [notebook basics.](./notebook-basics.ipynb)\n"
   ]
  },
  {
   "cell_type": "code",
   "execution_count": null,
   "metadata": {},
   "outputs": [],
   "source": [
    "# Run this cell\n",
    "i.userinfo()"
   ]
  },
  {
   "cell_type": "markdown",
   "metadata": {},
   "source": [
    "## Challenge #1: Accessing the Pet Archives\n",
    "\n",
    "In this challenge you are tasked with using computer commands to access the Pet Archives Data which was collected by Bootstrap World. \n",
    "\n",
    "**Rover**: *ruff!* The first thing we should do is tell our notebook that we want to access the group of computer commands that lets us work with data. I think it was called `pandas`..?"
   ]
  },
  {
   "cell_type": "code",
   "execution_count": null,
   "metadata": {},
   "outputs": [],
   "source": [
    "# Run this cell\n",
    "display(IFrame('https://www.youtube.com/embed/P6KNkb7xVjk', width=560, height=315)) "
   ]
  },
  {
   "cell_type": "code",
   "execution_count": null,
   "metadata": {},
   "outputs": [],
   "source": [
    "# Run this cell\n",
    "i.challenge1A()"
   ]
  },
  {
   "cell_type": "code",
   "execution_count": null,
   "metadata": {},
   "outputs": [],
   "source": [
    "# fill in the commands below, we need 1 line each for pandas, numpy, and matplotlib, then run the cell\n",
    "#========= PLACE ANSWER BELOW ===========#\n",
    "import \n",
    "import \n",
    "import"
   ]
  },
  {
   "cell_type": "markdown",
   "metadata": {},
   "source": [
    "### Debrief: Functions, Libraries, and Filenames\n",
    "Now that we have access to the special commands we need to access the data, let's use them! The data file they gave us is called `pets_from_bootstrap_world.csv` - the .csv at the end tells us it is a csv file. The CSV stands for \"Comma Separated Values\", there is a special function in the `pandas` library we can use to view this data file called `read_csv()`. \n",
    "\n",
    "Python is a little tricky though, and needs us to put in the code which library the function we want to use comes from. For example, if I wanted to use the `loadtxt()` function from the `numpy` library, I would have to write it like `numpy.loadtxt('file.txt')`. See how the library is first, then there is a `.`, followed by the function? We then use the function on the file by putting the filename in the brackets. The file name is surrounded by `\"` `\"` so that it is read as characters. "
   ]
  },
  {
   "cell_type": "code",
   "execution_count": null,
   "metadata": {
    "scrolled": true
   },
   "outputs": [],
   "source": [
    "# Run this cell\n",
    "i.challenge1B()"
   ]
  },
  {
   "cell_type": "code",
   "execution_count": null,
   "metadata": {},
   "outputs": [],
   "source": [
    "# finish the command below and then run the cell \n",
    "#========= PLACE ANSWER BELOW ===========#\n",
    "pandas.\n"
   ]
  },
  {
   "cell_type": "markdown",
   "metadata": {},
   "source": [
    "### Challenge Complete!\n",
    "Wow, great job! You've completed the very first challenge with flying colours. Now, before moving onto the next challenge, write down the age of the pets in rows `28` (Miaulis), `15` (Gir), and `11` (Maple). **Make sure you write it somewhere that's safe, because you never know when it will come in handy! ;)**"
   ]
  },
  {
   "cell_type": "markdown",
   "metadata": {},
   "source": [
    "## Challenge #2: Making Data Easy\n",
    "\n",
    "Now that we have successfully accessed the data archives from our friends back on Earth, it's now time to explore what pets there are. This will help us get an idea of not only what our options are, but which pets can be most suitable for life on Mars. \n",
    "\n",
    "**Rover**: *I hope it's dogs!*"
   ]
  },
  {
   "cell_type": "code",
   "execution_count": null,
   "metadata": {},
   "outputs": [],
   "source": [
    "# Run this cell\n",
    "display(IFrame('https://www.youtube.com/embed/gCcyJdQyvjo', width=560, height=315)) "
   ]
  },
  {
   "cell_type": "markdown",
   "metadata": {},
   "source": [
    "### Debrief: Variables\n",
    "\n",
    "Now that we've learned how to access the data, we need to make a codeword for it to make it easier for the computer to recognize it later. In this process, we end up making what's called a variable. Think about it this way, depending on what you put on the right side of the `=` sign, the codeword's value may vary. The codeword is called a variable name, when you give it a value you can use it to mean that value in other parts of the notebook. Let's say I ran `a = 2` in a cell, now whenever I type `a` it will mean the same as 2."
   ]
  },
  {
   "cell_type": "code",
   "execution_count": null,
   "metadata": {},
   "outputs": [],
   "source": [
    "# Run this cell\n",
    "i.challenge2A()"
   ]
  },
  {
   "cell_type": "markdown",
   "metadata": {},
   "source": [
    "It would be very useful to assign the code used to access the `pets dataset` to a variable named `pets`. Can you do that in the cell below?"
   ]
  },
  {
   "cell_type": "code",
   "execution_count": null,
   "metadata": {},
   "outputs": [],
   "source": [
    "# In this cell, assign the pets data to a variable named \"pets\"\n",
    "# It should look something like: codeword = library.function(\"filename.csv\")\n",
    "#========= PLACE ANSWER BELOW ===========#\n",
    "\n"
   ]
  },
  {
   "cell_type": "code",
   "execution_count": null,
   "metadata": {},
   "outputs": [],
   "source": [
    "# Now try just typing \"pets\", then run the cell. You should see the data\n",
    "#========= PLACE ANSWER BELOW ===========#\n",
    "\n"
   ]
  },
  {
   "cell_type": "markdown",
   "metadata": {},
   "source": [
    "### Debrief: Selecting Data Columns\n",
    "\n",
    "With the data now easily accessible, let's try using some cool functions from the `pandas` library to get to know our data more. You can also check out the Tutorial's [pandas cheatsheet](./pandas-dataframes.ipynb) for a whole list of things we can do.\n",
    "\n",
    "For example, to access the values in a column, we can use `dataset_variable_name[\"column_name\"]`. In Python `\"\"` and `''` are the same. You can also select multiple columns like this: `dataset_variable_name[[\"column_name1\", \"column_name2\"]]`. Note the double `[[ ]]`.\n",
    "\n",
    "To list all the columns in a dataset, use `dataset_variable_name,columns` or `list(dataset_variable_name.columns)` for a list instead of an index.\n",
    "\n",
    "Let's try it below with our pets dataset. "
   ]
  },
  {
   "cell_type": "code",
   "execution_count": null,
   "metadata": {},
   "outputs": [],
   "source": [
    "# Run this cell\n",
    "i.challenge2b()"
   ]
  },
  {
   "cell_type": "code",
   "execution_count": null,
   "metadata": {
    "scrolled": true
   },
   "outputs": [],
   "source": [
    "# Place your code below and run it. What do you see?\n",
    "#========= PLACE ANSWER BELOW ===========#\n",
    "\n"
   ]
  },
  {
   "cell_type": "code",
   "execution_count": null,
   "metadata": {},
   "outputs": [],
   "source": [
    "# Run this cell\n",
    "i.challenge2c()"
   ]
  },
  {
   "cell_type": "code",
   "execution_count": null,
   "metadata": {},
   "outputs": [],
   "source": [
    "# Place your code that views all the pet names below. \n",
    "# Assign it to a variable called \"names\", and then view it.\n",
    "#========= PLACE ANSWER BELOW ===========#\n",
    "\n"
   ]
  },
  {
   "cell_type": "markdown",
   "metadata": {},
   "source": [
    "## Challenge #3: Narrowing Down the Data\n",
    "\n",
    "N"
   ]
  },
  {
   "cell_type": "markdown",
   "metadata": {},
   "source": [
    "### Debrief: Unique Values\n",
    "\n",
    "**Unique Values `.unique()`**: Sometimes instead of viewing all the values in a column, we just want to see the different types of values instead. For example, in this dataset it can be useful to know what types of animals there are without knowing all of them. We can do this by writing `dataset_variable_name.[\"column_name\"].unique()`. Note the `.unique()` is at the end. "
   ]
  },
  {
   "cell_type": "code",
   "execution_count": null,
   "metadata": {},
   "outputs": [],
   "source": [
    "# Run this cell\n",
    "i.challenge2d()"
   ]
  },
  {
   "cell_type": "code",
   "execution_count": null,
   "metadata": {},
   "outputs": [],
   "source": [
    "# Place your code that views unique of number of legs below. Is there anything unusual?\n",
    "#========= PLACE ANSWER BELOW ===========#\n",
    "\n"
   ]
  },
  {
   "cell_type": "markdown",
   "metadata": {},
   "source": [
    "### Debrief: Basic Operators and Label-based Location\n",
    "\n",
    "**Basic Operators**: In computer programming languages, we can do a lot of things using basic math alone. With data, we can use symbols like `>, <, ==, %, /, *` and others to do cool things. For instance, if we wanted to select all entries in a dataset with a value above 5, we could do `dataset_variable_name[\"column_name\"] >= 5`. This will give us the all of the matching data entries who's value in the column is greater or equal to 5.\n",
    "\n",
    "We can also use words as long as they are in quotes (case-sensitive), such as `dataset_variable_name[\"column_name\"] == \"searchterm\"`. The `==` means that it has to be exactly that.\n",
    "\n",
    "**Logical Operators**: To use more than one we need to use a logical operators. For example, `&` means and, `|` (vertical bar) means or, and `~` means not. Therefore we can do something like: \n",
    "\n",
    "`dataset_variable_name[\"column_name\"] >= 5 & dataset_variable_name[\"column_name\"] < 10`\n",
    "\n",
    "or even: \n",
    "\n",
    "`dataset_variable_name[\"column_name\"] >= 5 | dataset_variable_name[\"column_name\"] < 2 ` \n",
    "\n",
    "*Learn more about operators [here](https://www.w3schools.com/python/python_operators.asp).*\n",
    "\n",
    "**Label-based Location `.loc`**: You may notice that when doing the above you only get `True/False` values. We can get the actual rows of data by using by using `dataset_variable_name.loc[label]`. Basic operators can act as labels.\n",
    "\n",
    "For example, I can use something like: \n",
    "`dataset_variable_name.loc[dataset_variable_name[\"column_name\"] >= 5]` to get all the rows with a value of greater than 5 for a given column.\n",
    "\n",
    "We can also use & to have multiple basic operators "
   ]
  },
  {
   "cell_type": "code",
   "execution_count": null,
   "metadata": {},
   "outputs": [],
   "source": [
    "pets.loc[pets[\"Species\"] == \"dog\"]\n",
    "pets[\"Species\"] == \"dog\"\n",
    "\n",
    "l = pets['Weight (lbs)'] >= 5\n",
    "pets.loc[(pets['Weight (lbs)'] > 100) & (pets[\"Species\"] == \"dog\")]"
   ]
  },
  {
   "cell_type": "code",
   "execution_count": null,
   "metadata": {},
   "outputs": [],
   "source": [
    "def challenge2e(): \n",
    "    print(\"Based on the output, it seems we have a 3 legged animal! Do you know any reason why that might be?\\nLet's try and find out which animals are 3 legged.\")\n",
    "    print(\"First, we'll need to use a basic operator on the 'Legs' column to find the ones that equal to 3.\")\n",
    "    "
   ]
  },
  {
   "cell_type": "code",
   "execution_count": null,
   "metadata": {},
   "outputs": [],
   "source": [
    "challenge2e()"
   ]
  },
  {
   "cell_type": "code",
   "execution_count": null,
   "metadata": {},
   "outputs": [],
   "source": [
    "# Place your code that gets the rows where the number of legs is equal to 3  \n",
    "#========= PLACE ANSWER BELOW ===========#\n",
    "\n"
   ]
  },
  {
   "cell_type": "code",
   "execution_count": null,
   "metadata": {
    "scrolled": true
   },
   "outputs": [],
   "source": [
    "# Use label-based location to get information on the 3 legged pet. What is their name?\n",
    "#========= PLACE ANSWER BELOW ===========#\n",
    "pets.loc[[19]]"
   ]
  },
  {
   "cell_type": "markdown",
   "metadata": {},
   "source": [
    "### Challenge Complete!\n",
    "\n",
    "What is the name of the three legged pet? **Write it down in a safe place for later!**\n"
   ]
  },
  {
   "cell_type": "markdown",
   "metadata": {},
   "source": [
    "## Challenge #4: Making Our Own Dataframe\n",
    "\n",
    "Now that we have successfully accessed the data archives from our frien"
   ]
  },
  {
   "cell_type": "markdown",
   "metadata": {},
   "source": [
    "### Debrief: Sorting and Subsetting\n",
    "\n",
    "ghjkl;'\n"
   ]
  },
  {
   "cell_type": "code",
   "execution_count": null,
   "metadata": {},
   "outputs": [],
   "source": [
    "def challenge3a():\n",
    "    sdlfs"
   ]
  },
  {
   "cell_type": "code",
   "execution_count": null,
   "metadata": {},
   "outputs": [],
   "source": [
    "# Sort time to adoption, age, etc. \n",
    "#========= PLACE ANSWER BELOW ===========#\n",
    "\n"
   ]
  },
  {
   "cell_type": "code",
   "execution_count": null,
   "metadata": {},
   "outputs": [],
   "source": [
    "def challenge3b():\n",
    "    sdlfs"
   ]
  },
  {
   "cell_type": "code",
   "execution_count": null,
   "metadata": {},
   "outputs": [],
   "source": [
    "# subset species, gender, fixed, etc and assign to variable name\n",
    "#========= PLACE ANSWER BELOW ===========#\n",
    "\n"
   ]
  },
  {
   "cell_type": "code",
   "execution_count": null,
   "metadata": {},
   "outputs": [],
   "source": [
    "## code for generate and append example\n",
    "\n",
    "#pets = pandas.read_csv(\"pets_from_bootstrap_world.csv\")\n",
    "pets_list = pets[\"Species\"].unique()\n",
    "emoji_list = [\"🐈\", \"🐕\", \"🦎\", \"🐇\", \"🕷\"]\n",
    "for i in range(len(emoji_list)):\n",
    "    pets.loc[pets[\"Species\"] == pets_list[i], \"Emoji\"] = emoji_list[i]\n",
    "    \n",
    "pets"
   ]
  },
  {
   "cell_type": "markdown",
   "metadata": {},
   "source": [
    "## Challenge #5: Visualization\n",
    "\n",
    "Now that we have successfully accessed the data archives from our frien"
   ]
  },
  {
   "cell_type": "code",
   "execution_count": null,
   "metadata": {},
   "outputs": [],
   "source": [
    "# Histogram of pet species, also include male/female split\n",
    "#========= PLACE ANSWER BELOW ===========#\n",
    "\n",
    "\n"
   ]
  },
  {
   "cell_type": "code",
   "execution_count": null,
   "metadata": {},
   "outputs": [],
   "source": [
    "# Graph the ages of the species using groupby() \n",
    "#========= PLACE ANSWER BELOW ===========#\n",
    "\n"
   ]
  },
  {
   "cell_type": "markdown",
   "metadata": {},
   "source": [
    "## Challenge #6: Making Observations & Drawing a Conclusion\n",
    "\n",
    "Now that we have successfully accessed the data archives from our frien"
   ]
  },
  {
   "cell_type": "code",
   "execution_count": null,
   "metadata": {},
   "outputs": [],
   "source": [
    "# List 3 observations about the data you've noticed\n",
    "#========= PLACE ANSWER BELOW ===========#\n",
    "\n",
    "\n"
   ]
  },
  {
   "cell_type": "code",
   "execution_count": null,
   "metadata": {},
   "outputs": [],
   "source": [
    "# Which pets would you bring to Mars? Use your observations from above to justify your answer. \n",
    "#========= PLACE ANSWER BELOW ===========#\n",
    "\n",
    "\n"
   ]
  },
  {
   "cell_type": "markdown",
   "metadata": {},
   "source": [
    "[![Callysto.ca License](https://github.com/callysto/curriculum-notebooks/blob/master/callysto-notebook-banner-bottom.jpg?raw=true)](https://github.com/callysto/curriculum-notebooks/blob/master/LICENSE.md)"
   ]
  }
 ],
 "metadata": {
  "kernelspec": {
   "display_name": "Python 3",
   "language": "python",
   "name": "python3"
  },
  "language_info": {
   "codemirror_mode": {
    "name": "ipython",
    "version": 3
   },
   "file_extension": ".py",
   "mimetype": "text/x-python",
   "name": "python",
   "nbconvert_exporter": "python",
   "pygments_lexer": "ipython3",
   "version": "3.7.6"
  }
 },
 "nbformat": 4,
 "nbformat_minor": 4
}
