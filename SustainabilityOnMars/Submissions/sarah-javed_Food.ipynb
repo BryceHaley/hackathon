{
 "cells": [
  {
   "cell_type": "markdown",
   "metadata": {},
   "source": [
    "ABOUT US:\n",
    "Names: Trisha Joshi, Sarah Javed, Hibba Afroz\n",
    "Email Addresses: saroothegreat@gmail.com, trishaj812@gmail.com , awsomehibba@gmail.com\n",
    "Why did we pick this challenge: We did a hackathon in March from a different organization and we enjoyed the experience so we decided to do it again. \n",
    "Question picked: 3.\n"
   ]
  },
  {
   "cell_type": "markdown",
   "metadata": {},
   "source": [
    "###PLEASE RUN ALL CELLS"
   ]
  },
  {
   "cell_type": "code",
   "execution_count": 1,
   "metadata": {},
   "outputs": [],
   "source": [
    "###DATASET\n",
    "#Picked pandas because it allows us to create charts to show our data. It seemed like the best option because it was easy to use and helped us organize our data.\n",
    "import pandas as pd\n",
    "from pandas import DataFrame"
   ]
  },
  {
   "cell_type": "code",
   "execution_count": 2,
   "metadata": {},
   "outputs": [
    {
     "name": "stdout",
     "output_type": "stream",
     "text": [
      "the chart below shows what food is given to each family every month and the amount given\n"
     ]
    }
   ],
   "source": [
    "print (\"the chart below shows what food is given to each family every month and the amount given\")"
   ]
  },
  {
   "cell_type": "code",
   "execution_count": 3,
   "metadata": {},
   "outputs": [
    {
     "name": "stdout",
     "output_type": "stream",
     "text": [
      "the numbers in column 1 mean the following: 0 means kg of CSB+, 1 means kg of rice-maize meal, 2 means kg of beans, 3 means litres of vegetable oil, 4 means kg of salt and 5 means quarters of soup\n"
     ]
    }
   ],
   "source": [
    "print (\"the numbers in column 1 mean the following: 0 means kg of CSB+, 1 means kg of rice-maize meal, 2 means kg of beans, 3 means litres of vegetable oil, 4 means kg of salt and 5 means quarters of soup\" )"
   ]
  },
  {
   "cell_type": "code",
   "execution_count": 4,
   "metadata": {},
   "outputs": [
    {
     "data": {
      "text/plain": [
       "[10, 40, 9, 4, 1, 37]"
      ]
     },
     "execution_count": 4,
     "metadata": {},
     "output_type": "execute_result"
    }
   ],
   "source": [
    "###food data\n",
    "Food = [10, 40, 9, 4, 1, 37]\n",
    "Food"
   ]
  },
  {
   "cell_type": "code",
   "execution_count": 5,
   "metadata": {},
   "outputs": [
    {
     "data": {
      "text/html": [
       "<div>\n",
       "<style scoped>\n",
       "    .dataframe tbody tr th:only-of-type {\n",
       "        vertical-align: middle;\n",
       "    }\n",
       "\n",
       "    .dataframe tbody tr th {\n",
       "        vertical-align: top;\n",
       "    }\n",
       "\n",
       "    .dataframe thead th {\n",
       "        text-align: right;\n",
       "    }\n",
       "</style>\n",
       "<table border=\"1\" class=\"dataframe\">\n",
       "  <thead>\n",
       "    <tr style=\"text-align: right;\">\n",
       "      <th></th>\n",
       "      <th>Amount of food</th>\n",
       "    </tr>\n",
       "  </thead>\n",
       "  <tbody>\n",
       "    <tr>\n",
       "      <th>0</th>\n",
       "      <td>10</td>\n",
       "    </tr>\n",
       "    <tr>\n",
       "      <th>1</th>\n",
       "      <td>40</td>\n",
       "    </tr>\n",
       "    <tr>\n",
       "      <th>2</th>\n",
       "      <td>9</td>\n",
       "    </tr>\n",
       "    <tr>\n",
       "      <th>3</th>\n",
       "      <td>4</td>\n",
       "    </tr>\n",
       "    <tr>\n",
       "      <th>4</th>\n",
       "      <td>1</td>\n",
       "    </tr>\n",
       "    <tr>\n",
       "      <th>5</th>\n",
       "      <td>37</td>\n",
       "    </tr>\n",
       "  </tbody>\n",
       "</table>\n",
       "</div>"
      ],
      "text/plain": [
       "   Amount of food\n",
       "0              10\n",
       "1              40\n",
       "2               9\n",
       "3               4\n",
       "4               1\n",
       "5              37"
      ]
     },
     "execution_count": 5,
     "metadata": {},
     "output_type": "execute_result"
    }
   ],
   "source": [
    "###Food chart\n",
    "Foodchart = DataFrame(data = Food, columns = ['Amount of food'])\n",
    "Foodchart"
   ]
  },
  {
   "cell_type": "code",
   "execution_count": 6,
   "metadata": {},
   "outputs": [
    {
     "name": "stdout",
     "output_type": "stream",
     "text": [
      "The chart below shows the amount of people who get rations vs. the amount of people who dont. 0 shows the people who do get it and 1 shows the people who dont get food.\n"
     ]
    }
   ],
   "source": [
    "### chart explanation\n",
    "print (\"The chart below shows the amount of people who get rations vs. the amount of people who dont. 0 shows the people who do get it and 1 shows the people who dont get food.\")"
   ]
  },
  {
   "cell_type": "code",
   "execution_count": 7,
   "metadata": {},
   "outputs": [
    {
     "data": {
      "text/plain": [
       "[12000, 256000]"
      ]
     },
     "execution_count": 7,
     "metadata": {},
     "output_type": "execute_result"
    }
   ],
   "source": [
    "###People data\n",
    "People = [12000, 256000]\n",
    "People"
   ]
  },
  {
   "cell_type": "code",
   "execution_count": 8,
   "metadata": {},
   "outputs": [
    {
     "data": {
      "text/html": [
       "<div>\n",
       "<style scoped>\n",
       "    .dataframe tbody tr th:only-of-type {\n",
       "        vertical-align: middle;\n",
       "    }\n",
       "\n",
       "    .dataframe tbody tr th {\n",
       "        vertical-align: top;\n",
       "    }\n",
       "\n",
       "    .dataframe thead th {\n",
       "        text-align: right;\n",
       "    }\n",
       "</style>\n",
       "<table border=\"1\" class=\"dataframe\">\n",
       "  <thead>\n",
       "    <tr style=\"text-align: right;\">\n",
       "      <th></th>\n",
       "      <th>amount of people</th>\n",
       "    </tr>\n",
       "  </thead>\n",
       "  <tbody>\n",
       "    <tr>\n",
       "      <th>0</th>\n",
       "      <td>12000</td>\n",
       "    </tr>\n",
       "    <tr>\n",
       "      <th>1</th>\n",
       "      <td>256000</td>\n",
       "    </tr>\n",
       "  </tbody>\n",
       "</table>\n",
       "</div>"
      ],
      "text/plain": [
       "   amount of people\n",
       "0             12000\n",
       "1            256000"
      ]
     },
     "execution_count": 8,
     "metadata": {},
     "output_type": "execute_result"
    }
   ],
   "source": [
    "###People chart\n",
    "PeopleChart = DataFrame(data = People, columns = ['amount of people'])\n",
    "PeopleChart"
   ]
  },
  {
   "cell_type": "code",
   "execution_count": 9,
   "metadata": {},
   "outputs": [
    {
     "data": {
      "text/plain": [
       "4.6875"
      ]
     },
     "execution_count": 9,
     "metadata": {},
     "output_type": "execute_result"
    }
   ],
   "source": [
    "### The caculation below finds the percent of people who do recieve rations\n",
    "\n",
    "12000/256000*100"
   ]
  },
  {
   "cell_type": "code",
   "execution_count": 10,
   "metadata": {},
   "outputs": [
    {
     "data": {
      "text/plain": [
       "8400.0"
      ]
     },
     "execution_count": 10,
     "metadata": {},
     "output_type": "execute_result"
    }
   ],
   "source": [
    "###This shows that about only 4.7% of people recieve rations in mozambique. \n",
    "###However, as we have seen even during this pandemic, people will hoard things\n",
    "###to themselves and make life even harder for the poor. In order to combat this,\n",
    "###some countries with previous food and supplies shortages have started rationing.\n",
    "#This is useful as it allows everyone to have the same amount of food regardless\n",
    "#of their age/ gender/ skin colour etc. and people with illnesses would receive\n",
    "#more. Because we couldn't find data on the amount of people who would receive\n",
    "#food without rations, we have created a fair estimate that at least 30% less \n",
    "#people would recieve food due to society issues such as: hoarding, economic\n",
    "#status helping people gain food, and discrimination (racism, ageism, sexism, \n",
    "#etc.). \n",
    "\n",
    "###So if we use that estimate...\n",
    "12000*0.7"
   ]
  },
  {
   "cell_type": "markdown",
   "metadata": {},
   "source": [
    "#This means that only 8400 people would get food in Mozambique!!!\n"
   ]
  },
  {
   "cell_type": "code",
   "execution_count": 11,
   "metadata": {},
   "outputs": [
    {
     "data": {
      "text/plain": [
       "[12000, 8400]"
      ]
     },
     "execution_count": 11,
     "metadata": {},
     "output_type": "execute_result"
    }
   ],
   "source": [
    "###people who recieve food with and without rationing\n",
    "ration_ppl = [12000, 8400]\n",
    "ration_ppl"
   ]
  },
  {
   "cell_type": "code",
   "execution_count": 12,
   "metadata": {},
   "outputs": [
    {
     "data": {
      "text/html": [
       "<div>\n",
       "<style scoped>\n",
       "    .dataframe tbody tr th:only-of-type {\n",
       "        vertical-align: middle;\n",
       "    }\n",
       "\n",
       "    .dataframe tbody tr th {\n",
       "        vertical-align: top;\n",
       "    }\n",
       "\n",
       "    .dataframe thead th {\n",
       "        text-align: right;\n",
       "    }\n",
       "</style>\n",
       "<table border=\"1\" class=\"dataframe\">\n",
       "  <thead>\n",
       "    <tr style=\"text-align: right;\">\n",
       "      <th></th>\n",
       "      <th>Amount of People</th>\n",
       "    </tr>\n",
       "  </thead>\n",
       "  <tbody>\n",
       "    <tr>\n",
       "      <th>0</th>\n",
       "      <td>12000</td>\n",
       "    </tr>\n",
       "    <tr>\n",
       "      <th>1</th>\n",
       "      <td>8400</td>\n",
       "    </tr>\n",
       "  </tbody>\n",
       "</table>\n",
       "</div>"
      ],
      "text/plain": [
       "   Amount of People\n",
       "0             12000\n",
       "1              8400"
      ]
     },
     "execution_count": 12,
     "metadata": {},
     "output_type": "execute_result"
    }
   ],
   "source": [
    "###people who recieve food with and without + chart explanation\n",
    "##0 means amount of people recieving food with rations and 1 means the amount of people recieving food without rations\n",
    "ration_pplChart = DataFrame(data = ration_ppl, columns = [\"Amount of People\"])\n",
    "ration_pplChart"
   ]
  },
  {
   "cell_type": "markdown",
   "metadata": {},
   "source": [
    "###OBSERVATIONS\n",
    "\"\"\"Rationing is good system \n",
    "        It allows everyone to get the same amount of food (no discrimination)\n",
    "        Its organized\n",
    "        All the food is controlled\n",
    "        Helps save money \n",
    "        Allows people who need more food (bigger families, single parents, ill patients) to get more food.\n",
    "    Organization of the communities\n",
    "        Communities have designated ration stations\n",
    "        Families only need to send one person from the family\n",
    "        Not too long lines at rationing stations\n"
   ]
  },
  {
   "cell_type": "markdown",
   "metadata": {},
   "source": [
    "###CONCLUSION\n",
    "There are 7 billion people divided into communities. Each community has about 10,000 people in it. That means there are only seven hundred thousand communities. Each community has 50 rationing stations. Every time a new ship carrying humans comes in, it also carries some food for the rationing stations. Once a month, people have to go to the rationing stations and get their food. Rationing solves the problem of not having food on Mars because people will be given food in an organized fashion with equity. Rationing on Mars is a good system if organized properly, which will be done with the communities and designated rationing stations. We understand, however, that Earth will not provide us with food forever. That is why we have created a farming system, which you will find out more about in the next paragraph.\n",
    "Once everybody is on Mars, we will start having to grow our own food. Although this wasn't part of our project, we wanted to include this either way. We will do this by turning carbon dioxide and nitrogen into oxygen by zapping them with a nuclear pumped laser. It will cause a nuclear fusion between the particles turning them into oxygen. The test for turning nitrogen into oxygen was first conducted by Ernest Rutherford.  We can use this oxygen to help grow the plants. We can also collect water from the steam from volcanoes. Given these points we should be able to organize the limited amount of food on Mars to serve the community as a whole through rationing.\n",
    "\n",
    "What we learned from the hackathon:\n",
    "How to use pandas\n",
    "About important scientific experiments conducted in the past \n",
    "We learned to make a somewhat fictional solution to a real world problem\n",
    "Analysis Driven results:\n",
    "Important data on Rationing\n",
    "That Nitrogen and carbon Dioxide can be turned into Oxygen\n",
    "How we might have a chance of organizing everyone and getting everyone to have food\n"
   ]
  }
 ],
 "metadata": {
  "kernelspec": {
   "display_name": "Python 3",
   "language": "python",
   "name": "python3"
  },
  "language_info": {
   "codemirror_mode": {
    "name": "ipython",
    "version": 3
   },
   "file_extension": ".py",
   "mimetype": "text/x-python",
   "name": "python",
   "nbconvert_exporter": "python",
   "pygments_lexer": "ipython3",
   "version": "3.7.6"
  }
 },
 "nbformat": 4,
 "nbformat_minor": 4
}
