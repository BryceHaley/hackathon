{
 "cells": [
  {
   "cell_type": "markdown",
   "metadata": {},
   "source": [
    "### ![Callysto.ca Banner](https://github.com/callysto/curriculum-notebooks/blob/master/callysto-notebook-banner-top.jpg?raw=true)\n",
    "\n",
    "<a href=\"https://hub.callysto.ca/jupyter/hub/user-redirect/git-pull?repo=https%3A%2F%2Fgithub.com%2Fcallysto%2Fhackathon&branch=master&subPath=SustainabilityOnMars/AmalTrack/ChallengeTemplate/challenge-template.ipynb&depth=1\" target=\"_parent\"><img src=\"https://raw.githubusercontent.com/callysto/curriculum-notebooks/master/open-in-callysto-button.svg?sanitize=true\" width=\"123\" height=\"24\" alt=\"Open in Callysto\"/></a>"
   ]
  },
  {
   "cell_type": "markdown",
   "metadata": {},
   "source": [
    "# *Sustaining Life on Mars: Data Science Challenge*.\n",
    "\n",
    "You’re a data scientist on a team of newly-arrived humans. While you were on Earth, you figured out how you could make the planet habitable. From growing food to clothing needs, you need to start building the framework for sustaining life on the red planet. \n",
    "\n",
    "Use data to answer questions such as:\n",
    "\n",
    "1. What food do we need to bring?\n",
    "        e.g. trees, seeds, genetically-modified foods\n",
    "        \n",
    "2. How do we feed people there?\n",
    "        Consider: supply, manage, distribute, connect\n",
    "\n",
    "7. What are essential key resources? \n",
    "        e.g. Electricity, oxygen, water, fuel, brick, plastics, steel, food. \n",
    "\n",
    "4. How do we decide who will go?\n",
    "        e.g. population proportions, demographics, health, qualifications, genetic diversity\n",
    "\n",
    "5. What forms of entertainment would people need? \n",
    "        e.g. music, books, pets, lego\n",
    "\n",
    "6. What machines do we need? \n",
    "        e.g. cars, ships, fighter jets, rockets, computers, mobile phones.  \n",
    "        \n",
    "#### Choose one or more of these questions to answer, or come up with your own. Check out the example notebooks, and complete the sections in this notebook to answer your chosen question or questions"
   ]
  },
  {
   "cell_type": "markdown",
   "metadata": {},
   "source": [
    "### Section I: About Me\n",
    "\n",
    "Double-click this cell and tell us:\n",
    "\n",
    "✏️  1. My name: Kristina Law\n",
    "    2. My email address: kritterkinz0102@gmail.com\n",
    "    3. Why I picked this challenge: I picked the Amal Challenge because I have participated in two hackathons with Callysto in the past, and have previously won one of them. I want to be able to challenge myself in data science, as I am familiar with Jupyter notebooks and writing code in Python.\n",
    "    4. The questions I picked: What food do we need to bring? At what time and what days of the week should food services open? "
   ]
  },
  {
   "cell_type": "markdown",
   "metadata": {},
   "source": [
    "### Section II: The data I used\n",
    "1. The name of the dataset is named 'Community food markets and farmers markets'.\n",
    "2. Link: https://opendata.vancouver.ca/explore/dataset/community-food-markets-and-farmers-markets/download/?format=csv\n",
    "3. I picked this dataset because once people have started to make life on Mars, there might be possible larger colonization. In the possibility that there will be life similar to what we are living on Earth (before COVID-19), there may be civilized and established services like supermarkets, education services, and hospitals. Today, I will be narrowing in to markets. I will examine the various types of markets in Vancouver, what they offer, their opening and closing hours, and when they open."
   ]
  },
  {
   "cell_type": "code",
   "execution_count": 17,
   "metadata": {},
   "outputs": [
    {
     "data": {
      "text/html": [
       "        <script type=\"text/javascript\">\n",
       "        window.PlotlyConfig = {MathJaxConfig: 'local'};\n",
       "        if (window.MathJax) {MathJax.Hub.Config({SVG: {font: \"STIX-Web\"}});}\n",
       "        if (typeof require !== 'undefined') {\n",
       "        require.undef(\"plotly\");\n",
       "        requirejs.config({\n",
       "            paths: {\n",
       "                'plotly': ['https://cdn.plot.ly/plotly-latest.min']\n",
       "            }\n",
       "        });\n",
       "        require(['plotly'], function(Plotly) {\n",
       "            window._Plotly = Plotly;\n",
       "        });\n",
       "        }\n",
       "        </script>\n",
       "        "
      ]
     },
     "metadata": {},
     "output_type": "display_data"
    }
   ],
   "source": [
    "#Import libraries\n",
    "import pandas as pd\n",
    "import matplotlib.pyplot as plt\n",
    "import cufflinks as cf\n",
    "cf.go_offline()"
   ]
  },
  {
   "cell_type": "code",
   "execution_count": 18,
   "metadata": {},
   "outputs": [
    {
     "data": {
      "text/html": [
       "<div>\n",
       "<style scoped>\n",
       "    .dataframe tbody tr th:only-of-type {\n",
       "        vertical-align: middle;\n",
       "    }\n",
       "\n",
       "    .dataframe tbody tr th {\n",
       "        vertical-align: top;\n",
       "    }\n",
       "\n",
       "    .dataframe thead th {\n",
       "        text-align: right;\n",
       "    }\n",
       "</style>\n",
       "<table border=\"1\" class=\"dataframe\">\n",
       "  <thead>\n",
       "    <tr style=\"text-align: right;\">\n",
       "      <th></th>\n",
       "      <th>year</th>\n",
       "      <th>markettype</th>\n",
       "      <th>marketname_location_host</th>\n",
       "      <th>marketoperator</th>\n",
       "      <th>streetnumber</th>\n",
       "      <th>streetdirection</th>\n",
       "      <th>streetname</th>\n",
       "      <th>streettype</th>\n",
       "      <th>mergedaddress</th>\n",
       "      <th>marketdirection</th>\n",
       "      <th>website</th>\n",
       "      <th>day</th>\n",
       "      <th>open</th>\n",
       "      <th>close</th>\n",
       "      <th>months</th>\n",
       "      <th>numberofvendors</th>\n",
       "      <th>offerings</th>\n",
       "    </tr>\n",
       "  </thead>\n",
       "  <tbody>\n",
       "    <tr>\n",
       "      <th>4</th>\n",
       "      <td>2016</td>\n",
       "      <td>Farmers Market</td>\n",
       "      <td>Hastings Park</td>\n",
       "      <td>Vancouver Farmers Markets</td>\n",
       "      <td>NaN</td>\n",
       "      <td>NaN</td>\n",
       "      <td>Renfrew</td>\n",
       "      <td>St</td>\n",
       "      <td>Renfrew St</td>\n",
       "      <td>Hastings Skatepark</td>\n",
       "      <td>http://eatlocal.org</td>\n",
       "      <td>Sunday</td>\n",
       "      <td>10am</td>\n",
       "      <td>2pm</td>\n",
       "      <td>Nov - Apr</td>\n",
       "      <td>33</td>\n",
       "      <td>produce,meat,seafood,cheese,organics,prepared ...</td>\n",
       "    </tr>\n",
       "    <tr>\n",
       "      <th>5</th>\n",
       "      <td>2016</td>\n",
       "      <td>Farmers Market</td>\n",
       "      <td>Mount Pleasant Market</td>\n",
       "      <td>Vancouver Farmers Markets</td>\n",
       "      <td>2300.0</td>\n",
       "      <td>NaN</td>\n",
       "      <td>Guelph</td>\n",
       "      <td>St</td>\n",
       "      <td>2300 Guelph St</td>\n",
       "      <td>Mount Pleasant School</td>\n",
       "      <td>http://eatlocal.org</td>\n",
       "      <td>Sunday</td>\n",
       "      <td>10am</td>\n",
       "      <td>2pm</td>\n",
       "      <td>Jun - Oct</td>\n",
       "      <td>25</td>\n",
       "      <td>produce,meat,seafood,cheese,organics,prepared ...</td>\n",
       "    </tr>\n",
       "    <tr>\n",
       "      <th>6</th>\n",
       "      <td>2016</td>\n",
       "      <td>Farmers Market</td>\n",
       "      <td>River District Farmers Market</td>\n",
       "      <td>River District</td>\n",
       "      <td>8683.0</td>\n",
       "      <td>NaN</td>\n",
       "      <td>Kerr</td>\n",
       "      <td>St</td>\n",
       "      <td>8683 Kerr St</td>\n",
       "      <td>Kerr Street, near the pier</td>\n",
       "      <td>http://www.riverdistrict.ca</td>\n",
       "      <td>Saturday</td>\n",
       "      <td>10am</td>\n",
       "      <td>3pm</td>\n",
       "      <td>May - Oct</td>\n",
       "      <td>77</td>\n",
       "      <td>produce,meat,seafood,cheese,organics,prepared ...</td>\n",
       "    </tr>\n",
       "    <tr>\n",
       "      <th>8</th>\n",
       "      <td>2015</td>\n",
       "      <td>Farmers Market</td>\n",
       "      <td>Kitsilano Farmers Market</td>\n",
       "      <td>Vancouver Farmers Markets</td>\n",
       "      <td>2690.0</td>\n",
       "      <td>NaN</td>\n",
       "      <td>Larch</td>\n",
       "      <td>St</td>\n",
       "      <td>2690 Larch St</td>\n",
       "      <td>Parking lot of Kits Community Centre</td>\n",
       "      <td>http://eatlocal.org</td>\n",
       "      <td>Sunday</td>\n",
       "      <td>10am</td>\n",
       "      <td>2pm</td>\n",
       "      <td>May - Oct</td>\n",
       "      <td>51</td>\n",
       "      <td>produce,meat,seafood,cheese,organics,prepared ...</td>\n",
       "    </tr>\n",
       "    <tr>\n",
       "      <th>9</th>\n",
       "      <td>2015</td>\n",
       "      <td>Farmers Market</td>\n",
       "      <td>Main St Station Farmers Market</td>\n",
       "      <td>Vancouver Farmers Markets</td>\n",
       "      <td>1100.0</td>\n",
       "      <td>NaN</td>\n",
       "      <td>Station</td>\n",
       "      <td>St</td>\n",
       "      <td>1100 Station St</td>\n",
       "      <td>Next to Thorton Park</td>\n",
       "      <td>http://eatlocal.org</td>\n",
       "      <td>Wednesday</td>\n",
       "      <td>2pm</td>\n",
       "      <td>6pm</td>\n",
       "      <td>Jun - Oct</td>\n",
       "      <td>28</td>\n",
       "      <td>produce,meat,seafood,cheese,organics,prepared ...</td>\n",
       "    </tr>\n",
       "    <tr>\n",
       "      <th>10</th>\n",
       "      <td>2015</td>\n",
       "      <td>Farmers Market</td>\n",
       "      <td>River District Farmers Market</td>\n",
       "      <td>River District</td>\n",
       "      <td>8683.0</td>\n",
       "      <td>NaN</td>\n",
       "      <td>Kerr</td>\n",
       "      <td>St</td>\n",
       "      <td>8683 Kerr St</td>\n",
       "      <td>Kerr Street, near the pier</td>\n",
       "      <td>http://www.riverdistrict.ca</td>\n",
       "      <td>Saturday</td>\n",
       "      <td>10am</td>\n",
       "      <td>3pm</td>\n",
       "      <td>May - Oct</td>\n",
       "      <td>77</td>\n",
       "      <td>produce,meat,seafood,cheese,organics,prepared ...</td>\n",
       "    </tr>\n",
       "    <tr>\n",
       "      <th>11</th>\n",
       "      <td>2015</td>\n",
       "      <td>Farmers Market</td>\n",
       "      <td>Winter Farmers Market</td>\n",
       "      <td>Vancouver Farmers Markets</td>\n",
       "      <td>4601.0</td>\n",
       "      <td>NaN</td>\n",
       "      <td>Ontario</td>\n",
       "      <td>St</td>\n",
       "      <td>4601 Ontario St</td>\n",
       "      <td>Parking lot of Nat Bailey Stadium</td>\n",
       "      <td>http://eatlocal.org</td>\n",
       "      <td>Saturday</td>\n",
       "      <td>10am</td>\n",
       "      <td>2pm</td>\n",
       "      <td>Nov - Apr</td>\n",
       "      <td>77</td>\n",
       "      <td>produce,meat,seafood,cheese,organics,prepared ...</td>\n",
       "    </tr>\n",
       "    <tr>\n",
       "      <th>19</th>\n",
       "      <td>2014</td>\n",
       "      <td>Farmers Market</td>\n",
       "      <td>West End Farmers Market</td>\n",
       "      <td>Vancouver Farmers Markets</td>\n",
       "      <td>1164.0</td>\n",
       "      <td>NaN</td>\n",
       "      <td>Comox</td>\n",
       "      <td>St</td>\n",
       "      <td>1164  Comox St, Vancouver BC</td>\n",
       "      <td>Adjacent to 1100 Block of Comox Street</td>\n",
       "      <td>http://eatlocal.org</td>\n",
       "      <td>Saturday</td>\n",
       "      <td>9am</td>\n",
       "      <td>2pm</td>\n",
       "      <td>June-October</td>\n",
       "      <td>35</td>\n",
       "      <td>produce,meat,seafood,cheese,organics,prepared ...</td>\n",
       "    </tr>\n",
       "    <tr>\n",
       "      <th>22</th>\n",
       "      <td>2014</td>\n",
       "      <td>Community Food Market</td>\n",
       "      <td>Westside Community Food Market</td>\n",
       "      <td>Kitsilano Neighbourhood House &amp; Society Promot...</td>\n",
       "      <td>2403.0</td>\n",
       "      <td>W</td>\n",
       "      <td>8th</td>\n",
       "      <td>Av</td>\n",
       "      <td>2403 W 8th Av, Vancouver BC</td>\n",
       "      <td>NaN</td>\n",
       "      <td>http://www.spec.bc.ca/westside-community-food-...</td>\n",
       "      <td>Thursday</td>\n",
       "      <td>3pm</td>\n",
       "      <td>7pm</td>\n",
       "      <td>July-September</td>\n",
       "      <td>5 to 10</td>\n",
       "      <td>produce,home made baked goods and jams,locally...</td>\n",
       "    </tr>\n",
       "    <tr>\n",
       "      <th>23</th>\n",
       "      <td>2014</td>\n",
       "      <td>Community Food Market</td>\n",
       "      <td>Brant Villa</td>\n",
       "      <td>Cedar Cottage Food Network</td>\n",
       "      <td>2290.0</td>\n",
       "      <td>E</td>\n",
       "      <td>25th</td>\n",
       "      <td>Av</td>\n",
       "      <td>2290 E 2th Av, Vancouver BC</td>\n",
       "      <td>Victoria at 25th Ave</td>\n",
       "      <td>http://cedarcottagefoodnetwork.wordpress.com/</td>\n",
       "      <td>1st and 3rd Saturday of month</td>\n",
       "      <td>10:30am</td>\n",
       "      <td>12:30pm</td>\n",
       "      <td>Ongoing</td>\n",
       "      <td>2-3 Tables</td>\n",
       "      <td>produce</td>\n",
       "    </tr>\n",
       "    <tr>\n",
       "      <th>24</th>\n",
       "      <td>2014</td>\n",
       "      <td>Community Food Market</td>\n",
       "      <td>Cedar Cottage Neighbourhood House</td>\n",
       "      <td>Cedar Cottage Food Network</td>\n",
       "      <td>4065.0</td>\n",
       "      <td>NaN</td>\n",
       "      <td>Victoria</td>\n",
       "      <td>Dr</td>\n",
       "      <td>4065 Victoria Dr, Vancouver BC</td>\n",
       "      <td>NaN</td>\n",
       "      <td>http://cedarcottagefoodnetwork.wordpress.com/</td>\n",
       "      <td>2nd and 4th Saturday</td>\n",
       "      <td>10am</td>\n",
       "      <td>12pm</td>\n",
       "      <td>Ongoing</td>\n",
       "      <td>2-3 Tables</td>\n",
       "      <td>produce</td>\n",
       "    </tr>\n",
       "    <tr>\n",
       "      <th>25</th>\n",
       "      <td>2014</td>\n",
       "      <td>Community Food Market</td>\n",
       "      <td>Culloden Court</td>\n",
       "      <td>Cedar Cottage Food Network</td>\n",
       "      <td>1375.0</td>\n",
       "      <td>E</td>\n",
       "      <td>47th</td>\n",
       "      <td>Av</td>\n",
       "      <td>1375 E 47th Av, Vancouver BC</td>\n",
       "      <td>NaN</td>\n",
       "      <td>http://cedarcottagefoodnetwork.wordpress.com/</td>\n",
       "      <td>3rd Saturday of month</td>\n",
       "      <td>2pm</td>\n",
       "      <td>4pm</td>\n",
       "      <td>Ongoing</td>\n",
       "      <td>2-3 Tables</td>\n",
       "      <td>produce,tasting kitchen</td>\n",
       "    </tr>\n",
       "    <tr>\n",
       "      <th>27</th>\n",
       "      <td>2013</td>\n",
       "      <td>Community Food Market</td>\n",
       "      <td>Orchard Park Mobile Market and Tasting Kitchen</td>\n",
       "      <td>Cedar Cottage Food Network</td>\n",
       "      <td>5988.0</td>\n",
       "      <td>NaN</td>\n",
       "      <td>Nanaimo</td>\n",
       "      <td>St</td>\n",
       "      <td>5988  Nanaimo St, Vancouver BC</td>\n",
       "      <td>NaN</td>\n",
       "      <td>http://cedarcottagefoodnetwork.wordpress.com/</td>\n",
       "      <td>2nd Saturday of month</td>\n",
       "      <td>2pm</td>\n",
       "      <td>4pm</td>\n",
       "      <td>May-December</td>\n",
       "      <td>1</td>\n",
       "      <td>produce,tasting kitchen</td>\n",
       "    </tr>\n",
       "    <tr>\n",
       "      <th>29</th>\n",
       "      <td>2013</td>\n",
       "      <td>Community Food Market</td>\n",
       "      <td>Westside Community Food Market</td>\n",
       "      <td>Kitsilano Neighbourhood House &amp; Society Promot...</td>\n",
       "      <td>2403.0</td>\n",
       "      <td>W</td>\n",
       "      <td>8th</td>\n",
       "      <td>Av</td>\n",
       "      <td>2403 W 8th Av, Vancouver BC</td>\n",
       "      <td>NaN</td>\n",
       "      <td>http://www.spec.bc.ca/westside-community-food-...</td>\n",
       "      <td>Thursday</td>\n",
       "      <td>4pm</td>\n",
       "      <td>7pm</td>\n",
       "      <td>July-September</td>\n",
       "      <td>5 to 10</td>\n",
       "      <td>produce,home made baked goods and jams,locally...</td>\n",
       "    </tr>\n",
       "    <tr>\n",
       "      <th>30</th>\n",
       "      <td>2013</td>\n",
       "      <td>Farmers Market</td>\n",
       "      <td>Kerrisdale Village Farmers Market</td>\n",
       "      <td>Vancouver Farmers Markets</td>\n",
       "      <td>5300.0</td>\n",
       "      <td>NaN</td>\n",
       "      <td>East</td>\n",
       "      <td>Boulevard</td>\n",
       "      <td>5300  East Boulevard, Vancouver BC</td>\n",
       "      <td>5300 Block of East Boulevard</td>\n",
       "      <td>http://eatlocal.org</td>\n",
       "      <td>Saturday</td>\n",
       "      <td>10am</td>\n",
       "      <td>2pm</td>\n",
       "      <td>June-October</td>\n",
       "      <td>30</td>\n",
       "      <td>produce,meat,seafood,cheese,organics,prepared ...</td>\n",
       "    </tr>\n",
       "    <tr>\n",
       "      <th>32</th>\n",
       "      <td>2013</td>\n",
       "      <td>Community Food Market</td>\n",
       "      <td>South Granville Senior Centre (SGSC) Market</td>\n",
       "      <td>Westside Mobile Food Market</td>\n",
       "      <td>1420.0</td>\n",
       "      <td>W</td>\n",
       "      <td>12th</td>\n",
       "      <td>Av</td>\n",
       "      <td>1420 W 12th Av, Vancouver BC</td>\n",
       "      <td>1420 &amp; 1440 W 12th Ave, at Hemlock;</td>\n",
       "      <td>http://www.plantednetwork.ca/project.aspx?asse...</td>\n",
       "      <td>Thursday</td>\n",
       "      <td>11am</td>\n",
       "      <td>1pm</td>\n",
       "      <td>July-September</td>\n",
       "      <td>1</td>\n",
       "      <td>produce</td>\n",
       "    </tr>\n",
       "    <tr>\n",
       "      <th>35</th>\n",
       "      <td>2016</td>\n",
       "      <td>Farmers Market</td>\n",
       "      <td>Winter Farmers Market</td>\n",
       "      <td>Vancouver Farmers Markets</td>\n",
       "      <td>4601.0</td>\n",
       "      <td>NaN</td>\n",
       "      <td>Ontario</td>\n",
       "      <td>St</td>\n",
       "      <td>4601 Ontario St</td>\n",
       "      <td>Parking lot of Nat Bailey Stadium</td>\n",
       "      <td>http://eatlocal.org</td>\n",
       "      <td>Saturday</td>\n",
       "      <td>10am</td>\n",
       "      <td>2pm</td>\n",
       "      <td>Nov - Apr</td>\n",
       "      <td>77</td>\n",
       "      <td>produce,meat,seafood,cheese,organics,prepared ...</td>\n",
       "    </tr>\n",
       "    <tr>\n",
       "      <th>37</th>\n",
       "      <td>2015</td>\n",
       "      <td>Farmers Market</td>\n",
       "      <td>Hastings Park</td>\n",
       "      <td>Vancouver Farmers Markets</td>\n",
       "      <td>NaN</td>\n",
       "      <td>NaN</td>\n",
       "      <td>Renfrew</td>\n",
       "      <td>St</td>\n",
       "      <td>Renfrew St</td>\n",
       "      <td>Hastings Skatepark</td>\n",
       "      <td>http://eatlocal.org</td>\n",
       "      <td>Sunday</td>\n",
       "      <td>10am</td>\n",
       "      <td>2pm</td>\n",
       "      <td>Mar- Apr</td>\n",
       "      <td>33</td>\n",
       "      <td>produce,meat,seafood,cheese,organics,prepared ...</td>\n",
       "    </tr>\n",
       "    <tr>\n",
       "      <th>38</th>\n",
       "      <td>2015</td>\n",
       "      <td>Farmers Market</td>\n",
       "      <td>Holiday Market</td>\n",
       "      <td>Vancouver Farmers Markets</td>\n",
       "      <td>3250.0</td>\n",
       "      <td>NaN</td>\n",
       "      <td>Commercial</td>\n",
       "      <td>Dr</td>\n",
       "      <td>3250 Commercial Dr</td>\n",
       "      <td>NaN</td>\n",
       "      <td>http://eatlocal.org</td>\n",
       "      <td>Saturday</td>\n",
       "      <td>10am</td>\n",
       "      <td>4pm</td>\n",
       "      <td>20151212</td>\n",
       "      <td>70</td>\n",
       "      <td>produce,meat,seafood,cheese,organics,prepared ...</td>\n",
       "    </tr>\n",
       "    <tr>\n",
       "      <th>39</th>\n",
       "      <td>2015</td>\n",
       "      <td>Farmers Market</td>\n",
       "      <td>Trout Lake Farmers Market</td>\n",
       "      <td>Vancouver Farmers Markets</td>\n",
       "      <td>NaN</td>\n",
       "      <td>NaN</td>\n",
       "      <td>NaN</td>\n",
       "      <td>NaN</td>\n",
       "      <td>NaN</td>\n",
       "      <td>Lakewood Dr &amp; E 13th Ave</td>\n",
       "      <td>http://eatlocal.org</td>\n",
       "      <td>Saturday</td>\n",
       "      <td>9am</td>\n",
       "      <td>2pm</td>\n",
       "      <td>May - Oct</td>\n",
       "      <td>61</td>\n",
       "      <td>produce,meat,seafood,cheese,organics,prepared ...</td>\n",
       "    </tr>\n",
       "    <tr>\n",
       "      <th>41</th>\n",
       "      <td>2015</td>\n",
       "      <td>Community Food Market</td>\n",
       "      <td>St Augustine’s Anglican Church</td>\n",
       "      <td>Green Zebra Urban Market</td>\n",
       "      <td>8680.0</td>\n",
       "      <td>NaN</td>\n",
       "      <td>Hudson</td>\n",
       "      <td>Street</td>\n",
       "      <td>NaN</td>\n",
       "      <td>NaN</td>\n",
       "      <td>http://www.greenzebramarkets.com/</td>\n",
       "      <td>Wednesday</td>\n",
       "      <td>3:00pm</td>\n",
       "      <td>7:00pm</td>\n",
       "      <td>NaN</td>\n",
       "      <td>2-3 Tables</td>\n",
       "      <td>produce</td>\n",
       "    </tr>\n",
       "    <tr>\n",
       "      <th>42</th>\n",
       "      <td>2015</td>\n",
       "      <td>Community Food Market</td>\n",
       "      <td>Kensington Community Centre</td>\n",
       "      <td>Cedar Cottage Food Network</td>\n",
       "      <td>NaN</td>\n",
       "      <td>NaN</td>\n",
       "      <td>NaN</td>\n",
       "      <td>NaN</td>\n",
       "      <td>5175 Dumfries Street</td>\n",
       "      <td>NaN</td>\n",
       "      <td>NaN</td>\n",
       "      <td>NaN</td>\n",
       "      <td>NaN</td>\n",
       "      <td>NaN</td>\n",
       "      <td>NaN</td>\n",
       "      <td>2-3 Tables</td>\n",
       "      <td>produce,tasting kitchen</td>\n",
       "    </tr>\n",
       "    <tr>\n",
       "      <th>45</th>\n",
       "      <td>2014</td>\n",
       "      <td>Farmers Market</td>\n",
       "      <td>Main St Station Farmers Market</td>\n",
       "      <td>Vancouver Farmers Markets</td>\n",
       "      <td>1100.0</td>\n",
       "      <td>NaN</td>\n",
       "      <td>Station</td>\n",
       "      <td>St</td>\n",
       "      <td>1100  Station St, Vancouver BC</td>\n",
       "      <td>Next to Thorton Park</td>\n",
       "      <td>http://eatlocal.org</td>\n",
       "      <td>Wednesday</td>\n",
       "      <td>3pm</td>\n",
       "      <td>7pm</td>\n",
       "      <td>June-October</td>\n",
       "      <td>30</td>\n",
       "      <td>produce,meat,seafood,cheese,organics,prepared ...</td>\n",
       "    </tr>\n",
       "    <tr>\n",
       "      <th>46</th>\n",
       "      <td>2014</td>\n",
       "      <td>Farmers Market</td>\n",
       "      <td>Trout Lake Farmers Market</td>\n",
       "      <td>Vancouver Farmers Markets</td>\n",
       "      <td>3092.0</td>\n",
       "      <td>NaN</td>\n",
       "      <td>Garden</td>\n",
       "      <td>Drive</td>\n",
       "      <td>3092  Garden Drive, Vancouver BC</td>\n",
       "      <td>North Parking Lot of John Hendry Park</td>\n",
       "      <td>http://eatlocal.org</td>\n",
       "      <td>Saturday</td>\n",
       "      <td>9am</td>\n",
       "      <td>2pm</td>\n",
       "      <td>May-October</td>\n",
       "      <td>57</td>\n",
       "      <td>produce,meat,seafood,cheese,organics,prepared ...</td>\n",
       "    </tr>\n",
       "    <tr>\n",
       "      <th>49</th>\n",
       "      <td>2014</td>\n",
       "      <td>Community Food Market</td>\n",
       "      <td>Orchard Park</td>\n",
       "      <td>Cedar Cottage Food Network</td>\n",
       "      <td>5988.0</td>\n",
       "      <td>NaN</td>\n",
       "      <td>Nanaimo</td>\n",
       "      <td>St</td>\n",
       "      <td>5988  Nanaimo St, Vancouver BC</td>\n",
       "      <td>NaN</td>\n",
       "      <td>http://cedarcottagefoodnetwork.wordpress.com/</td>\n",
       "      <td>2nd Saturday of month</td>\n",
       "      <td>2pm</td>\n",
       "      <td>4pm</td>\n",
       "      <td>Ongoing</td>\n",
       "      <td>2-3 Tables</td>\n",
       "      <td>produce,tasting kitchen</td>\n",
       "    </tr>\n",
       "    <tr>\n",
       "      <th>50</th>\n",
       "      <td>2014</td>\n",
       "      <td>Community Food Market</td>\n",
       "      <td>Marpole Neighbourhood House</td>\n",
       "      <td>Westside Mobile Food Market</td>\n",
       "      <td>1305.0</td>\n",
       "      <td>W</td>\n",
       "      <td>70th</td>\n",
       "      <td>Av</td>\n",
       "      <td>8680 Hudson Street</td>\n",
       "      <td>St Augustine's Church</td>\n",
       "      <td>http://www.plantednetwork.ca/project.aspx?asse...</td>\n",
       "      <td>Thursday</td>\n",
       "      <td>2pm</td>\n",
       "      <td>4pm</td>\n",
       "      <td>July-September</td>\n",
       "      <td>1</td>\n",
       "      <td>produce</td>\n",
       "    </tr>\n",
       "    <tr>\n",
       "      <th>54</th>\n",
       "      <td>2013</td>\n",
       "      <td>Community Food Market</td>\n",
       "      <td>Culloden Court Mobile Market and Tasting Kitchen</td>\n",
       "      <td>Cedar Cottage Food Network</td>\n",
       "      <td>1375.0</td>\n",
       "      <td>E</td>\n",
       "      <td>47th</td>\n",
       "      <td>Av</td>\n",
       "      <td>1375 E 47th Av, Vancouver BC</td>\n",
       "      <td>NaN</td>\n",
       "      <td>http://cedarcottagefoodnetwork.wordpress.com/</td>\n",
       "      <td>3rd Saturday of month</td>\n",
       "      <td>2pm</td>\n",
       "      <td>4pm</td>\n",
       "      <td>May-December</td>\n",
       "      <td>1</td>\n",
       "      <td>produce,tasting kitchen</td>\n",
       "    </tr>\n",
       "    <tr>\n",
       "      <th>56</th>\n",
       "      <td>2013</td>\n",
       "      <td>Farmers Market</td>\n",
       "      <td>River District Farmers Market</td>\n",
       "      <td>River District Vancouver</td>\n",
       "      <td>8683.0</td>\n",
       "      <td>NaN</td>\n",
       "      <td>Kerr</td>\n",
       "      <td>St</td>\n",
       "      <td>8683  Kerr St, Vancouver BC</td>\n",
       "      <td>Kerr Street, near the pier</td>\n",
       "      <td>http://www.riverdistrict.ca</td>\n",
       "      <td>Saturday</td>\n",
       "      <td>10am</td>\n",
       "      <td>3pm</td>\n",
       "      <td>May-October</td>\n",
       "      <td>NaN</td>\n",
       "      <td>produce,prepared foods,crafts</td>\n",
       "    </tr>\n",
       "    <tr>\n",
       "      <th>58</th>\n",
       "      <td>2016</td>\n",
       "      <td>Farmers Market</td>\n",
       "      <td>Kitsilano Farmers Market</td>\n",
       "      <td>Vancouver Farmers Markets</td>\n",
       "      <td>2690.0</td>\n",
       "      <td>NaN</td>\n",
       "      <td>Larch</td>\n",
       "      <td>St</td>\n",
       "      <td>2690 Larch St</td>\n",
       "      <td>Parking lot of Kits Community Centre</td>\n",
       "      <td>http://eatlocal.org</td>\n",
       "      <td>Sunday</td>\n",
       "      <td>10am</td>\n",
       "      <td>2pm</td>\n",
       "      <td>May - Oct</td>\n",
       "      <td>51</td>\n",
       "      <td>produce,meat,seafood,cheese,organics,prepared ...</td>\n",
       "    </tr>\n",
       "    <tr>\n",
       "      <th>59</th>\n",
       "      <td>2016</td>\n",
       "      <td>Farmers Market</td>\n",
       "      <td>Main St Station Farmers Market</td>\n",
       "      <td>Vancouver Farmers Markets</td>\n",
       "      <td>1100.0</td>\n",
       "      <td>NaN</td>\n",
       "      <td>Station</td>\n",
       "      <td>St</td>\n",
       "      <td>1100 Station St</td>\n",
       "      <td>Next to Thorton Park</td>\n",
       "      <td>http://eatlocal.org</td>\n",
       "      <td>Wednesday</td>\n",
       "      <td>2pm</td>\n",
       "      <td>6pm</td>\n",
       "      <td>Jun - Oct</td>\n",
       "      <td>28</td>\n",
       "      <td>produce,meat,seafood,cheese,organics,prepared ...</td>\n",
       "    </tr>\n",
       "    <tr>\n",
       "      <th>60</th>\n",
       "      <td>2016</td>\n",
       "      <td>Farmers Market</td>\n",
       "      <td>Trout Lake Farmers Market</td>\n",
       "      <td>Vancouver Farmers Markets</td>\n",
       "      <td>NaN</td>\n",
       "      <td>NaN</td>\n",
       "      <td>NaN</td>\n",
       "      <td>NaN</td>\n",
       "      <td>NaN</td>\n",
       "      <td>Lakewood Dr &amp; E 13th Ave</td>\n",
       "      <td>http://eatlocal.org</td>\n",
       "      <td>Saturday</td>\n",
       "      <td>9am</td>\n",
       "      <td>2pm</td>\n",
       "      <td>May - Oct</td>\n",
       "      <td>61</td>\n",
       "      <td>produce,meat,seafood,cheese,organics,prepared ...</td>\n",
       "    </tr>\n",
       "    <tr>\n",
       "      <th>61</th>\n",
       "      <td>2016</td>\n",
       "      <td>Farmers Market</td>\n",
       "      <td>QE Theatre Farmers Market</td>\n",
       "      <td>Vancouver Farmers Markets</td>\n",
       "      <td>NaN</td>\n",
       "      <td>NaN</td>\n",
       "      <td>NaN</td>\n",
       "      <td>NaN</td>\n",
       "      <td>NaN</td>\n",
       "      <td>NaN</td>\n",
       "      <td>http://eatlocal.org</td>\n",
       "      <td>Thursday</td>\n",
       "      <td>2pm</td>\n",
       "      <td>6pm</td>\n",
       "      <td>May - Oct</td>\n",
       "      <td>33</td>\n",
       "      <td>produce,meat,seafood,cheese,organics,prepared ...</td>\n",
       "    </tr>\n",
       "    <tr>\n",
       "      <th>62</th>\n",
       "      <td>2016</td>\n",
       "      <td>Farmers Market</td>\n",
       "      <td>West End Farmers Market</td>\n",
       "      <td>Vancouver Farmers Markets</td>\n",
       "      <td>1100.0</td>\n",
       "      <td>NaN</td>\n",
       "      <td>Comox</td>\n",
       "      <td>St</td>\n",
       "      <td>1100 Comox St</td>\n",
       "      <td>Adjacent to 1100 Block of Comox Street</td>\n",
       "      <td>http://eatlocal.org</td>\n",
       "      <td>Saturday</td>\n",
       "      <td>9am</td>\n",
       "      <td>2pm</td>\n",
       "      <td>May - Oct</td>\n",
       "      <td>33</td>\n",
       "      <td>produce,meat,seafood,cheese,organics,prepared ...</td>\n",
       "    </tr>\n",
       "    <tr>\n",
       "      <th>64</th>\n",
       "      <td>2015</td>\n",
       "      <td>Farmers Market</td>\n",
       "      <td>Kerrisdale Village Farmers Market</td>\n",
       "      <td>Vancouver Farmers Markets</td>\n",
       "      <td>5500.0</td>\n",
       "      <td>E</td>\n",
       "      <td>East Blvd</td>\n",
       "      <td>Blvd</td>\n",
       "      <td>5500 East Blvd</td>\n",
       "      <td>5500 Block of East Blvd</td>\n",
       "      <td>http://eatlocal.org</td>\n",
       "      <td>Saturday</td>\n",
       "      <td>10am</td>\n",
       "      <td>2pm</td>\n",
       "      <td>Jun - Oct</td>\n",
       "      <td>16</td>\n",
       "      <td>produce,meat,seafood,cheese,organics,prepared ...</td>\n",
       "    </tr>\n",
       "    <tr>\n",
       "      <th>65</th>\n",
       "      <td>2015</td>\n",
       "      <td>Farmers Market</td>\n",
       "      <td>Mount Pleasant Market</td>\n",
       "      <td>Vancouver Farmers Markets</td>\n",
       "      <td>2300.0</td>\n",
       "      <td>NaN</td>\n",
       "      <td>Guelph</td>\n",
       "      <td>St</td>\n",
       "      <td>2300 Guelph St</td>\n",
       "      <td>Mount Pleasant School</td>\n",
       "      <td>http://eatlocal.org</td>\n",
       "      <td>Sunday</td>\n",
       "      <td>10am</td>\n",
       "      <td>2pm</td>\n",
       "      <td>Jun - Oct</td>\n",
       "      <td>25</td>\n",
       "      <td>produce,meat,seafood,cheese,organics,prepared ...</td>\n",
       "    </tr>\n",
       "    <tr>\n",
       "      <th>67</th>\n",
       "      <td>2015</td>\n",
       "      <td>Farmers Market</td>\n",
       "      <td>Yaletown Farmers Market</td>\n",
       "      <td>Vancouver Farmers Markets</td>\n",
       "      <td>1100.0</td>\n",
       "      <td>NaN</td>\n",
       "      <td>Mainland</td>\n",
       "      <td>St</td>\n",
       "      <td>1100 Mainland St</td>\n",
       "      <td>Between Davie and Helmecken</td>\n",
       "      <td>http://eatlocal.org</td>\n",
       "      <td>Thursday</td>\n",
       "      <td>2pm</td>\n",
       "      <td>6pm</td>\n",
       "      <td>May - Oct</td>\n",
       "      <td>33</td>\n",
       "      <td>produce,meat,seafood,cheese,organics,prepared ...</td>\n",
       "    </tr>\n",
       "    <tr>\n",
       "      <th>68</th>\n",
       "      <td>2015</td>\n",
       "      <td>Farmers Market</td>\n",
       "      <td>West End Farmers Market</td>\n",
       "      <td>Vancouver Farmers Markets</td>\n",
       "      <td>1100.0</td>\n",
       "      <td>NaN</td>\n",
       "      <td>Comox</td>\n",
       "      <td>St</td>\n",
       "      <td>1100 Comox St</td>\n",
       "      <td>Adjacent to 1100 Block of Comox Street</td>\n",
       "      <td>http://eatlocal.org</td>\n",
       "      <td>Saturday</td>\n",
       "      <td>9am</td>\n",
       "      <td>2pm</td>\n",
       "      <td>May - Oct</td>\n",
       "      <td>33</td>\n",
       "      <td>produce,meat,seafood,cheese,organics,prepared ...</td>\n",
       "    </tr>\n",
       "    <tr>\n",
       "      <th>72</th>\n",
       "      <td>2015</td>\n",
       "      <td>Community Food Market</td>\n",
       "      <td>Brant Villa</td>\n",
       "      <td>Cedar Cottage Food Network</td>\n",
       "      <td>2290.0</td>\n",
       "      <td>E</td>\n",
       "      <td>25th</td>\n",
       "      <td>Av</td>\n",
       "      <td>2290 E 2th Av, Vancouver BC</td>\n",
       "      <td>Victoria at 25th Ave</td>\n",
       "      <td>http://cedarcottagefoodnetwork.wordpress.com/</td>\n",
       "      <td>1st and 3rd Saturday of month</td>\n",
       "      <td>10:30am</td>\n",
       "      <td>12:30pm</td>\n",
       "      <td>Ongoing</td>\n",
       "      <td>2-3 Tables</td>\n",
       "      <td>produce</td>\n",
       "    </tr>\n",
       "    <tr>\n",
       "      <th>75</th>\n",
       "      <td>2014</td>\n",
       "      <td>Farmers Market</td>\n",
       "      <td>Kerrisdale Village Farmers Market</td>\n",
       "      <td>Vancouver Farmers Markets</td>\n",
       "      <td>5300.0</td>\n",
       "      <td>NaN</td>\n",
       "      <td>East</td>\n",
       "      <td>Boulevard</td>\n",
       "      <td>5300  East Boulevard, Vancouver BC</td>\n",
       "      <td>East Boulevard 5300  East Boulevard, Vancouver...</td>\n",
       "      <td>http://eatlocal.org</td>\n",
       "      <td>Saturday</td>\n",
       "      <td>10am</td>\n",
       "      <td>2pm</td>\n",
       "      <td>June-October</td>\n",
       "      <td>30</td>\n",
       "      <td>produce,meat,seafood,cheese,organics,prepared ...</td>\n",
       "    </tr>\n",
       "    <tr>\n",
       "      <th>76</th>\n",
       "      <td>2014</td>\n",
       "      <td>Farmers Market</td>\n",
       "      <td>Kitsilano Farmers Market</td>\n",
       "      <td>Vancouver Farmers Markets</td>\n",
       "      <td>2690.0</td>\n",
       "      <td>NaN</td>\n",
       "      <td>Larch</td>\n",
       "      <td>St</td>\n",
       "      <td>2690  Larch St, Vancouver BC</td>\n",
       "      <td>Parking lot of Kits Community Centre</td>\n",
       "      <td>http://eatlocal.org</td>\n",
       "      <td>Sunday</td>\n",
       "      <td>10am</td>\n",
       "      <td>2pm</td>\n",
       "      <td>May-October</td>\n",
       "      <td>53</td>\n",
       "      <td>produce,meat,seafood,cheese,organics,prepared ...</td>\n",
       "    </tr>\n",
       "    <tr>\n",
       "      <th>77</th>\n",
       "      <td>2014</td>\n",
       "      <td>Farmers Market</td>\n",
       "      <td>River District Farmers Market</td>\n",
       "      <td>River District Vancouver</td>\n",
       "      <td>8683.0</td>\n",
       "      <td>NaN</td>\n",
       "      <td>Kerr</td>\n",
       "      <td>St</td>\n",
       "      <td>8683  Kerr St, Vancouver BC</td>\n",
       "      <td>Kerr Street, near the pier</td>\n",
       "      <td>http://www.riverdistrict.ca</td>\n",
       "      <td>Saturday</td>\n",
       "      <td>10am</td>\n",
       "      <td>3pm</td>\n",
       "      <td>May-October</td>\n",
       "      <td>NaN</td>\n",
       "      <td>produce,prepared foods,crafts</td>\n",
       "    </tr>\n",
       "    <tr>\n",
       "      <th>78</th>\n",
       "      <td>2014</td>\n",
       "      <td>Community Food Market</td>\n",
       "      <td>South Granville Senior Centre</td>\n",
       "      <td>Westside Mobile Food Market</td>\n",
       "      <td>1420.0</td>\n",
       "      <td>W</td>\n",
       "      <td>12th</td>\n",
       "      <td>Av</td>\n",
       "      <td>1420 W 12th Av, Vancouver BC</td>\n",
       "      <td>1420 &amp; 1440 W 12th Ave, at Hemlock;</td>\n",
       "      <td>http://www.plantednetwork.ca/project.aspx?asse...</td>\n",
       "      <td>Thursday</td>\n",
       "      <td>11am</td>\n",
       "      <td>1pm</td>\n",
       "      <td>July-September</td>\n",
       "      <td>1</td>\n",
       "      <td>produce</td>\n",
       "    </tr>\n",
       "    <tr>\n",
       "      <th>82</th>\n",
       "      <td>2013</td>\n",
       "      <td>Community Food Market</td>\n",
       "      <td>Brant Villa Mobile Market</td>\n",
       "      <td>Cedar Cottage Food Network</td>\n",
       "      <td>2290.0</td>\n",
       "      <td>E</td>\n",
       "      <td>25th</td>\n",
       "      <td>Av</td>\n",
       "      <td>2290 E 25th Av, Vancouver BC</td>\n",
       "      <td>NaN</td>\n",
       "      <td>http://cedarcottagefoodnetwork.wordpress.com/</td>\n",
       "      <td>3rd Saturday of month</td>\n",
       "      <td>10am</td>\n",
       "      <td>12pm</td>\n",
       "      <td>May-December</td>\n",
       "      <td>1</td>\n",
       "      <td>produce</td>\n",
       "    </tr>\n",
       "    <tr>\n",
       "      <th>83</th>\n",
       "      <td>2013</td>\n",
       "      <td>Farmers Market</td>\n",
       "      <td>Kitsilano Farmers Market</td>\n",
       "      <td>Vancouver Farmers Markets</td>\n",
       "      <td>2690.0</td>\n",
       "      <td>NaN</td>\n",
       "      <td>Larch</td>\n",
       "      <td>St</td>\n",
       "      <td>2690  Larch St, Vancouver BC</td>\n",
       "      <td>Parking lot of Kits Community Centre</td>\n",
       "      <td>http://eatlocal.org</td>\n",
       "      <td>Sunday</td>\n",
       "      <td>10am</td>\n",
       "      <td>2pm</td>\n",
       "      <td>May-October</td>\n",
       "      <td>53</td>\n",
       "      <td>produce,meat,seafood,cheese,organics,prepared ...</td>\n",
       "    </tr>\n",
       "    <tr>\n",
       "      <th>84</th>\n",
       "      <td>2013</td>\n",
       "      <td>Farmers Market</td>\n",
       "      <td>Main St Station Farmers Market</td>\n",
       "      <td>Vancouver Farmers Markets</td>\n",
       "      <td>1100.0</td>\n",
       "      <td>NaN</td>\n",
       "      <td>Station</td>\n",
       "      <td>St</td>\n",
       "      <td>1100  Station St, Vancouver BC</td>\n",
       "      <td>Next to Thorton Park</td>\n",
       "      <td>http://eatlocal.org</td>\n",
       "      <td>Wednesday</td>\n",
       "      <td>3pm</td>\n",
       "      <td>7pm</td>\n",
       "      <td>June-October</td>\n",
       "      <td>30</td>\n",
       "      <td>produce,meat,seafood,cheese,organics,prepared ...</td>\n",
       "    </tr>\n",
       "    <tr>\n",
       "      <th>85</th>\n",
       "      <td>2013</td>\n",
       "      <td>Farmers Market</td>\n",
       "      <td>Trout Lake Farmers Market</td>\n",
       "      <td>Vancouver Farmers Markets</td>\n",
       "      <td>3092.0</td>\n",
       "      <td>NaN</td>\n",
       "      <td>Garden</td>\n",
       "      <td>Drive</td>\n",
       "      <td>3092  Garden Drive, Vancouver BC</td>\n",
       "      <td>North Parking Lot of John Hendry Park</td>\n",
       "      <td>http://eatlocal.org</td>\n",
       "      <td>Saturday</td>\n",
       "      <td>9am</td>\n",
       "      <td>2pm</td>\n",
       "      <td>May-October</td>\n",
       "      <td>57</td>\n",
       "      <td>produce,meat,seafood,cheese,organics,prepared ...</td>\n",
       "    </tr>\n",
       "    <tr>\n",
       "      <th>86</th>\n",
       "      <td>2013</td>\n",
       "      <td>Farmers Market</td>\n",
       "      <td>West End Farmers Market</td>\n",
       "      <td>Vancouver Farmers Markets</td>\n",
       "      <td>1164.0</td>\n",
       "      <td>NaN</td>\n",
       "      <td>Comox</td>\n",
       "      <td>St</td>\n",
       "      <td>1164  Comox St, Vancouver BC</td>\n",
       "      <td>Adjacent to 1100 Block of Comox Street</td>\n",
       "      <td>http://eatlocal.org</td>\n",
       "      <td>Saturday</td>\n",
       "      <td>9am</td>\n",
       "      <td>2pm</td>\n",
       "      <td>June-October</td>\n",
       "      <td>35</td>\n",
       "      <td>produce,meat,seafood,cheese,organics,prepared ...</td>\n",
       "    </tr>\n",
       "    <tr>\n",
       "      <th>90</th>\n",
       "      <td>2013</td>\n",
       "      <td>Community Food Market</td>\n",
       "      <td>Marpole Place Neighbourhood House Market</td>\n",
       "      <td>Westside Mobile Food Market</td>\n",
       "      <td>1305.0</td>\n",
       "      <td>W</td>\n",
       "      <td>70th</td>\n",
       "      <td>Av</td>\n",
       "      <td>1305 W 70th Av, Vancouver BC</td>\n",
       "      <td>The Old Firehall at Hudson St.</td>\n",
       "      <td>http://www.plantednetwork.ca/project.aspx?asse...</td>\n",
       "      <td>Thursday</td>\n",
       "      <td>2pm</td>\n",
       "      <td>4pm</td>\n",
       "      <td>July-September</td>\n",
       "      <td>1</td>\n",
       "      <td>produce</td>\n",
       "    </tr>\n",
       "  </tbody>\n",
       "</table>\n",
       "</div>"
      ],
      "text/plain": [
       "    year             markettype  \\\n",
       "4   2016         Farmers Market   \n",
       "5   2016         Farmers Market   \n",
       "6   2016         Farmers Market   \n",
       "8   2015         Farmers Market   \n",
       "9   2015         Farmers Market   \n",
       "10  2015         Farmers Market   \n",
       "11  2015         Farmers Market   \n",
       "19  2014         Farmers Market   \n",
       "22  2014  Community Food Market   \n",
       "23  2014  Community Food Market   \n",
       "24  2014  Community Food Market   \n",
       "25  2014  Community Food Market   \n",
       "27  2013  Community Food Market   \n",
       "29  2013  Community Food Market   \n",
       "30  2013         Farmers Market   \n",
       "32  2013  Community Food Market   \n",
       "35  2016         Farmers Market   \n",
       "37  2015         Farmers Market   \n",
       "38  2015         Farmers Market   \n",
       "39  2015         Farmers Market   \n",
       "41  2015  Community Food Market   \n",
       "42  2015  Community Food Market   \n",
       "45  2014         Farmers Market   \n",
       "46  2014         Farmers Market   \n",
       "49  2014  Community Food Market   \n",
       "50  2014  Community Food Market   \n",
       "54  2013  Community Food Market   \n",
       "56  2013         Farmers Market   \n",
       "58  2016         Farmers Market   \n",
       "59  2016         Farmers Market   \n",
       "60  2016         Farmers Market   \n",
       "61  2016         Farmers Market   \n",
       "62  2016         Farmers Market   \n",
       "64  2015         Farmers Market   \n",
       "65  2015         Farmers Market   \n",
       "67  2015         Farmers Market   \n",
       "68  2015         Farmers Market   \n",
       "72  2015  Community Food Market   \n",
       "75  2014         Farmers Market   \n",
       "76  2014         Farmers Market   \n",
       "77  2014         Farmers Market   \n",
       "78  2014  Community Food Market   \n",
       "82  2013  Community Food Market   \n",
       "83  2013         Farmers Market   \n",
       "84  2013         Farmers Market   \n",
       "85  2013         Farmers Market   \n",
       "86  2013         Farmers Market   \n",
       "90  2013  Community Food Market   \n",
       "\n",
       "                            marketname_location_host  \\\n",
       "4                                      Hastings Park   \n",
       "5                              Mount Pleasant Market   \n",
       "6                      River District Farmers Market   \n",
       "8                           Kitsilano Farmers Market   \n",
       "9                     Main St Station Farmers Market   \n",
       "10                     River District Farmers Market   \n",
       "11                             Winter Farmers Market   \n",
       "19                           West End Farmers Market   \n",
       "22                    Westside Community Food Market   \n",
       "23                                       Brant Villa   \n",
       "24                 Cedar Cottage Neighbourhood House   \n",
       "25                                    Culloden Court   \n",
       "27    Orchard Park Mobile Market and Tasting Kitchen   \n",
       "29                    Westside Community Food Market   \n",
       "30                 Kerrisdale Village Farmers Market   \n",
       "32       South Granville Senior Centre (SGSC) Market   \n",
       "35                             Winter Farmers Market   \n",
       "37                                     Hastings Park   \n",
       "38                                    Holiday Market   \n",
       "39                         Trout Lake Farmers Market   \n",
       "41                    St Augustine’s Anglican Church   \n",
       "42                       Kensington Community Centre   \n",
       "45                    Main St Station Farmers Market   \n",
       "46                         Trout Lake Farmers Market   \n",
       "49                                      Orchard Park   \n",
       "50                       Marpole Neighbourhood House   \n",
       "54  Culloden Court Mobile Market and Tasting Kitchen   \n",
       "56                     River District Farmers Market   \n",
       "58                          Kitsilano Farmers Market   \n",
       "59                    Main St Station Farmers Market   \n",
       "60                         Trout Lake Farmers Market   \n",
       "61                         QE Theatre Farmers Market   \n",
       "62                           West End Farmers Market   \n",
       "64                 Kerrisdale Village Farmers Market   \n",
       "65                             Mount Pleasant Market   \n",
       "67                           Yaletown Farmers Market   \n",
       "68                           West End Farmers Market   \n",
       "72                                       Brant Villa   \n",
       "75                 Kerrisdale Village Farmers Market   \n",
       "76                          Kitsilano Farmers Market   \n",
       "77                     River District Farmers Market   \n",
       "78                     South Granville Senior Centre   \n",
       "82                         Brant Villa Mobile Market   \n",
       "83                          Kitsilano Farmers Market   \n",
       "84                    Main St Station Farmers Market   \n",
       "85                         Trout Lake Farmers Market   \n",
       "86                           West End Farmers Market   \n",
       "90          Marpole Place Neighbourhood House Market   \n",
       "\n",
       "                                       marketoperator  streetnumber  \\\n",
       "4                           Vancouver Farmers Markets           NaN   \n",
       "5                           Vancouver Farmers Markets        2300.0   \n",
       "6                                      River District        8683.0   \n",
       "8                           Vancouver Farmers Markets        2690.0   \n",
       "9                           Vancouver Farmers Markets        1100.0   \n",
       "10                                     River District        8683.0   \n",
       "11                          Vancouver Farmers Markets        4601.0   \n",
       "19                          Vancouver Farmers Markets        1164.0   \n",
       "22  Kitsilano Neighbourhood House & Society Promot...        2403.0   \n",
       "23                         Cedar Cottage Food Network        2290.0   \n",
       "24                         Cedar Cottage Food Network        4065.0   \n",
       "25                         Cedar Cottage Food Network        1375.0   \n",
       "27                         Cedar Cottage Food Network        5988.0   \n",
       "29  Kitsilano Neighbourhood House & Society Promot...        2403.0   \n",
       "30                          Vancouver Farmers Markets        5300.0   \n",
       "32                        Westside Mobile Food Market        1420.0   \n",
       "35                          Vancouver Farmers Markets        4601.0   \n",
       "37                          Vancouver Farmers Markets           NaN   \n",
       "38                          Vancouver Farmers Markets        3250.0   \n",
       "39                          Vancouver Farmers Markets           NaN   \n",
       "41                           Green Zebra Urban Market        8680.0   \n",
       "42                         Cedar Cottage Food Network           NaN   \n",
       "45                          Vancouver Farmers Markets        1100.0   \n",
       "46                          Vancouver Farmers Markets        3092.0   \n",
       "49                         Cedar Cottage Food Network        5988.0   \n",
       "50                        Westside Mobile Food Market        1305.0   \n",
       "54                         Cedar Cottage Food Network        1375.0   \n",
       "56                           River District Vancouver        8683.0   \n",
       "58                          Vancouver Farmers Markets        2690.0   \n",
       "59                          Vancouver Farmers Markets        1100.0   \n",
       "60                          Vancouver Farmers Markets           NaN   \n",
       "61                          Vancouver Farmers Markets           NaN   \n",
       "62                          Vancouver Farmers Markets        1100.0   \n",
       "64                          Vancouver Farmers Markets        5500.0   \n",
       "65                          Vancouver Farmers Markets        2300.0   \n",
       "67                          Vancouver Farmers Markets        1100.0   \n",
       "68                          Vancouver Farmers Markets        1100.0   \n",
       "72                         Cedar Cottage Food Network        2290.0   \n",
       "75                          Vancouver Farmers Markets        5300.0   \n",
       "76                          Vancouver Farmers Markets        2690.0   \n",
       "77                           River District Vancouver        8683.0   \n",
       "78                        Westside Mobile Food Market        1420.0   \n",
       "82                         Cedar Cottage Food Network        2290.0   \n",
       "83                          Vancouver Farmers Markets        2690.0   \n",
       "84                          Vancouver Farmers Markets        1100.0   \n",
       "85                          Vancouver Farmers Markets        3092.0   \n",
       "86                          Vancouver Farmers Markets        1164.0   \n",
       "90                        Westside Mobile Food Market        1305.0   \n",
       "\n",
       "   streetdirection  streetname streettype                       mergedaddress  \\\n",
       "4              NaN     Renfrew         St                          Renfrew St   \n",
       "5              NaN      Guelph         St                      2300 Guelph St   \n",
       "6              NaN        Kerr         St                        8683 Kerr St   \n",
       "8              NaN       Larch         St                       2690 Larch St   \n",
       "9              NaN     Station         St                     1100 Station St   \n",
       "10             NaN        Kerr         St                        8683 Kerr St   \n",
       "11             NaN     Ontario         St                     4601 Ontario St   \n",
       "19             NaN       Comox         St        1164  Comox St, Vancouver BC   \n",
       "22               W         8th         Av         2403 W 8th Av, Vancouver BC   \n",
       "23               E        25th         Av         2290 E 2th Av, Vancouver BC   \n",
       "24             NaN    Victoria         Dr      4065 Victoria Dr, Vancouver BC   \n",
       "25               E        47th         Av        1375 E 47th Av, Vancouver BC   \n",
       "27             NaN     Nanaimo         St      5988  Nanaimo St, Vancouver BC   \n",
       "29               W         8th         Av         2403 W 8th Av, Vancouver BC   \n",
       "30             NaN        East  Boulevard  5300  East Boulevard, Vancouver BC   \n",
       "32               W        12th         Av        1420 W 12th Av, Vancouver BC   \n",
       "35             NaN     Ontario         St                     4601 Ontario St   \n",
       "37             NaN     Renfrew         St                          Renfrew St   \n",
       "38             NaN  Commercial         Dr                  3250 Commercial Dr   \n",
       "39             NaN         NaN        NaN                                 NaN   \n",
       "41             NaN      Hudson     Street                                 NaN   \n",
       "42             NaN         NaN        NaN                5175 Dumfries Street   \n",
       "45             NaN     Station         St      1100  Station St, Vancouver BC   \n",
       "46             NaN      Garden      Drive    3092  Garden Drive, Vancouver BC   \n",
       "49             NaN     Nanaimo         St      5988  Nanaimo St, Vancouver BC   \n",
       "50               W        70th         Av                  8680 Hudson Street   \n",
       "54               E        47th         Av        1375 E 47th Av, Vancouver BC   \n",
       "56             NaN        Kerr         St         8683  Kerr St, Vancouver BC   \n",
       "58             NaN       Larch         St                       2690 Larch St   \n",
       "59             NaN     Station         St                     1100 Station St   \n",
       "60             NaN         NaN        NaN                                 NaN   \n",
       "61             NaN         NaN        NaN                                 NaN   \n",
       "62             NaN       Comox         St                       1100 Comox St   \n",
       "64               E   East Blvd       Blvd                      5500 East Blvd   \n",
       "65             NaN      Guelph         St                      2300 Guelph St   \n",
       "67             NaN    Mainland         St                    1100 Mainland St   \n",
       "68             NaN       Comox         St                       1100 Comox St   \n",
       "72               E        25th         Av         2290 E 2th Av, Vancouver BC   \n",
       "75             NaN        East  Boulevard  5300  East Boulevard, Vancouver BC   \n",
       "76             NaN       Larch         St        2690  Larch St, Vancouver BC   \n",
       "77             NaN        Kerr         St         8683  Kerr St, Vancouver BC   \n",
       "78               W        12th         Av        1420 W 12th Av, Vancouver BC   \n",
       "82               E        25th         Av        2290 E 25th Av, Vancouver BC   \n",
       "83             NaN       Larch         St        2690  Larch St, Vancouver BC   \n",
       "84             NaN     Station         St      1100  Station St, Vancouver BC   \n",
       "85             NaN      Garden      Drive    3092  Garden Drive, Vancouver BC   \n",
       "86             NaN       Comox         St        1164  Comox St, Vancouver BC   \n",
       "90               W        70th         Av        1305 W 70th Av, Vancouver BC   \n",
       "\n",
       "                                      marketdirection  \\\n",
       "4                                  Hastings Skatepark   \n",
       "5                               Mount Pleasant School   \n",
       "6                          Kerr Street, near the pier   \n",
       "8                Parking lot of Kits Community Centre   \n",
       "9                                Next to Thorton Park   \n",
       "10                         Kerr Street, near the pier   \n",
       "11                  Parking lot of Nat Bailey Stadium   \n",
       "19             Adjacent to 1100 Block of Comox Street   \n",
       "22                                                NaN   \n",
       "23                               Victoria at 25th Ave   \n",
       "24                                                NaN   \n",
       "25                                                NaN   \n",
       "27                                                NaN   \n",
       "29                                                NaN   \n",
       "30                       5300 Block of East Boulevard   \n",
       "32                1420 & 1440 W 12th Ave, at Hemlock;   \n",
       "35                  Parking lot of Nat Bailey Stadium   \n",
       "37                                 Hastings Skatepark   \n",
       "38                                                NaN   \n",
       "39                           Lakewood Dr & E 13th Ave   \n",
       "41                                                NaN   \n",
       "42                                                NaN   \n",
       "45                               Next to Thorton Park   \n",
       "46              North Parking Lot of John Hendry Park   \n",
       "49                                                NaN   \n",
       "50                              St Augustine's Church   \n",
       "54                                                NaN   \n",
       "56                         Kerr Street, near the pier   \n",
       "58               Parking lot of Kits Community Centre   \n",
       "59                               Next to Thorton Park   \n",
       "60                           Lakewood Dr & E 13th Ave   \n",
       "61                                                NaN   \n",
       "62             Adjacent to 1100 Block of Comox Street   \n",
       "64                            5500 Block of East Blvd   \n",
       "65                              Mount Pleasant School   \n",
       "67                        Between Davie and Helmecken   \n",
       "68             Adjacent to 1100 Block of Comox Street   \n",
       "72                               Victoria at 25th Ave   \n",
       "75  East Boulevard 5300  East Boulevard, Vancouver...   \n",
       "76               Parking lot of Kits Community Centre   \n",
       "77                         Kerr Street, near the pier   \n",
       "78                1420 & 1440 W 12th Ave, at Hemlock;   \n",
       "82                                                NaN   \n",
       "83               Parking lot of Kits Community Centre   \n",
       "84                               Next to Thorton Park   \n",
       "85              North Parking Lot of John Hendry Park   \n",
       "86             Adjacent to 1100 Block of Comox Street   \n",
       "90                     The Old Firehall at Hudson St.   \n",
       "\n",
       "                                              website  \\\n",
       "4                                 http://eatlocal.org   \n",
       "5                                 http://eatlocal.org   \n",
       "6                         http://www.riverdistrict.ca   \n",
       "8                                 http://eatlocal.org   \n",
       "9                                 http://eatlocal.org   \n",
       "10                        http://www.riverdistrict.ca   \n",
       "11                                http://eatlocal.org   \n",
       "19                                http://eatlocal.org   \n",
       "22  http://www.spec.bc.ca/westside-community-food-...   \n",
       "23      http://cedarcottagefoodnetwork.wordpress.com/   \n",
       "24      http://cedarcottagefoodnetwork.wordpress.com/   \n",
       "25      http://cedarcottagefoodnetwork.wordpress.com/   \n",
       "27      http://cedarcottagefoodnetwork.wordpress.com/   \n",
       "29  http://www.spec.bc.ca/westside-community-food-...   \n",
       "30                                http://eatlocal.org   \n",
       "32  http://www.plantednetwork.ca/project.aspx?asse...   \n",
       "35                                http://eatlocal.org   \n",
       "37                                http://eatlocal.org   \n",
       "38                                http://eatlocal.org   \n",
       "39                                http://eatlocal.org   \n",
       "41                  http://www.greenzebramarkets.com/   \n",
       "42                                                NaN   \n",
       "45                                http://eatlocal.org   \n",
       "46                                http://eatlocal.org   \n",
       "49      http://cedarcottagefoodnetwork.wordpress.com/   \n",
       "50  http://www.plantednetwork.ca/project.aspx?asse...   \n",
       "54      http://cedarcottagefoodnetwork.wordpress.com/   \n",
       "56                        http://www.riverdistrict.ca   \n",
       "58                                http://eatlocal.org   \n",
       "59                                http://eatlocal.org   \n",
       "60                                http://eatlocal.org   \n",
       "61                                http://eatlocal.org   \n",
       "62                                http://eatlocal.org   \n",
       "64                                http://eatlocal.org   \n",
       "65                                http://eatlocal.org   \n",
       "67                                http://eatlocal.org   \n",
       "68                                http://eatlocal.org   \n",
       "72      http://cedarcottagefoodnetwork.wordpress.com/   \n",
       "75                                http://eatlocal.org   \n",
       "76                                http://eatlocal.org   \n",
       "77                        http://www.riverdistrict.ca   \n",
       "78  http://www.plantednetwork.ca/project.aspx?asse...   \n",
       "82      http://cedarcottagefoodnetwork.wordpress.com/   \n",
       "83                                http://eatlocal.org   \n",
       "84                                http://eatlocal.org   \n",
       "85                                http://eatlocal.org   \n",
       "86                                http://eatlocal.org   \n",
       "90  http://www.plantednetwork.ca/project.aspx?asse...   \n",
       "\n",
       "                              day     open    close          months  \\\n",
       "4                          Sunday     10am      2pm       Nov - Apr   \n",
       "5                          Sunday     10am      2pm       Jun - Oct   \n",
       "6                        Saturday     10am      3pm       May - Oct   \n",
       "8                          Sunday     10am      2pm       May - Oct   \n",
       "9                       Wednesday      2pm      6pm       Jun - Oct   \n",
       "10                       Saturday     10am      3pm       May - Oct   \n",
       "11                       Saturday     10am      2pm       Nov - Apr   \n",
       "19                       Saturday      9am      2pm    June-October   \n",
       "22                       Thursday      3pm      7pm  July-September   \n",
       "23  1st and 3rd Saturday of month  10:30am  12:30pm         Ongoing   \n",
       "24           2nd and 4th Saturday     10am     12pm         Ongoing   \n",
       "25          3rd Saturday of month      2pm      4pm         Ongoing   \n",
       "27          2nd Saturday of month      2pm      4pm    May-December   \n",
       "29                       Thursday      4pm      7pm  July-September   \n",
       "30                       Saturday     10am      2pm    June-October   \n",
       "32                       Thursday     11am      1pm  July-September   \n",
       "35                       Saturday     10am      2pm       Nov - Apr   \n",
       "37                         Sunday     10am      2pm        Mar- Apr   \n",
       "38                       Saturday     10am      4pm        20151212   \n",
       "39                       Saturday      9am      2pm       May - Oct   \n",
       "41                      Wednesday   3:00pm   7:00pm             NaN   \n",
       "42                            NaN      NaN      NaN             NaN   \n",
       "45                      Wednesday      3pm      7pm    June-October   \n",
       "46                       Saturday      9am      2pm     May-October   \n",
       "49          2nd Saturday of month      2pm      4pm         Ongoing   \n",
       "50                       Thursday      2pm      4pm  July-September   \n",
       "54          3rd Saturday of month      2pm      4pm    May-December   \n",
       "56                       Saturday     10am      3pm     May-October   \n",
       "58                         Sunday     10am      2pm       May - Oct   \n",
       "59                      Wednesday      2pm      6pm       Jun - Oct   \n",
       "60                       Saturday      9am      2pm       May - Oct   \n",
       "61                       Thursday      2pm      6pm       May - Oct   \n",
       "62                       Saturday      9am      2pm       May - Oct   \n",
       "64                       Saturday     10am      2pm       Jun - Oct   \n",
       "65                         Sunday     10am      2pm       Jun - Oct   \n",
       "67                       Thursday      2pm      6pm       May - Oct   \n",
       "68                       Saturday      9am      2pm       May - Oct   \n",
       "72  1st and 3rd Saturday of month  10:30am  12:30pm         Ongoing   \n",
       "75                       Saturday     10am      2pm    June-October   \n",
       "76                         Sunday     10am      2pm     May-October   \n",
       "77                       Saturday     10am      3pm     May-October   \n",
       "78                       Thursday     11am      1pm  July-September   \n",
       "82          3rd Saturday of month     10am     12pm    May-December   \n",
       "83                         Sunday     10am      2pm     May-October   \n",
       "84                      Wednesday      3pm      7pm    June-October   \n",
       "85                       Saturday      9am      2pm     May-October   \n",
       "86                       Saturday      9am      2pm    June-October   \n",
       "90                       Thursday      2pm      4pm  July-September   \n",
       "\n",
       "   numberofvendors                                          offerings  \n",
       "4               33  produce,meat,seafood,cheese,organics,prepared ...  \n",
       "5               25  produce,meat,seafood,cheese,organics,prepared ...  \n",
       "6               77  produce,meat,seafood,cheese,organics,prepared ...  \n",
       "8               51  produce,meat,seafood,cheese,organics,prepared ...  \n",
       "9               28  produce,meat,seafood,cheese,organics,prepared ...  \n",
       "10              77  produce,meat,seafood,cheese,organics,prepared ...  \n",
       "11              77  produce,meat,seafood,cheese,organics,prepared ...  \n",
       "19              35  produce,meat,seafood,cheese,organics,prepared ...  \n",
       "22         5 to 10  produce,home made baked goods and jams,locally...  \n",
       "23      2-3 Tables                                            produce  \n",
       "24      2-3 Tables                                            produce  \n",
       "25      2-3 Tables                            produce,tasting kitchen  \n",
       "27               1                            produce,tasting kitchen  \n",
       "29         5 to 10  produce,home made baked goods and jams,locally...  \n",
       "30              30  produce,meat,seafood,cheese,organics,prepared ...  \n",
       "32               1                                            produce  \n",
       "35              77  produce,meat,seafood,cheese,organics,prepared ...  \n",
       "37              33  produce,meat,seafood,cheese,organics,prepared ...  \n",
       "38              70  produce,meat,seafood,cheese,organics,prepared ...  \n",
       "39              61  produce,meat,seafood,cheese,organics,prepared ...  \n",
       "41      2-3 Tables                                            produce  \n",
       "42      2-3 Tables                            produce,tasting kitchen  \n",
       "45              30  produce,meat,seafood,cheese,organics,prepared ...  \n",
       "46              57  produce,meat,seafood,cheese,organics,prepared ...  \n",
       "49      2-3 Tables                            produce,tasting kitchen  \n",
       "50               1                                            produce  \n",
       "54               1                            produce,tasting kitchen  \n",
       "56             NaN                      produce,prepared foods,crafts  \n",
       "58              51  produce,meat,seafood,cheese,organics,prepared ...  \n",
       "59              28  produce,meat,seafood,cheese,organics,prepared ...  \n",
       "60              61  produce,meat,seafood,cheese,organics,prepared ...  \n",
       "61              33  produce,meat,seafood,cheese,organics,prepared ...  \n",
       "62              33  produce,meat,seafood,cheese,organics,prepared ...  \n",
       "64              16  produce,meat,seafood,cheese,organics,prepared ...  \n",
       "65              25  produce,meat,seafood,cheese,organics,prepared ...  \n",
       "67              33  produce,meat,seafood,cheese,organics,prepared ...  \n",
       "68              33  produce,meat,seafood,cheese,organics,prepared ...  \n",
       "72      2-3 Tables                                            produce  \n",
       "75              30  produce,meat,seafood,cheese,organics,prepared ...  \n",
       "76              53  produce,meat,seafood,cheese,organics,prepared ...  \n",
       "77             NaN                      produce,prepared foods,crafts  \n",
       "78               1                                            produce  \n",
       "82               1                                            produce  \n",
       "83              53  produce,meat,seafood,cheese,organics,prepared ...  \n",
       "84              30  produce,meat,seafood,cheese,organics,prepared ...  \n",
       "85              57  produce,meat,seafood,cheese,organics,prepared ...  \n",
       "86              35  produce,meat,seafood,cheese,organics,prepared ...  \n",
       "90               1                                            produce  "
      ]
     },
     "execution_count": 18,
     "metadata": {},
     "output_type": "execute_result"
    }
   ],
   "source": [
    "#Markets in Vancouver\n",
    "csv_url = 'https://opendata.vancouver.ca/explore/dataset/community-food-markets-and-farmers-markets/download/?format=csv'\n",
    "market = pd.read_csv(csv_url, sep = ';')\n",
    "market.dropna(subset=['offerings'], inplace=True)\n",
    "market"
   ]
  },
  {
   "cell_type": "markdown",
   "metadata": {},
   "source": [
    "In the above table, there are various types of markets in Vancouver, whether being community food markets or farmers markets. These markets have different kinds of offerings. The majority of these markets have produce, with some including different types of meat, seafood, cheese, organics, and prepared food. Since food will be very hard to transport to Mars, prepared food must be freeze dried, like cheeses, dinners and lunches, breakfasts, and other food that can be, since without it, they will not last. Produce will also need to be dried or freeze dried, and since organic food is more expensive, food with GMOs are perhaps more preferable."
   ]
  },
  {
   "cell_type": "markdown",
   "metadata": {},
   "source": [
    "### Section III: Data Analysis and Visualization\n",
    "\n",
    "Use as many code cells as you need - remember to add a title, as well as appropriate x and y labels to your visualizations. \n",
    "\n",
    "Make sure you write down what things you notice in the data such as trends, patterns, and basic statistics.\n",
    "\n",
    "Use the code cell below to start adding your code for data analysis and visualization"
   ]
  },
  {
   "cell_type": "markdown",
   "metadata": {},
   "source": [
    "### 👨🏽‍💻 Provide your code to explore and analyse your data"
   ]
  },
  {
   "cell_type": "code",
   "execution_count": 24,
   "metadata": {},
   "outputs": [
    {
     "data": {
      "application/vnd.plotly.v1+json": {
       "config": {
        "linkText": "Export to plot.ly",
        "plotlyServerURL": "https://plot.ly",
        "showLink": true
       },
       "data": [
        {
         "line": {
          "color": "rgba(255, 153, 51, 1.0)",
          "dash": "solid",
          "shape": "linear",
          "width": 1.3
         },
         "marker": {
          "size": 12,
          "symbol": "circle"
         },
         "mode": "markers",
         "name": "close",
         "text": "",
         "type": "scatter",
         "x": [
          "10am",
          "10am",
          "10am",
          "10am",
          "2pm",
          "10am",
          "10am",
          "9am",
          "3pm",
          "10:30am",
          "10am",
          "2pm",
          "2pm",
          "4pm",
          "10am",
          "11am",
          "10am",
          "10am",
          "10am",
          "9am",
          "3:00pm",
          null,
          "3pm",
          "9am",
          "2pm",
          "2pm",
          "2pm",
          "10am",
          "10am",
          "2pm",
          "9am",
          "2pm",
          "9am",
          "10am",
          "10am",
          "2pm",
          "9am",
          "10:30am",
          "10am",
          "10am",
          "10am",
          "11am",
          "10am",
          "10am",
          "3pm",
          "9am",
          "9am",
          "2pm"
         ],
         "y": [
          "2pm",
          "2pm",
          "3pm",
          "2pm",
          "6pm",
          "3pm",
          "2pm",
          "2pm",
          "7pm",
          "12:30pm",
          "12pm",
          "4pm",
          "4pm",
          "7pm",
          "2pm",
          "1pm",
          "2pm",
          "2pm",
          "4pm",
          "2pm",
          "7:00pm",
          "",
          "7pm",
          "2pm",
          "4pm",
          "4pm",
          "4pm",
          "3pm",
          "2pm",
          "6pm",
          "2pm",
          "6pm",
          "2pm",
          "2pm",
          "2pm",
          "6pm",
          "2pm",
          "12:30pm",
          "2pm",
          "2pm",
          "3pm",
          "1pm",
          "12pm",
          "2pm",
          "7pm",
          "2pm",
          "2pm",
          "4pm"
         ]
        }
       ],
       "layout": {
        "legend": {
         "bgcolor": "#F5F6F9",
         "font": {
          "color": "#4D5663"
         }
        },
        "paper_bgcolor": "#F5F6F9",
        "plot_bgcolor": "#F5F6F9",
        "template": {
         "data": {
          "bar": [
           {
            "error_x": {
             "color": "#2a3f5f"
            },
            "error_y": {
             "color": "#2a3f5f"
            },
            "marker": {
             "line": {
              "color": "#E5ECF6",
              "width": 0.5
             }
            },
            "type": "bar"
           }
          ],
          "barpolar": [
           {
            "marker": {
             "line": {
              "color": "#E5ECF6",
              "width": 0.5
             }
            },
            "type": "barpolar"
           }
          ],
          "carpet": [
           {
            "aaxis": {
             "endlinecolor": "#2a3f5f",
             "gridcolor": "white",
             "linecolor": "white",
             "minorgridcolor": "white",
             "startlinecolor": "#2a3f5f"
            },
            "baxis": {
             "endlinecolor": "#2a3f5f",
             "gridcolor": "white",
             "linecolor": "white",
             "minorgridcolor": "white",
             "startlinecolor": "#2a3f5f"
            },
            "type": "carpet"
           }
          ],
          "choropleth": [
           {
            "colorbar": {
             "outlinewidth": 0,
             "ticks": ""
            },
            "type": "choropleth"
           }
          ],
          "contour": [
           {
            "colorbar": {
             "outlinewidth": 0,
             "ticks": ""
            },
            "colorscale": [
             [
              0,
              "#0d0887"
             ],
             [
              0.1111111111111111,
              "#46039f"
             ],
             [
              0.2222222222222222,
              "#7201a8"
             ],
             [
              0.3333333333333333,
              "#9c179e"
             ],
             [
              0.4444444444444444,
              "#bd3786"
             ],
             [
              0.5555555555555556,
              "#d8576b"
             ],
             [
              0.6666666666666666,
              "#ed7953"
             ],
             [
              0.7777777777777778,
              "#fb9f3a"
             ],
             [
              0.8888888888888888,
              "#fdca26"
             ],
             [
              1,
              "#f0f921"
             ]
            ],
            "type": "contour"
           }
          ],
          "contourcarpet": [
           {
            "colorbar": {
             "outlinewidth": 0,
             "ticks": ""
            },
            "type": "contourcarpet"
           }
          ],
          "heatmap": [
           {
            "colorbar": {
             "outlinewidth": 0,
             "ticks": ""
            },
            "colorscale": [
             [
              0,
              "#0d0887"
             ],
             [
              0.1111111111111111,
              "#46039f"
             ],
             [
              0.2222222222222222,
              "#7201a8"
             ],
             [
              0.3333333333333333,
              "#9c179e"
             ],
             [
              0.4444444444444444,
              "#bd3786"
             ],
             [
              0.5555555555555556,
              "#d8576b"
             ],
             [
              0.6666666666666666,
              "#ed7953"
             ],
             [
              0.7777777777777778,
              "#fb9f3a"
             ],
             [
              0.8888888888888888,
              "#fdca26"
             ],
             [
              1,
              "#f0f921"
             ]
            ],
            "type": "heatmap"
           }
          ],
          "heatmapgl": [
           {
            "colorbar": {
             "outlinewidth": 0,
             "ticks": ""
            },
            "colorscale": [
             [
              0,
              "#0d0887"
             ],
             [
              0.1111111111111111,
              "#46039f"
             ],
             [
              0.2222222222222222,
              "#7201a8"
             ],
             [
              0.3333333333333333,
              "#9c179e"
             ],
             [
              0.4444444444444444,
              "#bd3786"
             ],
             [
              0.5555555555555556,
              "#d8576b"
             ],
             [
              0.6666666666666666,
              "#ed7953"
             ],
             [
              0.7777777777777778,
              "#fb9f3a"
             ],
             [
              0.8888888888888888,
              "#fdca26"
             ],
             [
              1,
              "#f0f921"
             ]
            ],
            "type": "heatmapgl"
           }
          ],
          "histogram": [
           {
            "marker": {
             "colorbar": {
              "outlinewidth": 0,
              "ticks": ""
             }
            },
            "type": "histogram"
           }
          ],
          "histogram2d": [
           {
            "colorbar": {
             "outlinewidth": 0,
             "ticks": ""
            },
            "colorscale": [
             [
              0,
              "#0d0887"
             ],
             [
              0.1111111111111111,
              "#46039f"
             ],
             [
              0.2222222222222222,
              "#7201a8"
             ],
             [
              0.3333333333333333,
              "#9c179e"
             ],
             [
              0.4444444444444444,
              "#bd3786"
             ],
             [
              0.5555555555555556,
              "#d8576b"
             ],
             [
              0.6666666666666666,
              "#ed7953"
             ],
             [
              0.7777777777777778,
              "#fb9f3a"
             ],
             [
              0.8888888888888888,
              "#fdca26"
             ],
             [
              1,
              "#f0f921"
             ]
            ],
            "type": "histogram2d"
           }
          ],
          "histogram2dcontour": [
           {
            "colorbar": {
             "outlinewidth": 0,
             "ticks": ""
            },
            "colorscale": [
             [
              0,
              "#0d0887"
             ],
             [
              0.1111111111111111,
              "#46039f"
             ],
             [
              0.2222222222222222,
              "#7201a8"
             ],
             [
              0.3333333333333333,
              "#9c179e"
             ],
             [
              0.4444444444444444,
              "#bd3786"
             ],
             [
              0.5555555555555556,
              "#d8576b"
             ],
             [
              0.6666666666666666,
              "#ed7953"
             ],
             [
              0.7777777777777778,
              "#fb9f3a"
             ],
             [
              0.8888888888888888,
              "#fdca26"
             ],
             [
              1,
              "#f0f921"
             ]
            ],
            "type": "histogram2dcontour"
           }
          ],
          "mesh3d": [
           {
            "colorbar": {
             "outlinewidth": 0,
             "ticks": ""
            },
            "type": "mesh3d"
           }
          ],
          "parcoords": [
           {
            "line": {
             "colorbar": {
              "outlinewidth": 0,
              "ticks": ""
             }
            },
            "type": "parcoords"
           }
          ],
          "pie": [
           {
            "automargin": true,
            "type": "pie"
           }
          ],
          "scatter": [
           {
            "marker": {
             "colorbar": {
              "outlinewidth": 0,
              "ticks": ""
             }
            },
            "type": "scatter"
           }
          ],
          "scatter3d": [
           {
            "line": {
             "colorbar": {
              "outlinewidth": 0,
              "ticks": ""
             }
            },
            "marker": {
             "colorbar": {
              "outlinewidth": 0,
              "ticks": ""
             }
            },
            "type": "scatter3d"
           }
          ],
          "scattercarpet": [
           {
            "marker": {
             "colorbar": {
              "outlinewidth": 0,
              "ticks": ""
             }
            },
            "type": "scattercarpet"
           }
          ],
          "scattergeo": [
           {
            "marker": {
             "colorbar": {
              "outlinewidth": 0,
              "ticks": ""
             }
            },
            "type": "scattergeo"
           }
          ],
          "scattergl": [
           {
            "marker": {
             "colorbar": {
              "outlinewidth": 0,
              "ticks": ""
             }
            },
            "type": "scattergl"
           }
          ],
          "scattermapbox": [
           {
            "marker": {
             "colorbar": {
              "outlinewidth": 0,
              "ticks": ""
             }
            },
            "type": "scattermapbox"
           }
          ],
          "scatterpolar": [
           {
            "marker": {
             "colorbar": {
              "outlinewidth": 0,
              "ticks": ""
             }
            },
            "type": "scatterpolar"
           }
          ],
          "scatterpolargl": [
           {
            "marker": {
             "colorbar": {
              "outlinewidth": 0,
              "ticks": ""
             }
            },
            "type": "scatterpolargl"
           }
          ],
          "scatterternary": [
           {
            "marker": {
             "colorbar": {
              "outlinewidth": 0,
              "ticks": ""
             }
            },
            "type": "scatterternary"
           }
          ],
          "surface": [
           {
            "colorbar": {
             "outlinewidth": 0,
             "ticks": ""
            },
            "colorscale": [
             [
              0,
              "#0d0887"
             ],
             [
              0.1111111111111111,
              "#46039f"
             ],
             [
              0.2222222222222222,
              "#7201a8"
             ],
             [
              0.3333333333333333,
              "#9c179e"
             ],
             [
              0.4444444444444444,
              "#bd3786"
             ],
             [
              0.5555555555555556,
              "#d8576b"
             ],
             [
              0.6666666666666666,
              "#ed7953"
             ],
             [
              0.7777777777777778,
              "#fb9f3a"
             ],
             [
              0.8888888888888888,
              "#fdca26"
             ],
             [
              1,
              "#f0f921"
             ]
            ],
            "type": "surface"
           }
          ],
          "table": [
           {
            "cells": {
             "fill": {
              "color": "#EBF0F8"
             },
             "line": {
              "color": "white"
             }
            },
            "header": {
             "fill": {
              "color": "#C8D4E3"
             },
             "line": {
              "color": "white"
             }
            },
            "type": "table"
           }
          ]
         },
         "layout": {
          "annotationdefaults": {
           "arrowcolor": "#2a3f5f",
           "arrowhead": 0,
           "arrowwidth": 1
          },
          "coloraxis": {
           "colorbar": {
            "outlinewidth": 0,
            "ticks": ""
           }
          },
          "colorscale": {
           "diverging": [
            [
             0,
             "#8e0152"
            ],
            [
             0.1,
             "#c51b7d"
            ],
            [
             0.2,
             "#de77ae"
            ],
            [
             0.3,
             "#f1b6da"
            ],
            [
             0.4,
             "#fde0ef"
            ],
            [
             0.5,
             "#f7f7f7"
            ],
            [
             0.6,
             "#e6f5d0"
            ],
            [
             0.7,
             "#b8e186"
            ],
            [
             0.8,
             "#7fbc41"
            ],
            [
             0.9,
             "#4d9221"
            ],
            [
             1,
             "#276419"
            ]
           ],
           "sequential": [
            [
             0,
             "#0d0887"
            ],
            [
             0.1111111111111111,
             "#46039f"
            ],
            [
             0.2222222222222222,
             "#7201a8"
            ],
            [
             0.3333333333333333,
             "#9c179e"
            ],
            [
             0.4444444444444444,
             "#bd3786"
            ],
            [
             0.5555555555555556,
             "#d8576b"
            ],
            [
             0.6666666666666666,
             "#ed7953"
            ],
            [
             0.7777777777777778,
             "#fb9f3a"
            ],
            [
             0.8888888888888888,
             "#fdca26"
            ],
            [
             1,
             "#f0f921"
            ]
           ],
           "sequentialminus": [
            [
             0,
             "#0d0887"
            ],
            [
             0.1111111111111111,
             "#46039f"
            ],
            [
             0.2222222222222222,
             "#7201a8"
            ],
            [
             0.3333333333333333,
             "#9c179e"
            ],
            [
             0.4444444444444444,
             "#bd3786"
            ],
            [
             0.5555555555555556,
             "#d8576b"
            ],
            [
             0.6666666666666666,
             "#ed7953"
            ],
            [
             0.7777777777777778,
             "#fb9f3a"
            ],
            [
             0.8888888888888888,
             "#fdca26"
            ],
            [
             1,
             "#f0f921"
            ]
           ]
          },
          "colorway": [
           "#636efa",
           "#EF553B",
           "#00cc96",
           "#ab63fa",
           "#FFA15A",
           "#19d3f3",
           "#FF6692",
           "#B6E880",
           "#FF97FF",
           "#FECB52"
          ],
          "font": {
           "color": "#2a3f5f"
          },
          "geo": {
           "bgcolor": "white",
           "lakecolor": "white",
           "landcolor": "#E5ECF6",
           "showlakes": true,
           "showland": true,
           "subunitcolor": "white"
          },
          "hoverlabel": {
           "align": "left"
          },
          "hovermode": "closest",
          "mapbox": {
           "style": "light"
          },
          "paper_bgcolor": "white",
          "plot_bgcolor": "#E5ECF6",
          "polar": {
           "angularaxis": {
            "gridcolor": "white",
            "linecolor": "white",
            "ticks": ""
           },
           "bgcolor": "#E5ECF6",
           "radialaxis": {
            "gridcolor": "white",
            "linecolor": "white",
            "ticks": ""
           }
          },
          "scene": {
           "xaxis": {
            "backgroundcolor": "#E5ECF6",
            "gridcolor": "white",
            "gridwidth": 2,
            "linecolor": "white",
            "showbackground": true,
            "ticks": "",
            "zerolinecolor": "white"
           },
           "yaxis": {
            "backgroundcolor": "#E5ECF6",
            "gridcolor": "white",
            "gridwidth": 2,
            "linecolor": "white",
            "showbackground": true,
            "ticks": "",
            "zerolinecolor": "white"
           },
           "zaxis": {
            "backgroundcolor": "#E5ECF6",
            "gridcolor": "white",
            "gridwidth": 2,
            "linecolor": "white",
            "showbackground": true,
            "ticks": "",
            "zerolinecolor": "white"
           }
          },
          "shapedefaults": {
           "line": {
            "color": "#2a3f5f"
           }
          },
          "ternary": {
           "aaxis": {
            "gridcolor": "white",
            "linecolor": "white",
            "ticks": ""
           },
           "baxis": {
            "gridcolor": "white",
            "linecolor": "white",
            "ticks": ""
           },
           "bgcolor": "#E5ECF6",
           "caxis": {
            "gridcolor": "white",
            "linecolor": "white",
            "ticks": ""
           }
          },
          "title": {
           "x": 0.05
          },
          "xaxis": {
           "automargin": true,
           "gridcolor": "white",
           "linecolor": "white",
           "ticks": "",
           "title": {
            "standoff": 15
           },
           "zerolinecolor": "white",
           "zerolinewidth": 2
          },
          "yaxis": {
           "automargin": true,
           "gridcolor": "white",
           "linecolor": "white",
           "ticks": "",
           "title": {
            "standoff": 15
           },
           "zerolinecolor": "white",
           "zerolinewidth": 2
          }
         }
        },
        "title": {
         "font": {
          "color": "#4D5663"
         },
         "text": "Opening and Closing Hours of Markets"
        },
        "xaxis": {
         "gridcolor": "#E1E5ED",
         "showgrid": true,
         "tickfont": {
          "color": "#4D5663"
         },
         "title": {
          "font": {
           "color": "#4D5663"
          },
          "text": "Opening Hours"
         },
         "zerolinecolor": "#E1E5ED"
        },
        "yaxis": {
         "gridcolor": "#E1E5ED",
         "showgrid": true,
         "tickfont": {
          "color": "#4D5663"
         },
         "title": {
          "font": {
           "color": "#4D5663"
          },
          "text": "Closing Hours"
         },
         "zerolinecolor": "#E1E5ED"
        }
       }
      },
      "text/html": [
       "<div>\n",
       "        \n",
       "        \n",
       "            <div id=\"041aa1f0-3243-4a72-bd7d-131cbf61f3d4\" class=\"plotly-graph-div\" style=\"height:525px; width:100%;\"></div>\n",
       "            <script type=\"text/javascript\">\n",
       "                require([\"plotly\"], function(Plotly) {\n",
       "                    window.PLOTLYENV=window.PLOTLYENV || {};\n",
       "                    window.PLOTLYENV.BASE_URL='https://plot.ly';\n",
       "                    \n",
       "                if (document.getElementById(\"041aa1f0-3243-4a72-bd7d-131cbf61f3d4\")) {\n",
       "                    Plotly.newPlot(\n",
       "                        '041aa1f0-3243-4a72-bd7d-131cbf61f3d4',\n",
       "                        [{\"line\": {\"color\": \"rgba(255, 153, 51, 1.0)\", \"dash\": \"solid\", \"shape\": \"linear\", \"width\": 1.3}, \"marker\": {\"size\": 12, \"symbol\": \"circle\"}, \"mode\": \"markers\", \"name\": \"close\", \"text\": \"\", \"type\": \"scatter\", \"x\": [\"10am\", \"10am\", \"10am\", \"10am\", \"2pm\", \"10am\", \"10am\", \"9am\", \"3pm\", \"10:30am\", \"10am\", \"2pm\", \"2pm\", \"4pm\", \"10am\", \"11am\", \"10am\", \"10am\", \"10am\", \"9am\", \"3:00pm\", null, \"3pm\", \"9am\", \"2pm\", \"2pm\", \"2pm\", \"10am\", \"10am\", \"2pm\", \"9am\", \"2pm\", \"9am\", \"10am\", \"10am\", \"2pm\", \"9am\", \"10:30am\", \"10am\", \"10am\", \"10am\", \"11am\", \"10am\", \"10am\", \"3pm\", \"9am\", \"9am\", \"2pm\"], \"y\": [\"2pm\", \"2pm\", \"3pm\", \"2pm\", \"6pm\", \"3pm\", \"2pm\", \"2pm\", \"7pm\", \"12:30pm\", \"12pm\", \"4pm\", \"4pm\", \"7pm\", \"2pm\", \"1pm\", \"2pm\", \"2pm\", \"4pm\", \"2pm\", \"7:00pm\", \"\", \"7pm\", \"2pm\", \"4pm\", \"4pm\", \"4pm\", \"3pm\", \"2pm\", \"6pm\", \"2pm\", \"6pm\", \"2pm\", \"2pm\", \"2pm\", \"6pm\", \"2pm\", \"12:30pm\", \"2pm\", \"2pm\", \"3pm\", \"1pm\", \"12pm\", \"2pm\", \"7pm\", \"2pm\", \"2pm\", \"4pm\"]}],\n",
       "                        {\"legend\": {\"bgcolor\": \"#F5F6F9\", \"font\": {\"color\": \"#4D5663\"}}, \"paper_bgcolor\": \"#F5F6F9\", \"plot_bgcolor\": \"#F5F6F9\", \"template\": {\"data\": {\"bar\": [{\"error_x\": {\"color\": \"#2a3f5f\"}, \"error_y\": {\"color\": \"#2a3f5f\"}, \"marker\": {\"line\": {\"color\": \"#E5ECF6\", \"width\": 0.5}}, \"type\": \"bar\"}], \"barpolar\": [{\"marker\": {\"line\": {\"color\": \"#E5ECF6\", \"width\": 0.5}}, \"type\": \"barpolar\"}], \"carpet\": [{\"aaxis\": {\"endlinecolor\": \"#2a3f5f\", \"gridcolor\": \"white\", \"linecolor\": \"white\", \"minorgridcolor\": \"white\", \"startlinecolor\": \"#2a3f5f\"}, \"baxis\": {\"endlinecolor\": \"#2a3f5f\", \"gridcolor\": \"white\", \"linecolor\": \"white\", \"minorgridcolor\": \"white\", \"startlinecolor\": \"#2a3f5f\"}, \"type\": \"carpet\"}], \"choropleth\": [{\"colorbar\": {\"outlinewidth\": 0, \"ticks\": \"\"}, \"type\": \"choropleth\"}], \"contour\": [{\"colorbar\": {\"outlinewidth\": 0, \"ticks\": \"\"}, \"colorscale\": [[0.0, \"#0d0887\"], [0.1111111111111111, \"#46039f\"], [0.2222222222222222, \"#7201a8\"], [0.3333333333333333, \"#9c179e\"], [0.4444444444444444, \"#bd3786\"], [0.5555555555555556, \"#d8576b\"], [0.6666666666666666, \"#ed7953\"], [0.7777777777777778, \"#fb9f3a\"], [0.8888888888888888, \"#fdca26\"], [1.0, \"#f0f921\"]], \"type\": \"contour\"}], \"contourcarpet\": [{\"colorbar\": {\"outlinewidth\": 0, \"ticks\": \"\"}, \"type\": \"contourcarpet\"}], \"heatmap\": [{\"colorbar\": {\"outlinewidth\": 0, \"ticks\": \"\"}, \"colorscale\": [[0.0, \"#0d0887\"], [0.1111111111111111, \"#46039f\"], [0.2222222222222222, \"#7201a8\"], [0.3333333333333333, \"#9c179e\"], [0.4444444444444444, \"#bd3786\"], [0.5555555555555556, \"#d8576b\"], [0.6666666666666666, \"#ed7953\"], [0.7777777777777778, \"#fb9f3a\"], [0.8888888888888888, \"#fdca26\"], [1.0, \"#f0f921\"]], \"type\": \"heatmap\"}], \"heatmapgl\": [{\"colorbar\": {\"outlinewidth\": 0, \"ticks\": \"\"}, \"colorscale\": [[0.0, \"#0d0887\"], [0.1111111111111111, \"#46039f\"], [0.2222222222222222, \"#7201a8\"], [0.3333333333333333, \"#9c179e\"], [0.4444444444444444, \"#bd3786\"], [0.5555555555555556, \"#d8576b\"], [0.6666666666666666, \"#ed7953\"], [0.7777777777777778, \"#fb9f3a\"], [0.8888888888888888, \"#fdca26\"], [1.0, \"#f0f921\"]], \"type\": \"heatmapgl\"}], \"histogram\": [{\"marker\": {\"colorbar\": {\"outlinewidth\": 0, \"ticks\": \"\"}}, \"type\": \"histogram\"}], \"histogram2d\": [{\"colorbar\": {\"outlinewidth\": 0, \"ticks\": \"\"}, \"colorscale\": [[0.0, \"#0d0887\"], [0.1111111111111111, \"#46039f\"], [0.2222222222222222, \"#7201a8\"], [0.3333333333333333, \"#9c179e\"], [0.4444444444444444, \"#bd3786\"], [0.5555555555555556, \"#d8576b\"], [0.6666666666666666, \"#ed7953\"], [0.7777777777777778, \"#fb9f3a\"], [0.8888888888888888, \"#fdca26\"], [1.0, \"#f0f921\"]], \"type\": \"histogram2d\"}], \"histogram2dcontour\": [{\"colorbar\": {\"outlinewidth\": 0, \"ticks\": \"\"}, \"colorscale\": [[0.0, \"#0d0887\"], [0.1111111111111111, \"#46039f\"], [0.2222222222222222, \"#7201a8\"], [0.3333333333333333, \"#9c179e\"], [0.4444444444444444, \"#bd3786\"], [0.5555555555555556, \"#d8576b\"], [0.6666666666666666, \"#ed7953\"], [0.7777777777777778, \"#fb9f3a\"], [0.8888888888888888, \"#fdca26\"], [1.0, \"#f0f921\"]], \"type\": \"histogram2dcontour\"}], \"mesh3d\": [{\"colorbar\": {\"outlinewidth\": 0, \"ticks\": \"\"}, \"type\": \"mesh3d\"}], \"parcoords\": [{\"line\": {\"colorbar\": {\"outlinewidth\": 0, \"ticks\": \"\"}}, \"type\": \"parcoords\"}], \"pie\": [{\"automargin\": true, \"type\": \"pie\"}], \"scatter\": [{\"marker\": {\"colorbar\": {\"outlinewidth\": 0, \"ticks\": \"\"}}, \"type\": \"scatter\"}], \"scatter3d\": [{\"line\": {\"colorbar\": {\"outlinewidth\": 0, \"ticks\": \"\"}}, \"marker\": {\"colorbar\": {\"outlinewidth\": 0, \"ticks\": \"\"}}, \"type\": \"scatter3d\"}], \"scattercarpet\": [{\"marker\": {\"colorbar\": {\"outlinewidth\": 0, \"ticks\": \"\"}}, \"type\": \"scattercarpet\"}], \"scattergeo\": [{\"marker\": {\"colorbar\": {\"outlinewidth\": 0, \"ticks\": \"\"}}, \"type\": \"scattergeo\"}], \"scattergl\": [{\"marker\": {\"colorbar\": {\"outlinewidth\": 0, \"ticks\": \"\"}}, \"type\": \"scattergl\"}], \"scattermapbox\": [{\"marker\": {\"colorbar\": {\"outlinewidth\": 0, \"ticks\": \"\"}}, \"type\": \"scattermapbox\"}], \"scatterpolar\": [{\"marker\": {\"colorbar\": {\"outlinewidth\": 0, \"ticks\": \"\"}}, \"type\": \"scatterpolar\"}], \"scatterpolargl\": [{\"marker\": {\"colorbar\": {\"outlinewidth\": 0, \"ticks\": \"\"}}, \"type\": \"scatterpolargl\"}], \"scatterternary\": [{\"marker\": {\"colorbar\": {\"outlinewidth\": 0, \"ticks\": \"\"}}, \"type\": \"scatterternary\"}], \"surface\": [{\"colorbar\": {\"outlinewidth\": 0, \"ticks\": \"\"}, \"colorscale\": [[0.0, \"#0d0887\"], [0.1111111111111111, \"#46039f\"], [0.2222222222222222, \"#7201a8\"], [0.3333333333333333, \"#9c179e\"], [0.4444444444444444, \"#bd3786\"], [0.5555555555555556, \"#d8576b\"], [0.6666666666666666, \"#ed7953\"], [0.7777777777777778, \"#fb9f3a\"], [0.8888888888888888, \"#fdca26\"], [1.0, \"#f0f921\"]], \"type\": \"surface\"}], \"table\": [{\"cells\": {\"fill\": {\"color\": \"#EBF0F8\"}, \"line\": {\"color\": \"white\"}}, \"header\": {\"fill\": {\"color\": \"#C8D4E3\"}, \"line\": {\"color\": \"white\"}}, \"type\": \"table\"}]}, \"layout\": {\"annotationdefaults\": {\"arrowcolor\": \"#2a3f5f\", \"arrowhead\": 0, \"arrowwidth\": 1}, \"coloraxis\": {\"colorbar\": {\"outlinewidth\": 0, \"ticks\": \"\"}}, \"colorscale\": {\"diverging\": [[0, \"#8e0152\"], [0.1, \"#c51b7d\"], [0.2, \"#de77ae\"], [0.3, \"#f1b6da\"], [0.4, \"#fde0ef\"], [0.5, \"#f7f7f7\"], [0.6, \"#e6f5d0\"], [0.7, \"#b8e186\"], [0.8, \"#7fbc41\"], [0.9, \"#4d9221\"], [1, \"#276419\"]], \"sequential\": [[0.0, \"#0d0887\"], [0.1111111111111111, \"#46039f\"], [0.2222222222222222, \"#7201a8\"], [0.3333333333333333, \"#9c179e\"], [0.4444444444444444, \"#bd3786\"], [0.5555555555555556, \"#d8576b\"], [0.6666666666666666, \"#ed7953\"], [0.7777777777777778, \"#fb9f3a\"], [0.8888888888888888, \"#fdca26\"], [1.0, \"#f0f921\"]], \"sequentialminus\": [[0.0, \"#0d0887\"], [0.1111111111111111, \"#46039f\"], [0.2222222222222222, \"#7201a8\"], [0.3333333333333333, \"#9c179e\"], [0.4444444444444444, \"#bd3786\"], [0.5555555555555556, \"#d8576b\"], [0.6666666666666666, \"#ed7953\"], [0.7777777777777778, \"#fb9f3a\"], [0.8888888888888888, \"#fdca26\"], [1.0, \"#f0f921\"]]}, \"colorway\": [\"#636efa\", \"#EF553B\", \"#00cc96\", \"#ab63fa\", \"#FFA15A\", \"#19d3f3\", \"#FF6692\", \"#B6E880\", \"#FF97FF\", \"#FECB52\"], \"font\": {\"color\": \"#2a3f5f\"}, \"geo\": {\"bgcolor\": \"white\", \"lakecolor\": \"white\", \"landcolor\": \"#E5ECF6\", \"showlakes\": true, \"showland\": true, \"subunitcolor\": \"white\"}, \"hoverlabel\": {\"align\": \"left\"}, \"hovermode\": \"closest\", \"mapbox\": {\"style\": \"light\"}, \"paper_bgcolor\": \"white\", \"plot_bgcolor\": \"#E5ECF6\", \"polar\": {\"angularaxis\": {\"gridcolor\": \"white\", \"linecolor\": \"white\", \"ticks\": \"\"}, \"bgcolor\": \"#E5ECF6\", \"radialaxis\": {\"gridcolor\": \"white\", \"linecolor\": \"white\", \"ticks\": \"\"}}, \"scene\": {\"xaxis\": {\"backgroundcolor\": \"#E5ECF6\", \"gridcolor\": \"white\", \"gridwidth\": 2, \"linecolor\": \"white\", \"showbackground\": true, \"ticks\": \"\", \"zerolinecolor\": \"white\"}, \"yaxis\": {\"backgroundcolor\": \"#E5ECF6\", \"gridcolor\": \"white\", \"gridwidth\": 2, \"linecolor\": \"white\", \"showbackground\": true, \"ticks\": \"\", \"zerolinecolor\": \"white\"}, \"zaxis\": {\"backgroundcolor\": \"#E5ECF6\", \"gridcolor\": \"white\", \"gridwidth\": 2, \"linecolor\": \"white\", \"showbackground\": true, \"ticks\": \"\", \"zerolinecolor\": \"white\"}}, \"shapedefaults\": {\"line\": {\"color\": \"#2a3f5f\"}}, \"ternary\": {\"aaxis\": {\"gridcolor\": \"white\", \"linecolor\": \"white\", \"ticks\": \"\"}, \"baxis\": {\"gridcolor\": \"white\", \"linecolor\": \"white\", \"ticks\": \"\"}, \"bgcolor\": \"#E5ECF6\", \"caxis\": {\"gridcolor\": \"white\", \"linecolor\": \"white\", \"ticks\": \"\"}}, \"title\": {\"x\": 0.05}, \"xaxis\": {\"automargin\": true, \"gridcolor\": \"white\", \"linecolor\": \"white\", \"ticks\": \"\", \"title\": {\"standoff\": 15}, \"zerolinecolor\": \"white\", \"zerolinewidth\": 2}, \"yaxis\": {\"automargin\": true, \"gridcolor\": \"white\", \"linecolor\": \"white\", \"ticks\": \"\", \"title\": {\"standoff\": 15}, \"zerolinecolor\": \"white\", \"zerolinewidth\": 2}}}, \"title\": {\"font\": {\"color\": \"#4D5663\"}, \"text\": \"Opening and Closing Hours of Markets\"}, \"xaxis\": {\"gridcolor\": \"#E1E5ED\", \"showgrid\": true, \"tickfont\": {\"color\": \"#4D5663\"}, \"title\": {\"font\": {\"color\": \"#4D5663\"}, \"text\": \"Opening Hours\"}, \"zerolinecolor\": \"#E1E5ED\"}, \"yaxis\": {\"gridcolor\": \"#E1E5ED\", \"showgrid\": true, \"tickfont\": {\"color\": \"#4D5663\"}, \"title\": {\"font\": {\"color\": \"#4D5663\"}, \"text\": \"Closing Hours\"}, \"zerolinecolor\": \"#E1E5ED\"}},\n",
       "                        {\"showLink\": true, \"linkText\": \"Export to plot.ly\", \"plotlyServerURL\": \"https://plot.ly\", \"responsive\": true}\n",
       "                    ).then(function(){\n",
       "                            \n",
       "var gd = document.getElementById('041aa1f0-3243-4a72-bd7d-131cbf61f3d4');\n",
       "var x = new MutationObserver(function (mutations, observer) {{\n",
       "        var display = window.getComputedStyle(gd).display;\n",
       "        if (!display || display === 'none') {{\n",
       "            console.log([gd, 'removed!']);\n",
       "            Plotly.purge(gd);\n",
       "            observer.disconnect();\n",
       "        }}\n",
       "}});\n",
       "\n",
       "// Listen for the removal of the full notebook cells\n",
       "var notebookContainer = gd.closest('#notebook-container');\n",
       "if (notebookContainer) {{\n",
       "    x.observe(notebookContainer, {childList: true});\n",
       "}}\n",
       "\n",
       "// Listen for the clearing of the current output cell\n",
       "var outputEl = gd.closest('.output');\n",
       "if (outputEl) {{\n",
       "    x.observe(outputEl, {childList: true});\n",
       "}}\n",
       "\n",
       "                        })\n",
       "                };\n",
       "                });\n",
       "            </script>\n",
       "        </div>"
      ]
     },
     "metadata": {},
     "output_type": "display_data"
    }
   ],
   "source": [
    "# Double-click this cell and provide your code here. Use as many code cells as you need to analyze and visualize your data. \n",
    "# Remember to add a title, as well as appropriate x and y labels to your visualizations\n",
    "market.iplot(kind=\"scatter\", mode='markers', y=\"close\", x=\"open\", yTitle = \"Closing Hours\", xTitle = \"Opening Hours\", title = \"Opening and Closing Hours of Markets\")"
   ]
  },
  {
   "cell_type": "code",
   "execution_count": 25,
   "metadata": {},
   "outputs": [
    {
     "data": {
      "text/html": [
       "<div>\n",
       "<style scoped>\n",
       "    .dataframe tbody tr th:only-of-type {\n",
       "        vertical-align: middle;\n",
       "    }\n",
       "\n",
       "    .dataframe tbody tr th {\n",
       "        vertical-align: top;\n",
       "    }\n",
       "\n",
       "    .dataframe thead th {\n",
       "        text-align: right;\n",
       "    }\n",
       "</style>\n",
       "<table border=\"1\" class=\"dataframe\">\n",
       "  <thead>\n",
       "    <tr style=\"text-align: right;\">\n",
       "      <th></th>\n",
       "      <th>day</th>\n",
       "      <th>Count</th>\n",
       "    </tr>\n",
       "  </thead>\n",
       "  <tbody>\n",
       "    <tr>\n",
       "      <th>0</th>\n",
       "      <td>1st and 3rd Saturday of month</td>\n",
       "      <td>2</td>\n",
       "    </tr>\n",
       "    <tr>\n",
       "      <th>1</th>\n",
       "      <td>2nd Saturday of month</td>\n",
       "      <td>2</td>\n",
       "    </tr>\n",
       "    <tr>\n",
       "      <th>2</th>\n",
       "      <td>2nd and 4th Saturday</td>\n",
       "      <td>1</td>\n",
       "    </tr>\n",
       "    <tr>\n",
       "      <th>3</th>\n",
       "      <td>3rd Saturday of month</td>\n",
       "      <td>3</td>\n",
       "    </tr>\n",
       "    <tr>\n",
       "      <th>4</th>\n",
       "      <td>Saturday</td>\n",
       "      <td>18</td>\n",
       "    </tr>\n",
       "    <tr>\n",
       "      <th>5</th>\n",
       "      <td>Sunday</td>\n",
       "      <td>8</td>\n",
       "    </tr>\n",
       "    <tr>\n",
       "      <th>6</th>\n",
       "      <td>Thursday</td>\n",
       "      <td>8</td>\n",
       "    </tr>\n",
       "    <tr>\n",
       "      <th>7</th>\n",
       "      <td>Wednesday</td>\n",
       "      <td>5</td>\n",
       "    </tr>\n",
       "  </tbody>\n",
       "</table>\n",
       "</div>"
      ],
      "text/plain": [
       "                             day  Count\n",
       "0  1st and 3rd Saturday of month      2\n",
       "1          2nd Saturday of month      2\n",
       "2           2nd and 4th Saturday      1\n",
       "3          3rd Saturday of month      3\n",
       "4                       Saturday     18\n",
       "5                         Sunday      8\n",
       "6                       Thursday      8\n",
       "7                      Wednesday      5"
      ]
     },
     "execution_count": 25,
     "metadata": {},
     "output_type": "execute_result"
    }
   ],
   "source": [
    "weekdays = market.groupby(\"day\").size().reset_index(name=\"Count\")\n",
    "weekdays"
   ]
  },
  {
   "cell_type": "code",
   "execution_count": 27,
   "metadata": {},
   "outputs": [
    {
     "data": {
      "application/vnd.plotly.v1+json": {
       "config": {
        "linkText": "Export to plot.ly",
        "plotlyServerURL": "https://plot.ly",
        "showLink": true
       },
       "data": [
        {
         "labels": [
          "1st and 3rd Saturday of month",
          "2nd Saturday of month",
          "2nd and 4th Saturday",
          "3rd Saturday of month",
          "Saturday",
          "Sunday",
          "Thursday",
          "Wednesday"
         ],
         "marker": {
          "colors": [
           "rgba(255, 153, 51, 1.0)",
           "rgba(55, 128, 191, 1.0)",
           "rgba(50, 171, 96, 1.0)",
           "rgba(128, 0, 128, 1.0)",
           "rgba(219, 64, 82, 1.0)",
           "rgba(0, 128, 128, 1.0)",
           "rgba(255, 255, 51, 1.0)",
           "rgba(128, 128, 0, 1.0)"
          ]
         },
         "name": "",
         "type": "pie",
         "values": [
          2,
          2,
          1,
          3,
          18,
          8,
          8,
          5
         ]
        }
       ],
       "layout": {
        "legend": {
         "bgcolor": "#F5F6F9",
         "font": {
          "color": "#4D5663"
         }
        },
        "paper_bgcolor": "#F5F6F9",
        "plot_bgcolor": "#F5F6F9",
        "title": "When Markets are Open",
        "titlefont": {
         "color": "#4D5663"
        }
       }
      },
      "text/html": [
       "<div>\n",
       "        \n",
       "        \n",
       "            <div id=\"176e21ce-3a97-42aa-833b-7bf78816540c\" class=\"plotly-graph-div\" style=\"height:525px; width:100%;\"></div>\n",
       "            <script type=\"text/javascript\">\n",
       "                require([\"plotly\"], function(Plotly) {\n",
       "                    window.PLOTLYENV=window.PLOTLYENV || {};\n",
       "                    window.PLOTLYENV.BASE_URL='https://plot.ly';\n",
       "                    \n",
       "                if (document.getElementById(\"176e21ce-3a97-42aa-833b-7bf78816540c\")) {\n",
       "                    Plotly.newPlot(\n",
       "                        '176e21ce-3a97-42aa-833b-7bf78816540c',\n",
       "                        [{\"labels\": [\"1st and 3rd Saturday of month\", \"2nd Saturday of month\", \"2nd and 4th Saturday\", \"3rd Saturday of month\", \"Saturday\", \"Sunday\", \"Thursday\", \"Wednesday\"], \"marker\": {\"colors\": [\"rgba(255, 153, 51, 1.0)\", \"rgba(55, 128, 191, 1.0)\", \"rgba(50, 171, 96, 1.0)\", \"rgba(128, 0, 128, 1.0)\", \"rgba(219, 64, 82, 1.0)\", \"rgba(0, 128, 128, 1.0)\", \"rgba(255, 255, 51, 1.0)\", \"rgba(128, 128, 0, 1.0)\"]}, \"name\": \"\", \"type\": \"pie\", \"values\": [2, 2, 1, 3, 18, 8, 8, 5]}],\n",
       "                        {\"legend\": {\"bgcolor\": \"#F5F6F9\", \"font\": {\"color\": \"#4D5663\"}}, \"paper_bgcolor\": \"#F5F6F9\", \"plot_bgcolor\": \"#F5F6F9\", \"title\": \"When Markets are Open\", \"titlefont\": {\"color\": \"#4D5663\"}},\n",
       "                        {\"showLink\": true, \"linkText\": \"Export to plot.ly\", \"plotlyServerURL\": \"https://plot.ly\", \"responsive\": true}\n",
       "                    ).then(function(){\n",
       "                            \n",
       "var gd = document.getElementById('176e21ce-3a97-42aa-833b-7bf78816540c');\n",
       "var x = new MutationObserver(function (mutations, observer) {{\n",
       "        var display = window.getComputedStyle(gd).display;\n",
       "        if (!display || display === 'none') {{\n",
       "            console.log([gd, 'removed!']);\n",
       "            Plotly.purge(gd);\n",
       "            observer.disconnect();\n",
       "        }}\n",
       "}});\n",
       "\n",
       "// Listen for the removal of the full notebook cells\n",
       "var notebookContainer = gd.closest('#notebook-container');\n",
       "if (notebookContainer) {{\n",
       "    x.observe(notebookContainer, {childList: true});\n",
       "}}\n",
       "\n",
       "// Listen for the clearing of the current output cell\n",
       "var outputEl = gd.closest('.output');\n",
       "if (outputEl) {{\n",
       "    x.observe(outputEl, {childList: true});\n",
       "}}\n",
       "\n",
       "                        })\n",
       "                };\n",
       "                });\n",
       "            </script>\n",
       "        </div>"
      ]
     },
     "metadata": {},
     "output_type": "display_data"
    }
   ],
   "source": [
    "weekdays.iplot(kind=\"pie\", values=\"Count\", labels=\"day\", title = \"When Markets are Open\")"
   ]
  },
  {
   "cell_type": "markdown",
   "metadata": {},
   "source": [
    "### Observations"
   ]
  },
  {
   "cell_type": "markdown",
   "metadata": {},
   "source": [
    "In the scatter plot above, with the x axis being the opening hours, and the y axis being the closing hours, we can see that markets can open as early as 9 am and close as late as 7 pm. However, the average time for markets to be open is around 2 to 3 hours, and the average opening and closing hours seem to be around 10 am to 2 pm. While supermarkets open for longer periods of time, markets are less fatiguing to the people working there. Since these people who have migrated are most likely going to face physical and mental challenges, markets are kinder and more sensitive to the well-being of people.\n",
    "\n",
    "In the pie chart above, most of the markets in Vancouver, which are 18, open on Saturdays, which represent 38.3%. The next most common days include Thursday and Sunday, which makes up 17% of the markets, or 8 in total. While pop-up markets in Vancouver are usually only during certain periods of months, people on Mars must have access to food year round."
   ]
  },
  {
   "cell_type": "markdown",
   "metadata": {},
   "source": [
    "### Section IV: Conclusion\n",
    "\n",
    "In conclusion, I propose that markets on Mars consist of freeze dried or dried food that can last on the trip from Earth to Mars. Since it will take almost a year to get a rocket from Earth to Mars, food that can last a long time is a must to ensure that it can be consumed not only for a year, but perhaps many more years, in case there is a critical failure. I also propose that markets on Mars should be open during the middle of the day, specifically from 10 am to 2 pm, or 4 hours in the middle of the day. This will ensure that colonists have plenty of time to collect food for themselves, as well as the people working there can either work on other tasks they are given, or take some time to improve their mental or physical health. Lastly, I propose that markets should open on Thursday, Friday, Saturday, and Sunday. This will give colonists many opportunities to collect food for themselves, and by opening the market for many days, if they happen to be busy on a given day, they can still get food the next day, or wait only a couple more days before the market opens."
   ]
  },
  {
   "cell_type": "markdown",
   "metadata": {},
   "source": [
    "Things I learned from the data:\n",
    "1. Markets can greatly differ their opening times. For example, while there are more morning markets, there are also some that open in the afternoon.\n",
    "2. Different markets have different things to offer. Most markets have essentials like produce, but others may serve prepared food, though it may not be practical to send a warm steak into space.\n",
    "3. Markets are generally open on the weekends to reach out to the most people as possible.\n",
    "\n",
    "Things I learned from the hackathon:\n",
    "1. Importing data from outside sources are easier said than done. Though they are challenging, I'm sure I'll get it sooner or later.\n",
    "2. While Pandas is still relatively new to me, I can customize my graphs a lot more than I could have before.\n",
    "3. Different types of graphs work better for different kinds of data. I had to change the type of graphs for different types of data to make sure my point is being get across in the most clear, efficient way possible."
   ]
  },
  {
   "cell_type": "markdown",
   "metadata": {},
   "source": [
    "### [![Callysto.ca License](https://github.com/callysto/curriculum-notebooks/blob/master/callysto-notebook-banner-bottom.jpg?raw=true)](https://github.com/callysto/curriculum-notebooks/blob/master/LICENSE.md)"
   ]
  }
 ],
 "metadata": {
  "kernelspec": {
   "display_name": "Python 3",
   "language": "python",
   "name": "python3"
  },
  "language_info": {
   "codemirror_mode": {
    "name": "ipython",
    "version": 3
   },
   "file_extension": ".py",
   "mimetype": "text/x-python",
   "name": "python",
   "nbconvert_exporter": "python",
   "pygments_lexer": "ipython3",
   "version": "3.8.4"
  }
 },
 "nbformat": 4,
 "nbformat_minor": 4
}
