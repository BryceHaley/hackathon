{
 "cells": [
  {
   "cell_type": "markdown",
   "metadata": {},
   "source": [
    "![Callysto.ca Banner](https://github.com/callysto/curriculum-notebooks/blob/master/callysto-notebook-banner-top.jpg?raw=true)\n",
    "\n",
    "<a href=\"https://hub.callysto.ca/jupyter/hub/user-redirect/git-pull?repo=https%3A%2F%2Fgithub.com%2Fcallysto%2Fhackathon&branch=master&subPath=ColonizingMars/ChallengeTemplates/challenge-option-2-how-could-we-colonize-mars.ipynb&depth=1\" target=\"_parent\"><img src=\"https://raw.githubusercontent.com/callysto/curriculum-notebooks/master/open-in-callysto-button.svg?sanitize=true\" width=\"123\" height=\"24\" alt=\"Open in Callysto\"/></a>"
   ]
  },
  {
   "cell_type": "markdown",
   "metadata": {},
   "source": [
    "# *Sustaining Life on Mars: Data Science Challenge*.\n",
    "\n",
    "\n",
    "You’re a data scientist on a team of newly-arrived humans. While you were on Earth, you figured out how you could make the planet habitable. From growing food to clothing needs, you need to start building the framework for sustaining life on the red planet. \n",
    "\n",
    "In this notebook, we have decided to focus on **Music**.  We need some entertainment when we are bored on Mars! "
   ]
  },
  {
   "cell_type": "markdown",
   "metadata": {},
   "source": [
    "![music image](https://github.com/callysto/hackathon/blob/sustainable-society/SustainabilityOnMars/ChallengeExamples/music-example-image.jpg?raw=true)"
   ]
  },
  {
   "cell_type": "markdown",
   "metadata": {},
   "source": [
    "### Section I: Problem background\n",
    "\n",
    "We believe that arts shape the structures, behaviour and values of society. Music in particular, is one of the most powerful media to communicate messages to billions of people. \n",
    "\n",
    "The questions we picked: Will it be boring on Mars? Can music be used for entertainment on Mars?  Do we have enough music to listen to when we are bored? "
   ]
  },
  {
   "cell_type": "markdown",
   "metadata": {},
   "source": [
    "### Section II: The data you used\n",
    "\n",
    "This Spotify Dataset has 160k+ songs - released in between 2000 and 2020. Each row represents a single track and each column represents a field of the track.\n",
    "\n",
    "Spotify is a Swedish audio streaming platform that provides DRM-protected music and podcasts from record labels and media companies. At the end of each year, Spotify compiles a playlist of the songs streamed most often over the course of that year.\n",
    "\n",
    "Below are some of the fields available for each track which we will use to answer the questions we are interested in:\n",
    "\n",
    "**Beats Per Minute (BPM)** — The tempo of the song.\\\n",
    "**Energy** — The energy of a song, the higher the value, the more energetic.\\\n",
    "**Danceability** — The higher the value, the easier it is to dance to this song.\\\n",
    "**Loudness** — The higher the value, the louder the song (in dB).\\\n",
    "**Valence** — The higher the value, the more positive mood for the song.\\\n",
    "**Length** — The duration of the song.\\\n",
    "**Acousticness** — The higher the value the more acoustic the song is.\\\n",
    "**Release Year** — The year each song was released.\\\n",
    "**Popularity** — The higher the value the more popular the song is."
   ]
  },
  {
   "cell_type": "markdown",
   "metadata": {},
   "source": [
    "#### Would you like to get in the mood and listen to 'The Martian' soundtrack playing while you work on analysing data for Sustainability on Mars? \n",
    "\n",
    "Run the following cell if your answer is 'Yes'"
   ]
  },
  {
   "cell_type": "code",
   "execution_count": null,
   "metadata": {},
   "outputs": [],
   "source": [
    "from IPython.display import YouTubeVideo\n",
    "YouTubeVideo('JT7oaYFEgJw')"
   ]
  },
  {
   "cell_type": "markdown",
   "metadata": {},
   "source": [
    "#### 👨🏽‍💻 Now let's do some data science "
   ]
  },
  {
   "cell_type": "code",
   "execution_count": 1,
   "metadata": {},
   "outputs": [],
   "source": [
    "# importing libraries\n",
    "import pandas as pd\n",
    "import matplotlib.pyplot as plt\n",
    "import cufflinks as cf"
   ]
  },
  {
   "cell_type": "code",
   "execution_count": 2,
   "metadata": {},
   "outputs": [
    {
     "data": {
      "text/html": [
       "<div>\n",
       "<style scoped>\n",
       "    .dataframe tbody tr th:only-of-type {\n",
       "        vertical-align: middle;\n",
       "    }\n",
       "\n",
       "    .dataframe tbody tr th {\n",
       "        vertical-align: top;\n",
       "    }\n",
       "\n",
       "    .dataframe thead th {\n",
       "        text-align: right;\n",
       "    }\n",
       "</style>\n",
       "<table border=\"1\" class=\"dataframe\">\n",
       "  <thead>\n",
       "    <tr style=\"text-align: right;\">\n",
       "      <th></th>\n",
       "      <th>acousticness</th>\n",
       "      <th>artists</th>\n",
       "      <th>danceability</th>\n",
       "      <th>duration_ms</th>\n",
       "      <th>energy</th>\n",
       "      <th>explicit</th>\n",
       "      <th>id</th>\n",
       "      <th>instrumentalness</th>\n",
       "      <th>key</th>\n",
       "      <th>liveness</th>\n",
       "      <th>loudness</th>\n",
       "      <th>mode</th>\n",
       "      <th>name</th>\n",
       "      <th>popularity</th>\n",
       "      <th>release_date</th>\n",
       "      <th>speechiness</th>\n",
       "      <th>tempo</th>\n",
       "      <th>valence</th>\n",
       "      <th>year</th>\n",
       "    </tr>\n",
       "  </thead>\n",
       "  <tbody>\n",
       "    <tr>\n",
       "      <th>0</th>\n",
       "      <td>0.97200</td>\n",
       "      <td>['David Bauer']</td>\n",
       "      <td>0.567</td>\n",
       "      <td>313293</td>\n",
       "      <td>0.227</td>\n",
       "      <td>0</td>\n",
       "      <td>0w0D8H1ubRerCXHWYJkinO</td>\n",
       "      <td>0.601000</td>\n",
       "      <td>10</td>\n",
       "      <td>0.110</td>\n",
       "      <td>-13.441</td>\n",
       "      <td>1</td>\n",
       "      <td>Shout to the Lord</td>\n",
       "      <td>47</td>\n",
       "      <td>2000</td>\n",
       "      <td>0.0290</td>\n",
       "      <td>136.123</td>\n",
       "      <td>0.0396</td>\n",
       "      <td>2000</td>\n",
       "    </tr>\n",
       "    <tr>\n",
       "      <th>1</th>\n",
       "      <td>0.32100</td>\n",
       "      <td>['Etta James']</td>\n",
       "      <td>0.821</td>\n",
       "      <td>360240</td>\n",
       "      <td>0.418</td>\n",
       "      <td>0</td>\n",
       "      <td>4JVeqfE2tpi7Pv63LJZtPh</td>\n",
       "      <td>0.000372</td>\n",
       "      <td>9</td>\n",
       "      <td>0.222</td>\n",
       "      <td>-9.841</td>\n",
       "      <td>0</td>\n",
       "      <td>Miss You</td>\n",
       "      <td>51</td>\n",
       "      <td>2000-12-12</td>\n",
       "      <td>0.0407</td>\n",
       "      <td>117.382</td>\n",
       "      <td>0.8030</td>\n",
       "      <td>2000</td>\n",
       "    </tr>\n",
       "    <tr>\n",
       "      <th>2</th>\n",
       "      <td>0.00659</td>\n",
       "      <td>['Quasimoto']</td>\n",
       "      <td>0.706</td>\n",
       "      <td>202507</td>\n",
       "      <td>0.602</td>\n",
       "      <td>1</td>\n",
       "      <td>5pxtdhLAi0RTh1gNqhGMNA</td>\n",
       "      <td>0.000138</td>\n",
       "      <td>11</td>\n",
       "      <td>0.400</td>\n",
       "      <td>-8.306</td>\n",
       "      <td>0</td>\n",
       "      <td>Real Eyes</td>\n",
       "      <td>44</td>\n",
       "      <td>2000-06-13</td>\n",
       "      <td>0.3420</td>\n",
       "      <td>89.692</td>\n",
       "      <td>0.4790</td>\n",
       "      <td>2000</td>\n",
       "    </tr>\n",
       "    <tr>\n",
       "      <th>3</th>\n",
       "      <td>0.00390</td>\n",
       "      <td>['Millencolin']</td>\n",
       "      <td>0.368</td>\n",
       "      <td>173360</td>\n",
       "      <td>0.977</td>\n",
       "      <td>0</td>\n",
       "      <td>3jRsoe4Vkxa4BMYqGHX8L0</td>\n",
       "      <td>0.000000</td>\n",
       "      <td>11</td>\n",
       "      <td>0.350</td>\n",
       "      <td>-2.757</td>\n",
       "      <td>0</td>\n",
       "      <td>Penguins &amp; Polarbears</td>\n",
       "      <td>52</td>\n",
       "      <td>2000-02-22</td>\n",
       "      <td>0.1270</td>\n",
       "      <td>165.889</td>\n",
       "      <td>0.5480</td>\n",
       "      <td>2000</td>\n",
       "    </tr>\n",
       "    <tr>\n",
       "      <th>4</th>\n",
       "      <td>0.12200</td>\n",
       "      <td>['Steve Chou']</td>\n",
       "      <td>0.501</td>\n",
       "      <td>344200</td>\n",
       "      <td>0.511</td>\n",
       "      <td>0</td>\n",
       "      <td>4mronxcllhfyhBRqyZi8kU</td>\n",
       "      <td>0.000000</td>\n",
       "      <td>7</td>\n",
       "      <td>0.279</td>\n",
       "      <td>-9.836</td>\n",
       "      <td>0</td>\n",
       "      <td>黃昏</td>\n",
       "      <td>53</td>\n",
       "      <td>2000-12-25</td>\n",
       "      <td>0.0291</td>\n",
       "      <td>78.045</td>\n",
       "      <td>0.1130</td>\n",
       "      <td>2000</td>\n",
       "    </tr>\n",
       "  </tbody>\n",
       "</table>\n",
       "</div>"
      ],
      "text/plain": [
       "   acousticness          artists  danceability  duration_ms  energy  explicit  \\\n",
       "0       0.97200  ['David Bauer']         0.567       313293   0.227         0   \n",
       "1       0.32100   ['Etta James']         0.821       360240   0.418         0   \n",
       "2       0.00659    ['Quasimoto']         0.706       202507   0.602         1   \n",
       "3       0.00390  ['Millencolin']         0.368       173360   0.977         0   \n",
       "4       0.12200   ['Steve Chou']         0.501       344200   0.511         0   \n",
       "\n",
       "                       id  instrumentalness  key  liveness  loudness  mode  \\\n",
       "0  0w0D8H1ubRerCXHWYJkinO          0.601000   10     0.110   -13.441     1   \n",
       "1  4JVeqfE2tpi7Pv63LJZtPh          0.000372    9     0.222    -9.841     0   \n",
       "2  5pxtdhLAi0RTh1gNqhGMNA          0.000138   11     0.400    -8.306     0   \n",
       "3  3jRsoe4Vkxa4BMYqGHX8L0          0.000000   11     0.350    -2.757     0   \n",
       "4  4mronxcllhfyhBRqyZi8kU          0.000000    7     0.279    -9.836     0   \n",
       "\n",
       "                    name  popularity release_date  speechiness    tempo  \\\n",
       "0      Shout to the Lord          47         2000       0.0290  136.123   \n",
       "1               Miss You          51   2000-12-12       0.0407  117.382   \n",
       "2              Real Eyes          44   2000-06-13       0.3420   89.692   \n",
       "3  Penguins & Polarbears          52   2000-02-22       0.1270  165.889   \n",
       "4                     黃昏          53   2000-12-25       0.0291   78.045   \n",
       "\n",
       "   valence  year  \n",
       "0   0.0396  2000  \n",
       "1   0.8030  2000  \n",
       "2   0.4790  2000  \n",
       "3   0.5480  2000  \n",
       "4   0.1130  2000  "
      ]
     },
     "execution_count": 2,
     "metadata": {},
     "output_type": "execute_result"
    }
   ],
   "source": [
    "# reading the data \n",
    "# we have csv file stored in the cloud\n",
    "url = \"https://raw.githubusercontent.com/callysto/hackathon/sustainable-society/SustainabilityOnMars/ChallengeExamples/spotify-data-2000-2020.csv\"\n",
    "\n",
    "# read csv file from url and save it as dataframe\n",
    "music = pd.read_csv(url)\n",
    "\n",
    "# print first 5 rows\n",
    "music.head()"
   ]
  },
  {
   "cell_type": "code",
   "execution_count": null,
   "metadata": {},
   "outputs": [],
   "source": [
    "# how many rows and colums does the data have?\n",
    "music.shape"
   ]
  },
  {
   "cell_type": "markdown",
   "metadata": {},
   "source": [
    "### Section III: Data Analysis and Visualization\n",
    "\n",
    "We want to investigate how much time of songs are available on Spotify? What is the average duration of a song? What is the longest and shortest song? "
   ]
  },
  {
   "cell_type": "markdown",
   "metadata": {},
   "source": [
    "We can answer these questions by checking the column names of the table that hint to which kind of data is available for each track. "
   ]
  },
  {
   "cell_type": "code",
   "execution_count": null,
   "metadata": {},
   "outputs": [],
   "source": [
    "# print column names\n",
    "music.columns"
   ]
  },
  {
   "cell_type": "markdown",
   "metadata": {},
   "source": [
    "We notice we have a column with the duration of each song 'duration_ms'. Let's sort the tracks descendingly according to their duration. "
   ]
  },
  {
   "cell_type": "code",
   "execution_count": null,
   "metadata": {},
   "outputs": [],
   "source": [
    "# arrange all songs we have by duration\n",
    "music.sort_values(by='duration_ms',ascending=False)"
   ]
  },
  {
   "cell_type": "markdown",
   "metadata": {},
   "source": [
    "What is the longest track? What is the shortest track? What is the average duration of a track or song? "
   ]
  },
  {
   "cell_type": "code",
   "execution_count": null,
   "metadata": {},
   "outputs": [],
   "source": [
    "# notice that the duration is provided in milli seconds so it will be more intuitive to convert it to minutes\n",
    "# longest song\n",
    "print(\"Maximum duration song - \" , music['duration_ms'].max()/(1000*60), \"minutes\")\n",
    "\n",
    "# shortest song\n",
    "print(\"Minimum duration song - \" , music['duration_ms'].min()/(1000*60) , \"minutes\")\n",
    "\n",
    "# can we estimate what is the average duration in minutes of a song \n",
    "print(\"Average song duration : \", music['duration_ms'].mean()/(1000*60) , \"minutes\")"
   ]
  },
  {
   "cell_type": "markdown",
   "metadata": {},
   "source": [
    "We want to make sure we have enough music to listen to when we get bored on Mars.  So let's calculate the total amount of time of all the tracks we have in this dataset. "
   ]
  },
  {
   "cell_type": "code",
   "execution_count": null,
   "metadata": {},
   "outputs": [],
   "source": [
    "### caclulate the total duration of songs in days \n",
    "print(\"Total duration of songs on spotify since year 2000:\" , music['duration_ms'].sum()/(1000*60*60*24), \"days\")"
   ]
  },
  {
   "cell_type": "markdown",
   "metadata": {},
   "source": [
    "#### Observations\n",
    "We have around 111 days of songs to listen to when we get bored on Mars.\n",
    "\n",
    "Do you think this is enough? "
   ]
  },
  {
   "cell_type": "markdown",
   "metadata": {},
   "source": [
    "We already know that the average duration of a song over the past 20 years is around 3.8 minutes. We would like now to know if more recent songs tend to be shorter or longer. "
   ]
  },
  {
   "cell_type": "markdown",
   "metadata": {},
   "source": [
    "We can do this by checking the duration of older tracks relative to more recent ones. We will use a scatter plot to visualise the relationship between the duration of a song and its year of release. We do this by creating a scatter plot between the 'duration_ms' column and the 'year' column. "
   ]
  },
  {
   "cell_type": "code",
   "execution_count": null,
   "metadata": {},
   "outputs": [],
   "source": [
    "# group duration fo the different tracks by year, i.e. take the average of the duration of all songs per year\n",
    "columns = [\"duration_ms\"]\n",
    "for col in columns:\n",
    "    x = music.groupby(\"year\")[col].mean()\n",
    "    x = x/(1000*60)"
   ]
  },
  {
   "cell_type": "code",
   "execution_count": null,
   "metadata": {},
   "outputs": [],
   "source": [
    "# draw scatter plot between the average duration of songs in each year versus the respecitve year\n",
    "cf.go_offline()\n",
    "x.iplot(kind='scatter', title='Are older songs shorter or longer than more recent ones ?', yTitle='duration (minutes)', xTitle='year')"
   ]
  },
  {
   "cell_type": "markdown",
   "metadata": {},
   "source": [
    "#### Observations\n",
    "We observe that the duration of songs decrease over years. It thus looks like more recent songs tend to be shorter than older ones. "
   ]
  },
  {
   "cell_type": "markdown",
   "metadata": {},
   "source": [
    "### Section IV: Conclusion\n",
    "\n",
    "We have used data to know that we can have songs worth 111 days to keep people entertained with music on Mars with the more recent songs being shorter in time compared to older ones. "
   ]
  },
  {
   "cell_type": "markdown",
   "metadata": {},
   "source": [
    "### What's next?\n",
    "\n",
    "Several other questions can be answered with this dataset like are longer songs more popular than shorter ones? Can we group songs by their vibes (using valence, danceability)? Can music be used for purposes other than entertainment on Mars? \n",
    "\n",
    "📌 In this example you have seen how data can give us insights into questions and solutions that are both data-driven. Now go to the hackathon template and start solving your own challenge for sustaining life on Mars!"
   ]
  },
  {
   "cell_type": "markdown",
   "metadata": {},
   "source": [
    "### [![Callysto.ca License](https://github.com/callysto/curriculum-notebooks/blob/master/callysto-notebook-banner-bottom.jpg?raw=true)](https://github.com/callysto/curriculum-notebooks/blob/master/LICENSE.md)"
   ]
  }
 ],
 "metadata": {
  "kernelspec": {
   "display_name": "Python 3",
   "language": "python",
   "name": "python3"
  },
  "language_info": {
   "codemirror_mode": {
    "name": "ipython",
    "version": 3
   },
   "file_extension": ".py",
   "mimetype": "text/x-python",
   "name": "python",
   "nbconvert_exporter": "python",
   "pygments_lexer": "ipython3",
   "version": "3.7.6"
  }
 },
 "nbformat": 4,
 "nbformat_minor": 4
}
