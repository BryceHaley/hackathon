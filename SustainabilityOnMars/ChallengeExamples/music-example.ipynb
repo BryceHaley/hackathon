{
 "cells": [
  {
   "cell_type": "markdown",
   "metadata": {},
   "source": [
    "![Callysto.ca Banner](https://github.com/callysto/curriculum-notebooks/blob/master/callysto-notebook-banner-top.jpg?raw=true)\n",
    "\n",
    "<a href=\"https://hub.callysto.ca/jupyter/hub/user-redirect/git-pull?repo=https%3A%2F%2Fgithub.com%2Fcallysto%2Fhackathon&branch=master&subPath=ColonizingMars/ChallengeTemplates/challenge-option-2-how-could-we-colonize-mars.ipynb&depth=1\" target=\"_parent\"><img src=\"https://raw.githubusercontent.com/callysto/curriculum-notebooks/master/open-in-callysto-button.svg?sanitize=true\" width=\"123\" height=\"24\" alt=\"Open in Callysto\"/></a>"
   ]
  },
  {
   "cell_type": "markdown",
   "metadata": {},
   "source": [
    "# Data Scientist Challenge: Humanity must build a new home on Mars.\n",
    "\n",
    "\n",
    "You’re a data scientist on a team of newly-arrived humans. While you were on Earth, you figured out how you could make the planet habitable. From growing food to clothing needs, you need to start building the framework for sustaining life on the red planet. \n",
    "\n",
    "In this notebook, we have decided to focus on **Music**.  We need some entertainment when we are bored on Mars ! "
   ]
  },
  {
   "cell_type": "markdown",
   "metadata": {},
   "source": [
    "![music image](https://github.com/callysto/hackathon/blob/sustainable-society/SustainabilityOnMars/ChallengeExamples/music-example-image.jpg?raw=true)"
   ]
  },
  {
   "cell_type": "markdown",
   "metadata": {},
   "source": [
    "### Section I: About You\n",
    "\n",
    "We believe that arts shape the structures, behaviour and values of society. Music in particular, is one of the most powerful media to communicate messages to billions of people. \n",
    "\n",
    "The questions we picked: Will it be boring on Mars ? Can music be used for entertainment on Mars ? Can music be used for purposes other than entertainment on Mars ? Do we have enough music to listen to when we are bored ? Can music make people happy on Mars ? "
   ]
  },
  {
   "cell_type": "markdown",
   "metadata": {},
   "source": [
    "### Section II: The data you used\n",
    "\n",
    "This Spotify Dataset has 160k+ songs - released in between 2000 and 2020. Each row represents a single track and each column represents a field of the track.\n",
    "\n",
    "Spotify is a Swedish audio streaming platform that provides DRM-protected music and podcasts from record labels and media companies. At the end of each year, Spotify compiles a playlist of the songs streamed most often over the course of that year.\n",
    "\n",
    "Below are some of the fields available for each track which we will use to answer the questions we are interested in:\n",
    "\n",
    "**Beats Per Minute (BPM)** — The tempo of the song.\\\n",
    "**Energy** — The energy of a song, the higher the value, the more energetic.\\\n",
    "**Danceability** — The higher the value, the easier it is to dance to this song.\\\n",
    "**Loudness** — The higher the value, the louder the song (in dB).\\\n",
    "**Valence** — The higher the value, the more positive mood for the song.\\\n",
    "**Length** — The duration of the song.\\\n",
    "**Acousticness** — The higher the value the more acoustic the song is.\\\n",
    "**Release Year** — The year each song was released.\\\n",
    "**Popularity** — The higher the value the more popular the song is.\\"
   ]
  },
  {
   "cell_type": "markdown",
   "metadata": {},
   "source": [
    "#### Would you like to get in the mood and listen to 'The Martian' soundtrack playing while you work on analysing data for Sustainability on Mars ? \n",
    "\n",
    "Run the following cell if your answer is 'Yes'"
   ]
  },
  {
   "cell_type": "code",
   "execution_count": 3,
   "metadata": {},
   "outputs": [
    {
     "data": {
      "image/jpeg": "[encoded data removed]",
      "text/html": [
       "\n",
       "        <iframe\n",
       "            width=\"400\"\n",
       "            height=\"300\"\n",
       "            src=\"https://www.youtube.com/embed/JT7oaYFEgJw\"\n",
       "            frameborder=\"0\"\n",
       "            allowfullscreen\n",
       "        ></iframe>\n",
       "        "
      ],
      "text/plain": [
       "<IPython.lib.display.YouTubeVideo at 0x7f995032ed90>"
      ]
     },
     "execution_count": 3,
     "metadata": {},
     "output_type": "execute_result"
    }
   ],
   "source": [
    "from youtube_search import YoutubeSearch\n",
    "song_name = 'Best of The Martian Soundtrack (Part 1)'\n",
    "video_id = YoutubeSearch(song_name, max_results=1).to_dict()[0]['id']\n",
    "from IPython.display import YouTubeVideo\n",
    "YouTubeVideo(video_id)"
   ]
  },
  {
   "cell_type": "code",
   "execution_count": 4,
   "metadata": {},
   "outputs": [
    {
     "ename": "InvalidURL",
     "evalue": "URL can't contain control characters. '/vi/Best of The Martian Soundtrack (Part 1)/hqdefault.jpg' (found at least ' ')",
     "output_type": "error",
     "traceback": [
      "\u001b[0;31m---------------------------------------------------------------------------\u001b[0m",
      "\u001b[0;31mInvalidURL\u001b[0m                                Traceback (most recent call last)",
      "\u001b[0;32m/opt/anaconda3/lib/python3.7/site-packages/IPython/core/formatters.py\u001b[0m in \u001b[0;36m__call__\u001b[0;34m(self, obj)\u001b[0m\n\u001b[1;32m    343\u001b[0m             \u001b[0mmethod\u001b[0m \u001b[0;34m=\u001b[0m \u001b[0mget_real_method\u001b[0m\u001b[0;34m(\u001b[0m\u001b[0mobj\u001b[0m\u001b[0;34m,\u001b[0m \u001b[0mself\u001b[0m\u001b[0;34m.\u001b[0m\u001b[0mprint_method\u001b[0m\u001b[0;34m)\u001b[0m\u001b[0;34m\u001b[0m\u001b[0;34m\u001b[0m\u001b[0m\n\u001b[1;32m    344\u001b[0m             \u001b[0;32mif\u001b[0m \u001b[0mmethod\u001b[0m \u001b[0;32mis\u001b[0m \u001b[0;32mnot\u001b[0m \u001b[0;32mNone\u001b[0m\u001b[0;34m:\u001b[0m\u001b[0;34m\u001b[0m\u001b[0;34m\u001b[0m\u001b[0m\n\u001b[0;32m--> 345\u001b[0;31m                 \u001b[0;32mreturn\u001b[0m \u001b[0mmethod\u001b[0m\u001b[0;34m(\u001b[0m\u001b[0;34m)\u001b[0m\u001b[0;34m\u001b[0m\u001b[0;34m\u001b[0m\u001b[0m\n\u001b[0m\u001b[1;32m    346\u001b[0m             \u001b[0;32mreturn\u001b[0m \u001b[0;32mNone\u001b[0m\u001b[0;34m\u001b[0m\u001b[0;34m\u001b[0m\u001b[0m\n\u001b[1;32m    347\u001b[0m         \u001b[0;32melse\u001b[0m\u001b[0;34m:\u001b[0m\u001b[0;34m\u001b[0m\u001b[0;34m\u001b[0m\u001b[0m\n",
      "\u001b[0;32m/opt/anaconda3/lib/python3.7/site-packages/IPython/lib/display.py\u001b[0m in \u001b[0;36m_repr_jpeg_\u001b[0;34m(self)\u001b[0m\n\u001b[1;32m    309\u001b[0m \u001b[0;34m\u001b[0m\u001b[0m\n\u001b[1;32m    310\u001b[0m         \u001b[0;32mtry\u001b[0m\u001b[0;34m:\u001b[0m\u001b[0;34m\u001b[0m\u001b[0;34m\u001b[0m\u001b[0m\n\u001b[0;32m--> 311\u001b[0;31m             \u001b[0;32mreturn\u001b[0m \u001b[0murlopen\u001b[0m\u001b[0;34m(\u001b[0m\u001b[0;34m\"https://img.youtube.com/vi/{id}/hqdefault.jpg\"\u001b[0m\u001b[0;34m.\u001b[0m\u001b[0mformat\u001b[0m\u001b[0;34m(\u001b[0m\u001b[0mid\u001b[0m\u001b[0;34m=\u001b[0m\u001b[0mself\u001b[0m\u001b[0;34m.\u001b[0m\u001b[0mid\u001b[0m\u001b[0;34m)\u001b[0m\u001b[0;34m)\u001b[0m\u001b[0;34m.\u001b[0m\u001b[0mread\u001b[0m\u001b[0;34m(\u001b[0m\u001b[0;34m)\u001b[0m\u001b[0;34m\u001b[0m\u001b[0;34m\u001b[0m\u001b[0m\n\u001b[0m\u001b[1;32m    312\u001b[0m         \u001b[0;32mexcept\u001b[0m \u001b[0mIOError\u001b[0m\u001b[0;34m:\u001b[0m\u001b[0;34m\u001b[0m\u001b[0;34m\u001b[0m\u001b[0m\n\u001b[1;32m    313\u001b[0m             \u001b[0;32mreturn\u001b[0m \u001b[0;32mNone\u001b[0m\u001b[0;34m\u001b[0m\u001b[0;34m\u001b[0m\u001b[0m\n",
      "\u001b[0;32m/opt/anaconda3/lib/python3.7/urllib/request.py\u001b[0m in \u001b[0;36murlopen\u001b[0;34m(url, data, timeout, cafile, capath, cadefault, context)\u001b[0m\n\u001b[1;32m    220\u001b[0m     \u001b[0;32melse\u001b[0m\u001b[0;34m:\u001b[0m\u001b[0;34m\u001b[0m\u001b[0;34m\u001b[0m\u001b[0m\n\u001b[1;32m    221\u001b[0m         \u001b[0mopener\u001b[0m \u001b[0;34m=\u001b[0m \u001b[0m_opener\u001b[0m\u001b[0;34m\u001b[0m\u001b[0;34m\u001b[0m\u001b[0m\n\u001b[0;32m--> 222\u001b[0;31m     \u001b[0;32mreturn\u001b[0m \u001b[0mopener\u001b[0m\u001b[0;34m.\u001b[0m\u001b[0mopen\u001b[0m\u001b[0;34m(\u001b[0m\u001b[0murl\u001b[0m\u001b[0;34m,\u001b[0m \u001b[0mdata\u001b[0m\u001b[0;34m,\u001b[0m \u001b[0mtimeout\u001b[0m\u001b[0;34m)\u001b[0m\u001b[0;34m\u001b[0m\u001b[0;34m\u001b[0m\u001b[0m\n\u001b[0m\u001b[1;32m    223\u001b[0m \u001b[0;34m\u001b[0m\u001b[0m\n\u001b[1;32m    224\u001b[0m \u001b[0;32mdef\u001b[0m \u001b[0minstall_opener\u001b[0m\u001b[0;34m(\u001b[0m\u001b[0mopener\u001b[0m\u001b[0;34m)\u001b[0m\u001b[0;34m:\u001b[0m\u001b[0;34m\u001b[0m\u001b[0;34m\u001b[0m\u001b[0m\n",
      "\u001b[0;32m/opt/anaconda3/lib/python3.7/urllib/request.py\u001b[0m in \u001b[0;36mopen\u001b[0;34m(self, fullurl, data, timeout)\u001b[0m\n\u001b[1;32m    523\u001b[0m             \u001b[0mreq\u001b[0m \u001b[0;34m=\u001b[0m \u001b[0mmeth\u001b[0m\u001b[0;34m(\u001b[0m\u001b[0mreq\u001b[0m\u001b[0;34m)\u001b[0m\u001b[0;34m\u001b[0m\u001b[0;34m\u001b[0m\u001b[0m\n\u001b[1;32m    524\u001b[0m \u001b[0;34m\u001b[0m\u001b[0m\n\u001b[0;32m--> 525\u001b[0;31m         \u001b[0mresponse\u001b[0m \u001b[0;34m=\u001b[0m \u001b[0mself\u001b[0m\u001b[0;34m.\u001b[0m\u001b[0m_open\u001b[0m\u001b[0;34m(\u001b[0m\u001b[0mreq\u001b[0m\u001b[0;34m,\u001b[0m \u001b[0mdata\u001b[0m\u001b[0;34m)\u001b[0m\u001b[0;34m\u001b[0m\u001b[0;34m\u001b[0m\u001b[0m\n\u001b[0m\u001b[1;32m    526\u001b[0m \u001b[0;34m\u001b[0m\u001b[0m\n\u001b[1;32m    527\u001b[0m         \u001b[0;31m# post-process response\u001b[0m\u001b[0;34m\u001b[0m\u001b[0;34m\u001b[0m\u001b[0;34m\u001b[0m\u001b[0m\n",
      "\u001b[0;32m/opt/anaconda3/lib/python3.7/urllib/request.py\u001b[0m in \u001b[0;36m_open\u001b[0;34m(self, req, data)\u001b[0m\n\u001b[1;32m    541\u001b[0m         \u001b[0mprotocol\u001b[0m \u001b[0;34m=\u001b[0m \u001b[0mreq\u001b[0m\u001b[0;34m.\u001b[0m\u001b[0mtype\u001b[0m\u001b[0;34m\u001b[0m\u001b[0;34m\u001b[0m\u001b[0m\n\u001b[1;32m    542\u001b[0m         result = self._call_chain(self.handle_open, protocol, protocol +\n\u001b[0;32m--> 543\u001b[0;31m                                   '_open', req)\n\u001b[0m\u001b[1;32m    544\u001b[0m         \u001b[0;32mif\u001b[0m \u001b[0mresult\u001b[0m\u001b[0;34m:\u001b[0m\u001b[0;34m\u001b[0m\u001b[0;34m\u001b[0m\u001b[0m\n\u001b[1;32m    545\u001b[0m             \u001b[0;32mreturn\u001b[0m \u001b[0mresult\u001b[0m\u001b[0;34m\u001b[0m\u001b[0;34m\u001b[0m\u001b[0m\n",
      "\u001b[0;32m/opt/anaconda3/lib/python3.7/urllib/request.py\u001b[0m in \u001b[0;36m_call_chain\u001b[0;34m(self, chain, kind, meth_name, *args)\u001b[0m\n\u001b[1;32m    501\u001b[0m         \u001b[0;32mfor\u001b[0m \u001b[0mhandler\u001b[0m \u001b[0;32min\u001b[0m \u001b[0mhandlers\u001b[0m\u001b[0;34m:\u001b[0m\u001b[0;34m\u001b[0m\u001b[0;34m\u001b[0m\u001b[0m\n\u001b[1;32m    502\u001b[0m             \u001b[0mfunc\u001b[0m \u001b[0;34m=\u001b[0m \u001b[0mgetattr\u001b[0m\u001b[0;34m(\u001b[0m\u001b[0mhandler\u001b[0m\u001b[0;34m,\u001b[0m \u001b[0mmeth_name\u001b[0m\u001b[0;34m)\u001b[0m\u001b[0;34m\u001b[0m\u001b[0;34m\u001b[0m\u001b[0m\n\u001b[0;32m--> 503\u001b[0;31m             \u001b[0mresult\u001b[0m \u001b[0;34m=\u001b[0m \u001b[0mfunc\u001b[0m\u001b[0;34m(\u001b[0m\u001b[0;34m*\u001b[0m\u001b[0margs\u001b[0m\u001b[0;34m)\u001b[0m\u001b[0;34m\u001b[0m\u001b[0;34m\u001b[0m\u001b[0m\n\u001b[0m\u001b[1;32m    504\u001b[0m             \u001b[0;32mif\u001b[0m \u001b[0mresult\u001b[0m \u001b[0;32mis\u001b[0m \u001b[0;32mnot\u001b[0m \u001b[0;32mNone\u001b[0m\u001b[0;34m:\u001b[0m\u001b[0;34m\u001b[0m\u001b[0;34m\u001b[0m\u001b[0m\n\u001b[1;32m    505\u001b[0m                 \u001b[0;32mreturn\u001b[0m \u001b[0mresult\u001b[0m\u001b[0;34m\u001b[0m\u001b[0;34m\u001b[0m\u001b[0m\n",
      "\u001b[0;32m/opt/anaconda3/lib/python3.7/urllib/request.py\u001b[0m in \u001b[0;36mhttps_open\u001b[0;34m(self, req)\u001b[0m\n\u001b[1;32m   1360\u001b[0m         \u001b[0;32mdef\u001b[0m \u001b[0mhttps_open\u001b[0m\u001b[0;34m(\u001b[0m\u001b[0mself\u001b[0m\u001b[0;34m,\u001b[0m \u001b[0mreq\u001b[0m\u001b[0;34m)\u001b[0m\u001b[0;34m:\u001b[0m\u001b[0;34m\u001b[0m\u001b[0;34m\u001b[0m\u001b[0m\n\u001b[1;32m   1361\u001b[0m             return self.do_open(http.client.HTTPSConnection, req,\n\u001b[0;32m-> 1362\u001b[0;31m                 context=self._context, check_hostname=self._check_hostname)\n\u001b[0m\u001b[1;32m   1363\u001b[0m \u001b[0;34m\u001b[0m\u001b[0m\n\u001b[1;32m   1364\u001b[0m         \u001b[0mhttps_request\u001b[0m \u001b[0;34m=\u001b[0m \u001b[0mAbstractHTTPHandler\u001b[0m\u001b[0;34m.\u001b[0m\u001b[0mdo_request_\u001b[0m\u001b[0;34m\u001b[0m\u001b[0;34m\u001b[0m\u001b[0m\n",
      "\u001b[0;32m/opt/anaconda3/lib/python3.7/urllib/request.py\u001b[0m in \u001b[0;36mdo_open\u001b[0;34m(self, http_class, req, **http_conn_args)\u001b[0m\n\u001b[1;32m   1317\u001b[0m             \u001b[0;32mtry\u001b[0m\u001b[0;34m:\u001b[0m\u001b[0;34m\u001b[0m\u001b[0;34m\u001b[0m\u001b[0m\n\u001b[1;32m   1318\u001b[0m                 h.request(req.get_method(), req.selector, req.data, headers,\n\u001b[0;32m-> 1319\u001b[0;31m                           encode_chunked=req.has_header('Transfer-encoding'))\n\u001b[0m\u001b[1;32m   1320\u001b[0m             \u001b[0;32mexcept\u001b[0m \u001b[0mOSError\u001b[0m \u001b[0;32mas\u001b[0m \u001b[0merr\u001b[0m\u001b[0;34m:\u001b[0m \u001b[0;31m# timeout error\u001b[0m\u001b[0;34m\u001b[0m\u001b[0;34m\u001b[0m\u001b[0m\n\u001b[1;32m   1321\u001b[0m                 \u001b[0;32mraise\u001b[0m \u001b[0mURLError\u001b[0m\u001b[0;34m(\u001b[0m\u001b[0merr\u001b[0m\u001b[0;34m)\u001b[0m\u001b[0;34m\u001b[0m\u001b[0;34m\u001b[0m\u001b[0m\n",
      "\u001b[0;32m/opt/anaconda3/lib/python3.7/http/client.py\u001b[0m in \u001b[0;36mrequest\u001b[0;34m(self, method, url, body, headers, encode_chunked)\u001b[0m\n\u001b[1;32m   1250\u001b[0m                 encode_chunked=False):\n\u001b[1;32m   1251\u001b[0m         \u001b[0;34m\"\"\"Send a complete request to the server.\"\"\"\u001b[0m\u001b[0;34m\u001b[0m\u001b[0;34m\u001b[0m\u001b[0m\n\u001b[0;32m-> 1252\u001b[0;31m         \u001b[0mself\u001b[0m\u001b[0;34m.\u001b[0m\u001b[0m_send_request\u001b[0m\u001b[0;34m(\u001b[0m\u001b[0mmethod\u001b[0m\u001b[0;34m,\u001b[0m \u001b[0murl\u001b[0m\u001b[0;34m,\u001b[0m \u001b[0mbody\u001b[0m\u001b[0;34m,\u001b[0m \u001b[0mheaders\u001b[0m\u001b[0;34m,\u001b[0m \u001b[0mencode_chunked\u001b[0m\u001b[0;34m)\u001b[0m\u001b[0;34m\u001b[0m\u001b[0;34m\u001b[0m\u001b[0m\n\u001b[0m\u001b[1;32m   1253\u001b[0m \u001b[0;34m\u001b[0m\u001b[0m\n\u001b[1;32m   1254\u001b[0m     \u001b[0;32mdef\u001b[0m \u001b[0m_send_request\u001b[0m\u001b[0;34m(\u001b[0m\u001b[0mself\u001b[0m\u001b[0;34m,\u001b[0m \u001b[0mmethod\u001b[0m\u001b[0;34m,\u001b[0m \u001b[0murl\u001b[0m\u001b[0;34m,\u001b[0m \u001b[0mbody\u001b[0m\u001b[0;34m,\u001b[0m \u001b[0mheaders\u001b[0m\u001b[0;34m,\u001b[0m \u001b[0mencode_chunked\u001b[0m\u001b[0;34m)\u001b[0m\u001b[0;34m:\u001b[0m\u001b[0;34m\u001b[0m\u001b[0;34m\u001b[0m\u001b[0m\n",
      "\u001b[0;32m/opt/anaconda3/lib/python3.7/http/client.py\u001b[0m in \u001b[0;36m_send_request\u001b[0;34m(self, method, url, body, headers, encode_chunked)\u001b[0m\n\u001b[1;32m   1261\u001b[0m             \u001b[0mskips\u001b[0m\u001b[0;34m[\u001b[0m\u001b[0;34m'skip_accept_encoding'\u001b[0m\u001b[0;34m]\u001b[0m \u001b[0;34m=\u001b[0m \u001b[0;36m1\u001b[0m\u001b[0;34m\u001b[0m\u001b[0;34m\u001b[0m\u001b[0m\n\u001b[1;32m   1262\u001b[0m \u001b[0;34m\u001b[0m\u001b[0m\n\u001b[0;32m-> 1263\u001b[0;31m         \u001b[0mself\u001b[0m\u001b[0;34m.\u001b[0m\u001b[0mputrequest\u001b[0m\u001b[0;34m(\u001b[0m\u001b[0mmethod\u001b[0m\u001b[0;34m,\u001b[0m \u001b[0murl\u001b[0m\u001b[0;34m,\u001b[0m \u001b[0;34m**\u001b[0m\u001b[0mskips\u001b[0m\u001b[0;34m)\u001b[0m\u001b[0;34m\u001b[0m\u001b[0;34m\u001b[0m\u001b[0m\n\u001b[0m\u001b[1;32m   1264\u001b[0m \u001b[0;34m\u001b[0m\u001b[0m\n\u001b[1;32m   1265\u001b[0m         \u001b[0;31m# chunked encoding will happen if HTTP/1.1 is used and either\u001b[0m\u001b[0;34m\u001b[0m\u001b[0;34m\u001b[0m\u001b[0;34m\u001b[0m\u001b[0m\n",
      "\u001b[0;32m/opt/anaconda3/lib/python3.7/http/client.py\u001b[0m in \u001b[0;36mputrequest\u001b[0;34m(self, method, url, skip_host, skip_accept_encoding)\u001b[0m\n\u001b[1;32m   1112\u001b[0m \u001b[0;34m\u001b[0m\u001b[0m\n\u001b[1;32m   1113\u001b[0m         \u001b[0murl\u001b[0m \u001b[0;34m=\u001b[0m \u001b[0murl\u001b[0m \u001b[0;32mor\u001b[0m \u001b[0;34m'/'\u001b[0m\u001b[0;34m\u001b[0m\u001b[0;34m\u001b[0m\u001b[0m\n\u001b[0;32m-> 1114\u001b[0;31m         \u001b[0mself\u001b[0m\u001b[0;34m.\u001b[0m\u001b[0m_validate_path\u001b[0m\u001b[0;34m(\u001b[0m\u001b[0murl\u001b[0m\u001b[0;34m)\u001b[0m\u001b[0;34m\u001b[0m\u001b[0;34m\u001b[0m\u001b[0m\n\u001b[0m\u001b[1;32m   1115\u001b[0m \u001b[0;34m\u001b[0m\u001b[0m\n\u001b[1;32m   1116\u001b[0m         \u001b[0mrequest\u001b[0m \u001b[0;34m=\u001b[0m \u001b[0;34m'%s %s %s'\u001b[0m \u001b[0;34m%\u001b[0m \u001b[0;34m(\u001b[0m\u001b[0mmethod\u001b[0m\u001b[0;34m,\u001b[0m \u001b[0murl\u001b[0m\u001b[0;34m,\u001b[0m \u001b[0mself\u001b[0m\u001b[0;34m.\u001b[0m\u001b[0m_http_vsn_str\u001b[0m\u001b[0;34m)\u001b[0m\u001b[0;34m\u001b[0m\u001b[0;34m\u001b[0m\u001b[0m\n",
      "\u001b[0;32m/opt/anaconda3/lib/python3.7/http/client.py\u001b[0m in \u001b[0;36m_validate_path\u001b[0;34m(self, url)\u001b[0m\n\u001b[1;32m   1203\u001b[0m         \u001b[0mmatch\u001b[0m \u001b[0;34m=\u001b[0m \u001b[0m_contains_disallowed_url_pchar_re\u001b[0m\u001b[0;34m.\u001b[0m\u001b[0msearch\u001b[0m\u001b[0;34m(\u001b[0m\u001b[0murl\u001b[0m\u001b[0;34m)\u001b[0m\u001b[0;34m\u001b[0m\u001b[0;34m\u001b[0m\u001b[0m\n\u001b[1;32m   1204\u001b[0m         \u001b[0;32mif\u001b[0m \u001b[0mmatch\u001b[0m\u001b[0;34m:\u001b[0m\u001b[0;34m\u001b[0m\u001b[0;34m\u001b[0m\u001b[0m\n\u001b[0;32m-> 1205\u001b[0;31m             raise InvalidURL(f\"URL can't contain control characters. {url!r} \"\n\u001b[0m\u001b[1;32m   1206\u001b[0m                              f\"(found at least {match.group()!r})\")\n\u001b[1;32m   1207\u001b[0m \u001b[0;34m\u001b[0m\u001b[0m\n",
      "\u001b[0;31mInvalidURL\u001b[0m: URL can't contain control characters. '/vi/Best of The Martian Soundtrack (Part 1)/hqdefault.jpg' (found at least ' ')"
     ]
    },
    {
     "data": {
      "text/html": [
       "\n",
       "        <iframe\n",
       "            width=\"400\"\n",
       "            height=\"300\"\n",
       "            src=\"https://www.youtube.com/embed/Best of The Martian Soundtrack (Part 1)?start=5&end=90\"\n",
       "            frameborder=\"0\"\n",
       "            allowfullscreen\n",
       "        ></iframe>\n",
       "        "
      ],
      "text/plain": [
       "<IPython.lib.display.YouTubeVideo at 0x7f9951ede4d0>"
      ]
     },
     "execution_count": 4,
     "metadata": {},
     "output_type": "execute_result"
    }
   ],
   "source": [
    "from IPython.display import YouTubeVideo\n",
    "YouTubeVideo('Best of The Martian Soundtrack (Part 1)', start=5, end=90)"
   ]
  },
  {
   "cell_type": "markdown",
   "metadata": {},
   "source": [
    "#### Let's do some data science "
   ]
  },
  {
   "cell_type": "markdown",
   "metadata": {},
   "source": [
    "### importing libraries\n",
    "import pandas as pd\n",
    "import matplotlib.pyplot as plt\n",
    "import seaborn as sns"
   ]
  },
  {
   "cell_type": "code",
   "execution_count": 25,
   "metadata": {},
   "outputs": [
    {
     "data": {
      "text/html": [
       "<div>\n",
       "<style scoped>\n",
       "    .dataframe tbody tr th:only-of-type {\n",
       "        vertical-align: middle;\n",
       "    }\n",
       "\n",
       "    .dataframe tbody tr th {\n",
       "        vertical-align: top;\n",
       "    }\n",
       "\n",
       "    .dataframe thead th {\n",
       "        text-align: right;\n",
       "    }\n",
       "</style>\n",
       "<table border=\"1\" class=\"dataframe\">\n",
       "  <thead>\n",
       "    <tr style=\"text-align: right;\">\n",
       "      <th></th>\n",
       "      <th>artists</th>\n",
       "      <th>danceability</th>\n",
       "      <th>duration_ms</th>\n",
       "      <th>energy</th>\n",
       "      <th>explicit</th>\n",
       "      <th>id</th>\n",
       "      <th>instrumentalness</th>\n",
       "      <th>key</th>\n",
       "      <th>liveness</th>\n",
       "      <th>loudness</th>\n",
       "      <th>mode</th>\n",
       "      <th>name</th>\n",
       "      <th>popularity</th>\n",
       "      <th>release_date</th>\n",
       "      <th>speechiness</th>\n",
       "      <th>tempo</th>\n",
       "      <th>valence</th>\n",
       "      <th>year</th>\n",
       "    </tr>\n",
       "    <tr>\n",
       "      <th>acousticness</th>\n",
       "      <th></th>\n",
       "      <th></th>\n",
       "      <th></th>\n",
       "      <th></th>\n",
       "      <th></th>\n",
       "      <th></th>\n",
       "      <th></th>\n",
       "      <th></th>\n",
       "      <th></th>\n",
       "      <th></th>\n",
       "      <th></th>\n",
       "      <th></th>\n",
       "      <th></th>\n",
       "      <th></th>\n",
       "      <th></th>\n",
       "      <th></th>\n",
       "      <th></th>\n",
       "      <th></th>\n",
       "    </tr>\n",
       "  </thead>\n",
       "  <tbody>\n",
       "    <tr>\n",
       "      <th>0.97200</th>\n",
       "      <td>['David Bauer']</td>\n",
       "      <td>0.567</td>\n",
       "      <td>313293</td>\n",
       "      <td>0.227</td>\n",
       "      <td>0</td>\n",
       "      <td>0w0D8H1ubRerCXHWYJkinO</td>\n",
       "      <td>0.601000</td>\n",
       "      <td>10</td>\n",
       "      <td>0.110</td>\n",
       "      <td>-13.441</td>\n",
       "      <td>1</td>\n",
       "      <td>Shout to the Lord</td>\n",
       "      <td>47</td>\n",
       "      <td>2000</td>\n",
       "      <td>0.0290</td>\n",
       "      <td>136.123</td>\n",
       "      <td>0.0396</td>\n",
       "      <td>2000</td>\n",
       "    </tr>\n",
       "    <tr>\n",
       "      <th>0.32100</th>\n",
       "      <td>['Etta James']</td>\n",
       "      <td>0.821</td>\n",
       "      <td>360240</td>\n",
       "      <td>0.418</td>\n",
       "      <td>0</td>\n",
       "      <td>4JVeqfE2tpi7Pv63LJZtPh</td>\n",
       "      <td>0.000372</td>\n",
       "      <td>9</td>\n",
       "      <td>0.222</td>\n",
       "      <td>-9.841</td>\n",
       "      <td>0</td>\n",
       "      <td>Miss You</td>\n",
       "      <td>51</td>\n",
       "      <td>2000-12-12</td>\n",
       "      <td>0.0407</td>\n",
       "      <td>117.382</td>\n",
       "      <td>0.8030</td>\n",
       "      <td>2000</td>\n",
       "    </tr>\n",
       "    <tr>\n",
       "      <th>0.00659</th>\n",
       "      <td>['Quasimoto']</td>\n",
       "      <td>0.706</td>\n",
       "      <td>202507</td>\n",
       "      <td>0.602</td>\n",
       "      <td>1</td>\n",
       "      <td>5pxtdhLAi0RTh1gNqhGMNA</td>\n",
       "      <td>0.000138</td>\n",
       "      <td>11</td>\n",
       "      <td>0.400</td>\n",
       "      <td>-8.306</td>\n",
       "      <td>0</td>\n",
       "      <td>Real Eyes</td>\n",
       "      <td>44</td>\n",
       "      <td>2000-06-13</td>\n",
       "      <td>0.3420</td>\n",
       "      <td>89.692</td>\n",
       "      <td>0.4790</td>\n",
       "      <td>2000</td>\n",
       "    </tr>\n",
       "    <tr>\n",
       "      <th>0.00390</th>\n",
       "      <td>['Millencolin']</td>\n",
       "      <td>0.368</td>\n",
       "      <td>173360</td>\n",
       "      <td>0.977</td>\n",
       "      <td>0</td>\n",
       "      <td>3jRsoe4Vkxa4BMYqGHX8L0</td>\n",
       "      <td>0.000000</td>\n",
       "      <td>11</td>\n",
       "      <td>0.350</td>\n",
       "      <td>-2.757</td>\n",
       "      <td>0</td>\n",
       "      <td>Penguins &amp; Polarbears</td>\n",
       "      <td>52</td>\n",
       "      <td>2000-02-22</td>\n",
       "      <td>0.1270</td>\n",
       "      <td>165.889</td>\n",
       "      <td>0.5480</td>\n",
       "      <td>2000</td>\n",
       "    </tr>\n",
       "    <tr>\n",
       "      <th>0.12200</th>\n",
       "      <td>['Steve Chou']</td>\n",
       "      <td>0.501</td>\n",
       "      <td>344200</td>\n",
       "      <td>0.511</td>\n",
       "      <td>0</td>\n",
       "      <td>4mronxcllhfyhBRqyZi8kU</td>\n",
       "      <td>0.000000</td>\n",
       "      <td>7</td>\n",
       "      <td>0.279</td>\n",
       "      <td>-9.836</td>\n",
       "      <td>0</td>\n",
       "      <td>黃昏</td>\n",
       "      <td>53</td>\n",
       "      <td>2000-12-25</td>\n",
       "      <td>0.0291</td>\n",
       "      <td>78.045</td>\n",
       "      <td>0.1130</td>\n",
       "      <td>2000</td>\n",
       "    </tr>\n",
       "  </tbody>\n",
       "</table>\n",
       "</div>"
      ],
      "text/plain": [
       "                      artists  danceability  duration_ms  energy  explicit  \\\n",
       "acousticness                                                                 \n",
       "0.97200       ['David Bauer']         0.567       313293   0.227         0   \n",
       "0.32100        ['Etta James']         0.821       360240   0.418         0   \n",
       "0.00659         ['Quasimoto']         0.706       202507   0.602         1   \n",
       "0.00390       ['Millencolin']         0.368       173360   0.977         0   \n",
       "0.12200        ['Steve Chou']         0.501       344200   0.511         0   \n",
       "\n",
       "                                  id  instrumentalness  key  liveness  \\\n",
       "acousticness                                                            \n",
       "0.97200       0w0D8H1ubRerCXHWYJkinO          0.601000   10     0.110   \n",
       "0.32100       4JVeqfE2tpi7Pv63LJZtPh          0.000372    9     0.222   \n",
       "0.00659       5pxtdhLAi0RTh1gNqhGMNA          0.000138   11     0.400   \n",
       "0.00390       3jRsoe4Vkxa4BMYqGHX8L0          0.000000   11     0.350   \n",
       "0.12200       4mronxcllhfyhBRqyZi8kU          0.000000    7     0.279   \n",
       "\n",
       "              loudness  mode                   name  popularity release_date  \\\n",
       "acousticness                                                                   \n",
       "0.97200        -13.441     1      Shout to the Lord          47         2000   \n",
       "0.32100         -9.841     0               Miss You          51   2000-12-12   \n",
       "0.00659         -8.306     0              Real Eyes          44   2000-06-13   \n",
       "0.00390         -2.757     0  Penguins & Polarbears          52   2000-02-22   \n",
       "0.12200         -9.836     0                     黃昏          53   2000-12-25   \n",
       "\n",
       "              speechiness    tempo  valence  year  \n",
       "acousticness                                       \n",
       "0.97200            0.0290  136.123   0.0396  2000  \n",
       "0.32100            0.0407  117.382   0.8030  2000  \n",
       "0.00659            0.3420   89.692   0.4790  2000  \n",
       "0.00390            0.1270  165.889   0.5480  2000  \n",
       "0.12200            0.0291   78.045   0.1130  2000  "
      ]
     },
     "execution_count": 25,
     "metadata": {},
     "output_type": "execute_result"
    }
   ],
   "source": [
    "# reading the data \n",
    "# we have csv file stored in the cloud\n",
    "url = \"https://raw.githubusercontent.com/callysto/hackathon/sustainable-society/SustainabilityOnMars/ChallengeExamples/spotify_data_2000_2020.csv\"\n",
    "\n",
    "# read csv file from url and save it as dataframe\n",
    "music = pd.read_csv(url, index_col=0)\n",
    "\n",
    "# print first 5 rows\n",
    "music.head()"
   ]
  },
  {
   "cell_type": "code",
   "execution_count": 26,
   "metadata": {},
   "outputs": [
    {
     "data": {
      "text/plain": [
       "(41656, 18)"
      ]
     },
     "execution_count": 26,
     "metadata": {},
     "output_type": "execute_result"
    }
   ],
   "source": [
    "# how many rows and colums does the dataframe have?\n",
    "music.shape"
   ]
  },
  {
   "cell_type": "markdown",
   "metadata": {},
   "source": [
    "### Section III: Data Analysis and Visualization\n",
    "\n",
    "We want to investigate how much time of songs are available on Spotify ? what is the average duration of a song ? what is the longest and shortest song ? "
   ]
  },
  {
   "cell_type": "code",
   "execution_count": 27,
   "metadata": {},
   "outputs": [
    {
     "data": {
      "text/plain": [
       "Index(['artists', 'danceability', 'duration_ms', 'energy', 'explicit', 'id',\n",
       "       'instrumentalness', 'key', 'liveness', 'loudness', 'mode', 'name',\n",
       "       'popularity', 'release_date', 'speechiness', 'tempo', 'valence',\n",
       "       'year'],\n",
       "      dtype='object')"
      ]
     },
     "execution_count": 27,
     "metadata": {},
     "output_type": "execute_result"
    }
   ],
   "source": [
    "# print column names\n",
    "music.columns"
   ]
  },
  {
   "cell_type": "markdown",
   "metadata": {},
   "source": [
    "#### We want to make sure we have enough music to listen to when we get bored on Mars. We notice we have a column with the duration of each song. "
   ]
  },
  {
   "cell_type": "code",
   "execution_count": 28,
   "metadata": {},
   "outputs": [
    {
     "data": {
      "text/html": [
       "<div>\n",
       "<style scoped>\n",
       "    .dataframe tbody tr th:only-of-type {\n",
       "        vertical-align: middle;\n",
       "    }\n",
       "\n",
       "    .dataframe tbody tr th {\n",
       "        vertical-align: top;\n",
       "    }\n",
       "\n",
       "    .dataframe thead th {\n",
       "        text-align: right;\n",
       "    }\n",
       "</style>\n",
       "<table border=\"1\" class=\"dataframe\">\n",
       "  <thead>\n",
       "    <tr style=\"text-align: right;\">\n",
       "      <th></th>\n",
       "      <th>artists</th>\n",
       "      <th>danceability</th>\n",
       "      <th>duration_ms</th>\n",
       "      <th>energy</th>\n",
       "      <th>explicit</th>\n",
       "      <th>id</th>\n",
       "      <th>instrumentalness</th>\n",
       "      <th>key</th>\n",
       "      <th>liveness</th>\n",
       "      <th>loudness</th>\n",
       "      <th>mode</th>\n",
       "      <th>name</th>\n",
       "      <th>popularity</th>\n",
       "      <th>release_date</th>\n",
       "      <th>speechiness</th>\n",
       "      <th>tempo</th>\n",
       "      <th>valence</th>\n",
       "      <th>year</th>\n",
       "    </tr>\n",
       "    <tr>\n",
       "      <th>acousticness</th>\n",
       "      <th></th>\n",
       "      <th></th>\n",
       "      <th></th>\n",
       "      <th></th>\n",
       "      <th></th>\n",
       "      <th></th>\n",
       "      <th></th>\n",
       "      <th></th>\n",
       "      <th></th>\n",
       "      <th></th>\n",
       "      <th></th>\n",
       "      <th></th>\n",
       "      <th></th>\n",
       "      <th></th>\n",
       "      <th></th>\n",
       "      <th></th>\n",
       "      <th></th>\n",
       "      <th></th>\n",
       "    </tr>\n",
       "  </thead>\n",
       "  <tbody>\n",
       "    <tr>\n",
       "      <th>0.111000</th>\n",
       "      <td>['Sound Dreamer']</td>\n",
       "      <td>0.0000</td>\n",
       "      <td>5403500</td>\n",
       "      <td>0.000099</td>\n",
       "      <td>0</td>\n",
       "      <td>7foc25ig7dibxvULPU2kBG</td>\n",
       "      <td>0.392000</td>\n",
       "      <td>2</td>\n",
       "      <td>0.1370</td>\n",
       "      <td>-21.669</td>\n",
       "      <td>1</td>\n",
       "      <td>Brown Noise - 90 Minutes</td>\n",
       "      <td>50</td>\n",
       "      <td>2013-06-05</td>\n",
       "      <td>0.0000</td>\n",
       "      <td>0.000</td>\n",
       "      <td>0.000000</td>\n",
       "      <td>2013</td>\n",
       "    </tr>\n",
       "    <tr>\n",
       "      <th>0.975000</th>\n",
       "      <td>['Sounds for Life']</td>\n",
       "      <td>0.1530</td>\n",
       "      <td>4270034</td>\n",
       "      <td>0.079200</td>\n",
       "      <td>0</td>\n",
       "      <td>605JTCltCe1IcqrGXQ294K</td>\n",
       "      <td>1.000000</td>\n",
       "      <td>10</td>\n",
       "      <td>0.1130</td>\n",
       "      <td>-23.962</td>\n",
       "      <td>0</td>\n",
       "      <td>Brown Noise for Sleep</td>\n",
       "      <td>42</td>\n",
       "      <td>2009-03-15</td>\n",
       "      <td>0.1250</td>\n",
       "      <td>132.904</td>\n",
       "      <td>0.000537</td>\n",
       "      <td>2009</td>\n",
       "    </tr>\n",
       "    <tr>\n",
       "      <th>0.000385</th>\n",
       "      <td>['Lightning, Thunder and Rain Storm']</td>\n",
       "      <td>0.1160</td>\n",
       "      <td>4269407</td>\n",
       "      <td>0.338000</td>\n",
       "      <td>0</td>\n",
       "      <td>7dYf0CsWHDLvlP6HJPs3zO</td>\n",
       "      <td>0.093500</td>\n",
       "      <td>1</td>\n",
       "      <td>0.3420</td>\n",
       "      <td>-36.638</td>\n",
       "      <td>1</td>\n",
       "      <td>Midnight Thunderstorm Part 2</td>\n",
       "      <td>44</td>\n",
       "      <td>2009-09-22</td>\n",
       "      <td>0.0648</td>\n",
       "      <td>94.453</td>\n",
       "      <td>0.029300</td>\n",
       "      <td>2009</td>\n",
       "    </tr>\n",
       "    <tr>\n",
       "      <th>0.932000</th>\n",
       "      <td>['Ocean Waves For Sleep']</td>\n",
       "      <td>0.0797</td>\n",
       "      <td>4120258</td>\n",
       "      <td>0.995000</td>\n",
       "      <td>0</td>\n",
       "      <td>1saXdvEAafdRzUphXBzSHg</td>\n",
       "      <td>0.562000</td>\n",
       "      <td>1</td>\n",
       "      <td>0.3100</td>\n",
       "      <td>-17.379</td>\n",
       "      <td>1</td>\n",
       "      <td>Ocean Waves for Sleep</td>\n",
       "      <td>55</td>\n",
       "      <td>2010-07-16</td>\n",
       "      <td>0.0612</td>\n",
       "      <td>84.788</td>\n",
       "      <td>0.000010</td>\n",
       "      <td>2010</td>\n",
       "    </tr>\n",
       "    <tr>\n",
       "      <th>0.932000</th>\n",
       "      <td>['Ocean Sounds']</td>\n",
       "      <td>0.0797</td>\n",
       "      <td>4120258</td>\n",
       "      <td>0.995000</td>\n",
       "      <td>0</td>\n",
       "      <td>2QfFLpSGF1T1pY6tq4kD7Z</td>\n",
       "      <td>0.562000</td>\n",
       "      <td>1</td>\n",
       "      <td>0.3100</td>\n",
       "      <td>-17.379</td>\n",
       "      <td>1</td>\n",
       "      <td>Ocean Waves Sounds</td>\n",
       "      <td>44</td>\n",
       "      <td>2010-07-16</td>\n",
       "      <td>0.0612</td>\n",
       "      <td>84.788</td>\n",
       "      <td>0.000010</td>\n",
       "      <td>2010</td>\n",
       "    </tr>\n",
       "    <tr>\n",
       "      <th>...</th>\n",
       "      <td>...</td>\n",
       "      <td>...</td>\n",
       "      <td>...</td>\n",
       "      <td>...</td>\n",
       "      <td>...</td>\n",
       "      <td>...</td>\n",
       "      <td>...</td>\n",
       "      <td>...</td>\n",
       "      <td>...</td>\n",
       "      <td>...</td>\n",
       "      <td>...</td>\n",
       "      <td>...</td>\n",
       "      <td>...</td>\n",
       "      <td>...</td>\n",
       "      <td>...</td>\n",
       "      <td>...</td>\n",
       "      <td>...</td>\n",
       "      <td>...</td>\n",
       "    </tr>\n",
       "    <tr>\n",
       "      <th>0.253000</th>\n",
       "      <td>['Kanye West']</td>\n",
       "      <td>0.7310</td>\n",
       "      <td>31360</td>\n",
       "      <td>0.412000</td>\n",
       "      <td>1</td>\n",
       "      <td>466XcSgGAiQxcDrcV0yoMP</td>\n",
       "      <td>0.000000</td>\n",
       "      <td>11</td>\n",
       "      <td>0.1640</td>\n",
       "      <td>-11.590</td>\n",
       "      <td>0</td>\n",
       "      <td>Skit #2</td>\n",
       "      <td>44</td>\n",
       "      <td>2005-09-30</td>\n",
       "      <td>0.9460</td>\n",
       "      <td>66.512</td>\n",
       "      <td>0.950000</td>\n",
       "      <td>2005</td>\n",
       "    </tr>\n",
       "    <tr>\n",
       "      <th>0.000000</th>\n",
       "      <td>['Bass Mekanik']</td>\n",
       "      <td>0.1330</td>\n",
       "      <td>31000</td>\n",
       "      <td>0.000000</td>\n",
       "      <td>0</td>\n",
       "      <td>6v2oyTikD4c9X5C3IMdKy2</td>\n",
       "      <td>0.000000</td>\n",
       "      <td>10</td>\n",
       "      <td>0.0000</td>\n",
       "      <td>-39.753</td>\n",
       "      <td>1</td>\n",
       "      <td>65 Hz Test Tone</td>\n",
       "      <td>42</td>\n",
       "      <td>2000-03-01</td>\n",
       "      <td>0.0000</td>\n",
       "      <td>140.044</td>\n",
       "      <td>0.000000</td>\n",
       "      <td>2000</td>\n",
       "    </tr>\n",
       "    <tr>\n",
       "      <th>0.098800</th>\n",
       "      <td>['Thomas &amp; Friends']</td>\n",
       "      <td>0.9060</td>\n",
       "      <td>30946</td>\n",
       "      <td>0.596000</td>\n",
       "      <td>0</td>\n",
       "      <td>2mQVahe9gsumDmr67neUzb</td>\n",
       "      <td>0.000059</td>\n",
       "      <td>8</td>\n",
       "      <td>0.0561</td>\n",
       "      <td>-10.254</td>\n",
       "      <td>1</td>\n",
       "      <td>Thomas Theme (Reprise)</td>\n",
       "      <td>52</td>\n",
       "      <td>2001-01-01</td>\n",
       "      <td>0.0463</td>\n",
       "      <td>98.980</td>\n",
       "      <td>0.811000</td>\n",
       "      <td>2001</td>\n",
       "    </tr>\n",
       "    <tr>\n",
       "      <th>0.988000</th>\n",
       "      <td>['Jeremy Zuckerman']</td>\n",
       "      <td>0.2440</td>\n",
       "      <td>30707</td>\n",
       "      <td>0.151000</td>\n",
       "      <td>0</td>\n",
       "      <td>1gtflD7JVxpozNitZJp6xu</td>\n",
       "      <td>0.946000</td>\n",
       "      <td>6</td>\n",
       "      <td>0.1160</td>\n",
       "      <td>-12.535</td>\n",
       "      <td>0</td>\n",
       "      <td>The Legend of Korra End Credits</td>\n",
       "      <td>46</td>\n",
       "      <td>2013-07-16</td>\n",
       "      <td>0.0353</td>\n",
       "      <td>83.772</td>\n",
       "      <td>0.563000</td>\n",
       "      <td>2013</td>\n",
       "    </tr>\n",
       "    <tr>\n",
       "      <th>0.495000</th>\n",
       "      <td>['Chance the Rapper']</td>\n",
       "      <td>0.7590</td>\n",
       "      <td>30301</td>\n",
       "      <td>0.111000</td>\n",
       "      <td>0</td>\n",
       "      <td>3VhGbMpUONRwUIvgFoF14b</td>\n",
       "      <td>0.000000</td>\n",
       "      <td>10</td>\n",
       "      <td>0.4950</td>\n",
       "      <td>-21.779</td>\n",
       "      <td>0</td>\n",
       "      <td>Juice</td>\n",
       "      <td>53</td>\n",
       "      <td>2013-04-30</td>\n",
       "      <td>0.8610</td>\n",
       "      <td>109.238</td>\n",
       "      <td>0.804000</td>\n",
       "      <td>2013</td>\n",
       "    </tr>\n",
       "  </tbody>\n",
       "</table>\n",
       "<p>41656 rows × 18 columns</p>\n",
       "</div>"
      ],
      "text/plain": [
       "                                            artists  danceability  \\\n",
       "acousticness                                                        \n",
       "0.111000                          ['Sound Dreamer']        0.0000   \n",
       "0.975000                        ['Sounds for Life']        0.1530   \n",
       "0.000385      ['Lightning, Thunder and Rain Storm']        0.1160   \n",
       "0.932000                  ['Ocean Waves For Sleep']        0.0797   \n",
       "0.932000                           ['Ocean Sounds']        0.0797   \n",
       "...                                             ...           ...   \n",
       "0.253000                             ['Kanye West']        0.7310   \n",
       "0.000000                           ['Bass Mekanik']        0.1330   \n",
       "0.098800                       ['Thomas & Friends']        0.9060   \n",
       "0.988000                       ['Jeremy Zuckerman']        0.2440   \n",
       "0.495000                      ['Chance the Rapper']        0.7590   \n",
       "\n",
       "              duration_ms    energy  explicit                      id  \\\n",
       "acousticness                                                            \n",
       "0.111000          5403500  0.000099         0  7foc25ig7dibxvULPU2kBG   \n",
       "0.975000          4270034  0.079200         0  605JTCltCe1IcqrGXQ294K   \n",
       "0.000385          4269407  0.338000         0  7dYf0CsWHDLvlP6HJPs3zO   \n",
       "0.932000          4120258  0.995000         0  1saXdvEAafdRzUphXBzSHg   \n",
       "0.932000          4120258  0.995000         0  2QfFLpSGF1T1pY6tq4kD7Z   \n",
       "...                   ...       ...       ...                     ...   \n",
       "0.253000            31360  0.412000         1  466XcSgGAiQxcDrcV0yoMP   \n",
       "0.000000            31000  0.000000         0  6v2oyTikD4c9X5C3IMdKy2   \n",
       "0.098800            30946  0.596000         0  2mQVahe9gsumDmr67neUzb   \n",
       "0.988000            30707  0.151000         0  1gtflD7JVxpozNitZJp6xu   \n",
       "0.495000            30301  0.111000         0  3VhGbMpUONRwUIvgFoF14b   \n",
       "\n",
       "              instrumentalness  key  liveness  loudness  mode  \\\n",
       "acousticness                                                    \n",
       "0.111000              0.392000    2    0.1370   -21.669     1   \n",
       "0.975000              1.000000   10    0.1130   -23.962     0   \n",
       "0.000385              0.093500    1    0.3420   -36.638     1   \n",
       "0.932000              0.562000    1    0.3100   -17.379     1   \n",
       "0.932000              0.562000    1    0.3100   -17.379     1   \n",
       "...                        ...  ...       ...       ...   ...   \n",
       "0.253000              0.000000   11    0.1640   -11.590     0   \n",
       "0.000000              0.000000   10    0.0000   -39.753     1   \n",
       "0.098800              0.000059    8    0.0561   -10.254     1   \n",
       "0.988000              0.946000    6    0.1160   -12.535     0   \n",
       "0.495000              0.000000   10    0.4950   -21.779     0   \n",
       "\n",
       "                                         name  popularity release_date  \\\n",
       "acousticness                                                             \n",
       "0.111000             Brown Noise - 90 Minutes          50   2013-06-05   \n",
       "0.975000                Brown Noise for Sleep          42   2009-03-15   \n",
       "0.000385         Midnight Thunderstorm Part 2          44   2009-09-22   \n",
       "0.932000                Ocean Waves for Sleep          55   2010-07-16   \n",
       "0.932000                   Ocean Waves Sounds          44   2010-07-16   \n",
       "...                                       ...         ...          ...   \n",
       "0.253000                              Skit #2          44   2005-09-30   \n",
       "0.000000                      65 Hz Test Tone          42   2000-03-01   \n",
       "0.098800               Thomas Theme (Reprise)          52   2001-01-01   \n",
       "0.988000      The Legend of Korra End Credits          46   2013-07-16   \n",
       "0.495000                                Juice          53   2013-04-30   \n",
       "\n",
       "              speechiness    tempo   valence  year  \n",
       "acousticness                                        \n",
       "0.111000           0.0000    0.000  0.000000  2013  \n",
       "0.975000           0.1250  132.904  0.000537  2009  \n",
       "0.000385           0.0648   94.453  0.029300  2009  \n",
       "0.932000           0.0612   84.788  0.000010  2010  \n",
       "0.932000           0.0612   84.788  0.000010  2010  \n",
       "...                   ...      ...       ...   ...  \n",
       "0.253000           0.9460   66.512  0.950000  2005  \n",
       "0.000000           0.0000  140.044  0.000000  2000  \n",
       "0.098800           0.0463   98.980  0.811000  2001  \n",
       "0.988000           0.0353   83.772  0.563000  2013  \n",
       "0.495000           0.8610  109.238  0.804000  2013  \n",
       "\n",
       "[41656 rows x 18 columns]"
      ]
     },
     "execution_count": 28,
     "metadata": {},
     "output_type": "execute_result"
    }
   ],
   "source": [
    "# We start by arranging all songs we have by duration\n",
    "music.sort_values(by='duration_ms',ascending=False)"
   ]
  },
  {
   "cell_type": "markdown",
   "metadata": {},
   "source": [
    "Let's look at the longest and shortest songs by duration"
   ]
  },
  {
   "cell_type": "code",
   "execution_count": 29,
   "metadata": {},
   "outputs": [
    {
     "name": "stdout",
     "output_type": "stream",
     "text": [
      "Maximum duration song -  90.05833333333334 minutes\n",
      "Minimum duration song -  0.5050166666666667 minutes\n",
      "Average song duration :  3.852151914090007 minutes\n"
     ]
    }
   ],
   "source": [
    "# notice that the duration is provided in milli seconds so it will be more intuitive to convert it to minutes\n",
    "# longest song\n",
    "print(\"Maximum duration song - \" , music['duration_ms'].max()/(1000*60), \"minutes\")\n",
    "\n",
    "# shortest song\n",
    "print(\"Minimum duration song - \" , music['duration_ms'].min()/(1000*60) , \"minutes\")\n",
    "\n",
    "# can we estimate what is the average duration in minutes of a song \n",
    "print(\"Average song duration : \", music['duration_ms'].mean()/(1000*60) , \"minutes\")"
   ]
  },
  {
   "cell_type": "code",
   "execution_count": 30,
   "metadata": {},
   "outputs": [
    {
     "name": "stdout",
     "output_type": "stream",
     "text": [
      "Total duration of songs on spotify since year 2000: 111.43419453703704 days\n"
     ]
    }
   ],
   "source": [
    "# caclulate the total duration of songs in days \n",
    "print(\"Total duration of songs on spotify since year 2000:\" , music['duration_ms'].sum()/(1000*60*60*24), \"days\")"
   ]
  },
  {
   "cell_type": "markdown",
   "metadata": {},
   "source": [
    "#### Observations\n",
    "We have around 111 days of songs to listen to when we get bored on Mars.\n",
    "\n",
    "Do you think this is enough ? "
   ]
  },
  {
   "cell_type": "markdown",
   "metadata": {},
   "source": [
    "#### We already know that the average duration of a song over the past 20 years is around 3.8 minutes. We would like now to know if more recent songs tend to be shorter or longer. "
   ]
  },
  {
   "cell_type": "markdown",
   "metadata": {},
   "source": [
    "Let's visualise the the relationship between the duration of a song and its year of release. We will do this by creating a scatter plot between the 'duration_ms' column and the 'year' column. "
   ]
  },
  {
   "cell_type": "code",
   "execution_count": 31,
   "metadata": {},
   "outputs": [
    {
     "data": {
      "text/plain": [
       "Text(0.5, 0, 'Year')"
      ]
     },
     "execution_count": 31,
     "metadata": {},
     "output_type": "execute_result"
    },
    {
     "data": {
      "image/png": "[encoded data removed]",
      "text/plain": [
       "<Figure size 1152x576 with 1 Axes>"
      ]
     },
     "metadata": {
      "needs_background": "light"
     },
     "output_type": "display_data"
    }
   ],
   "source": [
    "# create a scatter plot between duration_ms and year\n",
    "plt.figure(figsize=(16,8))\n",
    "columns = [\"duration_ms\"]\n",
    "for col in columns:\n",
    "    x = music.groupby(\"year\")[col].mean()\n",
    "    x = x/(1000*60)\n",
    "    ax= sns.lineplot(x=x.index,y=x,label=col)\n",
    "ax.set_title('Audio characteristics over years')\n",
    "ax.set_ylabel('Duration in minutes')\n",
    "ax.set_xlabel('Year')"
   ]
  },
  {
   "cell_type": "markdown",
   "metadata": {},
   "source": [
    "#### Observations\n",
    "We observe that the duration of songs decrease over years. It thus looks like more recent songs tend to be shorter than older ones. "
   ]
  },
  {
   "cell_type": "markdown",
   "metadata": {},
   "source": [
    "### Section IV: Conclusion\n",
    "\n",
    "We have used data to know that we can have songs worth 111 days to keep people entertained with music on Mars with the more recent songs being shorted in time compared to the older ones. "
   ]
  },
  {
   "cell_type": "markdown",
   "metadata": {},
   "source": [
    "### What's next ?\n",
    "\n",
    "Several other questions can be answered with this dataset like are longer songs more popular than shorter ones ? can we group songs by their vibes (using valence, danceability) ? \n",
    "\n",
    "In this example you have seen how data can give us insights into questions and solutions that are both data-driven. Now go to the hackathon template and start solving your own challenge for sustaining life on Mars !"
   ]
  },
  {
   "cell_type": "markdown",
   "metadata": {},
   "source": [
    "### [![Callysto.ca License](https://github.com/callysto/curriculum-notebooks/blob/master/callysto-notebook-banner-bottom.jpg?raw=true)](https://github.com/callysto/curriculum-notebooks/blob/master/LICENSE.md)"
   ]
  }
 ],
 "metadata": {
  "kernelspec": {
   "display_name": "Python 3",
   "language": "python",
   "name": "python3"
  },
  "language_info": {
   "codemirror_mode": {
    "name": "ipython",
    "version": 3
   },
   "file_extension": ".py",
   "mimetype": "text/x-python",
   "name": "python",
   "nbconvert_exporter": "python",
   "pygments_lexer": "ipython3",
   "version": "3.7.6"
  }
 },
 "nbformat": 4,
 "nbformat_minor": 4
}
