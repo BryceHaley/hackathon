{
 "cells": [
  {
   "cell_type": "markdown",
   "metadata": {},
   "source": [
    "![Callysto.ca Banner](https://github.com/callysto/curriculum-notebooks/blob/master/callysto-notebook-banner-top.jpg?raw=true)\n",
    "\n",
    "<a href=\"https://hub.callysto.ca/jupyter/hub/user-redirect/git-pull?repo=https%3A%2F%2Fgithub.com%2Fcallysto%2Fhackathon&branch=master&subPath=ColonizingMars/ChallengeTemplates/challenge-option-2-how-could-we-colonize-mars.ipynb&depth=1\" target=\"_parent\"><img src=\"https://raw.githubusercontent.com/callysto/curriculum-notebooks/master/open-in-callysto-button.svg?sanitize=true\" width=\"123\" height=\"24\" alt=\"Open in Callysto\"/></a>"
   ]
  },
  {
   "cell_type": "markdown",
   "metadata": {},
   "source": [
    "# Data Scientist Challenge: Humanity must build a new home on Mars.\n",
    "\n",
    "\n",
    "You’re a data scientist on a team of newly-arrived humans. While you were on Earth, you figured out how you could make the planet habitable. From growing food to clothing needs, you need to start building the framework for sustaining life on the red planet. \n",
    "\n",
    "In this notebook, we have decided to focus on **Plastics** as key resource that needs to be produced and properly managed.   "
   ]
  },
  {
   "cell_type": "markdown",
   "metadata": {},
   "source": [
    "![music image](https://github.com/callysto/hackathon/blob/sustainable-society/SustainabilityOnMars/ChallengeExamples/plastic-example-image.jpg?raw=true)"
   ]
  },
  {
   "cell_type": "markdown",
   "metadata": {},
   "source": [
    "### Section I: About You\n",
    "\n",
    "Plastics are useful for generating fibers (textiles, rope), sheets (bags, wraps, windows), and 3D structures. On Earth, one million plastic drinking bottles are purchased every minute, and up to 5 trillion single-use plastic bags are used worldwide every year. In total, half of all plastic produced is designed to be used only once — and then thrown away (source: UN Environment). \n",
    "\n",
    "As a data scientist, we can help researchers understand where the plastic is found and look for innovative ways to recycle plastics and reduce plastic pollution. There is no such thing as a sustainable product in unsustainable packaging.\n",
    "\n",
    "In this notebook, we want to help scientists reduce  what is not needed so we want to answer the question of **where does tha mjority of plastic waste come from** ? we can answer this in many ways, e.g. by sector, by country.  We will also explore the extent of plastic waste coming from lollipops. "
   ]
  },
  {
   "cell_type": "markdown",
   "metadata": {},
   "source": [
    "### Section II: The data you used\n",
    "\n",
    "The data in this notebook was downloaded from Citizen Science Cloud: https://hub.cscloud.host/app/ec-2020-plastics. \n",
    "\n",
    "It comes from **three** different projects. \n",
    "\n",
    "1. Marine Debris Monitoring and Assessment Project: a National Oceanic and Atmospheric Administration-coordinated citizen science initiative that engages volunteers to survey and record the amount and types of marine debris on shorelines. \n",
    "\n",
    "2. Ocean Conservancy TIDES Database: a public, global ocean trash data set, all collected by volunteers \n",
    "\n",
    "3. European Environment Agency's Marine LitterWatch: Data collected by the Marine Litter Watch is collected as both clean-ups and as monitoring events. \n",
    "\n",
    "Below are some of the fields available for each track which we will use to answer the questions we are interested in:\n",
    "\n",
    "**CountryName_FromSource** — country name.\\\n",
    "**TotalClassifiedItems_EC2020** - equals the sum of columns from [SUM_Hard_PlasticBeverageBottle to SUM_OtherPlasticDebris]\n",
    "**PCT_PlasticAndFoam** - percentage of plastic and foam from total classified items\n",
    "**PCT_Glass_Rubber_Lumber_Metal** - percentage of rubber, lumber and metal from total classified items\n",
    "**CONTINENT** - continent\n",
    "**SUM_HardPlasticBeverageBottle** - sum of \n"
   ]
  },
  {
   "cell_type": "code",
   "execution_count": 3,
   "metadata": {},
   "outputs": [],
   "source": [
    "# importing libraries\n",
    "import pandas as pd\n",
    "import matplotlib.pyplot as plt\n",
    "import cufflinks as cf"
   ]
  },
  {
   "cell_type": "code",
   "execution_count": 4,
   "metadata": {},
   "outputs": [
    {
     "data": {
      "text/html": [
       "<div>\n",
       "<style scoped>\n",
       "    .dataframe tbody tr th:only-of-type {\n",
       "        vertical-align: middle;\n",
       "    }\n",
       "\n",
       "    .dataframe tbody tr th {\n",
       "        vertical-align: top;\n",
       "    }\n",
       "\n",
       "    .dataframe thead th {\n",
       "        text-align: right;\n",
       "    }\n",
       "</style>\n",
       "<table border=\"1\" class=\"dataframe\">\n",
       "  <thead>\n",
       "    <tr style=\"text-align: right;\">\n",
       "      <th></th>\n",
       "      <th>UniqueID</th>\n",
       "      <th>SourceID</th>\n",
       "      <th>LocationFreqID</th>\n",
       "      <th>Dataset</th>\n",
       "      <th>Organization</th>\n",
       "      <th>CountryName_FromSource</th>\n",
       "      <th>Longitude1</th>\n",
       "      <th>Latitude1</th>\n",
       "      <th>Longitude2</th>\n",
       "      <th>Latitude2</th>\n",
       "      <th>...</th>\n",
       "      <th>SUM_Foam_OtherPlasticDebris</th>\n",
       "      <th>SUM_OtherPlasticDebris</th>\n",
       "      <th>NAME</th>\n",
       "      <th>COUNTRY</th>\n",
       "      <th>ISO_CODE</th>\n",
       "      <th>ISO_CC</th>\n",
       "      <th>ISO_SUB</th>\n",
       "      <th>COUNTRYAFF</th>\n",
       "      <th>CONTINENT</th>\n",
       "      <th>LAND_TYPE</th>\n",
       "    </tr>\n",
       "  </thead>\n",
       "  <tbody>\n",
       "    <tr>\n",
       "      <th>1</th>\n",
       "      <td>MDP-349</td>\n",
       "      <td>40-3153</td>\n",
       "      <td>Blackpoint Beach (Lon -123.4355847 Lat 38.6905...</td>\n",
       "      <td>NOAA MDMAP Accumulation Survey</td>\n",
       "      <td>California Coast National Monument Task Force</td>\n",
       "      <td>United States</td>\n",
       "      <td>-123.435585</td>\n",
       "      <td>38.690549</td>\n",
       "      <td>-123.432939</td>\n",
       "      <td>38.689234</td>\n",
       "      <td>...</td>\n",
       "      <td>13</td>\n",
       "      <td>1.0</td>\n",
       "      <td>California</td>\n",
       "      <td>United States</td>\n",
       "      <td>USCA</td>\n",
       "      <td>US</td>\n",
       "      <td>CA</td>\n",
       "      <td>United States</td>\n",
       "      <td>North America</td>\n",
       "      <td>Primary land</td>\n",
       "    </tr>\n",
       "    <tr>\n",
       "      <th>2</th>\n",
       "      <td>MDP-351</td>\n",
       "      <td>37-3164</td>\n",
       "      <td>Dune Drift Beach (Lon -123.4844062 Lat 38.7287...</td>\n",
       "      <td>NOAA MDMAP Accumulation Survey</td>\n",
       "      <td>California Coast National Monument Task Force</td>\n",
       "      <td>United States</td>\n",
       "      <td>-123.484406</td>\n",
       "      <td>38.728707</td>\n",
       "      <td>-123.487692</td>\n",
       "      <td>38.733347</td>\n",
       "      <td>...</td>\n",
       "      <td>9</td>\n",
       "      <td>0.0</td>\n",
       "      <td>California</td>\n",
       "      <td>United States</td>\n",
       "      <td>USCA</td>\n",
       "      <td>US</td>\n",
       "      <td>CA</td>\n",
       "      <td>United States</td>\n",
       "      <td>North America</td>\n",
       "      <td>Primary land</td>\n",
       "    </tr>\n",
       "    <tr>\n",
       "      <th>3</th>\n",
       "      <td>MDP-354</td>\n",
       "      <td>59-3175</td>\n",
       "      <td>Ohlson Beach (Lon -123.4564 Lat 38.7132)</td>\n",
       "      <td>NOAA MDMAP Accumulation Survey</td>\n",
       "      <td>California Coast National Monument Task Force</td>\n",
       "      <td>United States</td>\n",
       "      <td>-123.456400</td>\n",
       "      <td>38.713200</td>\n",
       "      <td>-123.455100</td>\n",
       "      <td>38.710600</td>\n",
       "      <td>...</td>\n",
       "      <td>0</td>\n",
       "      <td>0.0</td>\n",
       "      <td>California</td>\n",
       "      <td>United States</td>\n",
       "      <td>USCA</td>\n",
       "      <td>US</td>\n",
       "      <td>CA</td>\n",
       "      <td>United States</td>\n",
       "      <td>North America</td>\n",
       "      <td>Primary land</td>\n",
       "    </tr>\n",
       "    <tr>\n",
       "      <th>4</th>\n",
       "      <td>MDP-358</td>\n",
       "      <td>41-3191</td>\n",
       "      <td>Walk On Beach (Lon -123.490915 Lat 38.735105)</td>\n",
       "      <td>NOAA MDMAP Accumulation Survey</td>\n",
       "      <td>California Coast National Monument Task Force</td>\n",
       "      <td>United States</td>\n",
       "      <td>-123.490915</td>\n",
       "      <td>38.735105</td>\n",
       "      <td>-123.489614</td>\n",
       "      <td>38.731897</td>\n",
       "      <td>...</td>\n",
       "      <td>0</td>\n",
       "      <td>0.0</td>\n",
       "      <td>California</td>\n",
       "      <td>United States</td>\n",
       "      <td>USCA</td>\n",
       "      <td>US</td>\n",
       "      <td>CA</td>\n",
       "      <td>United States</td>\n",
       "      <td>North America</td>\n",
       "      <td>Primary land</td>\n",
       "    </tr>\n",
       "    <tr>\n",
       "      <th>5</th>\n",
       "      <td>MDP-360</td>\n",
       "      <td>11-3195</td>\n",
       "      <td>Rocky Point (Lon -124.4621 Lat 42.7149)</td>\n",
       "      <td>NOAA MDMAP Accumulation Survey</td>\n",
       "      <td>Redfish Rocks</td>\n",
       "      <td>United States</td>\n",
       "      <td>-124.462100</td>\n",
       "      <td>42.714900</td>\n",
       "      <td>-124.462000</td>\n",
       "      <td>42.713900</td>\n",
       "      <td>...</td>\n",
       "      <td>850</td>\n",
       "      <td>0.0</td>\n",
       "      <td>Oregon</td>\n",
       "      <td>United States</td>\n",
       "      <td>USOR</td>\n",
       "      <td>US</td>\n",
       "      <td>OR</td>\n",
       "      <td>United States</td>\n",
       "      <td>North America</td>\n",
       "      <td>Primary land</td>\n",
       "    </tr>\n",
       "  </tbody>\n",
       "</table>\n",
       "<p>5 rows × 51 columns</p>\n",
       "</div>"
      ],
      "text/plain": [
       "  UniqueID SourceID                                     LocationFreqID  \\\n",
       "1  MDP-349  40-3153  Blackpoint Beach (Lon -123.4355847 Lat 38.6905...   \n",
       "2  MDP-351  37-3164  Dune Drift Beach (Lon -123.4844062 Lat 38.7287...   \n",
       "3  MDP-354  59-3175           Ohlson Beach (Lon -123.4564 Lat 38.7132)   \n",
       "4  MDP-358  41-3191      Walk On Beach (Lon -123.490915 Lat 38.735105)   \n",
       "5  MDP-360  11-3195            Rocky Point (Lon -124.4621 Lat 42.7149)   \n",
       "\n",
       "                          Dataset  \\\n",
       "1  NOAA MDMAP Accumulation Survey   \n",
       "2  NOAA MDMAP Accumulation Survey   \n",
       "3  NOAA MDMAP Accumulation Survey   \n",
       "4  NOAA MDMAP Accumulation Survey   \n",
       "5  NOAA MDMAP Accumulation Survey   \n",
       "\n",
       "                                    Organization CountryName_FromSource  \\\n",
       "1  California Coast National Monument Task Force          United States   \n",
       "2  California Coast National Monument Task Force          United States   \n",
       "3  California Coast National Monument Task Force          United States   \n",
       "4  California Coast National Monument Task Force          United States   \n",
       "5                                  Redfish Rocks          United States   \n",
       "\n",
       "   Longitude1  Latitude1  Longitude2  Latitude2  ...  \\\n",
       "1 -123.435585  38.690549 -123.432939  38.689234  ...   \n",
       "2 -123.484406  38.728707 -123.487692  38.733347  ...   \n",
       "3 -123.456400  38.713200 -123.455100  38.710600  ...   \n",
       "4 -123.490915  38.735105 -123.489614  38.731897  ...   \n",
       "5 -124.462100  42.714900 -124.462000  42.713900  ...   \n",
       "\n",
       "   SUM_Foam_OtherPlasticDebris  SUM_OtherPlasticDebris        NAME  \\\n",
       "1                           13                     1.0  California   \n",
       "2                            9                     0.0  California   \n",
       "3                            0                     0.0  California   \n",
       "4                            0                     0.0  California   \n",
       "5                          850                     0.0      Oregon   \n",
       "\n",
       "         COUNTRY  ISO_CODE ISO_CC  ISO_SUB     COUNTRYAFF      CONTINENT  \\\n",
       "1  United States      USCA     US       CA  United States  North America   \n",
       "2  United States      USCA     US       CA  United States  North America   \n",
       "3  United States      USCA     US       CA  United States  North America   \n",
       "4  United States      USCA     US       CA  United States  North America   \n",
       "5  United States      USOR     US       OR  United States  North America   \n",
       "\n",
       "      LAND_TYPE  \n",
       "1  Primary land  \n",
       "2  Primary land  \n",
       "3  Primary land  \n",
       "4  Primary land  \n",
       "5  Primary land  \n",
       "\n",
       "[5 rows x 51 columns]"
      ]
     },
     "execution_count": 4,
     "metadata": {},
     "output_type": "execute_result"
    }
   ],
   "source": [
    "# reading the data \n",
    "# we have csv file stored in the cloud\n",
    "url = \"https://raw.githubusercontent.com/callysto/hackathon/sustainable-society/SustainabilityOnMars/ChallengeExamples/plastics-data-2015-2018.csv\"\n",
    "\n",
    "# read csv file from url and save it as dataframe\n",
    "plastics = pd.read_csv(url, index_col=0, low_memory=False)\n",
    "\n",
    "# print first 5 rows\n",
    "plastics.head()"
   ]
  },
  {
   "cell_type": "code",
   "execution_count": 5,
   "metadata": {},
   "outputs": [
    {
     "data": {
      "text/plain": [
       "(54388, 51)"
      ]
     },
     "execution_count": 5,
     "metadata": {},
     "output_type": "execute_result"
    }
   ],
   "source": [
    "# how many rows and colums does the dataframe have?\n",
    "plastics.shape"
   ]
  },
  {
   "cell_type": "markdown",
   "metadata": {},
   "source": [
    "### Section III: Data Analysis and Visualization\n",
    "\n",
    "We want to explore what are the major sources of plastic waste ? "
   ]
  },
  {
   "cell_type": "code",
   "execution_count": 6,
   "metadata": {},
   "outputs": [
    {
     "data": {
      "text/plain": [
       "Index(['UniqueID', 'SourceID', 'LocationFreqID', 'Dataset', 'Organization',\n",
       "       'CountryName_FromSource', 'Longitude1', 'Latitude1', 'Longitude2',\n",
       "       'Latitude2', 'TotalWidth_m', 'TotalLength_m', 'ShorelineName',\n",
       "       'EventType', 'TotalVolunteers', 'MonthYear', 'Year', 'MonthNum',\n",
       "       'Month', 'TotalClassifiedItems_EC2020', 'PCT_PlasticAndFoam',\n",
       "       'PCT_Glass_Rubber_Lumber_Metal', 'SUM_Hard_PlasticBeverageBottle',\n",
       "       'SUM_Hard_OtherPlasticBottle', 'SUM_HardOrSoft_PlasticBottleCap',\n",
       "       'SUM_PlasticOrFoamFoodContainer', 'SUM_Hard_BucketOrCrate',\n",
       "       'SUM_Hard_Lighter', 'SUM_OtherHardPlastic',\n",
       "       'SUM_PlasticOrFoamPlatesBowlsCup', 'SUM_HardSoft_PersonalCareProduc',\n",
       "       'SUM_HardSoftLollipopStick_EarBu', 'SUM_Soft_Bag',\n",
       "       'SUM_Soft_WrapperOrLabel', 'SUM_Soft_Straw', 'SUM_Soft_OtherPlastic',\n",
       "       'SUM_Soft_CigaretteButts', 'SUM_Soft_StringRingRibbon', 'Fishing_Net',\n",
       "       'SUM_FishingLineLureRope', 'Fishing_BuoysAndFloats',\n",
       "       'SUM_Foam_OtherPlasticDebris', 'SUM_OtherPlasticDebris', 'NAME',\n",
       "       'COUNTRY', 'ISO_CODE', 'ISO_CC', 'ISO_SUB', 'COUNTRYAFF', 'CONTINENT',\n",
       "       'LAND_TYPE'],\n",
       "      dtype='object')"
      ]
     },
     "execution_count": 6,
     "metadata": {},
     "output_type": "execute_result"
    }
   ],
   "source": [
    "# print column names\n",
    "plastics.columns"
   ]
  },
  {
   "cell_type": "markdown",
   "metadata": {},
   "source": [
    "The column 'TotalClassifiedItems_EC2020' contains the total number of plastic waste sources that have been collected and then classified. Let's sort the data descencingly according to this column to identify the major sources of plastic waste. "
   ]
  },
  {
   "cell_type": "code",
   "execution_count": 7,
   "metadata": {},
   "outputs": [
    {
     "data": {
      "text/html": [
       "<div>\n",
       "<style scoped>\n",
       "    .dataframe tbody tr th:only-of-type {\n",
       "        vertical-align: middle;\n",
       "    }\n",
       "\n",
       "    .dataframe tbody tr th {\n",
       "        vertical-align: top;\n",
       "    }\n",
       "\n",
       "    .dataframe thead th {\n",
       "        text-align: right;\n",
       "    }\n",
       "</style>\n",
       "<table border=\"1\" class=\"dataframe\">\n",
       "  <thead>\n",
       "    <tr style=\"text-align: right;\">\n",
       "      <th></th>\n",
       "      <th>UniqueID</th>\n",
       "      <th>SourceID</th>\n",
       "      <th>LocationFreqID</th>\n",
       "      <th>Dataset</th>\n",
       "      <th>Organization</th>\n",
       "      <th>CountryName_FromSource</th>\n",
       "      <th>Longitude1</th>\n",
       "      <th>Latitude1</th>\n",
       "      <th>Longitude2</th>\n",
       "      <th>Latitude2</th>\n",
       "      <th>...</th>\n",
       "      <th>SUM_Foam_OtherPlasticDebris</th>\n",
       "      <th>SUM_OtherPlasticDebris</th>\n",
       "      <th>NAME</th>\n",
       "      <th>COUNTRY</th>\n",
       "      <th>ISO_CODE</th>\n",
       "      <th>ISO_CC</th>\n",
       "      <th>ISO_SUB</th>\n",
       "      <th>COUNTRYAFF</th>\n",
       "      <th>CONTINENT</th>\n",
       "      <th>LAND_TYPE</th>\n",
       "    </tr>\n",
       "  </thead>\n",
       "  <tbody>\n",
       "    <tr>\n",
       "      <th>50185</th>\n",
       "      <td>TID-51979</td>\n",
       "      <td>66013</td>\n",
       "      <td>TIDES (Lon -0.18885935584342 Lat 5.6160064497862)</td>\n",
       "      <td>Oecan Conservancy TIDES Report</td>\n",
       "      <td>SNFYVF- Accra, Volta Region</td>\n",
       "      <td>Ghana</td>\n",
       "      <td>-0.18886</td>\n",
       "      <td>5.61601</td>\n",
       "      <td>NaN</td>\n",
       "      <td>NaN</td>\n",
       "      <td>...</td>\n",
       "      <td>8456479</td>\n",
       "      <td>15234016.0</td>\n",
       "      <td>Greater Accra</td>\n",
       "      <td>Ghana</td>\n",
       "      <td>GHAA</td>\n",
       "      <td>GH</td>\n",
       "      <td>AA</td>\n",
       "      <td>Ghana</td>\n",
       "      <td>Africa</td>\n",
       "      <td>Primary land</td>\n",
       "    </tr>\n",
       "    <tr>\n",
       "      <th>50191</th>\n",
       "      <td>TID-51985</td>\n",
       "      <td>66019</td>\n",
       "      <td>TIDES (Lon 0.89120190773031 Lat 5.7817777402577)</td>\n",
       "      <td>Oecan Conservancy TIDES Report</td>\n",
       "      <td>SNFYVF- Anloga</td>\n",
       "      <td>Ghana</td>\n",
       "      <td>0.89120</td>\n",
       "      <td>5.78178</td>\n",
       "      <td>NaN</td>\n",
       "      <td>NaN</td>\n",
       "      <td>...</td>\n",
       "      <td>4112429</td>\n",
       "      <td>6114136.0</td>\n",
       "      <td>Volta</td>\n",
       "      <td>Ghana</td>\n",
       "      <td>GHTV</td>\n",
       "      <td>GH</td>\n",
       "      <td>TV</td>\n",
       "      <td>Ghana</td>\n",
       "      <td>Africa</td>\n",
       "      <td>Primary land</td>\n",
       "    </tr>\n",
       "    <tr>\n",
       "      <th>50183</th>\n",
       "      <td>TID-51977</td>\n",
       "      <td>66011</td>\n",
       "      <td>TIDES (Lon -0.22499734414168 Lat 5.5290572931819)</td>\n",
       "      <td>Oecan Conservancy TIDES Report</td>\n",
       "      <td>SNFYVF- Accra, Korle Gono Beach</td>\n",
       "      <td>Ghana</td>\n",
       "      <td>-0.22500</td>\n",
       "      <td>5.52906</td>\n",
       "      <td>NaN</td>\n",
       "      <td>NaN</td>\n",
       "      <td>...</td>\n",
       "      <td>2354117</td>\n",
       "      <td>4115426.0</td>\n",
       "      <td>Greater Accra</td>\n",
       "      <td>Ghana</td>\n",
       "      <td>GHAA</td>\n",
       "      <td>GH</td>\n",
       "      <td>AA</td>\n",
       "      <td>Ghana</td>\n",
       "      <td>Africa</td>\n",
       "      <td>Primary land</td>\n",
       "    </tr>\n",
       "    <tr>\n",
       "      <th>50182</th>\n",
       "      <td>TID-51976</td>\n",
       "      <td>66010</td>\n",
       "      <td>TIDES (Lon -0.098134654142427 Lat 5.5794431263...</td>\n",
       "      <td>Oecan Conservancy TIDES Report</td>\n",
       "      <td>SNFYVF- Accra, Teshie Beach</td>\n",
       "      <td>Ghana</td>\n",
       "      <td>-0.09813</td>\n",
       "      <td>5.57944</td>\n",
       "      <td>NaN</td>\n",
       "      <td>NaN</td>\n",
       "      <td>...</td>\n",
       "      <td>2119142</td>\n",
       "      <td>4471246.0</td>\n",
       "      <td>Greater Accra</td>\n",
       "      <td>Ghana</td>\n",
       "      <td>GHAA</td>\n",
       "      <td>GH</td>\n",
       "      <td>AA</td>\n",
       "      <td>Ghana</td>\n",
       "      <td>Africa</td>\n",
       "      <td>Primary land</td>\n",
       "    </tr>\n",
       "    <tr>\n",
       "      <th>50186</th>\n",
       "      <td>TID-51980</td>\n",
       "      <td>66014</td>\n",
       "      <td>TIDES (Lon 0.7696046624684 Lat 5.7716927421673)</td>\n",
       "      <td>Oecan Conservancy TIDES Report</td>\n",
       "      <td>SNFYVF- Accra, Dzita</td>\n",
       "      <td>Ghana</td>\n",
       "      <td>0.76960</td>\n",
       "      <td>5.77169</td>\n",
       "      <td>NaN</td>\n",
       "      <td>NaN</td>\n",
       "      <td>...</td>\n",
       "      <td>1324121</td>\n",
       "      <td>2174997.0</td>\n",
       "      <td>Volta</td>\n",
       "      <td>Ghana</td>\n",
       "      <td>GHTV</td>\n",
       "      <td>GH</td>\n",
       "      <td>TV</td>\n",
       "      <td>Ghana</td>\n",
       "      <td>Africa</td>\n",
       "      <td>Primary land</td>\n",
       "    </tr>\n",
       "    <tr>\n",
       "      <th>...</th>\n",
       "      <td>...</td>\n",
       "      <td>...</td>\n",
       "      <td>...</td>\n",
       "      <td>...</td>\n",
       "      <td>...</td>\n",
       "      <td>...</td>\n",
       "      <td>...</td>\n",
       "      <td>...</td>\n",
       "      <td>...</td>\n",
       "      <td>...</td>\n",
       "      <td>...</td>\n",
       "      <td>...</td>\n",
       "      <td>...</td>\n",
       "      <td>...</td>\n",
       "      <td>...</td>\n",
       "      <td>...</td>\n",
       "      <td>...</td>\n",
       "      <td>...</td>\n",
       "      <td>...</td>\n",
       "      <td>...</td>\n",
       "      <td>...</td>\n",
       "    </tr>\n",
       "    <tr>\n",
       "      <th>39963</th>\n",
       "      <td>TID-40801</td>\n",
       "      <td>49063</td>\n",
       "      <td>TIDES (Lon 103.08908 Lat 5.40554)</td>\n",
       "      <td>Oecan Conservancy TIDES Report</td>\n",
       "      <td>2 Marine Biology</td>\n",
       "      <td>Malaysia</td>\n",
       "      <td>103.08908</td>\n",
       "      <td>5.40554</td>\n",
       "      <td>NaN</td>\n",
       "      <td>NaN</td>\n",
       "      <td>...</td>\n",
       "      <td>0</td>\n",
       "      <td>0.0</td>\n",
       "      <td>Terengganu</td>\n",
       "      <td>Malaysia</td>\n",
       "      <td>MY11</td>\n",
       "      <td>MY</td>\n",
       "      <td>11</td>\n",
       "      <td>Malaysia</td>\n",
       "      <td>Asia</td>\n",
       "      <td>Primary land</td>\n",
       "    </tr>\n",
       "    <tr>\n",
       "      <th>24774</th>\n",
       "      <td>TID-23205</td>\n",
       "      <td>28544</td>\n",
       "      <td>TIDES (Lon -80.05129 Lat 26.50476)</td>\n",
       "      <td>Oecan Conservancy TIDES Report</td>\n",
       "      <td>Sea turtle advfe ntupre se</td>\n",
       "      <td>USA</td>\n",
       "      <td>-80.05129</td>\n",
       "      <td>26.50476</td>\n",
       "      <td>NaN</td>\n",
       "      <td>NaN</td>\n",
       "      <td>...</td>\n",
       "      <td>0</td>\n",
       "      <td>0.0</td>\n",
       "      <td>Florida</td>\n",
       "      <td>United States</td>\n",
       "      <td>USFL</td>\n",
       "      <td>US</td>\n",
       "      <td>FL</td>\n",
       "      <td>United States</td>\n",
       "      <td>North America</td>\n",
       "      <td>Primary land</td>\n",
       "    </tr>\n",
       "    <tr>\n",
       "      <th>42090</th>\n",
       "      <td>TID-43375</td>\n",
       "      <td>51677</td>\n",
       "      <td>TIDES (Lon -80.065894302447 Lat 26.622105689591)</td>\n",
       "      <td>Oecan Conservancy TIDES Report</td>\n",
       "      <td>Highland Elementary</td>\n",
       "      <td>USA</td>\n",
       "      <td>-80.06589</td>\n",
       "      <td>26.62211</td>\n",
       "      <td>NaN</td>\n",
       "      <td>NaN</td>\n",
       "      <td>...</td>\n",
       "      <td>0</td>\n",
       "      <td>0.0</td>\n",
       "      <td>Florida</td>\n",
       "      <td>United States</td>\n",
       "      <td>USFL</td>\n",
       "      <td>US</td>\n",
       "      <td>FL</td>\n",
       "      <td>United States</td>\n",
       "      <td>North America</td>\n",
       "      <td>Primary land</td>\n",
       "    </tr>\n",
       "    <tr>\n",
       "      <th>19269</th>\n",
       "      <td>TID-16884</td>\n",
       "      <td>21969</td>\n",
       "      <td>TIDES (Lon 1.57788 Lat 50.51594)</td>\n",
       "      <td>Oecan Conservancy TIDES Report</td>\n",
       "      <td>NaN</td>\n",
       "      <td>France</td>\n",
       "      <td>1.57788</td>\n",
       "      <td>50.51594</td>\n",
       "      <td>NaN</td>\n",
       "      <td>NaN</td>\n",
       "      <td>...</td>\n",
       "      <td>0</td>\n",
       "      <td>0.0</td>\n",
       "      <td>Nord-Pas-de-Calais</td>\n",
       "      <td>France</td>\n",
       "      <td>FRO</td>\n",
       "      <td>FR</td>\n",
       "      <td>O</td>\n",
       "      <td>France</td>\n",
       "      <td>Europe</td>\n",
       "      <td>Primary land</td>\n",
       "    </tr>\n",
       "    <tr>\n",
       "      <th>38756</th>\n",
       "      <td>TID-39295</td>\n",
       "      <td>44929</td>\n",
       "      <td>TIDES (Lon -156.44679 Lat 20.75225)</td>\n",
       "      <td>Oecan Conservancy TIDES Report</td>\n",
       "      <td>Maui now</td>\n",
       "      <td>USA</td>\n",
       "      <td>-156.44679</td>\n",
       "      <td>20.75225</td>\n",
       "      <td>NaN</td>\n",
       "      <td>NaN</td>\n",
       "      <td>...</td>\n",
       "      <td>0</td>\n",
       "      <td>0.0</td>\n",
       "      <td>Hawaii</td>\n",
       "      <td>United States</td>\n",
       "      <td>USHI</td>\n",
       "      <td>US</td>\n",
       "      <td>HI</td>\n",
       "      <td>United States</td>\n",
       "      <td>North America</td>\n",
       "      <td>Large island</td>\n",
       "    </tr>\n",
       "  </tbody>\n",
       "</table>\n",
       "<p>54388 rows × 51 columns</p>\n",
       "</div>"
      ],
      "text/plain": [
       "        UniqueID SourceID                                     LocationFreqID  \\\n",
       "50185  TID-51979    66013  TIDES (Lon -0.18885935584342 Lat 5.6160064497862)   \n",
       "50191  TID-51985    66019   TIDES (Lon 0.89120190773031 Lat 5.7817777402577)   \n",
       "50183  TID-51977    66011  TIDES (Lon -0.22499734414168 Lat 5.5290572931819)   \n",
       "50182  TID-51976    66010  TIDES (Lon -0.098134654142427 Lat 5.5794431263...   \n",
       "50186  TID-51980    66014    TIDES (Lon 0.7696046624684 Lat 5.7716927421673)   \n",
       "...          ...      ...                                                ...   \n",
       "39963  TID-40801    49063                  TIDES (Lon 103.08908 Lat 5.40554)   \n",
       "24774  TID-23205    28544                 TIDES (Lon -80.05129 Lat 26.50476)   \n",
       "42090  TID-43375    51677   TIDES (Lon -80.065894302447 Lat 26.622105689591)   \n",
       "19269  TID-16884    21969                   TIDES (Lon 1.57788 Lat 50.51594)   \n",
       "38756  TID-39295    44929                TIDES (Lon -156.44679 Lat 20.75225)   \n",
       "\n",
       "                              Dataset                     Organization  \\\n",
       "50185  Oecan Conservancy TIDES Report      SNFYVF- Accra, Volta Region   \n",
       "50191  Oecan Conservancy TIDES Report                   SNFYVF- Anloga   \n",
       "50183  Oecan Conservancy TIDES Report  SNFYVF- Accra, Korle Gono Beach   \n",
       "50182  Oecan Conservancy TIDES Report      SNFYVF- Accra, Teshie Beach   \n",
       "50186  Oecan Conservancy TIDES Report             SNFYVF- Accra, Dzita   \n",
       "...                               ...                              ...   \n",
       "39963  Oecan Conservancy TIDES Report                 2 Marine Biology   \n",
       "24774  Oecan Conservancy TIDES Report       Sea turtle advfe ntupre se   \n",
       "42090  Oecan Conservancy TIDES Report              Highland Elementary   \n",
       "19269  Oecan Conservancy TIDES Report                              NaN   \n",
       "38756  Oecan Conservancy TIDES Report                        Maui now    \n",
       "\n",
       "      CountryName_FromSource  Longitude1  Latitude1  Longitude2  Latitude2  \\\n",
       "50185                  Ghana    -0.18886    5.61601         NaN        NaN   \n",
       "50191                  Ghana     0.89120    5.78178         NaN        NaN   \n",
       "50183                  Ghana    -0.22500    5.52906         NaN        NaN   \n",
       "50182                  Ghana    -0.09813    5.57944         NaN        NaN   \n",
       "50186                  Ghana     0.76960    5.77169         NaN        NaN   \n",
       "...                      ...         ...        ...         ...        ...   \n",
       "39963               Malaysia   103.08908    5.40554         NaN        NaN   \n",
       "24774                    USA   -80.05129   26.50476         NaN        NaN   \n",
       "42090                    USA   -80.06589   26.62211         NaN        NaN   \n",
       "19269                 France     1.57788   50.51594         NaN        NaN   \n",
       "38756                    USA  -156.44679   20.75225         NaN        NaN   \n",
       "\n",
       "       ...  SUM_Foam_OtherPlasticDebris  SUM_OtherPlasticDebris  \\\n",
       "50185  ...                      8456479              15234016.0   \n",
       "50191  ...                      4112429               6114136.0   \n",
       "50183  ...                      2354117               4115426.0   \n",
       "50182  ...                      2119142               4471246.0   \n",
       "50186  ...                      1324121               2174997.0   \n",
       "...    ...                          ...                     ...   \n",
       "39963  ...                            0                     0.0   \n",
       "24774  ...                            0                     0.0   \n",
       "42090  ...                            0                     0.0   \n",
       "19269  ...                            0                     0.0   \n",
       "38756  ...                            0                     0.0   \n",
       "\n",
       "                     NAME        COUNTRY  ISO_CODE ISO_CC  ISO_SUB  \\\n",
       "50185       Greater Accra          Ghana      GHAA     GH       AA   \n",
       "50191               Volta          Ghana      GHTV     GH       TV   \n",
       "50183       Greater Accra          Ghana      GHAA     GH       AA   \n",
       "50182       Greater Accra          Ghana      GHAA     GH       AA   \n",
       "50186               Volta          Ghana      GHTV     GH       TV   \n",
       "...                   ...            ...       ...    ...      ...   \n",
       "39963          Terengganu       Malaysia      MY11     MY       11   \n",
       "24774             Florida  United States      USFL     US       FL   \n",
       "42090             Florida  United States      USFL     US       FL   \n",
       "19269  Nord-Pas-de-Calais         France       FRO     FR        O   \n",
       "38756              Hawaii  United States      USHI     US       HI   \n",
       "\n",
       "          COUNTRYAFF      CONTINENT     LAND_TYPE  \n",
       "50185          Ghana         Africa  Primary land  \n",
       "50191          Ghana         Africa  Primary land  \n",
       "50183          Ghana         Africa  Primary land  \n",
       "50182          Ghana         Africa  Primary land  \n",
       "50186          Ghana         Africa  Primary land  \n",
       "...              ...            ...           ...  \n",
       "39963       Malaysia           Asia  Primary land  \n",
       "24774  United States  North America  Primary land  \n",
       "42090  United States  North America  Primary land  \n",
       "19269         France         Europe  Primary land  \n",
       "38756  United States  North America  Large island  \n",
       "\n",
       "[54388 rows x 51 columns]"
      ]
     },
     "execution_count": 7,
     "metadata": {},
     "output_type": "execute_result"
    }
   ],
   "source": [
    "# We start by all plastic waste sources \n",
    "plastics.sort_values(by='TotalClassifiedItems_EC2020',ascending=False)"
   ]
  },
  {
   "cell_type": "markdown",
   "metadata": {},
   "source": [
    "Let's look at maximum number of plastic waste items collected and classified. "
   ]
  },
  {
   "cell_type": "code",
   "execution_count": 8,
   "metadata": {},
   "outputs": [
    {
     "name": "stdout",
     "output_type": "stream",
     "text": [
      "The maximum number of plastic items collected and classified is -  26420613 item\n"
     ]
    }
   ],
   "source": [
    "# largest number of plastic items collected and classified\n",
    "print(\"The maximum number of plastic items collected and classified is - \" , plastics['TotalClassifiedItems_EC2020'].max(), 'item')"
   ]
  },
  {
   "cell_type": "code",
   "execution_count": 9,
   "metadata": {},
   "outputs": [
    {
     "data": {
      "text/plain": [
       "UniqueID                                                                   TID-51979\n",
       "SourceID                                                                       66013\n",
       "LocationFreqID                     TIDES (Lon -0.18885935584342 Lat 5.6160064497862)\n",
       "Dataset                                               Oecan Conservancy TIDES Report\n",
       "Organization                                             SNFYVF- Accra, Volta Region\n",
       "CountryName_FromSource                                                         Ghana\n",
       "Longitude1                                                                  -0.18886\n",
       "Latitude1                                                                    5.61601\n",
       "Longitude2                                                                       NaN\n",
       "Latitude2                                                                        NaN\n",
       "TotalWidth_m                                                                     NaN\n",
       "TotalLength_m                                                                8207.67\n",
       "ShorelineName                                                                    NaN\n",
       "EventType                                 Land (beach, shoreline and inland) Cleanup\n",
       "TotalVolunteers                                                                 1172\n",
       "MonthYear                                                                   Sep-2018\n",
       "Year                                                                            2018\n",
       "MonthNum                                                                           9\n",
       "Month                                                                            Sep\n",
       "TotalClassifiedItems_EC2020                                                 26420613\n",
       "PCT_PlasticAndFoam                                                              96.5\n",
       "PCT_Glass_Rubber_Lumber_Metal                                                    3.5\n",
       "SUM_Hard_PlasticBeverageBottle                                                  4976\n",
       "SUM_Hard_OtherPlasticBottle                                                     3514\n",
       "SUM_HardOrSoft_PlasticBottleCap                                                26771\n",
       "SUM_PlasticOrFoamFoodContainer                                                  4775\n",
       "SUM_Hard_BucketOrCrate                                                             0\n",
       "SUM_Hard_Lighter                                                                 763\n",
       "SUM_OtherHardPlastic                                                             409\n",
       "SUM_PlasticOrFoamPlatesBowlsCup                                               247666\n",
       "SUM_HardSoft_PersonalCareProduc                                                 3230\n",
       "SUM_HardSoftLollipopStick_EarBu                                                    0\n",
       "SUM_Soft_Bag                                                                    8480\n",
       "SUM_Soft_WrapperOrLabel                                                        46293\n",
       "SUM_Soft_Straw                                                                993722\n",
       "SUM_Soft_OtherPlastic                                                           4789\n",
       "SUM_Soft_CigaretteButts                                                  1.37938e+06\n",
       "SUM_Soft_StringRingRibbon                                                         18\n",
       "Fishing_Net                                                                      866\n",
       "SUM_FishingLineLureRope                                                         3678\n",
       "Fishing_BuoysAndFloats                                                           147\n",
       "SUM_Foam_OtherPlasticDebris                                                  8456479\n",
       "SUM_OtherPlasticDebris                                                    1.5234e+07\n",
       "NAME                                                                   Greater Accra\n",
       "COUNTRY                                                                        Ghana\n",
       "ISO_CODE                                                                        GHAA\n",
       "ISO_CC                                                                            GH\n",
       "ISO_SUB                                                                           AA\n",
       "COUNTRYAFF                                                                     Ghana\n",
       "CONTINENT                                                                     Africa\n",
       "LAND_TYPE                                                               Primary land\n",
       "Name: 50185, dtype: object"
      ]
     },
     "execution_count": 9,
     "metadata": {},
     "output_type": "execute_result"
    }
   ],
   "source": [
    "# let's look at the data associated with this number\n",
    "plastics.iloc[plastics['TotalClassifiedItems_EC2020'].argmax()]"
   ]
  },
  {
   "cell_type": "markdown",
   "metadata": {},
   "source": [
    "#### Observations\n",
    "We can see here that the highest number of plastic waste items collected comes from Ghana in Africa. \n",
    "\n",
    "Does this mean that Ghana has the highest plastic pollution ? Think about it then check the conclusion section for some insights. "
   ]
  },
  {
   "cell_type": "markdown",
   "metadata": {},
   "source": [
    "Let's breakdown this number and look at the contribution of each collected plastic item to this BIG number. We will draw a barplot to visualise the collected plastic items and their counts. "
   ]
  },
  {
   "cell_type": "code",
   "execution_count": 10,
   "metadata": {},
   "outputs": [],
   "source": [
    "# let's first select the columns and rows we are interested in\n",
    "# select the columns containing the required data\n",
    "maximum_plastics_waste = plastics.loc[50185, 'SUM_Hard_PlasticBeverageBottle':'SUM_OtherPlasticDebris']\n",
    "maximum_plastics_waste = maximum_plastics_waste.to_frame()\n",
    "\n",
    "# rename column name to reflect the data within\n",
    "maximum_plastics_waste.columns = ['plastic_waste_sources']"
   ]
  },
  {
   "cell_type": "code",
   "execution_count": 11,
   "metadata": {},
   "outputs": [
    {
     "data": {
      "text/html": [
       "<div>\n",
       "<style scoped>\n",
       "    .dataframe tbody tr th:only-of-type {\n",
       "        vertical-align: middle;\n",
       "    }\n",
       "\n",
       "    .dataframe tbody tr th {\n",
       "        vertical-align: top;\n",
       "    }\n",
       "\n",
       "    .dataframe thead th {\n",
       "        text-align: right;\n",
       "    }\n",
       "</style>\n",
       "<table border=\"1\" class=\"dataframe\">\n",
       "  <thead>\n",
       "    <tr style=\"text-align: right;\">\n",
       "      <th></th>\n",
       "      <th>plastic_waste_sources</th>\n",
       "    </tr>\n",
       "  </thead>\n",
       "  <tbody>\n",
       "    <tr>\n",
       "      <th>SUM_Hard_PlasticBeverageBottle</th>\n",
       "      <td>4976</td>\n",
       "    </tr>\n",
       "    <tr>\n",
       "      <th>SUM_Hard_OtherPlasticBottle</th>\n",
       "      <td>3514</td>\n",
       "    </tr>\n",
       "    <tr>\n",
       "      <th>SUM_HardOrSoft_PlasticBottleCap</th>\n",
       "      <td>26771</td>\n",
       "    </tr>\n",
       "    <tr>\n",
       "      <th>SUM_PlasticOrFoamFoodContainer</th>\n",
       "      <td>4775</td>\n",
       "    </tr>\n",
       "    <tr>\n",
       "      <th>SUM_Hard_BucketOrCrate</th>\n",
       "      <td>0</td>\n",
       "    </tr>\n",
       "    <tr>\n",
       "      <th>SUM_Hard_Lighter</th>\n",
       "      <td>763</td>\n",
       "    </tr>\n",
       "    <tr>\n",
       "      <th>SUM_OtherHardPlastic</th>\n",
       "      <td>409</td>\n",
       "    </tr>\n",
       "    <tr>\n",
       "      <th>SUM_PlasticOrFoamPlatesBowlsCup</th>\n",
       "      <td>247666</td>\n",
       "    </tr>\n",
       "    <tr>\n",
       "      <th>SUM_HardSoft_PersonalCareProduc</th>\n",
       "      <td>3230</td>\n",
       "    </tr>\n",
       "    <tr>\n",
       "      <th>SUM_HardSoftLollipopStick_EarBu</th>\n",
       "      <td>0</td>\n",
       "    </tr>\n",
       "    <tr>\n",
       "      <th>SUM_Soft_Bag</th>\n",
       "      <td>8480</td>\n",
       "    </tr>\n",
       "    <tr>\n",
       "      <th>SUM_Soft_WrapperOrLabel</th>\n",
       "      <td>46293</td>\n",
       "    </tr>\n",
       "    <tr>\n",
       "      <th>SUM_Soft_Straw</th>\n",
       "      <td>993722</td>\n",
       "    </tr>\n",
       "    <tr>\n",
       "      <th>SUM_Soft_OtherPlastic</th>\n",
       "      <td>4789</td>\n",
       "    </tr>\n",
       "    <tr>\n",
       "      <th>SUM_Soft_CigaretteButts</th>\n",
       "      <td>1.37938e+06</td>\n",
       "    </tr>\n",
       "    <tr>\n",
       "      <th>SUM_Soft_StringRingRibbon</th>\n",
       "      <td>18</td>\n",
       "    </tr>\n",
       "    <tr>\n",
       "      <th>Fishing_Net</th>\n",
       "      <td>866</td>\n",
       "    </tr>\n",
       "    <tr>\n",
       "      <th>SUM_FishingLineLureRope</th>\n",
       "      <td>3678</td>\n",
       "    </tr>\n",
       "    <tr>\n",
       "      <th>Fishing_BuoysAndFloats</th>\n",
       "      <td>147</td>\n",
       "    </tr>\n",
       "    <tr>\n",
       "      <th>SUM_Foam_OtherPlasticDebris</th>\n",
       "      <td>8456479</td>\n",
       "    </tr>\n",
       "    <tr>\n",
       "      <th>SUM_OtherPlasticDebris</th>\n",
       "      <td>1.5234e+07</td>\n",
       "    </tr>\n",
       "  </tbody>\n",
       "</table>\n",
       "</div>"
      ],
      "text/plain": [
       "                                plastic_waste_sources\n",
       "SUM_Hard_PlasticBeverageBottle                   4976\n",
       "SUM_Hard_OtherPlasticBottle                      3514\n",
       "SUM_HardOrSoft_PlasticBottleCap                 26771\n",
       "SUM_PlasticOrFoamFoodContainer                   4775\n",
       "SUM_Hard_BucketOrCrate                              0\n",
       "SUM_Hard_Lighter                                  763\n",
       "SUM_OtherHardPlastic                              409\n",
       "SUM_PlasticOrFoamPlatesBowlsCup                247666\n",
       "SUM_HardSoft_PersonalCareProduc                  3230\n",
       "SUM_HardSoftLollipopStick_EarBu                     0\n",
       "SUM_Soft_Bag                                     8480\n",
       "SUM_Soft_WrapperOrLabel                         46293\n",
       "SUM_Soft_Straw                                 993722\n",
       "SUM_Soft_OtherPlastic                            4789\n",
       "SUM_Soft_CigaretteButts                   1.37938e+06\n",
       "SUM_Soft_StringRingRibbon                          18\n",
       "Fishing_Net                                       866\n",
       "SUM_FishingLineLureRope                          3678\n",
       "Fishing_BuoysAndFloats                            147\n",
       "SUM_Foam_OtherPlasticDebris                   8456479\n",
       "SUM_OtherPlasticDebris                     1.5234e+07"
      ]
     },
     "execution_count": 11,
     "metadata": {},
     "output_type": "execute_result"
    }
   ],
   "source": [
    "maximum_plastics_waste"
   ]
  },
  {
   "cell_type": "code",
   "execution_count": 12,
   "metadata": {},
   "outputs": [
    {
     "data": {
      "text/html": [
       "        <script type=\"text/javascript\">\n",
       "        window.PlotlyConfig = {MathJaxConfig: 'local'};\n",
       "        if (window.MathJax) {MathJax.Hub.Config({SVG: {font: \"STIX-Web\"}});}\n",
       "        if (typeof require !== 'undefined') {\n",
       "        require.undef(\"plotly\");\n",
       "        requirejs.config({\n",
       "            paths: {\n",
       "                'plotly': ['https://cdn.plot.ly/plotly-latest.min']\n",
       "            }\n",
       "        });\n",
       "        require(['plotly'], function(Plotly) {\n",
       "            window._Plotly = Plotly;\n",
       "        });\n",
       "        }\n",
       "        </script>\n",
       "        "
      ]
     },
     "metadata": {},
     "output_type": "display_data"
    },
    {
     "data": {
      "application/vnd.plotly.v1+json": {
       "config": {
        "linkText": "Export to plot.ly",
        "plotlyServerURL": "https://plot.ly",
        "showLink": true
       },
       "data": [
        {
         "marker": {
          "color": "rgba(255, 153, 51, 0.6)",
          "line": {
           "color": "rgba(255, 153, 51, 1.0)",
           "width": 1
          }
         },
         "name": "plastic_waste_sources",
         "orientation": "v",
         "text": "",
         "type": "bar",
         "x": [
          "SUM_Hard_PlasticBeverageBottle",
          "SUM_Hard_OtherPlasticBottle",
          "SUM_HardOrSoft_PlasticBottleCap",
          "SUM_PlasticOrFoamFoodContainer",
          "SUM_Hard_BucketOrCrate",
          "SUM_Hard_Lighter",
          "SUM_OtherHardPlastic",
          "SUM_PlasticOrFoamPlatesBowlsCup",
          "SUM_HardSoft_PersonalCareProduc",
          "SUM_HardSoftLollipopStick_EarBu",
          "SUM_Soft_Bag",
          "SUM_Soft_WrapperOrLabel",
          "SUM_Soft_Straw",
          "SUM_Soft_OtherPlastic",
          "SUM_Soft_CigaretteButts",
          "SUM_Soft_StringRingRibbon",
          "Fishing_Net",
          "SUM_FishingLineLureRope",
          "Fishing_BuoysAndFloats",
          "SUM_Foam_OtherPlasticDebris",
          "SUM_OtherPlasticDebris"
         ],
         "y": [
          4976,
          3514,
          26771,
          4775,
          0,
          763,
          409,
          247666,
          3230,
          0,
          8480,
          46293,
          993722,
          4789,
          1379379,
          18,
          866,
          3678,
          147,
          8456479,
          15234016
         ]
        }
       ],
       "layout": {
        "legend": {
         "bgcolor": "#F5F6F9",
         "font": {
          "color": "#4D5663"
         }
        },
        "paper_bgcolor": "#F5F6F9",
        "plot_bgcolor": "#F5F6F9",
        "template": {
         "data": {
          "bar": [
           {
            "error_x": {
             "color": "#2a3f5f"
            },
            "error_y": {
             "color": "#2a3f5f"
            },
            "marker": {
             "line": {
              "color": "#E5ECF6",
              "width": 0.5
             }
            },
            "type": "bar"
           }
          ],
          "barpolar": [
           {
            "marker": {
             "line": {
              "color": "#E5ECF6",
              "width": 0.5
             }
            },
            "type": "barpolar"
           }
          ],
          "carpet": [
           {
            "aaxis": {
             "endlinecolor": "#2a3f5f",
             "gridcolor": "white",
             "linecolor": "white",
             "minorgridcolor": "white",
             "startlinecolor": "#2a3f5f"
            },
            "baxis": {
             "endlinecolor": "#2a3f5f",
             "gridcolor": "white",
             "linecolor": "white",
             "minorgridcolor": "white",
             "startlinecolor": "#2a3f5f"
            },
            "type": "carpet"
           }
          ],
          "choropleth": [
           {
            "colorbar": {
             "outlinewidth": 0,
             "ticks": ""
            },
            "type": "choropleth"
           }
          ],
          "contour": [
           {
            "colorbar": {
             "outlinewidth": 0,
             "ticks": ""
            },
            "colorscale": [
             [
              0,
              "#0d0887"
             ],
             [
              0.1111111111111111,
              "#46039f"
             ],
             [
              0.2222222222222222,
              "#7201a8"
             ],
             [
              0.3333333333333333,
              "#9c179e"
             ],
             [
              0.4444444444444444,
              "#bd3786"
             ],
             [
              0.5555555555555556,
              "#d8576b"
             ],
             [
              0.6666666666666666,
              "#ed7953"
             ],
             [
              0.7777777777777778,
              "#fb9f3a"
             ],
             [
              0.8888888888888888,
              "#fdca26"
             ],
             [
              1,
              "#f0f921"
             ]
            ],
            "type": "contour"
           }
          ],
          "contourcarpet": [
           {
            "colorbar": {
             "outlinewidth": 0,
             "ticks": ""
            },
            "type": "contourcarpet"
           }
          ],
          "heatmap": [
           {
            "colorbar": {
             "outlinewidth": 0,
             "ticks": ""
            },
            "colorscale": [
             [
              0,
              "#0d0887"
             ],
             [
              0.1111111111111111,
              "#46039f"
             ],
             [
              0.2222222222222222,
              "#7201a8"
             ],
             [
              0.3333333333333333,
              "#9c179e"
             ],
             [
              0.4444444444444444,
              "#bd3786"
             ],
             [
              0.5555555555555556,
              "#d8576b"
             ],
             [
              0.6666666666666666,
              "#ed7953"
             ],
             [
              0.7777777777777778,
              "#fb9f3a"
             ],
             [
              0.8888888888888888,
              "#fdca26"
             ],
             [
              1,
              "#f0f921"
             ]
            ],
            "type": "heatmap"
           }
          ],
          "heatmapgl": [
           {
            "colorbar": {
             "outlinewidth": 0,
             "ticks": ""
            },
            "colorscale": [
             [
              0,
              "#0d0887"
             ],
             [
              0.1111111111111111,
              "#46039f"
             ],
             [
              0.2222222222222222,
              "#7201a8"
             ],
             [
              0.3333333333333333,
              "#9c179e"
             ],
             [
              0.4444444444444444,
              "#bd3786"
             ],
             [
              0.5555555555555556,
              "#d8576b"
             ],
             [
              0.6666666666666666,
              "#ed7953"
             ],
             [
              0.7777777777777778,
              "#fb9f3a"
             ],
             [
              0.8888888888888888,
              "#fdca26"
             ],
             [
              1,
              "#f0f921"
             ]
            ],
            "type": "heatmapgl"
           }
          ],
          "histogram": [
           {
            "marker": {
             "colorbar": {
              "outlinewidth": 0,
              "ticks": ""
             }
            },
            "type": "histogram"
           }
          ],
          "histogram2d": [
           {
            "colorbar": {
             "outlinewidth": 0,
             "ticks": ""
            },
            "colorscale": [
             [
              0,
              "#0d0887"
             ],
             [
              0.1111111111111111,
              "#46039f"
             ],
             [
              0.2222222222222222,
              "#7201a8"
             ],
             [
              0.3333333333333333,
              "#9c179e"
             ],
             [
              0.4444444444444444,
              "#bd3786"
             ],
             [
              0.5555555555555556,
              "#d8576b"
             ],
             [
              0.6666666666666666,
              "#ed7953"
             ],
             [
              0.7777777777777778,
              "#fb9f3a"
             ],
             [
              0.8888888888888888,
              "#fdca26"
             ],
             [
              1,
              "#f0f921"
             ]
            ],
            "type": "histogram2d"
           }
          ],
          "histogram2dcontour": [
           {
            "colorbar": {
             "outlinewidth": 0,
             "ticks": ""
            },
            "colorscale": [
             [
              0,
              "#0d0887"
             ],
             [
              0.1111111111111111,
              "#46039f"
             ],
             [
              0.2222222222222222,
              "#7201a8"
             ],
             [
              0.3333333333333333,
              "#9c179e"
             ],
             [
              0.4444444444444444,
              "#bd3786"
             ],
             [
              0.5555555555555556,
              "#d8576b"
             ],
             [
              0.6666666666666666,
              "#ed7953"
             ],
             [
              0.7777777777777778,
              "#fb9f3a"
             ],
             [
              0.8888888888888888,
              "#fdca26"
             ],
             [
              1,
              "#f0f921"
             ]
            ],
            "type": "histogram2dcontour"
           }
          ],
          "mesh3d": [
           {
            "colorbar": {
             "outlinewidth": 0,
             "ticks": ""
            },
            "type": "mesh3d"
           }
          ],
          "parcoords": [
           {
            "line": {
             "colorbar": {
              "outlinewidth": 0,
              "ticks": ""
             }
            },
            "type": "parcoords"
           }
          ],
          "pie": [
           {
            "automargin": true,
            "type": "pie"
           }
          ],
          "scatter": [
           {
            "marker": {
             "colorbar": {
              "outlinewidth": 0,
              "ticks": ""
             }
            },
            "type": "scatter"
           }
          ],
          "scatter3d": [
           {
            "line": {
             "colorbar": {
              "outlinewidth": 0,
              "ticks": ""
             }
            },
            "marker": {
             "colorbar": {
              "outlinewidth": 0,
              "ticks": ""
             }
            },
            "type": "scatter3d"
           }
          ],
          "scattercarpet": [
           {
            "marker": {
             "colorbar": {
              "outlinewidth": 0,
              "ticks": ""
             }
            },
            "type": "scattercarpet"
           }
          ],
          "scattergeo": [
           {
            "marker": {
             "colorbar": {
              "outlinewidth": 0,
              "ticks": ""
             }
            },
            "type": "scattergeo"
           }
          ],
          "scattergl": [
           {
            "marker": {
             "colorbar": {
              "outlinewidth": 0,
              "ticks": ""
             }
            },
            "type": "scattergl"
           }
          ],
          "scattermapbox": [
           {
            "marker": {
             "colorbar": {
              "outlinewidth": 0,
              "ticks": ""
             }
            },
            "type": "scattermapbox"
           }
          ],
          "scatterpolar": [
           {
            "marker": {
             "colorbar": {
              "outlinewidth": 0,
              "ticks": ""
             }
            },
            "type": "scatterpolar"
           }
          ],
          "scatterpolargl": [
           {
            "marker": {
             "colorbar": {
              "outlinewidth": 0,
              "ticks": ""
             }
            },
            "type": "scatterpolargl"
           }
          ],
          "scatterternary": [
           {
            "marker": {
             "colorbar": {
              "outlinewidth": 0,
              "ticks": ""
             }
            },
            "type": "scatterternary"
           }
          ],
          "surface": [
           {
            "colorbar": {
             "outlinewidth": 0,
             "ticks": ""
            },
            "colorscale": [
             [
              0,
              "#0d0887"
             ],
             [
              0.1111111111111111,
              "#46039f"
             ],
             [
              0.2222222222222222,
              "#7201a8"
             ],
             [
              0.3333333333333333,
              "#9c179e"
             ],
             [
              0.4444444444444444,
              "#bd3786"
             ],
             [
              0.5555555555555556,
              "#d8576b"
             ],
             [
              0.6666666666666666,
              "#ed7953"
             ],
             [
              0.7777777777777778,
              "#fb9f3a"
             ],
             [
              0.8888888888888888,
              "#fdca26"
             ],
             [
              1,
              "#f0f921"
             ]
            ],
            "type": "surface"
           }
          ],
          "table": [
           {
            "cells": {
             "fill": {
              "color": "#EBF0F8"
             },
             "line": {
              "color": "white"
             }
            },
            "header": {
             "fill": {
              "color": "#C8D4E3"
             },
             "line": {
              "color": "white"
             }
            },
            "type": "table"
           }
          ]
         },
         "layout": {
          "annotationdefaults": {
           "arrowcolor": "#2a3f5f",
           "arrowhead": 0,
           "arrowwidth": 1
          },
          "coloraxis": {
           "colorbar": {
            "outlinewidth": 0,
            "ticks": ""
           }
          },
          "colorscale": {
           "diverging": [
            [
             0,
             "#8e0152"
            ],
            [
             0.1,
             "#c51b7d"
            ],
            [
             0.2,
             "#de77ae"
            ],
            [
             0.3,
             "#f1b6da"
            ],
            [
             0.4,
             "#fde0ef"
            ],
            [
             0.5,
             "#f7f7f7"
            ],
            [
             0.6,
             "#e6f5d0"
            ],
            [
             0.7,
             "#b8e186"
            ],
            [
             0.8,
             "#7fbc41"
            ],
            [
             0.9,
             "#4d9221"
            ],
            [
             1,
             "#276419"
            ]
           ],
           "sequential": [
            [
             0,
             "#0d0887"
            ],
            [
             0.1111111111111111,
             "#46039f"
            ],
            [
             0.2222222222222222,
             "#7201a8"
            ],
            [
             0.3333333333333333,
             "#9c179e"
            ],
            [
             0.4444444444444444,
             "#bd3786"
            ],
            [
             0.5555555555555556,
             "#d8576b"
            ],
            [
             0.6666666666666666,
             "#ed7953"
            ],
            [
             0.7777777777777778,
             "#fb9f3a"
            ],
            [
             0.8888888888888888,
             "#fdca26"
            ],
            [
             1,
             "#f0f921"
            ]
           ],
           "sequentialminus": [
            [
             0,
             "#0d0887"
            ],
            [
             0.1111111111111111,
             "#46039f"
            ],
            [
             0.2222222222222222,
             "#7201a8"
            ],
            [
             0.3333333333333333,
             "#9c179e"
            ],
            [
             0.4444444444444444,
             "#bd3786"
            ],
            [
             0.5555555555555556,
             "#d8576b"
            ],
            [
             0.6666666666666666,
             "#ed7953"
            ],
            [
             0.7777777777777778,
             "#fb9f3a"
            ],
            [
             0.8888888888888888,
             "#fdca26"
            ],
            [
             1,
             "#f0f921"
            ]
           ]
          },
          "colorway": [
           "#636efa",
           "#EF553B",
           "#00cc96",
           "#ab63fa",
           "#FFA15A",
           "#19d3f3",
           "#FF6692",
           "#B6E880",
           "#FF97FF",
           "#FECB52"
          ],
          "font": {
           "color": "#2a3f5f"
          },
          "geo": {
           "bgcolor": "white",
           "lakecolor": "white",
           "landcolor": "#E5ECF6",
           "showlakes": true,
           "showland": true,
           "subunitcolor": "white"
          },
          "hoverlabel": {
           "align": "left"
          },
          "hovermode": "closest",
          "mapbox": {
           "style": "light"
          },
          "paper_bgcolor": "white",
          "plot_bgcolor": "#E5ECF6",
          "polar": {
           "angularaxis": {
            "gridcolor": "white",
            "linecolor": "white",
            "ticks": ""
           },
           "bgcolor": "#E5ECF6",
           "radialaxis": {
            "gridcolor": "white",
            "linecolor": "white",
            "ticks": ""
           }
          },
          "scene": {
           "xaxis": {
            "backgroundcolor": "#E5ECF6",
            "gridcolor": "white",
            "gridwidth": 2,
            "linecolor": "white",
            "showbackground": true,
            "ticks": "",
            "zerolinecolor": "white"
           },
           "yaxis": {
            "backgroundcolor": "#E5ECF6",
            "gridcolor": "white",
            "gridwidth": 2,
            "linecolor": "white",
            "showbackground": true,
            "ticks": "",
            "zerolinecolor": "white"
           },
           "zaxis": {
            "backgroundcolor": "#E5ECF6",
            "gridcolor": "white",
            "gridwidth": 2,
            "linecolor": "white",
            "showbackground": true,
            "ticks": "",
            "zerolinecolor": "white"
           }
          },
          "shapedefaults": {
           "line": {
            "color": "#2a3f5f"
           }
          },
          "ternary": {
           "aaxis": {
            "gridcolor": "white",
            "linecolor": "white",
            "ticks": ""
           },
           "baxis": {
            "gridcolor": "white",
            "linecolor": "white",
            "ticks": ""
           },
           "bgcolor": "#E5ECF6",
           "caxis": {
            "gridcolor": "white",
            "linecolor": "white",
            "ticks": ""
           }
          },
          "title": {
           "x": 0.05
          },
          "xaxis": {
           "automargin": true,
           "gridcolor": "white",
           "linecolor": "white",
           "ticks": "",
           "title": {
            "standoff": 15
           },
           "zerolinecolor": "white",
           "zerolinewidth": 2
          },
          "yaxis": {
           "automargin": true,
           "gridcolor": "white",
           "linecolor": "white",
           "ticks": "",
           "title": {
            "standoff": 15
           },
           "zerolinecolor": "white",
           "zerolinewidth": 2
          }
         }
        },
        "title": {
         "font": {
          "color": "#4D5663"
         },
         "text": "xx"
        },
        "xaxis": {
         "gridcolor": "#E1E5ED",
         "showgrid": true,
         "tickfont": {
          "color": "#4D5663"
         },
         "title": {
          "font": {
           "color": "#4D5663"
          },
          "text": "xx"
         },
         "zerolinecolor": "#E1E5ED"
        },
        "yaxis": {
         "gridcolor": "#E1E5ED",
         "showgrid": true,
         "tickfont": {
          "color": "#4D5663"
         },
         "title": {
          "font": {
           "color": "#4D5663"
          },
          "text": "xx"
         },
         "zerolinecolor": "#E1E5ED"
        }
       }
      },
      "text/html": [
       "<div>\n",
       "        \n",
       "        \n",
       "            <div id=\"510aaf62-704a-45c0-acb5-5e53571bb067\" class=\"plotly-graph-div\" style=\"height:525px; width:100%;\"></div>\n",
       "            <script type=\"text/javascript\">\n",
       "                require([\"plotly\"], function(Plotly) {\n",
       "                    window.PLOTLYENV=window.PLOTLYENV || {};\n",
       "                    window.PLOTLYENV.BASE_URL='https://plot.ly';\n",
       "                    \n",
       "                if (document.getElementById(\"510aaf62-704a-45c0-acb5-5e53571bb067\")) {\n",
       "                    Plotly.newPlot(\n",
       "                        '510aaf62-704a-45c0-acb5-5e53571bb067',\n",
       "                        [{\"marker\": {\"color\": \"rgba(255, 153, 51, 0.6)\", \"line\": {\"color\": \"rgba(255, 153, 51, 1.0)\", \"width\": 1}}, \"name\": \"plastic_waste_sources\", \"orientation\": \"v\", \"text\": \"\", \"type\": \"bar\", \"x\": [\"SUM_Hard_PlasticBeverageBottle\", \"SUM_Hard_OtherPlasticBottle\", \"SUM_HardOrSoft_PlasticBottleCap\", \"SUM_PlasticOrFoamFoodContainer\", \"SUM_Hard_BucketOrCrate\", \"SUM_Hard_Lighter\", \"SUM_OtherHardPlastic\", \"SUM_PlasticOrFoamPlatesBowlsCup\", \"SUM_HardSoft_PersonalCareProduc\", \"SUM_HardSoftLollipopStick_EarBu\", \"SUM_Soft_Bag\", \"SUM_Soft_WrapperOrLabel\", \"SUM_Soft_Straw\", \"SUM_Soft_OtherPlastic\", \"SUM_Soft_CigaretteButts\", \"SUM_Soft_StringRingRibbon\", \"Fishing_Net\", \"SUM_FishingLineLureRope\", \"Fishing_BuoysAndFloats\", \"SUM_Foam_OtherPlasticDebris\", \"SUM_OtherPlasticDebris\"], \"y\": [4976.0, 3514.0, 26771.0, 4775.0, 0.0, 763.0, 409.0, 247666.0, 3230.0, 0.0, 8480.0, 46293.0, 993722.0, 4789.0, 1379379.0, 18.0, 866.0, 3678.0, 147.0, 8456479.0, 15234016.0]}],\n",
       "                        {\"legend\": {\"bgcolor\": \"#F5F6F9\", \"font\": {\"color\": \"#4D5663\"}}, \"paper_bgcolor\": \"#F5F6F9\", \"plot_bgcolor\": \"#F5F6F9\", \"template\": {\"data\": {\"bar\": [{\"error_x\": {\"color\": \"#2a3f5f\"}, \"error_y\": {\"color\": \"#2a3f5f\"}, \"marker\": {\"line\": {\"color\": \"#E5ECF6\", \"width\": 0.5}}, \"type\": \"bar\"}], \"barpolar\": [{\"marker\": {\"line\": {\"color\": \"#E5ECF6\", \"width\": 0.5}}, \"type\": \"barpolar\"}], \"carpet\": [{\"aaxis\": {\"endlinecolor\": \"#2a3f5f\", \"gridcolor\": \"white\", \"linecolor\": \"white\", \"minorgridcolor\": \"white\", \"startlinecolor\": \"#2a3f5f\"}, \"baxis\": {\"endlinecolor\": \"#2a3f5f\", \"gridcolor\": \"white\", \"linecolor\": \"white\", \"minorgridcolor\": \"white\", \"startlinecolor\": \"#2a3f5f\"}, \"type\": \"carpet\"}], \"choropleth\": [{\"colorbar\": {\"outlinewidth\": 0, \"ticks\": \"\"}, \"type\": \"choropleth\"}], \"contour\": [{\"colorbar\": {\"outlinewidth\": 0, \"ticks\": \"\"}, \"colorscale\": [[0.0, \"#0d0887\"], [0.1111111111111111, \"#46039f\"], [0.2222222222222222, \"#7201a8\"], [0.3333333333333333, \"#9c179e\"], [0.4444444444444444, \"#bd3786\"], [0.5555555555555556, \"#d8576b\"], [0.6666666666666666, \"#ed7953\"], [0.7777777777777778, \"#fb9f3a\"], [0.8888888888888888, \"#fdca26\"], [1.0, \"#f0f921\"]], \"type\": \"contour\"}], \"contourcarpet\": [{\"colorbar\": {\"outlinewidth\": 0, \"ticks\": \"\"}, \"type\": \"contourcarpet\"}], \"heatmap\": [{\"colorbar\": {\"outlinewidth\": 0, \"ticks\": \"\"}, \"colorscale\": [[0.0, \"#0d0887\"], [0.1111111111111111, \"#46039f\"], [0.2222222222222222, \"#7201a8\"], [0.3333333333333333, \"#9c179e\"], [0.4444444444444444, \"#bd3786\"], [0.5555555555555556, \"#d8576b\"], [0.6666666666666666, \"#ed7953\"], [0.7777777777777778, \"#fb9f3a\"], [0.8888888888888888, \"#fdca26\"], [1.0, \"#f0f921\"]], \"type\": \"heatmap\"}], \"heatmapgl\": [{\"colorbar\": {\"outlinewidth\": 0, \"ticks\": \"\"}, \"colorscale\": [[0.0, \"#0d0887\"], [0.1111111111111111, \"#46039f\"], [0.2222222222222222, \"#7201a8\"], [0.3333333333333333, \"#9c179e\"], [0.4444444444444444, \"#bd3786\"], [0.5555555555555556, \"#d8576b\"], [0.6666666666666666, \"#ed7953\"], [0.7777777777777778, \"#fb9f3a\"], [0.8888888888888888, \"#fdca26\"], [1.0, \"#f0f921\"]], \"type\": \"heatmapgl\"}], \"histogram\": [{\"marker\": {\"colorbar\": {\"outlinewidth\": 0, \"ticks\": \"\"}}, \"type\": \"histogram\"}], \"histogram2d\": [{\"colorbar\": {\"outlinewidth\": 0, \"ticks\": \"\"}, \"colorscale\": [[0.0, \"#0d0887\"], [0.1111111111111111, \"#46039f\"], [0.2222222222222222, \"#7201a8\"], [0.3333333333333333, \"#9c179e\"], [0.4444444444444444, \"#bd3786\"], [0.5555555555555556, \"#d8576b\"], [0.6666666666666666, \"#ed7953\"], [0.7777777777777778, \"#fb9f3a\"], [0.8888888888888888, \"#fdca26\"], [1.0, \"#f0f921\"]], \"type\": \"histogram2d\"}], \"histogram2dcontour\": [{\"colorbar\": {\"outlinewidth\": 0, \"ticks\": \"\"}, \"colorscale\": [[0.0, \"#0d0887\"], [0.1111111111111111, \"#46039f\"], [0.2222222222222222, \"#7201a8\"], [0.3333333333333333, \"#9c179e\"], [0.4444444444444444, \"#bd3786\"], [0.5555555555555556, \"#d8576b\"], [0.6666666666666666, \"#ed7953\"], [0.7777777777777778, \"#fb9f3a\"], [0.8888888888888888, \"#fdca26\"], [1.0, \"#f0f921\"]], \"type\": \"histogram2dcontour\"}], \"mesh3d\": [{\"colorbar\": {\"outlinewidth\": 0, \"ticks\": \"\"}, \"type\": \"mesh3d\"}], \"parcoords\": [{\"line\": {\"colorbar\": {\"outlinewidth\": 0, \"ticks\": \"\"}}, \"type\": \"parcoords\"}], \"pie\": [{\"automargin\": true, \"type\": \"pie\"}], \"scatter\": [{\"marker\": {\"colorbar\": {\"outlinewidth\": 0, \"ticks\": \"\"}}, \"type\": \"scatter\"}], \"scatter3d\": [{\"line\": {\"colorbar\": {\"outlinewidth\": 0, \"ticks\": \"\"}}, \"marker\": {\"colorbar\": {\"outlinewidth\": 0, \"ticks\": \"\"}}, \"type\": \"scatter3d\"}], \"scattercarpet\": [{\"marker\": {\"colorbar\": {\"outlinewidth\": 0, \"ticks\": \"\"}}, \"type\": \"scattercarpet\"}], \"scattergeo\": [{\"marker\": {\"colorbar\": {\"outlinewidth\": 0, \"ticks\": \"\"}}, \"type\": \"scattergeo\"}], \"scattergl\": [{\"marker\": {\"colorbar\": {\"outlinewidth\": 0, \"ticks\": \"\"}}, \"type\": \"scattergl\"}], \"scattermapbox\": [{\"marker\": {\"colorbar\": {\"outlinewidth\": 0, \"ticks\": \"\"}}, \"type\": \"scattermapbox\"}], \"scatterpolar\": [{\"marker\": {\"colorbar\": {\"outlinewidth\": 0, \"ticks\": \"\"}}, \"type\": \"scatterpolar\"}], \"scatterpolargl\": [{\"marker\": {\"colorbar\": {\"outlinewidth\": 0, \"ticks\": \"\"}}, \"type\": \"scatterpolargl\"}], \"scatterternary\": [{\"marker\": {\"colorbar\": {\"outlinewidth\": 0, \"ticks\": \"\"}}, \"type\": \"scatterternary\"}], \"surface\": [{\"colorbar\": {\"outlinewidth\": 0, \"ticks\": \"\"}, \"colorscale\": [[0.0, \"#0d0887\"], [0.1111111111111111, \"#46039f\"], [0.2222222222222222, \"#7201a8\"], [0.3333333333333333, \"#9c179e\"], [0.4444444444444444, \"#bd3786\"], [0.5555555555555556, \"#d8576b\"], [0.6666666666666666, \"#ed7953\"], [0.7777777777777778, \"#fb9f3a\"], [0.8888888888888888, \"#fdca26\"], [1.0, \"#f0f921\"]], \"type\": \"surface\"}], \"table\": [{\"cells\": {\"fill\": {\"color\": \"#EBF0F8\"}, \"line\": {\"color\": \"white\"}}, \"header\": {\"fill\": {\"color\": \"#C8D4E3\"}, \"line\": {\"color\": \"white\"}}, \"type\": \"table\"}]}, \"layout\": {\"annotationdefaults\": {\"arrowcolor\": \"#2a3f5f\", \"arrowhead\": 0, \"arrowwidth\": 1}, \"coloraxis\": {\"colorbar\": {\"outlinewidth\": 0, \"ticks\": \"\"}}, \"colorscale\": {\"diverging\": [[0, \"#8e0152\"], [0.1, \"#c51b7d\"], [0.2, \"#de77ae\"], [0.3, \"#f1b6da\"], [0.4, \"#fde0ef\"], [0.5, \"#f7f7f7\"], [0.6, \"#e6f5d0\"], [0.7, \"#b8e186\"], [0.8, \"#7fbc41\"], [0.9, \"#4d9221\"], [1, \"#276419\"]], \"sequential\": [[0.0, \"#0d0887\"], [0.1111111111111111, \"#46039f\"], [0.2222222222222222, \"#7201a8\"], [0.3333333333333333, \"#9c179e\"], [0.4444444444444444, \"#bd3786\"], [0.5555555555555556, \"#d8576b\"], [0.6666666666666666, \"#ed7953\"], [0.7777777777777778, \"#fb9f3a\"], [0.8888888888888888, \"#fdca26\"], [1.0, \"#f0f921\"]], \"sequentialminus\": [[0.0, \"#0d0887\"], [0.1111111111111111, \"#46039f\"], [0.2222222222222222, \"#7201a8\"], [0.3333333333333333, \"#9c179e\"], [0.4444444444444444, \"#bd3786\"], [0.5555555555555556, \"#d8576b\"], [0.6666666666666666, \"#ed7953\"], [0.7777777777777778, \"#fb9f3a\"], [0.8888888888888888, \"#fdca26\"], [1.0, \"#f0f921\"]]}, \"colorway\": [\"#636efa\", \"#EF553B\", \"#00cc96\", \"#ab63fa\", \"#FFA15A\", \"#19d3f3\", \"#FF6692\", \"#B6E880\", \"#FF97FF\", \"#FECB52\"], \"font\": {\"color\": \"#2a3f5f\"}, \"geo\": {\"bgcolor\": \"white\", \"lakecolor\": \"white\", \"landcolor\": \"#E5ECF6\", \"showlakes\": true, \"showland\": true, \"subunitcolor\": \"white\"}, \"hoverlabel\": {\"align\": \"left\"}, \"hovermode\": \"closest\", \"mapbox\": {\"style\": \"light\"}, \"paper_bgcolor\": \"white\", \"plot_bgcolor\": \"#E5ECF6\", \"polar\": {\"angularaxis\": {\"gridcolor\": \"white\", \"linecolor\": \"white\", \"ticks\": \"\"}, \"bgcolor\": \"#E5ECF6\", \"radialaxis\": {\"gridcolor\": \"white\", \"linecolor\": \"white\", \"ticks\": \"\"}}, \"scene\": {\"xaxis\": {\"backgroundcolor\": \"#E5ECF6\", \"gridcolor\": \"white\", \"gridwidth\": 2, \"linecolor\": \"white\", \"showbackground\": true, \"ticks\": \"\", \"zerolinecolor\": \"white\"}, \"yaxis\": {\"backgroundcolor\": \"#E5ECF6\", \"gridcolor\": \"white\", \"gridwidth\": 2, \"linecolor\": \"white\", \"showbackground\": true, \"ticks\": \"\", \"zerolinecolor\": \"white\"}, \"zaxis\": {\"backgroundcolor\": \"#E5ECF6\", \"gridcolor\": \"white\", \"gridwidth\": 2, \"linecolor\": \"white\", \"showbackground\": true, \"ticks\": \"\", \"zerolinecolor\": \"white\"}}, \"shapedefaults\": {\"line\": {\"color\": \"#2a3f5f\"}}, \"ternary\": {\"aaxis\": {\"gridcolor\": \"white\", \"linecolor\": \"white\", \"ticks\": \"\"}, \"baxis\": {\"gridcolor\": \"white\", \"linecolor\": \"white\", \"ticks\": \"\"}, \"bgcolor\": \"#E5ECF6\", \"caxis\": {\"gridcolor\": \"white\", \"linecolor\": \"white\", \"ticks\": \"\"}}, \"title\": {\"x\": 0.05}, \"xaxis\": {\"automargin\": true, \"gridcolor\": \"white\", \"linecolor\": \"white\", \"ticks\": \"\", \"title\": {\"standoff\": 15}, \"zerolinecolor\": \"white\", \"zerolinewidth\": 2}, \"yaxis\": {\"automargin\": true, \"gridcolor\": \"white\", \"linecolor\": \"white\", \"ticks\": \"\", \"title\": {\"standoff\": 15}, \"zerolinecolor\": \"white\", \"zerolinewidth\": 2}}}, \"title\": {\"font\": {\"color\": \"#4D5663\"}, \"text\": \"xx\"}, \"xaxis\": {\"gridcolor\": \"#E1E5ED\", \"showgrid\": true, \"tickfont\": {\"color\": \"#4D5663\"}, \"title\": {\"font\": {\"color\": \"#4D5663\"}, \"text\": \"xx\"}, \"zerolinecolor\": \"#E1E5ED\"}, \"yaxis\": {\"gridcolor\": \"#E1E5ED\", \"showgrid\": true, \"tickfont\": {\"color\": \"#4D5663\"}, \"title\": {\"font\": {\"color\": \"#4D5663\"}, \"text\": \"xx\"}, \"zerolinecolor\": \"#E1E5ED\"}},\n",
       "                        {\"showLink\": true, \"linkText\": \"Export to plot.ly\", \"plotlyServerURL\": \"https://plot.ly\", \"responsive\": true}\n",
       "                    ).then(function(){\n",
       "                            \n",
       "var gd = document.getElementById('510aaf62-704a-45c0-acb5-5e53571bb067');\n",
       "var x = new MutationObserver(function (mutations, observer) {{\n",
       "        var display = window.getComputedStyle(gd).display;\n",
       "        if (!display || display === 'none') {{\n",
       "            console.log([gd, 'removed!']);\n",
       "            Plotly.purge(gd);\n",
       "            observer.disconnect();\n",
       "        }}\n",
       "}});\n",
       "\n",
       "// Listen for the removal of the full notebook cells\n",
       "var notebookContainer = gd.closest('#notebook-container');\n",
       "if (notebookContainer) {{\n",
       "    x.observe(notebookContainer, {childList: true});\n",
       "}}\n",
       "\n",
       "// Listen for the clearing of the current output cell\n",
       "var outputEl = gd.closest('.output');\n",
       "if (outputEl) {{\n",
       "    x.observe(outputEl, {childList: true});\n",
       "}}\n",
       "\n",
       "                        })\n",
       "                };\n",
       "                });\n",
       "            </script>\n",
       "        </div>"
      ]
     },
     "metadata": {},
     "output_type": "display_data"
    }
   ],
   "source": [
    "# let's create the barplot to visualise what's the biggest source of plastic waste in Ghana \n",
    "# maximum_plastics_waste.plot(kind = 'bar')\n",
    "cf.go_offline()\n",
    "maximum_plastics_waste.iplot(kind='bar', title='xx', yTitle='xx', xTitle='xx')"
   ]
  },
  {
   "cell_type": "markdown",
   "metadata": {},
   "source": [
    "#### Observations\n",
    "We can see here that the biggest sources of plastic pollution in Ghana, comes from foam (plates and cups), plastic debris, and to a lesser extent from cigarette butts, and soft straws."
   ]
  },
  {
   "cell_type": "markdown",
   "metadata": {},
   "source": [
    "We also observe that the columns 'SUM_OtherPlasticDebris' and 'SUM_Foam_OtherPlasticDebris' are significanlty larger than the rest of the values. What happens when we recreate the bar plot without these two columns.  "
   ]
  },
  {
   "cell_type": "markdown",
   "metadata": {},
   "source": [
    "Let's redraw the barplot witout the 'Sum_OtherPlasticDebris' and 'SUM_Foam_OtherPlasticDebris' columns. "
   ]
  },
  {
   "cell_type": "code",
   "execution_count": 12,
   "metadata": {},
   "outputs": [
    {
     "data": {
      "text/plain": [
       "<matplotlib.axes._subplots.AxesSubplot at 0x7f93d62d5a10>"
      ]
     },
     "execution_count": 12,
     "metadata": {},
     "output_type": "execute_result"
    },
    {
     "data": {
      "image/png": "[encoded data removed]",
      "text/plain": [
       "<Figure size 432x288 with 1 Axes>"
      ]
     },
     "metadata": {
      "needs_background": "light"
     },
     "output_type": "display_data"
    }
   ],
   "source": [
    "# first we drop the columns we are not interested in\n",
    "maximum_plastics_waste = maximum_plastics_waste.drop(['SUM_OtherPlasticDebris', 'SUM_Foam_OtherPlasticDebris'], axis = 0)\n",
    "\n",
    "# then we redraw the bar plot\n",
    "maximum_plastics_waste.plot(kind = 'bar')"
   ]
  },
  {
   "cell_type": "markdown",
   "metadata": {},
   "source": [
    "#### Observations\n",
    "We observe that soft cigarette butts, and soft straws are the major contributors to plastic waste in Ghana, Africa."
   ]
  },
  {
   "cell_type": "markdown",
   "metadata": {},
   "source": [
    "### How about lollipop sticks ? Do we have to give up lollipop on Mars ? "
   ]
  },
  {
   "cell_type": "markdown",
   "metadata": {},
   "source": [
    "We noted that lollipo sticks and ear buds were counted and classified among the plastic items that contribute to plastic waste. How much does lollipops actually contirubte to plastic waste ?  "
   ]
  },
  {
   "cell_type": "markdown",
   "metadata": {},
   "source": [
    "To answer this question, let's look at the distribution of lollipop stick waste across continents. "
   ]
  },
  {
   "cell_type": "markdown",
   "metadata": {},
   "source": [
    "We will draw a scatter plot for the count of lollipo sticks in every continent using the columns 'SUM_HardSoftLollipopStick_EarBu' and 'CONTINENT'"
   ]
  },
  {
   "cell_type": "code",
   "execution_count": 13,
   "metadata": {},
   "outputs": [
    {
     "data": {
      "text/plain": [
       "Text(0.5, 0, 'Year')"
      ]
     },
     "execution_count": 13,
     "metadata": {},
     "output_type": "execute_result"
    },
    {
     "data": {
      "image/png": "[encoded data removed]",
      "text/plain": [
       "<Figure size 1152x576 with 1 Axes>"
      ]
     },
     "metadata": {
      "needs_background": "light"
     },
     "output_type": "display_data"
    }
   ],
   "source": [
    "# draw the scatter plot\n",
    "plt.figure(figsize=(16,8))\n",
    "columns = [\"SUM_HardSoftLollipopStick_EarBu\"]\n",
    "for col in columns:\n",
    "    x = plastics.groupby(\"CONTINENT\")[col].mean()\n",
    "    x = x/(1000*60)\n",
    "    ax= sns.lineplot(x=x.index,y=x,label=col)\n",
    "ax.set_title('Audio characteristics over years')\n",
    "ax.set_ylabel('Duration in minutes')\n",
    "ax.set_xlabel('Year')"
   ]
  },
  {
   "cell_type": "markdown",
   "metadata": {},
   "source": [
    "#### Observations\n",
    "We observe that only Europeans have lollipos (and Ear buds) contributing to sources of plastic waste. \n",
    "\n",
    "Does this make sense ? Does this mean people in all continents but Europe, do not eat any lollipos ? "
   ]
  },
  {
   "cell_type": "markdown",
   "metadata": {},
   "source": [
    "Ofcourse NOT ! People all over the globe eat lollipos. \n",
    "Rememeber that this was an aggregated dataset from three different sources, so let's look at counts of lollipops from each of the three datasets. "
   ]
  },
  {
   "cell_type": "code",
   "execution_count": 15,
   "metadata": {},
   "outputs": [
    {
     "data": {
      "text/plain": [
       "Text(0.5, 0, 'Year')"
      ]
     },
     "execution_count": 15,
     "metadata": {},
     "output_type": "execute_result"
    },
    {
     "data": {
      "image/png": "[encoded data removed]",
      "text/plain": [
       "<Figure size 1152x576 with 1 Axes>"
      ]
     },
     "metadata": {
      "needs_background": "light"
     },
     "output_type": "display_data"
    }
   ],
   "source": [
    "# plot counts of lollipops by data source\n",
    "plt.figure(figsize=(16,8))\n",
    "columns = [\"SUM_HardSoftLollipopStick_EarBu\"]\n",
    "for col in columns:\n",
    "    x = plastics.groupby(\"Dataset\")[col].mean()\n",
    "    x = x/(1000*60)\n",
    "    ax= sns.barplot(x=x.index,y=x,label=col)\n",
    "ax.set_title('Audio characteristics over years')\n",
    "ax.set_ylabel('Duration in minutes')\n",
    "ax.set_xlabel('Year')"
   ]
  },
  {
   "cell_type": "markdown",
   "metadata": {},
   "source": [
    "### Section IV: Conclusion\n",
    "\n",
    "We have used data to know that Ghana has the highest number of collected plastic waste items. While this can imply that Ghana has the highest plastic waste across al countries, it could be a limitation of this particular dataset where the number of volunteers could be higher or there could be more plastic waste on particular dates (e.g. holidays). \n",
    "\n",
    "We have also seen that lollipos sticks and ear buds were only collected and counted by the 'European Environment Agency's Marine LitterWatch; project which fasely implied that lollipop sticks are source of plastic waste only in Euorpe. "
   ]
  },
  {
   "cell_type": "markdown",
   "metadata": {},
   "source": [
    "### What's next ?\n",
    "\n",
    "Several other questions can be answered with this dataset like how does the trend in sources of plastic waste vary across the years or months ? \n",
    "\n",
    "In this example you have seen how data can give us insights into questions and solutions that are both data-driven. Now go to the hackathon template and start solving your own challenge for sustaining life on Mars !"
   ]
  },
  {
   "cell_type": "code",
   "execution_count": null,
   "metadata": {},
   "outputs": [],
   "source": []
  }
 ],
 "metadata": {
  "kernelspec": {
   "display_name": "Python 3",
   "language": "python",
   "name": "python3"
  },
  "language_info": {
   "codemirror_mode": {
    "name": "ipython",
    "version": 3
   },
   "file_extension": ".py",
   "mimetype": "text/x-python",
   "name": "python",
   "nbconvert_exporter": "python",
   "pygments_lexer": "ipython3",
   "version": "3.7.6"
  }
 },
 "nbformat": 4,
 "nbformat_minor": 4
}
