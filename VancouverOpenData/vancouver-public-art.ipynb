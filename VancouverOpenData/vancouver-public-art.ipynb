{
 "cells": [
  {
   "cell_type": "markdown",
   "metadata": {
    "colab_type": "text",
    "id": "UIpzey-qyj-l"
   },
   "source": [
    "![Callysto.ca Banner](https://github.com/callysto/curriculum-notebooks/blob/master/callysto-notebook-banner-top.jpg?raw=true)\n",
    "\n",
    "<a href=\"https://hub.callysto.ca/jupyter/hub/user-redirect/git-pull?repo=https%3A%2F%2Fgithub.com%2Fcallysto%2Fhackathon&branch=master&subPath=VancouverOpenData/vancouver-public-art.ipynb&depth=1\" target=\"_parent\"><img src=\"https://raw.githubusercontent.com/callysto/curriculum-notebooks/master/open-in-callysto-button.svg?sanitize=true\" width=\"123\" height=\"24\" alt=\"Open in Callysto\"/></a>"
   ]
  },
  {
   "cell_type": "markdown",
   "metadata": {
    "colab_type": "text",
    "id": "Mb6pNmQayj-m"
   },
   "source": [
    "# Data Detective:\n",
    "## Art Scavenger Hunt\n",
    "\n",
    "It’s the year 2070. The zombie apocalypse hit Vancouver and you’re one of a few survivors.\n",
    "Before the apocalypse hit, you worked at the City of Vancouver. You overheard people talking about storing emergency supplies in public art and also, a vaccine to immunize people against zombie bites. \n",
    "\n",
    "\n",
    "From what you overheard, the vaccine is in a sculpture of a realistic human form and other emergency supplies are in mosaics, posters, or murals. You also heard where they stored the tools to remove the supplies and vaccine from their hiding places.\n",
    "\n",
    "### You mission:\n",
    "Find the “Sacredness of Four” sculpture. You’ll find the tools you need.\n",
    "Narrow down what human sculpture the cure could be in.\n",
    "Determine where the emergency supplies could be. \n",
    "Find a mural with three blue birds. This has the secret location of three underground safe houses. \n",
    "Find the statue where the City of Vancouver stored the “keys of the city”, which lead to a food storehouse. HINT: this is a statue of a historical figure and who played a role in Vancouver’s history. \n",
    "\n",
    "#### Pictures of art are in this dataset. \n",
    "\n",
    "For example: \n",
    "https://opendata.vancouver.ca/explore/dataset/public-art/files/459ba5fac0d556ef44f2ab41d967f42f/download/ \n",
    "\n",
    "https://opendata.vancouver.ca/explore/dataset/public-art/files/2bc58382765bbc195272f0274bf77eac/download/ \n",
    "\n"
   ]
  },
  {
   "cell_type": "markdown",
   "metadata": {
    "colab_type": "text",
    "id": "4RMF6p54yj-n"
   },
   "source": [
    "## Downloading the data into a 'dataframe'\n",
    "\n",
    "We begin by downloading the data directly from the website. From [the website](https://data.strathcona.ca/Environment/Tree/v78i-7ntw) we selected the 'API' tag and chose CSV format on the top right side. Pressing the 'Copy' button gave us [the URL](https://data.strathcona.ca/resource/v78i-7ntw.csv) we need to download the full dataset."
   ]
  },
  {
   "cell_type": "code",
   "execution_count": null,
   "metadata": {
    "colab": {},
    "colab_type": "code",
    "id": "Otsw6AgdyrHO",
    "scrolled": true
   },
   "outputs": [],
   "source": [
    "!pip install folium --upgrade"
   ]
  },
  {
   "cell_type": "code",
   "execution_count": null,
   "metadata": {
    "colab": {},
    "colab_type": "code",
    "id": "1Ymtq63Zyj-n"
   },
   "outputs": [],
   "source": [
    "# Import libraries or modules that we will need\n",
    "\n",
    "# We will need to get the data from the API \n",
    "import requests as r\n",
    "# We will store the data into a 'dataframe' using pandas\n",
    "import pandas as pd\n",
    "# Need to remove this if we upgrade to pandas 1.0.1 \n",
    "from pandas.io.json import json_normalize\n",
    "# We want to be as precise as possible in keeping tree coordinates\n",
    "from decimal import *\n",
    "# We will visualize the coordinates in a map using the folium\n",
    "#!pip install folium\n",
    "import folium\n",
    "# We want to cluster them using the MarkerCluster submodule from folium plugins\n",
    "from folium.plugins import MarkerCluster\n",
    "\n",
    "print(\"Importing Python libraries was successful!\")"
   ]
  },
  {
   "cell_type": "code",
   "execution_count": null,
   "metadata": {},
   "outputs": [],
   "source": [
    "# Setting preview options\n",
    "pd.set_option('display.max_rows', 500)\n",
    "pd.set_option('display.max_columns', 500)"
   ]
  },
  {
   "cell_type": "code",
   "execution_count": null,
   "metadata": {
    "colab": {},
    "colab_type": "code",
    "id": "ZyIz6JcMyj-q"
   },
   "outputs": [],
   "source": [
    "# Download data from API \n",
    "link = \"https://opendata.vancouver.ca/api/records/1.0/search/?dataset=public-art&rows=500&facet=type&facet=status&facet=sitename&facet=siteaddress&facet=primarymaterial&facet=ownership&facet=neighbourhood&facet=artists&facet=photocredits\"\n",
    "API_response_trees = r.get(link)\n",
    "data = API_response_trees.json() # Check the JSON Response Content documentation below"
   ]
  },
  {
   "cell_type": "code",
   "execution_count": null,
   "metadata": {},
   "outputs": [],
   "source": [
    "records = json_normalize(data=data['records'])"
   ]
  },
  {
   "cell_type": "markdown",
   "metadata": {
    "colab_type": "text",
    "id": "RjJBQVyyyj-t"
   },
   "source": [
    "---\n",
    "### Challenge 1\n",
    "\n",
    "Look at the table above. Use the .head() method to look at the first few rows.\n",
    "\n",
    "---"
   ]
  },
  {
   "cell_type": "code",
   "execution_count": null,
   "metadata": {},
   "outputs": [],
   "source": [
    "# your code here\n",
    "records.head()"
   ]
  },
  {
   "cell_type": "markdown",
   "metadata": {
    "colab_type": "text",
    "id": "4uliQcf1yj-t"
   },
   "source": [
    "## Data Cleaning\n",
    "\n",
    "The table contains an ID uniquely identifying each piece of art, along with details on its location, type and address.\n"
   ]
  },
  {
   "cell_type": "markdown",
   "metadata": {
    "colab_type": "text",
    "id": "UU1slod3yj-w"
   },
   "source": [
    "---\n",
    "### Challenge 2\n",
    "\n",
    "1. Run the code below to clean up the data. \n",
    "2. Run the cell and confirm that the odd characters and parenthesis were removed and that we have a latitude and a longitude column. \n",
    "\n",
    "---"
   ]
  },
  {
   "cell_type": "code",
   "execution_count": null,
   "metadata": {},
   "outputs": [],
   "source": [
    "lon = []\n",
    "lat = []\n",
    "for item in records['fields.geom.coordinates'].to_list():\n",
    "    if type(item) !=float:\n",
    "        lon.append(item[0])\n",
    "        lat.append(item[1])\n",
    "    else:\n",
    "        lon.append(0)\n",
    "        lat.append(0)"
   ]
  },
  {
   "cell_type": "code",
   "execution_count": null,
   "metadata": {},
   "outputs": [],
   "source": [
    "records['longitude'] = lon\n",
    "records['latitude'] = lat\n"
   ]
  },
  {
   "cell_type": "code",
   "execution_count": null,
   "metadata": {
    "scrolled": true
   },
   "outputs": [],
   "source": [
    "records.head()"
   ]
  },
  {
   "cell_type": "markdown",
   "metadata": {
    "colab_type": "text",
    "id": "tn8j4rqKyj-z"
   },
   "source": [
    "## Data Visualization\n",
    "\n",
    "Now that we have cleaned up the dataframe and separated the string `location` values into separate numerical values containing the `latitude` and `longitude` coordinates, we will use the Python library called `folium` to visualize our data geographically."
   ]
  },
  {
   "cell_type": "markdown",
   "metadata": {
    "colab_type": "text",
    "id": "VTluvX8Ryj-0"
   },
   "source": [
    "---\n",
    "### Challenge 3 \n",
    "\n",
    "1. Look up the coordinates for the Lower Mainland\n",
    "2. In the cell below, enter the North coordinate (latitude) and the West coordinate (longitude) into separate variables (we have created the variable names for you). Make sure you enter numbers only, no letters!\n",
    "3. These will be the initial coordinates that will help us locate our map. \n",
    "4. Run the cell to display the map. Ensure you are in the right location (hint: Edmonton should appear in the map)\n",
    "---"
   ]
  },
  {
   "cell_type": "code",
   "execution_count": null,
   "metadata": {
    "colab": {},
    "colab_type": "code",
    "id": "4-6SmRxFyj-0"
   },
   "outputs": [],
   "source": [
    "# Your code here \n",
    "latitude = 49.2827 \n",
    "longitude = -123.1207 \n",
    "\n",
    "# Initial coordinates \n",
    "SC_COORDINATES = [latitude, longitude]\n",
    "\n",
    "# Create a map using our initial coordinates\n",
    "map_osm=folium.Map(location=SC_COORDINATES, zoom_start=10, tiles='Stamen Terrain')\n",
    "\n",
    "# Display the map \n",
    "display(map_osm)"
   ]
  },
  {
   "cell_type": "markdown",
   "metadata": {
    "colab_type": "text",
    "id": "i3Nz3tB0yj-2"
   },
   "source": [
    "## Displaying Public art locations\n",
    "\n",
    "We can now add the art locations into our map. \n",
    "\n",
    "In the cell below we will [iterate](https://www.merriam-webster.com/dictionary/iteration) over each record in our dataframe `records`. \n",
    "\n",
    "We will then add markers (one marker for each pair of coordinates) using the `folium.Marker` function. \n",
    "\n",
    "We will pass the `latitude` and `longitude` coordinates using the `location` parameter, and mark each tree with its `fields.url` using the `popup` parameter. \n",
    "\n",
    "We will add this to our `marker_cluster` on our map called `map_osm`. \n",
    "\n",
    "Run the cell below to see the locations of the trees."
   ]
  },
  {
   "cell_type": "code",
   "execution_count": null,
   "metadata": {
    "colab": {},
    "colab_type": "code",
    "id": "3-3oJnA_yj-3"
   },
   "outputs": [],
   "source": [
    "# Create marker cluster and add to our map\n",
    "marker_cluster = MarkerCluster().add_to(map_osm)\n",
    "\n",
    "# Iterate over each record, and add tree x and y coordinates, as well as tree name\n",
    "MAX_RECORDS = len(records)\n",
    "# For each record in rawData\n",
    "for each in records[0:MAX_RECORDS].iterrows():\n",
    "    # Use folium.Marker function, use X and Y coordinates to specify location\n",
    "    folium.Marker(location = [each[1]['latitude'],each[1]['longitude']], \n",
    "                  # Add tree name\n",
    "                  popup=folium.Popup(each[1]['fields.url'],sticky=True),\n",
    "                  \n",
    "                  #Make color/style changes here\n",
    "                  icon=folium.Icon(color='green', icon='info-sign', prefix='fa'),\n",
    "                  # Make sure our trees cluster nicely!\n",
    "                  clustered_marker = True).add_to(marker_cluster)\n",
    "\n",
    "# Show the map\n",
    "display(map_osm)\n",
    "\n",
    "# Optional - you can save this map as an HTML file\n",
    "#map_osm.save('TreeMap.html')"
   ]
  },
  {
   "cell_type": "markdown",
   "metadata": {
    "colab_type": "text",
    "id": "E30uPrGWyj-5"
   },
   "source": [
    "---\n",
    "### Challenge 4\n",
    "\n",
    "Use the interactive map above for this exercise. You will see 'clusters' of pieces of art. \n",
    "\n",
    "\n",
    "1. Click on the largest cluster. It will break into smaller clusters. \n",
    "2. Find... art\n",
    "\n",
    "#### Your answers and observations here:\n",
    "\n",
    "---"
   ]
  },
  {
   "cell_type": "markdown",
   "metadata": {
    "colab_type": "text",
    "id": "1D0GNjdsyj-6"
   },
   "source": [
    "## Further Visualization and Statistics\n",
    "\n",
    "A natural question to ask is what is the most common kind of art type. To find out, we'll group and plot the data."
   ]
  },
  {
   "cell_type": "markdown",
   "metadata": {
    "colab_type": "text",
    "id": "FyKwkLz-yj-6"
   },
   "source": [
    "We start by setting up our visualizing environment. "
   ]
  },
  {
   "cell_type": "code",
   "execution_count": null,
   "metadata": {
    "colab": {},
    "colab_type": "code",
    "id": "Sei32TAkyj-7"
   },
   "outputs": [],
   "source": [
    "#load \"cufflinks\" library under short name \"cf\"\n",
    "import cufflinks as cf\n",
    "\n",
    "#command to display graphics correctly in Jupyter notebook\n",
    "cf.go_offline()\n",
    "\n",
    "def enable_plotly_in_cell():\n",
    "    import IPython\n",
    "    from plotly.offline import init_notebook_mode\n",
    "    display(IPython.core.display.HTML('''<script src=\"/static/components/requirejs/require.js\"></script>'''))\n",
    "    init_notebook_mode(connected=False)\n",
    "    \n",
    "get_ipython().events.register('pre_run_cell', enable_plotly_in_cell)"
   ]
  },
  {
   "cell_type": "markdown",
   "metadata": {
    "colab_type": "text",
    "id": "TN1gp30Oyj-9"
   },
   "source": [
    "First we'll group data by `name` using the `groupby()` method. \n",
    "\n",
    "Then we'll use the `size()` method to count how many trees of each kind there are. \n",
    "\n",
    "Next we'll sort the data. \n",
    "\n",
    "Run the cell below to perform these steps and show the five most kinds of primary material used in Vancouver Public art."
   ]
  },
  {
   "cell_type": "code",
   "execution_count": null,
   "metadata": {
    "colab": {},
    "colab_type": "code",
    "id": "kBb2sqWWyj--"
   },
   "outputs": [],
   "source": [
    "# This cell groups trees by name, and counts them\n",
    "count_art_by_material = records.groupby(\"fields.primarymaterial\").size().reset_index(name=\"count\")\n",
    "# once it does that, it sorts the counts in descending order\n",
    "ordered_count = count_art_by_material.sort_values(by='count', ascending=False)\n",
    "# And displays the first 5 results. \n",
    "ordered_count.head(10)"
   ]
  },
  {
   "cell_type": "markdown",
   "metadata": {
    "colab_type": "text",
    "id": "vkYHfX_5yj_A"
   },
   "source": [
    "You can see the most common art material in Vancouver Public Art. Let's visualize these data in a pie chart."
   ]
  },
  {
   "cell_type": "code",
   "execution_count": null,
   "metadata": {
    "colab": {},
    "colab_type": "code",
    "id": "QYpHZiOoyj_A"
   },
   "outputs": [],
   "source": [
    "ordered_count.iloc[0:10].iplot(kind=\"pie\",values=\"count\",labels=\"fields.primarymaterial\",\\\n",
    "                              title=\"Primary material\") "
   ]
  },
  {
   "cell_type": "markdown",
   "metadata": {
    "colab_type": "text",
    "id": "wir0RRL6yj_E"
   },
   "source": [
    "---\n",
    "### Challenge 5\n",
    "\n",
    "1. Hover over the plots.\n",
    "2. What is the percentage associated to each of the five most common material used? \n",
    "3. What is the most common type of material? \n",
    "4. Why do you think that is? \n",
    "\n",
    "#### Your answers and observations here\n",
    "\n",
    "---"
   ]
  },
  {
   "cell_type": "markdown",
   "metadata": {
    "colab_type": "text",
    "id": "2wSU_B04yj_F"
   },
   "source": [
    "# Conclusions\n",
    "\n",
    "\n",
    "\n"
   ]
  },
  {
   "cell_type": "markdown",
   "metadata": {
    "colab_type": "text",
    "id": "NqfkDwOEyj_F"
   },
   "source": [
    "## Reflections\n",
    "\n",
    "Write about some or all of the following questions, either individually in separate markdown cells or as a group.\n",
    "- What is something you learned through this process?\n",
    "- How well did your group work together? Why do you think that is?\n",
    "- What were some of the hardest parts?\n",
    "- What are you proud of? What would you like to show others?\n",
    "- Are you curious about anything else related to this? Did anything surprise you?\n",
    "- How can you apply your learning to future activities?"
   ]
  },
  {
   "cell_type": "markdown",
   "metadata": {
    "colab_type": "text",
    "id": "ad2ZyO5Vyj_M"
   },
   "source": [
    "[![Callysto.ca License](https://github.com/callysto/curriculum-notebooks/blob/master/callysto-notebook-banner-bottom.jpg?raw=true)](https://github.com/callysto/curriculum-notebooks/blob/master/LICENSE.md)"
   ]
  }
 ],
 "metadata": {
  "colab": {
   "name": "Trees-Challenge.ipynb",
   "provenance": []
  },
  "kernelspec": {
   "display_name": "Python 3",
   "language": "python",
   "name": "python3"
  },
  "language_info": {
   "codemirror_mode": {
    "name": "ipython",
    "version": 3
   },
   "file_extension": ".py",
   "mimetype": "text/x-python",
   "name": "python",
   "nbconvert_exporter": "python",
   "pygments_lexer": "ipython3",
   "version": "3.7.6"
  }
 },
 "nbformat": 4,
 "nbformat_minor": 1
}
