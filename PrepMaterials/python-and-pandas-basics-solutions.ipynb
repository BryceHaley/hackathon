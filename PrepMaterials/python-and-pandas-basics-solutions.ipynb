{
 "cells": [
  {
   "cell_type": "markdown",
   "metadata": {},
   "source": [
    "![Callysto.ca Banner](https://github.com/callysto/curriculum-notebooks/blob/master/callysto-notebook-banner-top.jpg?raw=true)"
   ]
  },
  {
   "cell_type": "markdown",
   "metadata": {},
   "source": [
    "# Basics of Python\n",
    "This notebook will provide the basics of Python and an introduction to DataFrames.\n",
    "\n",
    "To enter code in a Jupyter notebook we are going to use **Code cells**.\n",
    "\n",
    "### To create a new Code cell:\n",
    "#### If you are using Callysto Hub:\n",
    "At the top left, click on the plus sign (`+`) next to the save (`💾`) button.\n",
    "\n",
    "*New cells are code cells by default, but you can also use the dropdown menu at the top middle of the page to change a cell to `Markdown` to change to a text cell.*\n",
    "\n",
    "#### If you are using Colab:\n",
    "Click on `+Code` in the top left corner (or between cells) to create a new Code cell.\n",
    "\n",
    "### To run a Code cell:\n",
    "#### Callysto Hub:\n",
    "Click the `⇥ Run` button at the top near the stop (`◼`) button, or hit `Ctrl-Enter`.\n",
    "\n",
    "#### Colab:\n",
    "Click the play button (`▶`) on the left of the selected cell, or hit `Ctrl-Enter`."
   ]
  },
  {
   "cell_type": "code",
   "execution_count": null,
   "metadata": {},
   "outputs": [],
   "source": [
    "# Anything in a code cell after a pound sign is a comment! \n",
    "# You can type anything here and it will not be executed "
   ]
  },
  {
   "cell_type": "code",
   "execution_count": null,
   "metadata": {},
   "outputs": [],
   "source": [
    "# Variables are defined with an equals sign (=)\n",
    "\n",
    "my_variable = 10             # You cannot put spaces in variable names. \n",
    "other_variable = \"some text\" # variables need not be numbers!\n",
    "\n",
    "# Print will output our variables below the cell\n",
    "print(my_variable, other_variable)"
   ]
  },
  {
   "cell_type": "code",
   "execution_count": null,
   "metadata": {},
   "outputs": [],
   "source": [
    "# Variables are also shared between cells. You can also pring words and sentences directly. \n",
    "print(my_variable, other_variable, \"We can print text directly in quotes\")"
   ]
  },
  {
   "cell_type": "code",
   "execution_count": null,
   "metadata": {},
   "outputs": [],
   "source": [
    "# You can do mathematical operations in Python\n",
    "\n",
    "x = 5\n",
    "y = 10\n",
    "\n",
    "add = x + y\n",
    "subtract = x - y\n",
    "multiply = x * y\n",
    "divide = x / y\n",
    "\n",
    "print(add, subtract, multiply, divide)"
   ]
  },
  {
   "cell_type": "markdown",
   "metadata": {},
   "source": [
    "---\n",
    "### Exercise 1\n",
    "\n",
    "1. In the cell below, assign variable **z** to your name and run the cell. \n",
    "2. In the cell below, write a comment on the same line where you define z. Run the cell to make sure the comment is not changing anything.\n",
    "---\n"
   ]
  },
  {
   "cell_type": "code",
   "execution_count": null,
   "metadata": {},
   "outputs": [],
   "source": [
    "## Enter your code in the line below\n",
    "z = \"your name here\"\n",
    "\n",
    "##\n",
    "\n",
    "print(z, \"is loving Python!\")"
   ]
  },
  {
   "cell_type": "markdown",
   "metadata": {},
   "source": [
    "# Basics of DataFrames and pandas"
   ]
  },
  {
   "cell_type": "markdown",
   "metadata": {},
   "source": [
    "A **DataFrame** is a two-dimensional data structure, similar to a table or a spreadsheet.\n",
    "\n",
    "In Python there is a library of pre-defined functions to work with DataFrames called **pandas**."
   ]
  },
  {
   "cell_type": "code",
   "execution_count": null,
   "metadata": {},
   "outputs": [],
   "source": [
    "#load \"pandas\" library under short name \"pd\"\n",
    "import pandas as pd"
   ]
  },
  {
   "cell_type": "markdown",
   "metadata": {},
   "source": [
    "To read file in csv format the **read_csv()** function is used, it can read a file or a file from a URL."
   ]
  },
  {
   "cell_type": "code",
   "execution_count": null,
   "metadata": {},
   "outputs": [],
   "source": [
    "# we have csv file of data related to hypothetical pets for adoption\n",
    "# from https://www.bootstrapworld.org/materials/data-science/\n",
    "#url = './pets.csv'\n",
    "url = \"https://swift-yeg.cloud.cybera.ca:8080/v1/AUTH_233e84cd313945c992b4b585f7b9125d/callysto-open-data/pets.csv\"\n",
    "\n",
    "#read csv file from url and save it as dataframe\n",
    "pets = pd.read_csv(url)\n",
    "\n",
    "#print on the screen\n",
    "pets"
   ]
  },
  {
   "cell_type": "code",
   "execution_count": null,
   "metadata": {},
   "outputs": [],
   "source": [
    "#shape shows number of rows and number of columns\n",
    "pets.shape"
   ]
  },
  {
   "cell_type": "markdown",
   "metadata": {},
   "source": [
    "## Basic operations with DataFrames  "
   ]
  },
  {
   "cell_type": "markdown",
   "metadata": {},
   "source": [
    "### Select  rows/colums  by name and index"
   ]
  },
  {
   "cell_type": "code",
   "execution_count": null,
   "metadata": {},
   "outputs": [],
   "source": [
    "#Getting column names\n",
    "pets.columns"
   ]
  },
  {
   "cell_type": "code",
   "execution_count": null,
   "metadata": {},
   "outputs": [],
   "source": [
    "#Selecting one column\n",
    "pets[['Species']]"
   ]
  },
  {
   "cell_type": "code",
   "execution_count": null,
   "metadata": {},
   "outputs": [],
   "source": [
    "#Selecting multiple columns\n",
    "pets[['Species','Gender']]  "
   ]
  },
  {
   "cell_type": "code",
   "execution_count": null,
   "metadata": {},
   "outputs": [],
   "source": [
    "#Selecting first 5 rows\n",
    "#try changin to head(10) or head(2)\n",
    "pets.head()"
   ]
  },
  {
   "cell_type": "code",
   "execution_count": null,
   "metadata": {},
   "outputs": [],
   "source": [
    "#Getting index (row names)  - note that row names start at 0\n",
    "pets.index.tolist()"
   ]
  },
  {
   "cell_type": "code",
   "execution_count": null,
   "metadata": {},
   "outputs": [],
   "source": [
    "#Selecting one row\n",
    "pets.iloc[[2]]\n",
    "#(it's row 3, remember row number start at zero)"
   ]
  },
  {
   "cell_type": "code",
   "execution_count": null,
   "metadata": {},
   "outputs": [],
   "source": [
    "#Selecting multiple rows(rows 2 and 5):\n",
    "pets.iloc[[2,5]]"
   ]
  },
  {
   "cell_type": "code",
   "execution_count": null,
   "metadata": {},
   "outputs": [],
   "source": [
    "#Selecting rows and columns:\n",
    "pets[['Species','Gender']].iloc[[2,5]]"
   ]
  },
  {
   "cell_type": "markdown",
   "metadata": {},
   "source": [
    "---\n",
    "### Exercise 2\n",
    "\n",
    "1. In the cell below, uncomment the code\n",
    "2. Change \"column1\", \"column2\", and \"column3\" to \"Species\", \"Fixed\", and \"Time to Adoption (weeks)\" to get these 3 columns\n",
    "\n",
    "---"
   ]
  },
  {
   "cell_type": "code",
   "execution_count": null,
   "metadata": {},
   "outputs": [],
   "source": [
    "#pets[[\"column1\",\"column2\",\"column3\"]]"
   ]
  },
  {
   "cell_type": "markdown",
   "metadata": {},
   "source": [
    "### Add a new column using existing one"
   ]
  },
  {
   "cell_type": "code",
   "execution_count": null,
   "metadata": {},
   "outputs": [],
   "source": [
    "#create a new column (mass in kilograms) by dividing \"Weight (lbs)\" column by 2.205\n",
    "pets['Mass (kg)'] = pets['Weight (lbs)']/2.205\n",
    "\n",
    "#look at the very last column 'Mass (kg)'\n",
    "pets"
   ]
  },
  {
   "cell_type": "markdown",
   "metadata": {},
   "source": [
    "### Select specific colums  by condition"
   ]
  },
  {
   "cell_type": "code",
   "execution_count": null,
   "metadata": {},
   "outputs": [],
   "source": [
    "#create a condition: for example Species is dog\n",
    "condition = pets[\"Species\"]==\"dog\" #note == signs means \"is equal\" rather than assigning\n",
    "\n",
    "condition #it shows True for rows where species is equal to dog"
   ]
  },
  {
   "cell_type": "code",
   "execution_count": null,
   "metadata": {},
   "outputs": [],
   "source": [
    "#select only rows where condition is True (all female)\n",
    "pets[condition]"
   ]
  },
  {
   "cell_type": "code",
   "execution_count": null,
   "metadata": {},
   "outputs": [],
   "source": [
    "#other examples of conditions:\n",
    "\n",
    "#Not equal\n",
    "condition1 = pets[\"Species\"]!=\"dog\"\n",
    "\n",
    "#equal to one value in the list\n",
    "condition2 = pets[\"Species\"].isin([\"lizard\",\"rabbit\", \"tarantula\"])\n",
    "\n",
    "#Multiple conditions: \"and\" (Gender is \"female\" and age is greater than 3)\n",
    "condition3 = (pets[\"Gender\"]==\"female\") & (pets[\"Age (years)\"]>3)\n",
    "\n",
    "#Multiple conditions: \"or\" (Fixed is True or Legs is greater than 4)\n",
    "condition4 = (pets[\"Fixed\"]==True) | (pets[\"Legs\"]>4)"
   ]
  },
  {
   "cell_type": "markdown",
   "metadata": {},
   "source": [
    "---\n",
    "### Exercise 3\n",
    "\n",
    "1. Change the cell below to get a subset of the data where \"Fixed\" is equal to True and \"Time to Adoption (weeks)\" is less than 5\n",
    "\n",
    "---"
   ]
  },
  {
   "cell_type": "code",
   "execution_count": null,
   "metadata": {},
   "outputs": [],
   "source": [
    "#change the conditions here\n",
    "condition5 = (pets[\"Fixed\"] == True) | (pets[\"Time to Adoption (weeks)\"] < 5)\n",
    "\n",
    "pets[condition5]"
   ]
  },
  {
   "cell_type": "markdown",
   "metadata": {},
   "source": [
    "### Sorting "
   ]
  },
  {
   "cell_type": "code",
   "execution_count": null,
   "metadata": {},
   "outputs": [],
   "source": [
    "#sorting by age - note the ascending paramater, try changing it to False\n",
    "pets.sort_values(\"Age (years)\", ascending=False)"
   ]
  },
  {
   "cell_type": "code",
   "execution_count": null,
   "metadata": {},
   "outputs": [],
   "source": [
    "#sort by two columns - first by age and then by time to adoption\n",
    "pets.sort_values([\"Age (years)\",\"Time to Adoption (weeks)\"])"
   ]
  },
  {
   "cell_type": "markdown",
   "metadata": {},
   "source": [
    "### Grouping and calculating summaries on groups"
   ]
  },
  {
   "cell_type": "code",
   "execution_count": null,
   "metadata": {},
   "outputs": [],
   "source": [
    "#split data into groups based on all unique values in \"Fixed\" column\n",
    "#first group is fixed (1), second groups is not fixed (0)\n",
    "\n",
    "#calculate average (mean) for every column for both groups\n",
    "pets.groupby(\"Fixed\").mean()"
   ]
  },
  {
   "cell_type": "code",
   "execution_count": null,
   "metadata": {},
   "outputs": [],
   "source": [
    "#another operations you can do on groups  are\n",
    "# min(), max(),  sum()"
   ]
  },
  {
   "cell_type": "code",
   "execution_count": null,
   "metadata": {},
   "outputs": [],
   "source": [
    "#you can do multiple operations at once using agg() function\n",
    "pets.groupby(\"Legs\").agg([\"mean\",\"max\"])"
   ]
  },
  {
   "cell_type": "markdown",
   "metadata": {},
   "source": [
    "---\n",
    "### Exercise 4\n",
    "\n",
    "1. Modify the cell below to  calculate **max()** for every column grouped by \"Species\"\n",
    "---"
   ]
  },
  {
   "cell_type": "code",
   "execution_count": null,
   "metadata": {},
   "outputs": [],
   "source": [
    "#modify this cell\n",
    "pets.groupby(\"Species\").max()"
   ]
  },
  {
   "cell_type": "markdown",
   "metadata": {},
   "source": [
    "### Calculating number of rows by group"
   ]
  },
  {
   "cell_type": "code",
   "execution_count": null,
   "metadata": {},
   "outputs": [],
   "source": [
    "#using size() function to calculate number of rows by group\n",
    "row_counts = pets.groupby(\"Gender\").size()\n",
    "\n",
    "#create new column \"count\" to store row numbers\n",
    "row_counts = row_counts.reset_index(name=\"Count\")\n",
    "\n",
    "row_counts"
   ]
  },
  {
   "cell_type": "markdown",
   "metadata": {},
   "source": [
    "---\n",
    "### Exercise 5\n",
    "\n",
    "1. Calculate the number of rows grouped by column \"Species\"\n",
    "---"
   ]
  },
  {
   "cell_type": "code",
   "execution_count": null,
   "metadata": {},
   "outputs": [],
   "source": [
    "#using size() function to calculate number of rows by group\n",
    "row_counts = pets.groupby(\"Species\").size()\n",
    "\n",
    "#create new column \"count\" to store row numbers\n",
    "row_counts = row_counts.reset_index(name=\"Count\")\n",
    "\n",
    "row_counts"
   ]
  },
  {
   "cell_type": "markdown",
   "metadata": {},
   "source": [
    "Addtional resources for Pandas and DataFrames can be found [here](https://www.datacamp.com/community/tutorials/pandas-tutorial-dataframe-python) and \n",
    "[here](https://www.kaggle.com/grroverpr/pandas-cheatsheet)."
   ]
  },
  {
   "cell_type": "markdown",
   "metadata": {},
   "source": [
    "[![Callysto.ca License](https://github.com/callysto/curriculum-notebooks/blob/master/callysto-notebook-banner-bottom.jpg?raw=true)](https://github.com/callysto/curriculum-notebooks/blob/master/LICENSE.md)"
   ]
  }
 ],
 "metadata": {
  "kernelspec": {
   "display_name": "Python 3",
   "language": "python",
   "name": "python3"
  },
  "language_info": {
   "codemirror_mode": {
    "name": "ipython",
    "version": 3
   },
   "file_extension": ".py",
   "mimetype": "text/x-python",
   "name": "python",
   "nbconvert_exporter": "python",
   "pygments_lexer": "ipython3",
   "version": "3.6.6"
  },
  "nbTranslate": {
   "displayLangs": [
    "*"
   ],
   "hotkey": "alt-t",
   "langInMainMenu": true,
   "sourceLang": "en",
   "targetLang": "fr",
   "useGoogleTranslate": true
  }
 },
 "nbformat": 4,
 "nbformat_minor": 2
}
