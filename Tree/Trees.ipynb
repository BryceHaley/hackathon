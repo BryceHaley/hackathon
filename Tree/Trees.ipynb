{
 "cells": [
  {
   "cell_type": "markdown",
   "metadata": {},
   "source": [
    "![alt text](https://github.com/callysto/callysto-sample-notebooks/blob/master/notebooks/images/Callysto_Notebook-Banner_Top_06.06.18.jpg?raw=true)"
   ]
  },
  {
   "cell_type": "markdown",
   "metadata": {},
   "source": [
    "# Strathcona County Tree Location\n",
    "\n",
    "##### Summary\n",
    "\n",
    "This data set is provided by the Strathcona County, Environment https://data.strathcona.ca/Environment/Tree/v78i-7ntw\n",
    "\n",
    "##### Content\n",
    "Locations where there is a tree. The data are loaded 4 times per year from the 'treeworks' dataset. Last updated: April 6th, 2016.\n"
   ]
  },
  {
   "cell_type": "markdown",
   "metadata": {},
   "source": [
    "## Downloading and parsing data into 'dataframe'\n",
    "\n",
    "We begin by downloading the data directly from the website. \n",
    "\n",
    "https://data.strathcona.ca/Environment/Tree/v78i-7ntw\n",
    "\n",
    "We can do this by selecting the 'API' tag and choosing CSV format on the top right side. Pressing the 'Copy' button will give us the URL we need to download the full dataset.\n"
   ]
  },
  {
   "cell_type": "code",
   "execution_count": null,
   "metadata": {},
   "outputs": [],
   "source": [
    "#!pip install folium"
   ]
  },
  {
   "cell_type": "code",
   "execution_count": null,
   "metadata": {},
   "outputs": [],
   "source": [
    "# Import modules\n",
    "# We will store the data into a 'dataframe' using pandas\n",
    "import pandas as pd\n",
    "# We want to be as precise as possible in keeping tree coordinates\n",
    "from decimal import *\n",
    "# We will visualize the coordinates in a map using the folium \n",
    "import folium\n",
    "# We want to cluster them using the MarkerCluster submodule from folium plugins\n",
    "from folium.plugins import MarkerCluster"
   ]
  },
  {
   "cell_type": "code",
   "execution_count": null,
   "metadata": {},
   "outputs": [],
   "source": [
    "# Download data from API \n",
    "# Main Source: https://data.strathcona.ca/Environment/Tree/v78i-7ntw\n",
    "# Pick API Tag - I chose the CSV option\n",
    "link = \"https://data.strathcona.ca/resource/v78i-7ntw.csv\"\n",
    "\n",
    "# Read and parse data as a pandas CSV\n",
    "rawData = pd.read_csv(link)\n",
    "\n",
    "# Rename columns\n",
    "rawData = rawData.rename(columns={\"treesiteid\": \"ID\", \"name\": \"name\",\"location\":\"location\"})\n",
    "\n",
    "# Look at the first five columns\n",
    "rawData.head()"
   ]
  },
  {
   "cell_type": "markdown",
   "metadata": {},
   "source": [
    "---\n",
    "### Exercise 1\n",
    "\n",
    "Look at the table above. It has three columns: a tree id column (`ID`), a tree name column (`name`) and a tree location number (`location`).  \n",
    "\n",
    "1. Look at the table above under the `location` column. Is there anything strange in the values under it? \n",
    "\n",
    "---"
   ]
  },
  {
   "cell_type": "markdown",
   "metadata": {},
   "source": [
    "## Data Cleanup\n",
    "\n",
    "The table contains an ID uniquely identifying each tree, a tree name and its location by using coordinates into a pair. \n",
    "\n",
    "A clean coordinate pair would look like\n",
    "\n",
    "`(53.5227206433883, -113.324197520184)`\n",
    "\n",
    "Our data set is not clean, we observe the presence of special characters `\\n, \\n` in each entry. We need to clean it up before we can visualize it. \n",
    "\n",
    "The special character `\\n` is known as a 'line break'. \n",
    "\n",
    "This tells us that the coordinates are given as a string. \n",
    "\n",
    "In the cell below we will clean the data following three steps:\n",
    "\n",
    "1. Remove special characters `\\n, \\n`\n",
    "2. Remove left parenthesis `(` and right parenthesis `)`\n",
    "3. Separate the pair into an `X` and `Y` number - and create separate columns (one for each)"
   ]
  },
  {
   "cell_type": "markdown",
   "metadata": {},
   "source": [
    "### Step 1. Remove special characters `\\n, \\n`"
   ]
  },
  {
   "cell_type": "code",
   "execution_count": null,
   "metadata": {},
   "outputs": [],
   "source": [
    "# Data cleanup - Remove line breaks \n",
    "rawData = rawData.replace('\\n,  \\n','', regex=True)"
   ]
  },
  {
   "cell_type": "markdown",
   "metadata": {},
   "source": [
    "### Step 2. Remove left parenthesis `(` and right parenthesis `)` "
   ]
  },
  {
   "cell_type": "code",
   "execution_count": null,
   "metadata": {},
   "outputs": [],
   "source": [
    "# Data cleanup - Remove parenthesis \n",
    "rawData = rawData.replace(r\"\\(\",\"\", regex=True)"
   ]
  },
  {
   "cell_type": "markdown",
   "metadata": {},
   "source": [
    "---\n",
    "### Exercise 2\n",
    "\n",
    "The cell above removes the left parenthesis `(`. \n",
    "\n",
    "1. Using the cell below, enter a command similar as the one above, only this time remove the right parenthesis `)`\n",
    "2. Run the cell and confirm that the odd characters and parenthesis were removed\n",
    "\n",
    "---"
   ]
  },
  {
   "cell_type": "code",
   "execution_count": null,
   "metadata": {},
   "outputs": [],
   "source": [
    "# Your code here\n",
    "rawData = rawData.replace(r\"\\)\",\"\", regex=True)\n",
    "# Look at the first five entries\n",
    "rawData.head()"
   ]
  },
  {
   "cell_type": "markdown",
   "metadata": {},
   "source": [
    "### Step 3. Separate the pair into an `X` and `Y` number - and create separate columns (one for each)\n",
    "\n",
    "In the cell below we will manipulate the values under the `locations` column. "
   ]
  },
  {
   "cell_type": "code",
   "execution_count": null,
   "metadata": {},
   "outputs": [],
   "source": [
    "\n",
    "# Set precision to 16 significant digits\n",
    "getcontext().prec = 16\n",
    "\n",
    "# Get the maximum number of records\n",
    "MAX_RECORDS = len(rawData)\n",
    "\n",
    "# Let us separate the 'location' column into 'X' and 'Y' coordinates using the split() method\n",
    "x_coor = [Decimal(each[1][\"location\"].split(\",\")[0]) for each in rawData[0:MAX_RECORDS].iterrows()]\n",
    "y_coor = [Decimal(each[1][\"location\"].split(\",\")[1]) for each in rawData[0:MAX_RECORDS].iterrows()]\n",
    "\n",
    "# Create a new column called 'X' to store the first coordinate in location\n",
    "rawData[\"X\"] = x_coor\n",
    "# Create a new column called 'Y' to store the second coordinate in location\n",
    "rawData[\"Y\"] = y_coor\n",
    "\n",
    "# Look at the first five columns\n",
    "rawData.head()"
   ]
  },
  {
   "cell_type": "markdown",
   "metadata": {},
   "source": [
    "## Data Visualization\n",
    "\n",
    "Now that we have cleaned up the dataframe and separated the string `location` values into separate numerical values containing the `X` and `Y` coordinates, we will use the `folium` package to visualize our data geographically. \n"
   ]
  },
  {
   "cell_type": "markdown",
   "metadata": {},
   "source": [
    "---\n",
    "### Exercise 3 \n",
    "\n",
    "1. Look up the coordinates for Strathcona County\n",
    "2. In the cell below, enter the North coordinate and the West coordinate into separate variables (we have created the variable names for you). Make sure you enter numbers only!\n",
    "3. These will be the initial coordinates that will help us locate our map. \n",
    "4. Run the cell to display the map. Ensure you are in the right location (hint: Edmonton should appear in the map)\n",
    "---"
   ]
  },
  {
   "cell_type": "code",
   "execution_count": null,
   "metadata": {},
   "outputs": [],
   "source": [
    "# Your code here \n",
    "north_coordinate = 53.5701\n",
    "west_coordinate = -113.0741\n",
    "\n",
    "# Initial coordinates \n",
    "SC_COORDINATES = [north_coordinate, west_coordinate]\n",
    "\n",
    "# Create a map using our initial coordinates\n",
    "map_osm=folium.Map(location=SC_COORDINATES, zoom_start=10, tiles='Stamen Terrain')\n",
    "\n",
    "# Display the map \n",
    "display(map_osm)"
   ]
  },
  {
   "cell_type": "markdown",
   "metadata": {},
   "source": [
    "## Displaying the tree locations\n",
    "\n",
    "We can now add the tree locations into our map. \n",
    "\n",
    "In the cell below we will iterate over each record in our dataframe `rawData`. \n",
    "\n",
    "We will then add markers (one marker for each pair of coordinates) using the `folium.Marker` function. \n",
    "\n",
    "We will pass the `X` and `Y` coordinates using the `location` parameter, and mark each tree with its `name` using the `popup` parameter. \n",
    "\n",
    "We will ad this to our `marker_cluster`, which has been added to our map `map_osm`. \n",
    "\n",
    "Run the cell below to see the locations of the trees."
   ]
  },
  {
   "cell_type": "code",
   "execution_count": null,
   "metadata": {},
   "outputs": [],
   "source": [
    "# Create marker cluster and add to our map\n",
    "marker_cluster = MarkerCluster().add_to(map_osm)\n",
    "\n",
    "# Iterate over each record, and add tree x and y coordinates, as well as tree name\n",
    "MAX_RECORDS = len(rawData)\n",
    "# For each record in rawData\n",
    "for each in rawData[0:MAX_RECORDS].iterrows():\n",
    "    # Use folium.Marker function, use X and Y coordinates to specify location\n",
    "    folium.Marker(location = [each[1]['X'],each[1]['Y']], \n",
    "                  # Add tree name\n",
    "                  popup=folium.Popup(each[1]['name'],sticky=True),\n",
    "                  #Make color/style changes here\n",
    "                  icon=folium.Icon(color='green', icon='tree', prefix='fa'),\n",
    "                  # Make sure our trees cluster nicely!\n",
    "                  clustered_marker = True).add_to(marker_cluster)\n",
    "\n",
    "\n",
    "# Show the map\n",
    "display(map_osm)\n",
    "\n",
    "# Optional - you can save this map as an HTML file\n",
    "map_osm.save('TreeMap.html')"
   ]
  },
  {
   "cell_type": "markdown",
   "metadata": {},
   "source": [
    "---\n",
    "### Exercise 4\n",
    "\n",
    "Use the interactive map above for this exercise. \n",
    "\n",
    "1. Click on the largest cluster. It will break into smaller subclusters. (Hint: it has over 900 trees)\n",
    "2. Pick on the next largest subcluster. It will break again into smaller subclusters. (Hint: it has over 200 trees)\n",
    "3. Observe and ask yourself: how are the subclusters distributed? Where are the clusters bigger (green areas or the city).\n",
    "4. Pick any subcluster and continue zooming in until you see tree icons. Click on the tree icons to reveal their names. \n",
    "5. Take note of: the total number of trees in the smallest cluster that revealed tree names, and their tree names. Add your observations by double clicking on this cell. How many trees of each kind did you find?\n",
    "\n",
    "#### Your observations here\n",
    "\n",
    "---"
   ]
  },
  {
   "cell_type": "markdown",
   "metadata": {},
   "source": [
    "## Further Visualization and Statistics\n",
    "\n",
    "A natural question to ask is what is the most common kind of tree. \n",
    "\n",
    "We will next group and plot the data to find out which tree is the most common one. "
   ]
  },
  {
   "cell_type": "markdown",
   "metadata": {},
   "source": [
    "1. Setting up cufflinks for data visualization."
   ]
  },
  {
   "cell_type": "code",
   "execution_count": null,
   "metadata": {},
   "outputs": [],
   "source": [
    "#load \"cufflinks\" library under short name \"cf\"\n",
    "import cufflinks as cf\n",
    "\n",
    "#command to display graphics correctly in Jupyter notebook\n",
    "cf.go_offline()\n",
    "\n",
    "def enable_plotly_in_cell():\n",
    "    import IPython\n",
    "    from plotly.offline import init_notebook_mode\n",
    "    display(IPython.core.display.HTML('''\n",
    "        <script src=\"/static/components/requirejs/require.js\"></script>\n",
    "  '''))\n",
    "    init_notebook_mode(connected=False)\n",
    "    \n",
    "get_ipython().events.register('pre_run_cell', enable_plotly_in_cell)"
   ]
  },
  {
   "cell_type": "markdown",
   "metadata": {},
   "source": [
    "2. Grouping data by `name` and counting. "
   ]
  },
  {
   "cell_type": "code",
   "execution_count": null,
   "metadata": {},
   "outputs": [],
   "source": [
    "count_by_tree_name = rawData.groupby(\"name\").size().reset_index(name=\"count\")"
   ]
  },
  {
   "cell_type": "markdown",
   "metadata": {},
   "source": [
    "3. Visualizing. "
   ]
  },
  {
   "cell_type": "code",
   "execution_count": null,
   "metadata": {},
   "outputs": [],
   "source": [
    "count_by_tree_name.iplot(kind=\"pie\",values=\"count\",labels=\"name\",title=\"Tree Percentages\") "
   ]
  },
  {
   "cell_type": "markdown",
   "metadata": {},
   "source": [
    "---\n",
    "### Exercise 5\n",
    "\n",
    "1. Hover over the plot. \n",
    "2. What are the three most common trees in the Strathcona County? Double click this cell and enter your response below. \n",
    "\n",
    "#### Your observations here\n",
    "\n",
    "---"
   ]
  },
  {
   "cell_type": "markdown",
   "metadata": {},
   "source": [
    "## Bonus: How many trees per park?\n",
    "\n",
    "In the section below we will have an opportunity to repeat the exercise above using data on parks from the Strathcona County. \n",
    "\n",
    "Run the cells below, and take note of the number of trees in each park, vs the number of trees where no park was identified. "
   ]
  },
  {
   "cell_type": "code",
   "execution_count": null,
   "metadata": {},
   "outputs": [],
   "source": [
    "### PARK DATA\n",
    "link_park = \"https://data.strathcona.ca/resource/533n-6rzt.csv\"\n",
    "# Store into CSV \n",
    "parkData = pd.read_csv(link_park)\n",
    "# Cleanup data \n",
    "parkData = parkData.replace('\\n,  \\n','', regex=True)\n",
    "parkData = parkData.replace(r\"\\)\",\"\", regex=True)\n",
    "parkData = parkData.replace(r\"\\(\",\"\", regex=True)\n",
    "\n",
    "MAX_RECORDS = len(parkData)\n",
    "\n",
    "# Let us separate the 'location' column into 'X' and 'Y' coordinates using the split() method\n",
    "x_coor = [Decimal(each[1][\"location\"].split(\",\")[0]) for each in parkData[0:MAX_RECORDS].iterrows()]\n",
    "y_coor = [Decimal(each[1][\"location\"].split(\",\")[1]) for each in parkData[0:MAX_RECORDS].iterrows()]\n",
    "\n",
    "# Create a new column called 'X' to store the first coordinate in location\n",
    "parkData[\"X\"] = x_coor\n",
    "# Create a new column called 'Y' to store the second coordinate in location\n",
    "parkData[\"Y\"] = y_coor\n",
    "\n",
    "# Look at the first five columns\n",
    "parkData = parkData[(parkData[\"wilderness_trail\"]==\"YES\")|  (parkData[\"nature_appreciation\"]==\"Yes\") |  (parkData[\"off_leash\"]==\"Yes\")]\n",
    "parkData.head()"
   ]
  },
  {
   "cell_type": "code",
   "execution_count": null,
   "metadata": {},
   "outputs": [],
   "source": [
    "marker_cluster = MarkerCluster().add_to(map_osm)\n",
    "\n",
    "MAX_RECORDS = len(parkData)   \n",
    "for each in parkData[0:MAX_RECORDS].iterrows():\n",
    "    # Use folium.Marker function, use X and Y coordinates to specify location\n",
    "    folium.Marker(location = [each[1]['X'],each[1]['Y']], \n",
    "                  # Add tree name\n",
    "                  popup=folium.Popup(each[1]['park_name'],sticky=True),\n",
    "                  #Make color/style changes here\n",
    "                  icon=folium.Icon(color='blue', icon='acorn', prefix='fa'),\n",
    "                  # Make sure our trees cluster nicely!\n",
    "                  clustered_marker = True).add_to(marker_cluster)\n",
    "# Show the map\n",
    "display(map_osm)\n",
    "\n",
    "# Optional - you can save this map as an HTML file\n",
    "map_osm.save('TreeMapParks.html')"
   ]
  },
  {
   "cell_type": "markdown",
   "metadata": {},
   "source": [
    "---\n",
    "### Exercise 5\n",
    "\n",
    "1. Interact with the plot by clicking on the clusters. Blue markers denote parks. Click on them to reveal their names. \n",
    "2. Compare number of trees in regions with no parks, vs regions with parks. \n",
    "3. Pick a park, count the number of trees and keep track of their names. \n",
    "\n",
    "#### Your observations here\n",
    "\n",
    "---\n"
   ]
  },
  {
   "cell_type": "markdown",
   "metadata": {},
   "source": [
    "![alt text](https://github.com/callysto/callysto-sample-notebooks/blob/master/notebooks/images/Callysto_Notebook-Banners_Bottom_06.06.18.jpg?raw=true)"
   ]
  }
 ],
 "metadata": {
  "kernelspec": {
   "display_name": "Python 3",
   "language": "python",
   "name": "python3"
  },
  "language_info": {
   "codemirror_mode": {
    "name": "ipython",
    "version": 3
   },
   "file_extension": ".py",
   "mimetype": "text/x-python",
   "name": "python",
   "nbconvert_exporter": "python",
   "pygments_lexer": "ipython3",
   "version": "3.7.4"
  }
 },
 "nbformat": 4,
 "nbformat_minor": 2
}
