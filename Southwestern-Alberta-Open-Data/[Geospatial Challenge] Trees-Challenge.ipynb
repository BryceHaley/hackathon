{
 "cells": [
  {
   "cell_type": "markdown",
   "metadata": {
    "colab_type": "text",
    "id": "UIpzey-qyj-l"
   },
   "source": [
    "![alt text](https://github.com/callysto/callysto-sample-notebooks/blob/master/notebooks/images/Callysto_Notebook-Banner_Top_06.06.18.jpg?raw=true)"
   ]
  },
  {
   "cell_type": "markdown",
   "metadata": {
    "colab_type": "text",
    "id": "Mb6pNmQayj-m"
   },
   "source": [
    "# Data Detective:\n",
    "## Where to Replant Trees After the Zombie Apocalypse \n",
    "\n",
    "#### What you need to do\n",
    "\n",
    "The zombie apocalypse hit the City of Lethbrdige , but these zombies decided to eat trees. \n",
    "\n",
    "Now the County has a problem: they need to replant trees, but don’t know where. You’ve been hired to tell them what areas of the County need trees replanted and which areas still have lots of trees.\n",
    "\n",
    "The County needs this information to promote wellness and outdoor activities. During the apocalypse no one wanted to go to parks when the zombies were munching the trees. The County also needs a recommendation for what kinds of trees would be best to plant. \n",
    "\n",
    "##### Summary\n",
    "\n",
    "This data set is provided by the City of Lethbridge Open Data and is available at http://opendata.lethbridge.ca/datasets/82841132047d47659508f60c52f6346a_0.\n",
    "\n",
    "##### Content\n",
    "Tree locations and types (common names). The data are loaded four times per year from the 'treeworks' dataset. Last updated: December 14th, 2019."
   ]
  },
  {
   "cell_type": "markdown",
   "metadata": {
    "colab_type": "text",
    "id": "4RMF6p54yj-n"
   },
   "source": [
    "## Downloading the data into a 'dataframe'\n",
    "\n",
    "We begin by downloading the data directly from the website. From [the website](https://opendata.arcgis.com/datasets/82841132047d47659508f60c52f6346a_0.csv) we need to download the full dataset."
   ]
  },
  {
   "cell_type": "code",
   "execution_count": null,
   "metadata": {
    "colab": {},
    "colab_type": "code",
    "id": "Otsw6AgdyrHO"
   },
   "outputs": [],
   "source": [
    "!pip install folium --upgrade"
   ]
  },
  {
   "cell_type": "code",
   "execution_count": null,
   "metadata": {
    "colab": {},
    "colab_type": "code",
    "id": "1Ymtq63Zyj-n"
   },
   "outputs": [],
   "source": [
    "# Import libraries or modules that we will need\n",
    "\n",
    "# We will store the data into a 'dataframe' using pandas\n",
    "import pandas as pd\n",
    "# We want to be as precise as possible in keeping tree coordinates\n",
    "from decimal import *\n",
    "# We will visualize the coordinates in a map using the folium\n",
    "#!pip install folium\n",
    "import folium\n",
    "# We want to cluster them using the MarkerCluster submodule from folium plugins\n",
    "from folium.plugins import MarkerCluster\n",
    "\n",
    "pd.set_option('display.max_rows', 800)\n",
    "pd.set_option('display.max_columns', 800)\n",
    "\n",
    "print(\"Importing Python libraries was successful!\")"
   ]
  },
  {
   "cell_type": "markdown",
   "metadata": {},
   "source": [
    "Once we have imported the libraries, it is time we download and parse the dataset using the pandas library. "
   ]
  },
  {
   "cell_type": "code",
   "execution_count": null,
   "metadata": {
    "colab": {},
    "colab_type": "code",
    "id": "ZyIz6JcMyj-q"
   },
   "outputs": [],
   "source": [
    "# Download data from API \n",
    "# Main Source: https://opendata.arcgis.com/datasets/82841132047d47659508f60c52f6346a_0.csv\n",
    "# Pick API Tag - we chose the CSV option\n",
    "link = \"https://opendata.arcgis.com/datasets/82841132047d47659508f60c52f6346a_0.csv\"\n",
    "\n",
    "# Read and parse data as a pandas CSV\n",
    "rawData = pd.read_csv(link,low_memory=False)\n",
    "\n",
    "# Rename the columns\n",
    "#rawData = rawData.rename(columns={\"treesiteid\": \"ID\", \"name\": \"name\",\"location\":\"location\"})\n",
    "\n",
    "# Rename X and Y coordinates\n",
    "rawData[['latitude','longitude']] = rawData[[\"Y\",\"X\"]]\n",
    "\n",
    "# Clean up data\n",
    "rawData = rawData.drop([\"OBJECTID\",\"site_id\",\"add_num\",\"add_str\",\"AssetID\",\"LocValue\",\"GU_FldA\",\n",
    "                        \"GU_FldB\",\"GU_FldC\",\"GU_FldD\",\"X_Coord\",\"Y_Coord\",\"rr_overall\",\"access_chg\",\n",
    "                        \"chg_code\",\"X\",\"Y\"],axis=1)"
   ]
  },
  {
   "cell_type": "code",
   "execution_count": null,
   "metadata": {},
   "outputs": [],
   "source": [
    "rawData.head(10)"
   ]
  },
  {
   "cell_type": "markdown",
   "metadata": {},
   "source": [
    "---\n",
    "<h3>✏️Challenge 1 (Level 1) </h3>\n",
    "\n",
    "Use the bracket notation to access the `species` field values. \n",
    "\n",
    "<b>[Hint]</b> The notation using pandas dataframes is\n",
    "\n",
    "    dataframe[\"ColumnName\"]"
   ]
  },
  {
   "cell_type": "code",
   "execution_count": null,
   "metadata": {},
   "outputs": [],
   "source": [
    "# ✏️ Your answer here\n"
   ]
  },
  {
   "cell_type": "markdown",
   "metadata": {
    "colab_type": "text",
    "id": "RjJBQVyyyj-t"
   },
   "source": [
    "---\n",
    "<h3>✏️Challenge 2 (Level 2) </h3>\n",
    "\n",
    "Use the unique() function in the next cell to find out:\n",
    "\n",
    "1. Unique zone_id's, unique tree species, unique site_type. \n",
    "2. Write down here:\n",
    "    a. unique zone_id's you see\n",
    "    b. unique tree species you see\n",
    "    c. unique site_type's you see\n",
    "\n",
    "<b>[Hint]</b> Use the code in the previous exercise. Accessing unique values in a field can be done by following the syntax\n",
    "\n",
    "    my_dataframe[\"ColumnName\"].unique()\n",
    "\n",
    "---"
   ]
  },
  {
   "cell_type": "code",
   "execution_count": null,
   "metadata": {},
   "outputs": [],
   "source": [
    "# ✏️substitute in the cell below the appropriate field name\n"
   ]
  },
  {
   "cell_type": "markdown",
   "metadata": {
    "colab_type": "text",
    "id": "tn8j4rqKyj-z"
   },
   "source": [
    "## Data Visualization\n",
    "\n",
    "Now that we have cleaned up the dataframe and separated the string `location` values into separate numerical values containing the `latitude` and `longitude` coordinates, we will use the Python library called `folium` to visualize our data geographically."
   ]
  },
  {
   "cell_type": "markdown",
   "metadata": {
    "colab_type": "text",
    "id": "VTluvX8Ryj-0"
   },
   "source": [
    "---\n",
    "### ✏️ Challenge 3 (Exploratory)\n",
    "\n",
    "1. Look up the coordinates for Lethbridge County: https://www.google.com/search?q=lethbridge+county+latitude+and+longitude&oq=lethbridge+county\n",
    "2. In the cell below, enter the North coordinate (latitude) and the West coordinate (longitude) into separate variables (we have created the variable names for you). Make sure you enter numbers only, no letters!\n",
    "3. These will be the initial coordinates that will help us locate our map. \n",
    "4. Run the cell to display the map. Ensure you are in the right location (hint: Edmonton should appear in the map)\n",
    "---"
   ]
  },
  {
   "cell_type": "code",
   "execution_count": null,
   "metadata": {
    "colab": {},
    "colab_type": "code",
    "id": "4-6SmRxFyj-0"
   },
   "outputs": [],
   "source": [
    "# ✏️ Your code here \n",
    "latitude = 49.7952\n",
    "longitude = -112.7434\n",
    "\n",
    "# Initial coordinates \n",
    "SC_COORDINATES = [latitude, longitude]\n",
    "\n",
    "# Create a map using our initial coordinates\n",
    "map_osm=folium.Map(location=SC_COORDINATES, zoom_start=10, tiles='Stamen Terrain')\n",
    "\n",
    "# Display the map \n",
    "display(map_osm)"
   ]
  },
  {
   "cell_type": "markdown",
   "metadata": {
    "colab_type": "text",
    "id": "i3Nz3tB0yj-2"
   },
   "source": [
    "## Displaying the tree locations\n",
    "\n",
    "We can now add the tree locations into our map. \n",
    "\n",
    "In the cell below we will [iterate](https://www.merriam-webster.com/dictionary/iteration) over each record in our dataframe `rawData`. \n",
    "\n",
    "We will then add markers (one marker for each pair of coordinates) using the `folium.Marker` function. \n",
    "\n",
    "We will pass the `latitude` and `longitude` coordinates using the `location` parameter, and mark each tree with its `name` using the `popup` parameter. \n",
    "\n",
    "We will add this to our `marker_cluster` on our map called `map_osm`. \n",
    "\n",
    "Run the cell below to see the locations of the trees."
   ]
  },
  {
   "cell_type": "code",
   "execution_count": null,
   "metadata": {},
   "outputs": [],
   "source": [
    "# array(['north', 'rvalley', 'west', 'south', 'North', ' ', 'north ',\n",
    " #      'west ', 'south '], dtype=object)\n",
    "every_three_numbers = [i*2 for i in range(400)]\n",
    "\n",
    "north_Data = rawData[rawData[\"zone_id\"]==\"north\"].iloc[every_three_numbers,:]\n",
    "west_Data = rawData[rawData[\"zone_id\"]==\"west\"].iloc[every_three_numbers,:]\n",
    "south_Data = rawData[rawData[\"zone_id\"]==\"south\"].iloc[every_three_numbers,:]\n",
    "final_data = pd.concat([north_Data,west_Data,south_Data])"
   ]
  },
  {
   "cell_type": "code",
   "execution_count": null,
   "metadata": {
    "colab": {},
    "colab_type": "code",
    "id": "3-3oJnA_yj-3"
   },
   "outputs": [],
   "source": [
    "# Create marker cluster and add to our map\n",
    "marker_cluster = MarkerCluster().add_to(map_osm)\n",
    "\n",
    "# Iterate over each record, and add tree x and y coordinates, as well as tree name\n",
    "MAX_RECORDS = len(final_data)\n",
    "# For each record in rawData\n",
    "for each in final_data[0:MAX_RECORDS].iterrows():\n",
    "    # Use folium.Marker function, use X and Y coordinates to specify location\n",
    "    folium.Marker(location = [each[1]['latitude'],each[1]['longitude']], \n",
    "                  # Add tree name\n",
    "                  popup=folium.Popup(each[1]['species'],sticky=True),\n",
    "                  #Make color/style changes here\n",
    "                  icon=folium.Icon(color='green', icon='tree', prefix='fa'),\n",
    "                  # Make sure our trees cluster nicely!\n",
    "                  clustered_marker = True).add_to(marker_cluster)\n",
    "\n",
    "# Show the map\n",
    "display(map_osm)\n",
    "\n",
    "# Optional - you can save this map as an HTML file\n",
    "#map_osm.save('TreeMap.html')"
   ]
  },
  {
   "cell_type": "markdown",
   "metadata": {
    "colab_type": "text",
    "id": "E30uPrGWyj-5"
   },
   "source": [
    "---\n",
    "### ✏️ Challenge 4 (Exploratory)\n",
    "\n",
    "Use the interactive map above for this exercise. You will see 'clusters' of trees. \n",
    "\n",
    "Clusters with over 100 trees will be coloured in red, clusters with fewer than 100 trees will be coloured in yellow, while clusters with fewer than 10 trees will be coloured in green. A single tree has a green colour and a tree shape in it. \n",
    "\n",
    "1. Click on the largest cluster (hint: it has over 900 trees). It will break into smaller clusters. \n",
    "2. How many red clusters do you see? How many yellow clusters? and green ones? (Hint: there are more than two red clusters)\n",
    "3. Pick a red cluster and click on it. Are the clusters evenly distributed? If no, where are the clusters concentrated? \n",
    "4. Identify three areas that would benefit from populating with trees. What are the names of the streets/neighbourhoods where they are located?\n",
    "\n",
    "#### Your answers and observations here:\n",
    "\n",
    "---"
   ]
  },
  {
   "cell_type": "markdown",
   "metadata": {
    "colab_type": "text",
    "id": "1D0GNjdsyj-6"
   },
   "source": [
    "## Further Visualization and Statistics\n",
    "\n",
    "A natural question to ask is what is the most common kind of tree. To find out, we'll group and plot the data."
   ]
  },
  {
   "cell_type": "markdown",
   "metadata": {
    "colab_type": "text",
    "id": "FyKwkLz-yj-6"
   },
   "source": [
    "We start by setting up our visualizing environment. "
   ]
  },
  {
   "cell_type": "code",
   "execution_count": null,
   "metadata": {
    "colab": {},
    "colab_type": "code",
    "id": "Sei32TAkyj-7"
   },
   "outputs": [],
   "source": [
    "#load \"cufflinks\" library under short name \"cf\"\n",
    "import cufflinks as cf\n",
    "\n",
    "#command to display graphics correctly in Jupyter notebook\n",
    "cf.go_offline()\n",
    "\n",
    "def enable_plotly_in_cell():\n",
    "    import IPython\n",
    "    from plotly.offline import init_notebook_mode\n",
    "    display(IPython.core.display.HTML('''<script src=\"/static/components/requirejs/require.js\"></script>'''))\n",
    "    init_notebook_mode(connected=False)\n",
    "    \n",
    "get_ipython().events.register('pre_run_cell', enable_plotly_in_cell)"
   ]
  },
  {
   "cell_type": "markdown",
   "metadata": {
    "colab_type": "text",
    "id": "TN1gp30Oyj-9"
   },
   "source": [
    "First we'll group data by `name` using the `groupby()` method. \n",
    "\n",
    "Then we'll use the `size()` method to count how many trees of each kind there are. \n",
    "\n",
    "Next we'll sort the data. \n",
    "\n",
    "Run the cell below to perform these steps and show the five most common trees in Strathcona County. "
   ]
  },
  {
   "cell_type": "code",
   "execution_count": null,
   "metadata": {
    "colab": {},
    "colab_type": "code",
    "id": "kBb2sqWWyj--"
   },
   "outputs": [],
   "source": [
    "# This cell groups trees by name, and counts them\n",
    "count_by_tree_name = rawData.groupby(\"species\").size().reset_index(name=\"count\")\n",
    "# once it does that, it sorts the counts in descending order\n",
    "ordered_count = count_by_tree_name.sort_values(by='count', ascending=False)\n",
    "# And displays the first 5 results. \n",
    "ordered_count.head()"
   ]
  },
  {
   "cell_type": "markdown",
   "metadata": {
    "colab_type": "text",
    "id": "vkYHfX_5yj_A"
   },
   "source": [
    "You can see the most common tree in Strathcona County. Let's visualize these data in a pie chart."
   ]
  },
  {
   "cell_type": "code",
   "execution_count": null,
   "metadata": {
    "colab": {},
    "colab_type": "code",
    "id": "QYpHZiOoyj_A"
   },
   "outputs": [],
   "source": [
    "ordered_count.iloc[0:5].iplot(kind=\"pie\",values=\"count\",labels=\"species\",title=\"Five Most Common Trees\") "
   ]
  },
  {
   "cell_type": "code",
   "execution_count": null,
   "metadata": {
    "colab": {},
    "colab_type": "code",
    "id": "RIkYKL8kyj_C"
   },
   "outputs": [],
   "source": [
    "ordered_count.iplot(kind=\"pie\",values=\"count\",labels=\"species\",title=\"All Trees\") "
   ]
  },
  {
   "cell_type": "markdown",
   "metadata": {
    "colab_type": "text",
    "id": "wir0RRL6yj_E"
   },
   "source": [
    "---\n",
    "### ✏️ Challenge 5 (Data Analytics)\n",
    "\n",
    "1. Hover over the plots.\n",
    "2. What is the percentage associated to each of the five most common trees? \n",
    "3. What is the most common, or 'dominant' type of tree? \n",
    "4. What tree species would you recommend restoring and why? \n",
    "\n",
    "#### Your answers and observations here\n",
    "\n",
    "---"
   ]
  },
  {
   "cell_type": "markdown",
   "metadata": {
    "colab_type": "text",
    "id": "2wSU_B04yj_F"
   },
   "source": [
    "# Conclusions\n",
    "\n",
    "Edit this cell to describe **where you would recommend planting trees** and the **types of trees recommended**. Include any data filtering and sorting steps that you recommend, and why you would recommend them.\n",
    "\n"
   ]
  },
  {
   "cell_type": "markdown",
   "metadata": {
    "colab_type": "text",
    "id": "NqfkDwOEyj_F"
   },
   "source": [
    "## Reflections\n",
    "\n",
    "Write about some or all of the following questions, either individually in separate markdown cells or as a group.\n",
    "- What is something you learned through this process?\n",
    "- How well did your group work together? Why do you think that is?\n",
    "- What were some of the hardest parts?\n",
    "- What are you proud of? What would you like to show others?\n",
    "- Are you curious about anything else related to this? Did anything surprise you?\n",
    "- How can you apply your learning to future activities?"
   ]
  },
  {
   "cell_type": "markdown",
   "metadata": {
    "colab_type": "text",
    "id": "ad2ZyO5Vyj_M"
   },
   "source": [
    "![alt text](https://github.com/callysto/callysto-sample-notebooks/blob/master/notebooks/images/Callysto_Notebook-Banners_Bottom_06.06.18.jpg?raw=true)"
   ]
  }
 ],
 "metadata": {
  "colab": {
   "name": "Trees-Challenge.ipynb",
   "provenance": []
  },
  "kernelspec": {
   "display_name": "Python 3",
   "language": "python",
   "name": "python3"
  },
  "language_info": {
   "codemirror_mode": {
    "name": "ipython",
    "version": 3
   },
   "file_extension": ".py",
   "mimetype": "text/x-python",
   "name": "python",
   "nbconvert_exporter": "python",
   "pygments_lexer": "ipython3",
   "version": "3.7.4"
  }
 },
 "nbformat": 4,
 "nbformat_minor": 1
}
