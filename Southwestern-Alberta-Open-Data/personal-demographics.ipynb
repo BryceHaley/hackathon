{
 "cells": [
  {
   "cell_type": "markdown",
   "metadata": {},
   "source": [
    "![Callysto.ca Banner](https://github.com/callysto/curriculum-notebooks/blob/master/callysto-notebook-banner-top.jpg?raw=true)"
   ]
  },
  {
   "cell_type": "markdown",
   "metadata": {},
   "source": [
    "# Data Challenge: Using Pandas Dataframes With Census Personal Demographics Data\n",
    "\n",
    "Now that we are familiar with data structures, let's tackle a problem with real data. We'll be working data from the 2016 Canadian Census.\n",
    "\n",
    "An Albertan scientist has unwittingly used DNA extracted from the fossil of a [Tyrannosaurus cousin](https://lethbridgenewsnow.com/2020/02/16/new-dinosaur-unearthed-in-alberta-a-significant-find-for-the-field-of-paleontology/) to create living dinosaurs. These short-tempered dinosaurs have unfortunately escaped and are about to wreak havoc on the people living in southwestern Alberta.\n",
    "\n",
    "Local governments are asking you to use open data to forecast the potential impact of this dino-catastrophe if it isn't contained in time."
   ]
  },
  {
   "cell_type": "markdown",
   "metadata": {},
   "source": [
    "**[Data Science Tip]** Cite your source.\n",
    "\n",
    "✅Statistics Canada. 2017. Lethbridge [Census metropolitan area], Alberta and Saskatchewan [Province] (table). Census Profile. 2016 Census. Statistics Canada Catalogue no. 98-316-X2016001. Ottawa. Released November 29, 2017.\n",
    "https://www12.statcan.gc.ca/census-recensement/2016/dp-pd/prof/index.cfm?Lang=E (accessed February 13, 2020)."
   ]
  },
  {
   "cell_type": "markdown",
   "metadata": {},
   "source": [
    "In the next section we will use Pandas dataframes to explore this dataset and learn more about people in southwestern Alberta. \n",
    "\n",
    "Let's create a few lists with data categories that are found in our dataset. "
   ]
  },
  {
   "cell_type": "code",
   "execution_count": null,
   "metadata": {},
   "outputs": [],
   "source": [
    "# Build data subsets\n",
    "age_data = [\n",
    "'0 to 14 years','0 to 4 years','5 to 9 years','10 to 14 years','15 to 64 years','15 to 19 years','20 to 24 years',\n",
    "    '25 to 29 years','30 to 34 years','35 to 39 years','40 to 44 years','45 to 49 years','50 to 54 years',\n",
    "    '55 to 59 years','60 to 64 years','65 years and over','65 to 69 years','70 to 74 years','75 to 79 years',\n",
    "    '80 to 84 years','85 years and over','85 to 89 years','90 to 94 years','95 to 99 years','100 years and over']\n",
    "\n",
    "age_distribution = [\n",
    " '0 to 14 years', '15 to 64 years','65 years and over','85 years and over',\n",
    " 'Average age of the population',\n",
    " 'Median age of the population']\n",
    "\n",
    "house_data = [\n",
    " '1 person','2 persons','3 persons','4 persons','5 or more persons',\n",
    "    'Number of persons in private households','Average household size']\n",
    "\n",
    "marital_data = [\n",
    " 'Married or living common law','Married','Living common law','Not married and not living common law','Never married',\n",
    " 'Separated','Divorced','Widowed']\n",
    "\n",
    "print('Data subsets successfully created.')"
   ]
  },
  {
   "cell_type": "markdown",
   "metadata": {},
   "source": [
    "Let's now create a dictionary using the lists above. "
   ]
  },
  {
   "cell_type": "code",
   "execution_count": null,
   "metadata": {},
   "outputs": [],
   "source": [
    "# Combo datasets\n",
    "demographics_dictionary = {\"Age groups\":age_data,\n",
    "                              \"Age distribution\":age_distribution,\n",
    "                              \"Number of people per house\":house_data,\n",
    "                              \"Marital status\":marital_data}\n",
    "print('Data dictionary created.')"
   ]
  },
  {
   "cell_type": "markdown",
   "metadata": {},
   "source": [
    "### 📗Challenge 1 (Exploratory)\n",
    "\n",
    "Use the `demographics_dictionary` to access any of the categories that peak your attention. Practice using multiple keys, and try accessing different values within each category using indexing notation. "
   ]
  },
  {
   "cell_type": "code",
   "execution_count": null,
   "metadata": {},
   "outputs": [],
   "source": [
    "# ✏️your response here\n"
   ]
  },
  {
   "cell_type": "markdown",
   "metadata": {},
   "source": [
    "Next we will import a number of libraries to help us. Run the cell below to import the libraries."
   ]
  },
  {
   "cell_type": "code",
   "execution_count": null,
   "metadata": {},
   "outputs": [],
   "source": [
    "# Import libraries, get data subsets\n",
    "import pandas as pd\n",
    "import os, sys, glob, zipfile\n",
    "from ipywidgets import widgets\n",
    "from io import BytesIO\n",
    "from urllib.request import urlopen\n",
    "\n",
    "# Override RuntimeWarning: numpy.dtype size changed, may indicate binary incompatibility\n",
    "import warnings\n",
    "warnings.filterwarnings(\"ignore\", message=\"numpy.dtype size changed\")\n",
    "warnings.filterwarnings(\"ignore\", message=\"numpy.ufunc size changed\")\n",
    "\n",
    "# Pandas settings\n",
    "pd.set_option('display.max_rows', 800)\n",
    "pd.set_option('display.max_columns', 800)\n",
    "\n",
    "# load \"cufflinks\" library under short name \"cf\"\n",
    "import cufflinks as cf\n",
    "\n",
    "# command to display graphics correctly in Jupyter notebook\n",
    "cf.go_offline()\n",
    "\n",
    "def enable_plotly_in_cell():\n",
    "    import IPython\n",
    "    from plotly.offline import init_notebook_mode\n",
    "    display(IPython.core.display.HTML('''<script src=\"/static/components/requirejs/require.js\"></script>'''))\n",
    "    init_notebook_mode(connected=False)\n",
    "    \n",
    "get_ipython().events.register('pre_run_cell', enable_plotly_in_cell)\n",
    "\n",
    "print(\"Success! Libraries imported as expected and graphing is enabled.\")"
   ]
  },
  {
   "cell_type": "markdown",
   "metadata": {},
   "source": [
    "Now to download the data from Statistics Canada.\n",
    "\n",
    "There is a lot of information in the cell below, but basically what we are doing is:\n",
    "\n",
    "1. Downloading the data \n",
    "2. Uncompressing the data\n",
    "3. Selecting the downloaded file\n",
    "4. Reading the file as a [Pandas](https://pandas.pydata.org) dataframe\n",
    "\n",
    "The last step is important, as the `Pandas` code library transforms the contents of the file into a data structure that we can manipulate.\n",
    "\n",
    "Run the cell below. It will take a minute or two, so be patient."
   ]
  },
  {
   "cell_type": "code",
   "execution_count": null,
   "metadata": {},
   "outputs": [],
   "source": [
    "print(\"Downloading data. Please wait...\")\n",
    "# Link to zipped data\n",
    "link_csv = \"https://www12.statcan.gc.ca/census-recensement/2016/dp-pd/prof/details/download-telecharger/comp/GetFile.cfm?Lang=E&FILETYPE=CSV&GEONO=069\"\n",
    " \n",
    "# Unzip data in local directory\n",
    "r = urlopen(link_csv).read()\n",
    "z = zipfile.ZipFile(BytesIO(r))\n",
    "\n",
    "print(\"Download complete. Extracting data files.\")\n",
    "z.extractall()\n",
    "\n",
    "def hasNumbers(inputString):\n",
    "    return any(char.isdigit() for char in inputString)\n",
    "\n",
    "print(\"Extraction complete. Parsing data into pandas dataframe.\")\n",
    "# Get CSV files only from extracted data sets\n",
    "os.chdir(\"./\")\n",
    "csv_file = []\n",
    "for file in glob.glob(\"*.csv\"):\n",
    "    if hasNumbers(file):\n",
    "        census_table = pd.read_csv(file)\n",
    "    else:\n",
    "        continue\n",
    "    \n",
    "print(\"Success!\")"
   ]
  },
  {
   "cell_type": "markdown",
   "metadata": {},
   "source": [
    "Next we are going to clean the data. Run the cell below. "
   ]
  },
  {
   "cell_type": "code",
   "execution_count": null,
   "metadata": {},
   "outputs": [],
   "source": [
    "# Data cleanup - remove unused columns\n",
    "census_table = census_table.drop(['GEO_CODE (POR)','GEO_LEVEL', 'GNR','GNR_LF','DATA_QUALITY_FLAG',\\\n",
    "                                       'CSD_TYPE_NAME','ALT_GEO_CODE','Notes: Profile of Census Subdivisions (2247)',\n",
    "                                       'Member ID: Profile of Census Subdivisions (2247)'], axis=1)\n",
    "\n",
    "# Data cleanup - Rename columns\n",
    "census_table = census_table.rename(columns={\"Dim: Sex (3): Member ID: [1]: Total - Sex\": \"Total - Sex\",\\\n",
    "                                            \"Dim: Sex (3): Member ID: [2]: Male\": \"Male\",\\\n",
    "                                           \"Dim: Sex (3): Member ID: [3]: Female\":\"Female\"})\n",
    "\n",
    "print('Data cleanup complete.')"
   ]
  },
  {
   "cell_type": "markdown",
   "metadata": {},
   "source": [
    "Time to use our data categories. Run the cell below to print the different categories you can play with."
   ]
  },
  {
   "cell_type": "code",
   "execution_count": null,
   "metadata": {},
   "outputs": [],
   "source": [
    "# Show categories\n",
    "######### Build widgets\n",
    "# Region of interest\n",
    "cities = [\"Brooks\", \"Lethbridge\",\"Medicine Hat\"] \n",
    "\n",
    "style = {'description_width': 'initial'}\n",
    "\n",
    "all_the_widgets = [widgets.Dropdown(\n",
    "                    value = demographics_dictionary[\"Age groups\"],\n",
    "                    options = demographics_dictionary, \n",
    "                    description ='Data subsets:', \n",
    "                    style = style, \n",
    "                    disabled=False),widgets.Dropdown(\n",
    "                    value = 'Lethbridge',\n",
    "                    options = cities, \n",
    "                    description ='City:', \n",
    "                    style = style, \n",
    "                    disabled=False), widgets.Dropdown(\n",
    "                    value = cities[1],\n",
    "                    options = cities, \n",
    "                    description ='Data subsets:', \n",
    "                    style = style, \n",
    "                    disabled=False),widgets.Dropdown(\n",
    "                    value = 'Lethbridge',\n",
    "                    options = cities, \n",
    "                    description ='City:', \n",
    "                    style = style, \n",
    "                    disabled=False)]\n",
    "\n",
    "display(all_the_widgets[0])"
   ]
  },
  {
   "cell_type": "markdown",
   "metadata": {},
   "source": [
    "### 📗Challenge 2 (Data Science)\n",
    "\n",
    "1. Run the cell below. \n",
    "2. Look at the table and the graph. \n",
    "3. What are your observations about that category?\n",
    "4. Use the menu above to help you remember the names of the keys. \n",
    "5. In the cell below, substitute \"Number of people per house\" for another category you are interested in. Then run the cell. \n",
    "6. Repeat steps 2 and 3. \n",
    "7. Double click on this cell to enter your observations about the data. Include numbers, such as how male and female compare in terms of the categories. \n",
    "\n",
    "✏️Your observations go here.\n",
    "\n",
    "\n"
   ]
  },
  {
   "cell_type": "code",
   "execution_count": null,
   "metadata": {},
   "outputs": [],
   "source": [
    "#✏️ Your answer here \n",
    "data_category = demographics_dictionary[\"Number of people per house\"]\n",
    "\n",
    "# _________________________ Once that is complete, run the cell \n",
    "\n",
    "# Display dataset\n",
    "# Get subsets of the data for Lethbridge and Lethbridge County\n",
    "\n",
    "\n",
    "region = census_table[census_table[\"GEO_NAME\"]==cities[1]]\n",
    "\n",
    "# Set index to Profile of Census Subdivisions\n",
    "region.set_index('DIM: Profile of Census Subdivisions (2247)', inplace=True)\n",
    "\n",
    "var = data_category\n",
    "display(region.loc[var])\n",
    "\n",
    "# Drop Census Year and Geo name as they are the same for this subset \n",
    "vis_data = region.loc[var].drop([\"CENSUS_YEAR\",\"GEO_NAME\"],axis=1)\n",
    "# Visualize data \n",
    "vis_data.iplot(kind=\"bar\",values=\"Dim: Sex (3): Member ID: [1]: Total - Sex\",\\\n",
    "                                       labels=\"Dim: Sex (3): Member ID: [1]: Total - Sex\",\n",
    "                                       title=\"Demographics in \" + cities[1])"
   ]
  },
  {
   "cell_type": "markdown",
   "metadata": {},
   "source": [
    "## BONUS: Comparing personal demographics in Lethbridge, Brooks and Medicine Hat\n",
    "\n",
    "Continue exploring the data for three cities: Lethbridge, Brooks and Medicine Hat. Use the dictionary as you did in previous exercises. "
   ]
  },
  {
   "cell_type": "code",
   "execution_count": null,
   "metadata": {},
   "outputs": [],
   "source": [
    "data_combo_widget = [widgets.Dropdown(\n",
    "                    value = demographics_dictionary[\"Age groups\"],\n",
    "                    options = demographics_dictionary, \n",
    "                    description ='Data subsets:', \n",
    "                    style = style, \n",
    "                    disabled=False)]\n",
    "\n",
    "display(data_combo_widget[0])"
   ]
  },
  {
   "cell_type": "code",
   "execution_count": null,
   "metadata": {
    "scrolled": false
   },
   "outputs": [],
   "source": [
    "var =  demographics_dictionary[\"Marital status\"]\n",
    "\n",
    "rows = []\n",
    "for i in range(len(cities)):\n",
    "    city = census_table[(census_table[\"GEO_NAME\"]==cities[i])]\n",
    "    for i in range(len(var)):\n",
    "        \n",
    "        row = city[city[\"DIM: Profile of Census Subdivisions (2247)\"]==var[i]]\n",
    "        rows.append(row)\n",
    "        \n",
    "result = pd.concat(rows)\n",
    "display(result.head())\n",
    "\n",
    "\n",
    "result[\"Male\"]= result[\"Male\"].replace(\"...\", 0)\n",
    "result[\"Female\"]= result[\"Female\"].replace(\"...\", 0)\n",
    "\n",
    "result[\"Male\"] = result[\"Male\"].astype(float)\n",
    "result[\"Female\"] = result[\"Female\"].astype(float)\n",
    "result[\"Total - Sex\"] = result[\"Total - Sex\"].astype(float)\n",
    "by_region = result.pivot_table(columns=[\"GEO_NAME\"],\\\n",
    "                               index=\"DIM: Profile of Census Subdivisions (2247)\",\\\n",
    "                               values=[\"Total - Sex\",\"Male\",\"Female\"])\n",
    "by_region.iplot(kind='bar',title=\"Demographic data in \" + cities[0] +\", \" + cities[1] + \" and \"+ cities[2])"
   ]
  },
  {
   "cell_type": "markdown",
   "metadata": {},
   "source": [
    "# Conclusions\n",
    "\n",
    "Double click this cell and enter your final conclusions about the people who live in southwestern Alberta, and your recommendations about dealing with dinosaur issue.\n",
    "✏️\n",
    "\n"
   ]
  },
  {
   "cell_type": "markdown",
   "metadata": {},
   "source": [
    "## Reflections\n",
    "\n",
    "Write about some or all of the following questions, either individually in separate markdown cells or as a group.\n",
    "- What is something you learned through this process?\n",
    "- How well did your group work together? Why do you think that is?\n",
    "- What were some of the hardest parts?\n",
    "- What are you proud of? What would you like to show others?\n",
    "- Are you curious about anything else related to this? Did anything surprise you?\n",
    "- How can you apply your learning to future activities?\n",
    "\n",
    "✏️\n",
    "\n"
   ]
  },
  {
   "cell_type": "markdown",
   "metadata": {},
   "source": [
    "[![Callysto.ca License](https://github.com/callysto/curriculum-notebooks/blob/master/callysto-notebook-banner-bottom.jpg?raw=true)](https://github.com/callysto/curriculum-notebooks/blob/master/LICENSE.md)"
   ]
  }
 ],
 "metadata": {
  "kernelspec": {
   "display_name": "Python 3",
   "language": "python",
   "name": "python3"
  },
  "language_info": {
   "codemirror_mode": {
    "name": "ipython",
    "version": 3
   },
   "file_extension": ".py",
   "mimetype": "text/x-python",
   "name": "python",
   "nbconvert_exporter": "python",
   "pygments_lexer": "ipython3",
   "version": "3.7.3"
  }
 },
 "nbformat": 4,
 "nbformat_minor": 2
}
