{
 "cells": [
  {
   "cell_type": "markdown",
   "metadata": {},
   "source": [
    "![Callysto.ca Banner](https://github.com/callysto/curriculum-notebooks/blob/master/callysto-notebook-banner-top.jpg?raw=true)"
   ]
  },
  {
   "cell_type": "markdown",
   "metadata": {},
   "source": [
    "<h2 align='center'>Data Challenge: Using Pandas Dataframes to manipulate data</h2>\n",
    "\n",
    "Now that we are familiar with data structures, let's tackle a real problem. \n",
    "\n",
    "In the next few exercises we will be working using real data from a 2016 Census. \n",
    "\n",
    "\n",
    "[HELP NEEDED COMING UP WITH A FUN NARRATIVE]\n",
    "\n",
    "<b>[Data Science Tip]</b> Cite your source.\n",
    "\n",
    "✅Statistics Canada. 2017. Lethbridge [Census metropolitan area], Alberta and Saskatchewan [Province] (table). Census Profile. 2016 Census. Statistics Canada Catalogue no. 98-316-X2016001. Ottawa. Released November 29, 2017.\n",
    "https://www12.statcan.gc.ca/census-recensement/2016/dp-pd/prof/index.cfm?Lang=E (accessed February 13, 2020).\n",
    "\n",
    "________"
   ]
  },
  {
   "cell_type": "markdown",
   "metadata": {},
   "source": [
    "In the next section we will use pandas dataframes to explore this dataset, and learn more about where people in South Alberta work, how they get to work, and how long commuters take. \n",
    "\n",
    "Let's create a few lists with data categories - note these categories were found in our dataset. "
   ]
  },
  {
   "cell_type": "code",
   "execution_count": null,
   "metadata": {},
   "outputs": [],
   "source": [
    "# Build data subsets\n",
    "labor_force_data = [\n",
    " 'In the labour force',\n",
    " 'Employed',\n",
    " 'Unemployed',\n",
    " 'Not in the labour force',\n",
    " 'Participation rate',\n",
    " 'Employment rate',\n",
    " 'Unemployment rate']\n",
    "\n",
    "work_activity_data  = [\n",
    " 'Did not work',\n",
    " 'Worked',\n",
    " 'Worked full year, full time',\n",
    " 'Worked part year and/or part time']\n",
    "\n",
    "class_of_worker = [\n",
    " 'Total labour force aged 15 years and over by class of worker - 25% sample data',\n",
    " 'Class of worker - not applicable',\n",
    " 'All classes of workers',\n",
    " 'Employee',\n",
    " 'Self-employed']\n",
    "\n",
    "occupation_data = [\n",
    " 'Occupation - not applicable',\n",
    " '0 Management occupations',\n",
    " '1 Business, finance and administration occupations',\n",
    " '2 Natural and applied sciences and related occupations',\n",
    " '3 Health occupations',\n",
    " '4 Occupations in education, law and social, community and government services',\n",
    " '5 Occupations in art, culture, recreation and sport',\n",
    " '6 Sales and service occupations',\n",
    " '7 Trades, transport and equipment operators and related occupations',\n",
    " '8 Natural resources, agriculture and related production occupations',\n",
    " '9 Occupations in manufacturing and utilities']\n",
    "\n",
    "industry_data = [\n",
    " 'Industry - NAICS2012 - not applicable',\n",
    " '11 Agriculture, forestry, fishing and hunting',\n",
    " '21 Mining, quarrying, and oil and gas extraction',\n",
    " '22 Utilities',\n",
    " '23 Construction',\n",
    " '31-33 Manufacturing',\n",
    " '41 Wholesale trade',\n",
    " '44-45 Retail trade',\n",
    " '48-49 Transportation and warehousing',\n",
    " '51 Information and cultural industries',\n",
    " '52 Finance and insurance',\n",
    " '53 Real estate and rental and leasing',\n",
    " '54 Professional, scientific and technical services',\n",
    " '55 Management of companies and enterprises',\n",
    " '56 Administrative and support, waste management and remediation services',\n",
    " '61 Educational services',\n",
    " '62 Health care and social assistance',\n",
    " '71 Arts, entertainment and recreation',\n",
    " '72 Accommodation and food services',\n",
    " '81 Other services (except public administration)',\n",
    " '91 Public administration']"
   ]
  },
  {
   "cell_type": "markdown",
   "metadata": {},
   "source": [
    "Let's now create a dictionary using the lists above. "
   ]
  },
  {
   "cell_type": "code",
   "execution_count": null,
   "metadata": {},
   "outputs": [],
   "source": [
    "######### Combo datasets\n",
    "labour_force_dictionary = {\"Labour force characteristics\":labor_force_data,\n",
    "                              \"Work status\":work_activity_data,\n",
    "                              \"Class of worker\":class_of_worker,\n",
    "                              \"Occupation\":occupation_data,\n",
    "                              \"Industry\":industry_data}\n"
   ]
  },
  {
   "cell_type": "markdown",
   "metadata": {},
   "source": [
    "<h3>✏️Challenge 1 (Exploratory)</h3>\n",
    "\n",
    "Use the\n",
    "\n",
    "    work_environment_dictionary\n",
    "    \n",
    "to access any of the categories that peak your attention. Practice using multiple keys, and try accessing different values within each category using indexing notation. "
   ]
  },
  {
   "cell_type": "code",
   "execution_count": null,
   "metadata": {},
   "outputs": [],
   "source": [
    "# ✏️your response here\n"
   ]
  },
  {
   "cell_type": "markdown",
   "metadata": {},
   "source": [
    "It's time we download the data. \n",
    "\n",
    "We will import a number of libraries to help us. Run the cell below to import the libraries. "
   ]
  },
  {
   "cell_type": "code",
   "execution_count": null,
   "metadata": {},
   "outputs": [],
   "source": [
    "# Import libraries, get data subsets\n",
    "import pandas as pd\n",
    "import os, sys, glob, zipfile\n",
    "from ipywidgets import widgets\n",
    "from io import BytesIO\n",
    "from urllib.request import urlopen\n",
    "\n",
    "\"\"\"Override RuntimeWarning: numpy.dtype size changed, may indicate binary incompatibility \"\"\"\n",
    "import warnings\n",
    "warnings.filterwarnings(\"ignore\", message=\"numpy.dtype size changed\")\n",
    "warnings.filterwarnings(\"ignore\", message=\"numpy.ufunc size changed\")\n",
    "\n",
    "\"\"\"Pandas settings\"\"\" \n",
    "pd.set_option('display.max_rows', 800)\n",
    "pd.set_option('display.max_columns', 800)\n",
    "print(\"SUCCESS! Libraries were imported as expected.\")"
   ]
  },
  {
   "cell_type": "code",
   "execution_count": null,
   "metadata": {},
   "outputs": [],
   "source": [
    "#load \"cufflinks\" library under short name \"cf\"\n",
    "import cufflinks as cf\n",
    "\n",
    "#command to display graphics correctly in Jupyter notebook\n",
    "cf.go_offline()\n",
    "\n",
    "def enable_plotly_in_cell():\n",
    "    import IPython\n",
    "    from plotly.offline import init_notebook_mode\n",
    "    display(IPython.core.display.HTML('''<script src=\"/static/components/requirejs/require.js\"></script>'''))\n",
    "    init_notebook_mode(connected=False)\n",
    "    \n",
    "get_ipython().events.register('pre_run_cell', enable_plotly_in_cell)\n"
   ]
  },
  {
   "cell_type": "markdown",
   "metadata": {},
   "source": [
    "The next cell downloads the data, and accesses the files found. \n",
    "\n",
    "There is a lot of information below, but basically what we are doing is\n",
    "\n",
    "1. Download the data \n",
    "2. Decompressing it\n",
    "3. Selecting the appropriate file\n",
    "4. Parsing the file as a pandas dataframe\n",
    "\n",
    "The last step is important, as the library pandas essentially transforms the content of the file into a datastructure\n",
    "we can manipulate using the functions in the pandas library.\n",
    "\n",
    "Run the cell below - it will take a few seconds, so be patient. "
   ]
  },
  {
   "cell_type": "code",
   "execution_count": null,
   "metadata": {},
   "outputs": [],
   "source": [
    "print(\"Downloading data. Please wait...\")\n",
    "# Link to zipped data\n",
    "link_csv = \"https://www12.statcan.gc.ca/census-recensement/2016/dp-pd/prof/details/download-telecharger/comp/GetFile.cfm?Lang=E&FILETYPE=CSV&GEONO=069\"\n",
    " \n",
    "# Unzip data in local directory\n",
    "r = urlopen(link_csv).read()\n",
    "z = zipfile.ZipFile(BytesIO(r))\n",
    "\n",
    "print(\"Download complete. Extracting data files.\")\n",
    "z.extractall()\n",
    "\n",
    "def hasNumbers(inputString):\n",
    "    return any(char.isdigit() for char in inputString)\n",
    "\n",
    "print(\"Extraction complete. Parsing data into pandas dataframe.\")\n",
    "# Get CSV files only from extracted data sets\n",
    "os.chdir(\"./\")\n",
    "csv_file = []\n",
    "for file in glob.glob(\"*.csv\"):\n",
    "    if hasNumbers(file):\n",
    "        census_table = pd.read_csv(file)\n",
    "    else:\n",
    "        continue\n",
    "    \n",
    "print(\"Success!\")"
   ]
  },
  {
   "cell_type": "markdown",
   "metadata": {},
   "source": [
    "Next we are going to clean the data. \n",
    "\n",
    "Run the cell below. "
   ]
  },
  {
   "cell_type": "code",
   "execution_count": null,
   "metadata": {},
   "outputs": [],
   "source": [
    "# Data cleanup - remove unused columns\n",
    "census_table = census_table.drop(['GEO_CODE (POR)','GEO_LEVEL', 'GNR','GNR_LF','DATA_QUALITY_FLAG',\\\n",
    "                                       'CSD_TYPE_NAME','ALT_GEO_CODE','Notes: Profile of Census Subdivisions (2247)',\n",
    "                                       'Member ID: Profile of Census Subdivisions (2247)'], axis=1)\n",
    "\n",
    "# Data cleanup - Rename columns\n",
    "census_table = census_table.rename(columns={\"Dim: Sex (3): Member ID: [1]: Total - Sex\": \"Total - Sex\",\\\n",
    "                                            \"Dim: Sex (3): Member ID: [2]: Male\": \"Male\",\\\n",
    "                                           \"Dim: Sex (3): Member ID: [3]: Female\":\"Female\"})"
   ]
  },
  {
   "cell_type": "markdown",
   "metadata": {},
   "source": [
    "Time to use our data categories. Run the cell below to print the different categories you can play with."
   ]
  },
  {
   "cell_type": "code",
   "execution_count": null,
   "metadata": {},
   "outputs": [],
   "source": [
    "# Show categories\n",
    "######### Build widgets\n",
    "# Region of interest\n",
    "cities = [\"Brooks\", \"Lethbridge\",\"Medicine Hat\"] \n",
    "\n",
    "style = {'description_width': 'initial'}\n",
    "\n",
    "all_the_widgets = [widgets.Dropdown(\n",
    "                    value = labour_force_dictionary[\"Labour force characteristics\"],\n",
    "                    options = labour_force_dictionary, \n",
    "                    description ='Data subsets:', \n",
    "                    style = style, \n",
    "                    disabled=False),widgets.Dropdown(\n",
    "                    value = 'Lethbridge',\n",
    "                    options = cities, \n",
    "                    description ='City:', \n",
    "                    style = style, \n",
    "                    disabled=False), widgets.Dropdown(\n",
    "                    value = cities[1],\n",
    "                    options = cities, \n",
    "                    description ='Data subsets:', \n",
    "                    style = style, \n",
    "                    disabled=False),widgets.Dropdown(\n",
    "                    value = 'Lethbridge',\n",
    "                    options = cities, \n",
    "                    description ='City:', \n",
    "                    style = style, \n",
    "                    disabled=False)]\n",
    "\n",
    "display(all_the_widgets[0])"
   ]
  },
  {
   "cell_type": "markdown",
   "metadata": {},
   "source": [
    "<h3>✏️Challenge 2 (Data Science)</h3>\n",
    "\n",
    "1. Run the cell below. \n",
    "2. Look at the table and the graph. \n",
    "3. What are your observations about that category?\n",
    "4. Use the menu above to help you remember the names of the keys. \n",
    "5. In the cell below, substitute \"Place of work\" for another category you are interested in. Then run the cell. \n",
    "6. Repeat steps 2 and 3. \n",
    "7. Double click on this cell to enter your observations about the data. Include numbers, how male and female compare in terms of the categories. \n",
    "\n",
    "✏️Your observations go here.\n",
    "\n",
    "\n"
   ]
  },
  {
   "cell_type": "code",
   "execution_count": null,
   "metadata": {},
   "outputs": [],
   "source": [
    "#✏️ Your answer here \n",
    "data_category = labour_force_dictionary[\"Labour force characteristics\"]\n",
    "\n",
    "# _________________________ Once that is complete, run the cell \n",
    "\n",
    "# Display dataset\n",
    "# Get subsets of the data for Lethbridge and Lethbridge County\n",
    "\n",
    "\n",
    "region = census_table[census_table[\"GEO_NAME\"]==cities[1]]\n",
    "\n",
    "# Set index to Profile of Census Subdivisions\n",
    "region.set_index('DIM: Profile of Census Subdivisions (2247)', inplace=True)\n",
    "\n",
    "var = data_category\n",
    "display(region.loc[var])\n",
    "\n",
    "# Drop Census Year and Geo name as they are the same for this subset \n",
    "vis_data = region.loc[var].drop([\"CENSUS_YEAR\",\"GEO_NAME\"],axis=1)\n",
    "# Visualize data \n",
    "vis_data.iplot(kind=\"bar\",values=\"Dim: Sex (3): Member ID: [1]: Total - Sex\",\\\n",
    "                                       labels=\"Dim: Sex (3): Member ID: [1]: Total - Sex\",\n",
    "                                       title=\"Workers conditions in \" + cities[1])"
   ]
  },
  {
   "cell_type": "markdown",
   "metadata": {},
   "source": [
    "<h2 align='center'><h2 align='center'> BONUS Comparing labour force characteristics in Lethbridge, Brooks and Medicine Hat</h2></h2>\n",
    "\n",
    "Continue exploring the data for three cities: Lethbridge, Brooks and Medicine Hat. Use the dictionary as you did in previous exercises. "
   ]
  },
  {
   "cell_type": "code",
   "execution_count": null,
   "metadata": {},
   "outputs": [],
   "source": [
    "data_combo_widget = [widgets.Dropdown(\n",
    "                    value = labour_force_dictionary[\"Labour force characteristics\"],\n",
    "                    options = labour_force_dictionary, \n",
    "                    description ='Data subsets:', \n",
    "                    style = style, \n",
    "                    disabled=False)]\n",
    "\n",
    "display(data_combo_widget[0])"
   ]
  },
  {
   "cell_type": "code",
   "execution_count": null,
   "metadata": {},
   "outputs": [],
   "source": [
    "var = labour_force_dictionary[\"Labour force characteristics\"]\n",
    "\n",
    "rows = []\n",
    "for i in range(len(cities)):\n",
    "    city = census_table[(census_table[\"GEO_NAME\"]==cities[i])]\n",
    "    for i in range(len(var)):\n",
    "        \n",
    "        row = city[city[\"DIM: Profile of Census Subdivisions (2247)\"]==var[i]]\n",
    "        rows.append(row)\n",
    "        \n",
    "result = pd.concat(rows)\n",
    "display(result)\n",
    "\n",
    "result[\"Male\"] = result[\"Male\"].astype(float)\n",
    "result[\"Female\"] = result[\"Female\"].astype(float)\n",
    "by_region = result.pivot_table(columns=[\"GEO_NAME\"],\\\n",
    "                               index=\"DIM: Profile of Census Subdivisions (2247)\",\\\n",
    "                               values=[\"Male\",\"Female\"])\n",
    "by_region.iplot(kind='bar',title=\"Workers conditions in \" + cities[0] +\", \" + cities[1] + \" and \"+ cities[2])"
   ]
  },
  {
   "cell_type": "markdown",
   "metadata": {},
   "source": [
    "<h3>✏️Challenge 3 (Unstoppable Data Scientist)</h3>\n",
    "\n",
    "Double click this cell and enter your final conclusions regarding how people in South Alberta get to work. "
   ]
  },
  {
   "cell_type": "markdown",
   "metadata": {},
   "source": [
    "[![Callysto.ca License](https://github.com/callysto/curriculum-notebooks/blob/master/callysto-notebook-banner-bottom.jpg?raw=true)](https://github.com/callysto/curriculum-notebooks/blob/master/LICENSE.md)"
   ]
  }
 ],
 "metadata": {
  "kernelspec": {
   "display_name": "Python 3",
   "language": "python",
   "name": "python3"
  },
  "language_info": {
   "codemirror_mode": {
    "name": "ipython",
    "version": 3
   },
   "file_extension": ".py",
   "mimetype": "text/x-python",
   "name": "python",
   "nbconvert_exporter": "python",
   "pygments_lexer": "ipython3",
   "version": "3.7.4"
  }
 },
 "nbformat": 4,
 "nbformat_minor": 2
}
