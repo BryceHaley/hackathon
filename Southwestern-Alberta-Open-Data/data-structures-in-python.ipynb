{
 "cells": [
  {
   "cell_type": "markdown",
   "metadata": {},
   "source": [
    "![Callysto.ca Banner](https://github.com/callysto/curriculum-notebooks/blob/master/callysto-notebook-banner-top.jpg?raw=true)"
   ]
  },
  {
   "cell_type": "markdown",
   "metadata": {},
   "source": [
    "<h2 align='center'>Data Structures</h2>\n",
    "\n",
    "We can think of data structures as objects which hold data in Python with special properties.\n",
    "\n",
    "Data can be numbers, strings, or even boolean values. \n",
    "\n",
    "We can use those special properties to manipulate those objects. \n",
    "\n",
    "Two common data structures we use in Python are lists and dictionaries. \n",
    "\n",
    "_______\n",
    "\n",
    "<h2 align='center'>Lists</h2>\n",
    "\n",
    "Lists \n",
    "Lists are data structures, where the data is stored in between square brackets [ ] and separated by commas.\n",
    "\n",
    "For example, [\"Minecraft\", \"Grand Theft Auto\", \"Super Smash Bros\", \"Fortnite\"] is a list of popular video games. \n",
    "\n",
    "We can access elements in a list by \"indexing\", i.e. using numbers 0,1,2.... to access its position in the list. In Python, the left-most element has position 0.\n",
    "\n",
    "\n",
    "Run the cell below to print the lists and see some of the properties."
   ]
  },
  {
   "cell_type": "code",
   "execution_count": null,
   "metadata": {},
   "outputs": [],
   "source": [
    "# List examples\n",
    "my_number_list = [1,2,3,4]\n",
    "my_string_list = [\"a\",\"b\",\"c\",\"d\"]\n",
    "my_mixed_list = [1,\"a\",2,\"b\"]\n",
    "my_game_list = [\"Minecraft\", \"Grand Theft Auto\", \"Super Smash Bros\", \"Fortnite\"]\n",
    "\n",
    "print(\"Number list\", my_number_list,\"\\nString list \", my_string_list,\" \\nMixed list \", my_mixed_list)\n",
    "print(\"\\n\")\n",
    "print(\"The first element in\", my_number_list, \" can be accessed as follows: my_number_list[0]\")\n",
    "print(\"The first element in\", my_number_list, \" is \", my_number_list[0])"
   ]
  },
  {
   "cell_type": "markdown",
   "metadata": {},
   "source": [
    "<h3>✏️Challenge 1 (Level 1) </h3>\n",
    "\n",
    "Using the information above, find the <b>3</b> element in\n",
    " \n",
    "    my_number_list\n",
    "\n",
    "Remember, indexing in python starts with <b>0</b>. \n",
    "\n",
    "<b>[Hint]</b> The <b>2</b> element in a list can be accessed using the notation\n",
    "\n",
    "    my_list[1]"
   ]
  },
  {
   "cell_type": "code",
   "execution_count": null,
   "metadata": {},
   "outputs": [],
   "source": [
    "# ✏️your response here\n"
   ]
  },
  {
   "cell_type": "markdown",
   "metadata": {},
   "source": [
    "______\n",
    "<h2 align='center'>Dictionaries</h2>\n",
    "\n",
    "Dictionaries are another example of data structure, with different properties. \n",
    "\n",
    "In a real dictionary, each word has its own unique definition. When we want to know the definition of a word, we go to the word to access the definition. \n",
    "\n",
    "Dictionaries in Python follow a similar logic, but instead of definitions, words (usually called keys) can access other data structures. Such as a list. \n",
    "\n",
    "Here is what a dictionary in Python looks like:\n",
    "\n",
    "        dictionary = {Key1: data_structure_1,\n",
    "                      Key2: data_structure_2,\n",
    "                      ...\n",
    "                      KeyN: data_structure_N}\n",
    "\n",
    "\n",
    "You can think of Python dictionaries as magic spells, where the name of the spell will access one specific spell, but no other. \n",
    "\n",
    "    Spells = {“Slow-mo” : “Slow down an enemy for up to 10 seconds”, ”Fire-ball”: “create a fireball from any element around you”}\n",
    "    \n",
    "    \n",
    "We can access elements in a dictionary by using square brackets [ ] and passing the name of the spell. To access the slow-mo spell, for example, in Python we would say\n",
    "\n",
    "\n",
    "    Spells[“Slow-mo”]\n",
    "\n",
    "                          \n",
    "which whill return\n",
    "\n",
    "        “Slow down an enemy for up to 10 seconds”\n",
    "        \n",
    "Run the code below "
   ]
  },
  {
   "cell_type": "code",
   "execution_count": null,
   "metadata": {},
   "outputs": [],
   "source": [
    "# Constructing a dictionary\n",
    "spells = {\"Slow-mo\" : \"Slow down an enemy for up to 10 seconds\", \n",
    "          \"Fire-ball\": \"Create a fireball from any element around you\",\n",
    "          \"Combo-spells\": [\"Venomous Plants\",\"Storm\"]}\n",
    "\n",
    "print(\"Spell dictionary\")\n",
    "display(spells)\n",
    "\n",
    "print(\"Accessing slow motion spell using Python dictionaries \")\n",
    "print(spells[\"Slow-mo\"])"
   ]
  },
  {
   "cell_type": "markdown",
   "metadata": {},
   "source": [
    "<h3>✏️Challenge 2 (Level 1)</h3>\n",
    "\n",
    "Use the \n",
    " \n",
    "    spells\n",
    "\n",
    "dictionary in the cell below to access the Fire-ball spell\n",
    "\n",
    "    \n",
    "<b>[Hint]</b> The notation to access a value in a dictionary is\n",
    "\n",
    "    my_dictionary[key]"
   ]
  },
  {
   "cell_type": "code",
   "execution_count": null,
   "metadata": {},
   "outputs": [],
   "source": [
    "# ✏️your response here\n"
   ]
  },
  {
   "cell_type": "markdown",
   "metadata": {},
   "source": [
    "<h3>✏️Challenge 3 (Level 2)</h3>\n",
    "\n",
    "Now that you have played with dictionaries, access the Combo-spells from the spells dictionary. \n",
    "\n",
    "What is the first spell? Access it."
   ]
  },
  {
   "cell_type": "code",
   "execution_count": null,
   "metadata": {},
   "outputs": [],
   "source": [
    "# ✏️your response here\n"
   ]
  },
  {
   "cell_type": "markdown",
   "metadata": {},
   "source": [
    "_______\n",
    "\n",
    "<h2 align='center'>Pandas Dataframes</h2>\n",
    "\n",
    "Pandas Dataframes are another type of data structures. \n",
    "\n",
    "Pandas Dataframes are two-dimensional, meaning they have rows and columns, and can have mixed data types (string, floating point numbers, integers, boolean, among others).\n",
    "\n",
    "|Column 1| Column 2|\n",
    "| - | - |\n",
    "|Row 1: Value 1| Row 1: Value 2|\n",
    "|Row 2: Value 1| Row 2: Value 2|\n",
    "\n",
    "Pandas can be thought of as an extension of dictionaries, where the keys hold the name of the column, and the keys are usually lists with objects inside them. If you are a very experienced magician, you probably have a number of different spells and categories:\n",
    "\n",
    "\n",
    "\n",
    "|Freezing Spells|Attacking Spells| Healing Spells |\n",
    "| - | - | -| \n",
    "|Slow-mo spell| Fire-ball spell|Revive spell\n",
    "|Full-freeze spell| Teleportation spell| Help a friend spell| \n",
    "\n",
    "\n",
    "Freezing Spells\n",
    "\n",
    "    Slow-mo spell: slows down enemy for up to 10 seconds\n",
    "    Full-freeze spell: freeze enemy for 30 seconds\n",
    "\n",
    "Attacking Spells\n",
    "\n",
    "    Fire-ball spell: create a fireball from any element around you\n",
    "    Teleportation spell: use this spell to randomly relocate an enemy\n",
    " \n",
    "Healing Spells\n",
    "\n",
    "    Revive spell: use this spell when your life points are near zero for a 100 boost\n",
    "    Help a friend spell: use this spell to give 50 points to one of your team members\n",
    "\n",
    "\n",
    "We can access spells in the pandas, by combining the properties of dictionaries and lists: keys and indexing. Use the notebook to explore data structures. \n",
    "\n",
    "Each column name is a key, and the values are a list of spells, which we can access via indexing. \n"
   ]
  },
  {
   "cell_type": "code",
   "execution_count": null,
   "metadata": {},
   "outputs": [],
   "source": [
    "# Import pandas library, \"pd\" is an alias, i.e. a shorted name\n",
    "import pandas as pd"
   ]
  },
  {
   "cell_type": "markdown",
   "metadata": {},
   "source": [
    "We then call the DataFrame function from the pandas library using the \"dot\" notation:\n",
    "\n",
    "    pd.Dataframe()\n",
    "    \n",
    "This function takes as input a dictionary. Let's use our \n",
    "\n",
    "    simple_dictionary\n",
    "    \n",
    "from the previous exercise and parse it as a pandas dataframe."
   ]
  },
  {
   "cell_type": "code",
   "execution_count": null,
   "metadata": {},
   "outputs": [],
   "source": [
    "# Create pandas dataframe - we will create it by using the DataFrame function within the pandas library\n",
    "#   we can do this by using the dot notation\n",
    "\n",
    "SlowMo = {\"Slow-mo\":\"Slow down an enemy for up to 10 seconds\"}\n",
    "FullFre = {\"Full-freeze\":\"Freeze enemy for 30 seconds\"}\n",
    "FireB = {\"Fire-ball\": \"Create a fireball from any element around you\"}\n",
    "TeleP = {\"Teleportation\": \"Use this spell to randomly relocate an enemy\"}\n",
    "RevI = {\"Revive\": \"Use this spell when your life points are near zero for a 100 boost\"}\n",
    "HelpF = {\"Help a friend\": \"Use this spell to give 50 points to one of your team members\"}\n",
    "spells = {\"Freezing Spells\" : [SlowMo,FullFre], \n",
    "          \"Attacking Spells\": [FireB,TeleP],\n",
    "          \"Healing Spelsl\": [RevI,HelpF]}\n"
   ]
  },
  {
   "cell_type": "code",
   "execution_count": null,
   "metadata": {},
   "outputs": [],
   "source": [
    "my_dataframe = pd.DataFrame(spells)"
   ]
  },
  {
   "cell_type": "markdown",
   "metadata": {},
   "source": [
    "Let's look at our dataframe. "
   ]
  },
  {
   "cell_type": "code",
   "execution_count": null,
   "metadata": {},
   "outputs": [],
   "source": [
    "my_dataframe"
   ]
  },
  {
   "cell_type": "markdown",
   "metadata": {},
   "source": [
    "<h3>✏️Challenge 4 (Level 3)</h3>\n",
    "\n",
    "Use your knowledge of dictionaries to access all \"Freezing Spells\" in \n",
    "\n",
    "    my_dataframe\n",
    "    \n",
    "Within the Freezing Spells, access the \"Full-freeze\" spell\n",
    "\n",
    "<b>[Hint]</b> Use the notation below to access, in order of appearance, the column name and the index \n",
    "\n",
    "    my_dataframe[Spell_Category][]\n",
    "\n",
    "The data structure will be a list. \n",
    "\n",
    "Access the first element in that list. \n",
    "\n",
    "<b>[Hint]</b> Use the notation below to access, in order of appearance, the column name and the index \n",
    "\n",
    "    my_dataframe[Spell_Category][index number]\n",
    "    \n",
    "Now access the \"Full-freeze\" spell\n",
    "    \n",
    "<b>[Hint]</b> \n",
    "\n",
    "    my_dataframe[Spell_Category][index number][Spell_name]"
   ]
  },
  {
   "cell_type": "code",
   "execution_count": null,
   "metadata": {},
   "outputs": [],
   "source": [
    "# ✏️your response here\n"
   ]
  },
  {
   "cell_type": "markdown",
   "metadata": {},
   "source": [
    "This concludes our data structures notebook. Next, you will have an opportunity to apply your knowledge of data structures to analyse real data. "
   ]
  },
  {
   "cell_type": "markdown",
   "metadata": {},
   "source": [
    "[![Callysto.ca License](https://github.com/callysto/curriculum-notebooks/blob/master/callysto-notebook-banner-bottom.jpg?raw=true)](https://github.com/callysto/curriculum-notebooks/blob/master/LICENSE.md)"
   ]
  }
 ],
 "metadata": {
  "kernelspec": {
   "display_name": "Python 3",
   "language": "python",
   "name": "python3"
  },
  "language_info": {
   "codemirror_mode": {
    "name": "ipython",
    "version": 3
   },
   "file_extension": ".py",
   "mimetype": "text/x-python",
   "name": "python",
   "nbconvert_exporter": "python",
   "pygments_lexer": "ipython3",
   "version": "3.7.4"
  }
 },
 "nbformat": 4,
 "nbformat_minor": 2
}
