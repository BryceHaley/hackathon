{
 "cells": [
  {
   "cell_type": "markdown",
   "metadata": {},
   "source": [
    "![Callysto.ca Banner](https://github.com/callysto/curriculum-notebooks/blob/master/callysto-notebook-banner-top.jpg?raw=true)"
   ]
  },
  {
   "cell_type": "code",
   "execution_count": null,
   "metadata": {},
   "outputs": [],
   "source": [
    "# Import libraries, get data subsets\n",
    "%run data_categories.py"
   ]
  },
  {
   "cell_type": "code",
   "execution_count": null,
   "metadata": {},
   "outputs": [],
   "source": [
    " # Store CSV into pandas\n",
    "census_table = pd.read_csv(csv_file[1])\n",
    "geo_code_table = pd.read_csv(csv_file[0])"
   ]
  },
  {
   "cell_type": "code",
   "execution_count": null,
   "metadata": {},
   "outputs": [],
   "source": [
    "# Data cleanup - remove unused columns\n",
    "census_table = census_table.drop(['GEO_CODE (POR)','GEO_LEVEL', 'GNR','GNR_LF','DATA_QUALITY_FLAG',\\\n",
    "                                       'CSD_TYPE_NAME','ALT_GEO_CODE','Notes: Profile of Census Subdivisions (2247)',\n",
    "                                       'Member ID: Profile of Census Subdivisions (2247)'], axis=1)\n",
    "\n",
    "# Data cleanup - Rename columns\n",
    "census_table = census_table.rename(columns={\"Dim: Sex (3): Member ID: [1]: Total - Sex\": \"Total - Sex\",\\\n",
    "                                            \"Dim: Sex (3): Member ID: [2]: Male\": \"Male\",\\\n",
    "                                           \"Dim: Sex (3): Member ID: [3]: Female\":\"Female\"})"
   ]
  },
  {
   "cell_type": "code",
   "execution_count": null,
   "metadata": {},
   "outputs": [],
   "source": [
    "# Show categories\n",
    "######### Build widgets\n",
    "all_the_widgets = [widgets.Dropdown(\n",
    "                    value = work_environment_dictionary[\"Place of work\"],\n",
    "                    options = work_environment_dictionary, \n",
    "                    description ='Data subsets:', \n",
    "                    style = style, \n",
    "                    disabled=False),widgets.Dropdown(\n",
    "                    value = 'Lethbridge',\n",
    "                    options = [\"Brooks\", \"Lethbridge\",\"Medicine Hat\"], \n",
    "                    description ='City:', \n",
    "                    style = style, \n",
    "                    disabled=False)]\n",
    "\n",
    "# user menu using categories found above\n",
    "tab3 = VBox(children=[HBox(children=all_the_widgets[0:3]),\n",
    "                          CD_button])\n",
    "tab = widgets.Tab(children=[tab3])\n",
    "tab.set_title(0, 'Load Data Subset')\n",
    "display(tab)"
   ]
  },
  {
   "cell_type": "code",
   "execution_count": null,
   "metadata": {},
   "outputs": [],
   "source": [
    "# Display dataset\n",
    "# Get subsets of the data for Lethbridge and Lethbridge County\n",
    "region = census_table[census_table[\"GEO_NAME\"]==all_the_widgets[1].value]\n",
    "\n",
    "# Set index to Profile of Census Subdivisions\n",
    "region.set_index('DIM: Profile of Census Subdivisions (2247)', inplace=True)\n",
    "\n",
    "var = all_the_widgets[0].value\n",
    "region.loc[var]"
   ]
  },
  {
   "cell_type": "code",
   "execution_count": null,
   "metadata": {},
   "outputs": [],
   "source": [
    "def enable_plotly_in_cell():\n",
    "    import IPython\n",
    "    from plotly.offline import init_notebook_mode\n",
    "    display(IPython.core.display.HTML('''<script src=\"/static/components/requirejs/require.js\"></script>'''))\n",
    "    init_notebook_mode(connected=False)\n",
    "    \n",
    "get_ipython().events.register('pre_run_cell', enable_plotly_in_cell)\n",
    "\n",
    "# Drop Census Year and Geo name as they are the same for this subset \n",
    "vis_data = region.loc[var].drop([\"CENSUS_YEAR\",\"GEO_NAME\"],axis=1)\n",
    "# Visualize data \n",
    "vis_data.iloc[1:,1:].iplot(kind=\"bar\",values=\"Dim: Sex (3): Member ID: [1]: Total - Sex\",\\\n",
    "                                       labels=\"Dim: Sex (3): Member ID: [1]: Total - Sex\",\n",
    "                                       title=vis_data.index[0].split(\"-\")[0])"
   ]
  },
  {
   "cell_type": "markdown",
   "metadata": {},
   "source": [
    "[![Callysto.ca License](https://github.com/callysto/curriculum-notebooks/blob/master/callysto-notebook-banner-bottom.jpg?raw=true)](https://github.com/callysto/curriculum-notebooks/blob/master/LICENSE.md)"
   ]
  }
 ],
 "metadata": {
  "kernelspec": {
   "display_name": "Python 3",
   "language": "python",
   "name": "python3"
  },
  "language_info": {
   "codemirror_mode": {
    "name": "ipython",
    "version": 3
   },
   "file_extension": ".py",
   "mimetype": "text/x-python",
   "name": "python",
   "nbconvert_exporter": "python",
   "pygments_lexer": "ipython3",
   "version": "3.7.4"
  }
 },
 "nbformat": 4,
 "nbformat_minor": 2
}
