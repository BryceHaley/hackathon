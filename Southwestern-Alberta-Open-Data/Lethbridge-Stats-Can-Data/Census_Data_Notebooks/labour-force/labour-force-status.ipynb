{
 "cells": [
  {
   "cell_type": "markdown",
   "metadata": {},
   "source": [
    "![Callysto.ca Banner](https://github.com/callysto/curriculum-notebooks/blob/master/callysto-notebook-banner-top.jpg?raw=true)"
   ]
  },
  {
   "cell_type": "code",
   "execution_count": 1,
   "metadata": {},
   "outputs": [
    {
     "data": {
      "text/html": [
       "        <script type=\"text/javascript\">\n",
       "        window.PlotlyConfig = {MathJaxConfig: 'local'};\n",
       "        if (window.MathJax) {MathJax.Hub.Config({SVG: {font: \"STIX-Web\"}});}\n",
       "        if (typeof require !== 'undefined') {\n",
       "        require.undef(\"plotly\");\n",
       "        requirejs.config({\n",
       "            paths: {\n",
       "                'plotly': ['https://cdn.plot.ly/plotly-latest.min']\n",
       "            }\n",
       "        });\n",
       "        require(['plotly'], function(Plotly) {\n",
       "            window._Plotly = Plotly;\n",
       "        });\n",
       "        }\n",
       "        </script>\n",
       "        "
      ]
     },
     "metadata": {},
     "output_type": "display_data"
    },
    {
     "name": "stdout",
     "output_type": "stream",
     "text": [
      "Setting up our environment...count until 20 :)\n",
      "DONE! Ready to use notebook\n"
     ]
    }
   ],
   "source": [
    "# Import libraries, get data subsets\n",
    "%run data_categories.py"
   ]
  },
  {
   "cell_type": "code",
   "execution_count": 2,
   "metadata": {},
   "outputs": [],
   "source": [
    " # Store CSV into pandas\n",
    "census_table = pd.read_csv(csv_file[1])\n",
    "geo_code_table = pd.read_csv(csv_file[0])"
   ]
  },
  {
   "cell_type": "code",
   "execution_count": 3,
   "metadata": {},
   "outputs": [],
   "source": [
    "# Data cleanup - remove unused columns\n",
    "census_table = census_table.drop(['GEO_CODE (POR)','GEO_LEVEL', 'GNR','GNR_LF','DATA_QUALITY_FLAG',\\\n",
    "                                       'CSD_TYPE_NAME','ALT_GEO_CODE','Notes: Profile of Census Subdivisions (2247)',\n",
    "                                       'Member ID: Profile of Census Subdivisions (2247)'], axis=1)\n",
    "\n",
    "# Data cleanup - Rename columns\n",
    "census_table = census_table.rename(columns={\"Dim: Sex (3): Member ID: [1]: Total - Sex\": \"Total - Sex\",\\\n",
    "                                            \"Dim: Sex (3): Member ID: [2]: Male\": \"Male\",\\\n",
    "                                           \"Dim: Sex (3): Member ID: [3]: Female\":\"Female\"})"
   ]
  },
  {
   "cell_type": "code",
   "execution_count": 4,
   "metadata": {},
   "outputs": [
    {
     "ename": "NameError",
     "evalue": "name 'tab' is not defined",
     "output_type": "error",
     "traceback": [
      "\u001b[0;31m---------------------------------------------------------------------------\u001b[0m",
      "\u001b[0;31mNameError\u001b[0m                                 Traceback (most recent call last)",
      "\u001b[0;32m<ipython-input-4-899e5b962e18>\u001b[0m in \u001b[0;36m<module>\u001b[0;34m\u001b[0m\n\u001b[1;32m     12\u001b[0m                     \u001b[0mstyle\u001b[0m \u001b[0;34m=\u001b[0m \u001b[0mstyle\u001b[0m\u001b[0;34m,\u001b[0m\u001b[0;34m\u001b[0m\u001b[0;34m\u001b[0m\u001b[0m\n\u001b[1;32m     13\u001b[0m                     disabled=False)]\n\u001b[0;32m---> 14\u001b[0;31m \u001b[0mdisplay\u001b[0m\u001b[0;34m(\u001b[0m\u001b[0mtab\u001b[0m\u001b[0;34m)\u001b[0m\u001b[0;34m\u001b[0m\u001b[0;34m\u001b[0m\u001b[0m\n\u001b[0m",
      "\u001b[0;31mNameError\u001b[0m: name 'tab' is not defined"
     ]
    }
   ],
   "source": [
    "# Show categories\n",
    "######### Build widgets\n",
    "all_the_widgets = [widgets.Dropdown(\n",
    "                    value = work_force_dictionary[\"Labour force\"],\n",
    "                    options = work_force_dictionary, \n",
    "                    description ='Data subsets:', \n",
    "                    style = style, \n",
    "                    disabled=False),widgets.Dropdown(\n",
    "                    value = 'Lethbridge',\n",
    "                    options = [\"Brooks\", \"Lethbridge\",\"Medicine Hat\"], \n",
    "                    description ='City:', \n",
    "                    style = style, \n",
    "                    disabled=False)]\n",
    "display(tab)"
   ]
  },
  {
   "cell_type": "code",
   "execution_count": null,
   "metadata": {},
   "outputs": [],
   "source": [
    "# Display dataset\n",
    "# Get subsets of the data for Lethbridge and Lethbridge County\n",
    "region = census_table[census_table[\"GEO_NAME\"]==all_the_widgets[1].value]\n",
    "\n",
    "# Set index to Profile of Census Subdivisions\n",
    "region.set_index('DIM: Profile of Census Subdivisions (2247)', inplace=True)\n",
    "\n",
    "var = all_the_widgets[0].value\n",
    "region.loc[var]"
   ]
  },
  {
   "cell_type": "code",
   "execution_count": null,
   "metadata": {},
   "outputs": [],
   "source": [
    "def enable_plotly_in_cell():\n",
    "    import IPython\n",
    "    from plotly.offline import init_notebook_mode\n",
    "    display(IPython.core.display.HTML('''<script src=\"/static/components/requirejs/require.js\"></script>'''))\n",
    "    init_notebook_mode(connected=False)\n",
    "    \n",
    "get_ipython().events.register('pre_run_cell', enable_plotly_in_cell)\n",
    "\n",
    "# Drop Census Year and Geo name as they are the same for this subset \n",
    "vis_data = region.loc[var].drop([\"CENSUS_YEAR\",\"GEO_NAME\"],axis=1)\n",
    "# Visualize data \n",
    "vis_data.iloc[1:,1:].iplot(kind=\"bar\",values=\"Dim: Sex (3): Member ID: [1]: Total - Sex\",\\\n",
    "                                       labels=\"Dim: Sex (3): Member ID: [1]: Total - Sex\",\n",
    "                                       title=vis_data.index[0].split(\"-\")[1])\n"
   ]
  },
  {
   "cell_type": "markdown",
   "metadata": {},
   "source": [
    "[![Callysto.ca License](https://github.com/callysto/curriculum-notebooks/blob/master/callysto-notebook-banner-bottom.jpg?raw=true)](https://github.com/callysto/curriculum-notebooks/blob/master/LICENSE.md)"
   ]
  }
 ],
 "metadata": {
  "kernelspec": {
   "display_name": "Python 3",
   "language": "python",
   "name": "python3"
  },
  "language_info": {
   "codemirror_mode": {
    "name": "ipython",
    "version": 3
   },
   "file_extension": ".py",
   "mimetype": "text/x-python",
   "name": "python",
   "nbconvert_exporter": "python",
   "pygments_lexer": "ipython3",
   "version": "3.7.4"
  }
 },
 "nbformat": 4,
 "nbformat_minor": 2
}
