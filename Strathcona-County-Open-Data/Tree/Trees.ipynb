{
 "cells": [
  {
   "cell_type": "markdown",
   "metadata": {},
   "source": [
    "![alt text](https://github.com/callysto/callysto-sample-notebooks/blob/master/notebooks/images/Callysto_Notebook-Banner_Top_06.06.18.jpg?raw=true)"
   ]
  },
  {
   "cell_type": "markdown",
   "metadata": {},
   "source": [
    "# Strathcona County Tree Location\n",
    "\n",
    "##### Summary\n",
    "\n",
    "This data set is provided by the Strathcona County, Environment https://data.strathcona.ca/Environment/Tree/v78i-7ntw\n",
    "\n",
    "##### Content\n",
    "Locations where there is a tree. The data are loaded 4 times per year from the 'treeworks' dataset. Last updated: April 6th, 2016.\n"
   ]
  },
  {
   "cell_type": "markdown",
   "metadata": {},
   "source": [
    "## Downloading and parsing data into 'dataframe'\n",
    "\n",
    "We begin by downloading the data directly from the website. \n",
    "\n",
    "https://data.strathcona.ca/Environment/Tree/v78i-7ntw\n",
    "\n",
    "We can do this by selecting the 'API' tag and choosing CSV format on the top right side. Pressing the 'Copy' button will give us the URL we need to download the full dataset.\n"
   ]
  },
  {
   "cell_type": "code",
   "execution_count": null,
   "metadata": {},
   "outputs": [],
   "source": [
    "!pip install git+https://github.com/python-visualization/folium -q"
   ]
  },
  {
   "cell_type": "code",
   "execution_count": null,
   "metadata": {},
   "outputs": [],
   "source": [
    "# Import modules\n",
    "# We will store the data into a 'dataframe' using pandas\n",
    "import pandas as pd\n",
    "# We want to be as precise as possible in keeping tree coordinates\n",
    "from decimal import *\n",
    "# We will visualize the coordinates in a map using the folium \n",
    "import folium\n",
    "# We want to cluster them using the MarkerCluster submodule from folium plugins\n",
    "from folium.plugins import MarkerCluster\n",
    "\n",
    "print(\"Importing Python libraries was successful!\")"
   ]
  },
  {
   "cell_type": "code",
   "execution_count": null,
   "metadata": {},
   "outputs": [],
   "source": [
    "# Download data from API \n",
    "# Main Source: https://data.strathcona.ca/Environment/Tree/v78i-7ntw\n",
    "# Pick API Tag - I chose the CSV option\n",
    "link = \"https://data.strathcona.ca/resource/v78i-7ntw.csv\"\n",
    "\n",
    "# Read and parse data as a pandas CSV\n",
    "rawData = pd.read_csv(link)\n",
    "\n",
    "# Rename columns\n",
    "rawData = rawData.rename(columns={\"treesiteid\": \"ID\", \"name\": \"name\",\"location\":\"location\"})\n",
    "\n",
    "# Look at the first five columns\n",
    "rawData.head()"
   ]
  },
  {
   "cell_type": "markdown",
   "metadata": {},
   "source": [
    "---\n",
    "### Exercise 1\n",
    "\n",
    "Look at the table above. It has three columns: a tree id column (`ID`), a tree name column (`name`) and a tree location number (`location`).  \n",
    "\n",
    "1. Look at the table above under the `location` column. Is there anything strange in the values under it? \n",
    "\n",
    "---"
   ]
  },
  {
   "cell_type": "markdown",
   "metadata": {},
   "source": [
    "## Data Cleanup\n",
    "\n",
    "The table contains an ID uniquely identifying each tree, a tree name and its location by using coordinates into a pair. \n",
    "\n",
    "A clean coordinate pair would look like\n",
    "\n",
    "`(53.5227206433883, -113.324197520184)`\n",
    "\n",
    "Our data set is not clean, we observe the presence of special characters `\\n, \\n` in each entry. We need to clean it up before we can visualize it. \n",
    "\n",
    "The special character `\\n` is known as a 'line break'. \n",
    "\n",
    "This tells us that the coordinates are given as a string. \n",
    "\n",
    "In the cell below we will clean the data following three steps:\n",
    "\n",
    "1. Remove special characters `\\n, \\n`\n",
    "2. Remove left parenthesis `(` and right parenthesis `)`\n",
    "3. Separate the pair into an `latitude` and `longitude` coordinates - and create separate columns (one for each)\n",
    "4. Remove `'location'` column"
   ]
  },
  {
   "cell_type": "code",
   "execution_count": null,
   "metadata": {},
   "outputs": [],
   "source": [
    "# Helper function to clean up data\n",
    "\n",
    "def clean_dataframe(dataframe):\n",
    "    try:\n",
    "        \"\"\"\n",
    "        Function description: this function takes as input a dataframe with special characters\n",
    "        and returns a 'clean' dataframe - a dataframe with no special characters and no parenthesis,\n",
    "        as well as a latitude and longitude coordinate\n",
    "        \"\"\"\n",
    "        \n",
    "        # Remove special characters \n",
    "        dataframe = dataframe.replace('\\n,  \\n','',regex=True)\n",
    "        # Data cleanup - Remove parenthesis \n",
    "        dataframe['location'] = dataframe['location'].str.replace('(','').str.replace(')','')\n",
    "\n",
    "        dataframe[['latitude','longitude']] = dataframe['location'].str.split(\",\", n=1, expand=True)\n",
    "\n",
    "        dataframe = dataframe.drop(['location'],axis=1)\n",
    "\n",
    "        return dataframe\n",
    "    \n",
    "    except:\n",
    "        \n",
    "        print(\"WARNING! Make sure you are passing a pandas dataframe, and make sure your dataframe contains\\\n",
    "              a column named 'location' with comma-separated values.\")"
   ]
  },
  {
   "cell_type": "markdown",
   "metadata": {},
   "source": [
    "---\n",
    "### Exercise 2\n",
    "\n",
    "1. Use the helper function to cleanup the data. \n",
    "2. Run the cell and confirm that the odd characters and parenthesis were removed and that we have a latitude and a longitude column. \n",
    "\n",
    "---"
   ]
  },
  {
   "cell_type": "code",
   "execution_count": null,
   "metadata": {},
   "outputs": [],
   "source": [
    "# Your code here\n",
    "rawData = clean_dataframe(rawData)\n",
    "# Look at the first five entries\n",
    "rawData.head()"
   ]
  },
  {
   "cell_type": "markdown",
   "metadata": {},
   "source": [
    "## Data Visualization\n",
    "\n",
    "Now that we have cleaned up the dataframe and separated the string `location` values into separate numerical values containing the `X` and `Y` coordinates, we will use the `folium` package to visualize our data geographically. \n"
   ]
  },
  {
   "cell_type": "markdown",
   "metadata": {},
   "source": [
    "---\n",
    "### Exercise 3 \n",
    "\n",
    "1. Look up the coordinates for Strathcona County\n",
    "2. In the cell below, enter the North coordinate (latitude) and the West coordinate (longitude) into separate variables (we have created the variable names for you). Make sure you enter numbers only!\n",
    "3. These will be the initial coordinates that will help us locate our map. \n",
    "4. Run the cell to display the map. Ensure you are in the right location (hint: Edmonton should appear in the map)\n",
    "---"
   ]
  },
  {
   "cell_type": "code",
   "execution_count": null,
   "metadata": {},
   "outputs": [],
   "source": [
    "# Your code here \n",
    "latitude = 53.5701\n",
    "longitude = -113.0741\n",
    "\n",
    "# Initial coordinates \n",
    "SC_COORDINATES = [latitude, longitude]\n",
    "\n",
    "# Create a map using our initial coordinates\n",
    "map_osm=folium.Map(location=SC_COORDINATES, zoom_start=10, tiles='Stamen Terrain')\n",
    "\n",
    "# Display the map \n",
    "display(map_osm)"
   ]
  },
  {
   "cell_type": "markdown",
   "metadata": {},
   "source": [
    "## Displaying the tree locations\n",
    "\n",
    "We can now add the tree locations into our map. \n",
    "\n",
    "In the cell below we will iterate over each record in our dataframe `rawData`. \n",
    "\n",
    "We will then add markers (one marker for each pair of coordinates) using the `folium.Marker` function. \n",
    "\n",
    "We will pass the `latitude` and `longitude` coordinates using the `location` parameter, and mark each tree with its `name` using the `popup` parameter. \n",
    "\n",
    "We will ad this to our `marker_cluster`, which has been added to our map `map_osm`. \n",
    "\n",
    "Run the cell below to see the locations of the trees."
   ]
  },
  {
   "cell_type": "code",
   "execution_count": null,
   "metadata": {},
   "outputs": [],
   "source": [
    "# Create marker cluster and add to our map\n",
    "marker_cluster = MarkerCluster().add_to(map_osm)\n",
    "\n",
    "# Iterate over each record, and add tree x and y coordinates, as well as tree name\n",
    "MAX_RECORDS = len(rawData)\n",
    "# For each record in rawData\n",
    "for each in rawData[0:MAX_RECORDS].iterrows():\n",
    "    # Use folium.Marker function, use X and Y coordinates to specify location\n",
    "    folium.Marker(location = [each[1]['latitude'],each[1]['longitude']], \n",
    "                  # Add tree name\n",
    "                  popup=folium.Popup(each[1]['name'],sticky=True),\n",
    "                  #Make color/style changes here\n",
    "                  icon=folium.Icon(color='green', icon='tree', prefix='fa'),\n",
    "                  # Make sure our trees cluster nicely!\n",
    "                  clustered_marker = True).add_to(marker_cluster)\n",
    "\n",
    "\n",
    "# Show the map\n",
    "display(map_osm)\n",
    "\n",
    "# Optional - you can save this map as an HTML file\n",
    "map_osm.save('TreeMap.html')"
   ]
  },
  {
   "cell_type": "markdown",
   "metadata": {},
   "source": [
    "---\n",
    "### Exercise 4\n",
    "\n",
    "Use the interactive map above for this exercise. You will see 'clusters' of trees. \n",
    "\n",
    "Clusters with over 100 trees will be coloured in red, clusters with less than 100 trees will be coloured in yellow, while clusters with less than 10 trees will be coloured in green. A single tree has a green colour and a tree shape in it. \n",
    "\n",
    "1. Click on the largest cluster. It will break into smaller clusters. (Hint: it has over 900 trees)\n",
    "2. How many red clusters do you see? How many yellow clusters? and green ones? (Hint: there are four red clusters)\n",
    "3. Pick a red cluster and click on it. Are the clusters evenly distributed? If no, where are the clusters concentrated? \n",
    "4. Identify three areas that would benefit from populating with trees. What are the names of the streets/neighbourhoods where they are located?\n",
    "\n",
    "#### Your observations here\n",
    "\n",
    "---"
   ]
  },
  {
   "cell_type": "markdown",
   "metadata": {},
   "source": [
    "## Further Visualization and Statistics\n",
    "\n",
    "A natural question to ask is what is the most common kind of tree. \n",
    "\n",
    "We will next group and plot the data to find out which tree is the most common one. "
   ]
  },
  {
   "cell_type": "markdown",
   "metadata": {},
   "source": [
    "We start by setting up our visualizing environment. "
   ]
  },
  {
   "cell_type": "code",
   "execution_count": null,
   "metadata": {},
   "outputs": [],
   "source": [
    "#load \"cufflinks\" library under short name \"cf\"\n",
    "import cufflinks as cf\n",
    "\n",
    "#command to display graphics correctly in Jupyter notebook\n",
    "cf.go_offline()\n",
    "\n",
    "def enable_plotly_in_cell():\n",
    "    import IPython\n",
    "    from plotly.offline import init_notebook_mode\n",
    "    display(IPython.core.display.HTML('''\n",
    "        <script src=\"/static/components/requirejs/require.js\"></script>\n",
    "  '''))\n",
    "    init_notebook_mode(connected=False)\n",
    "    \n",
    "get_ipython().events.register('pre_run_cell', enable_plotly_in_cell)"
   ]
  },
  {
   "cell_type": "markdown",
   "metadata": {},
   "source": [
    "We are then going to group data by `name` using the `groupby()` method. \n",
    "\n",
    "We are then going to use the `size()` method to count how many trees of each kind there are. \n",
    "\n",
    "We will then sort the data. \n",
    "\n",
    "Run the cell below to show the five most common trees in Strathcona County. "
   ]
  },
  {
   "cell_type": "code",
   "execution_count": null,
   "metadata": {},
   "outputs": [],
   "source": [
    "# This cell groups trees by name, and counts them\n",
    "count_by_tree_name = rawData.groupby(\"name\").size().reset_index(name=\"count\")\n",
    "# once it does that, it sorts the counts in descending order\n",
    "ordered_count = count_by_tree_name.sort_values(by='count', ascending=False)\n",
    "# And displays the first 5 results. \n",
    "ordered_count.head()"
   ]
  },
  {
   "cell_type": "markdown",
   "metadata": {},
   "source": [
    "We see that Green Ash is the most common tree in Strathcona County, followed by Spruce and Poplar. \n",
    "\n",
    "Let us visualize it. "
   ]
  },
  {
   "cell_type": "code",
   "execution_count": null,
   "metadata": {},
   "outputs": [],
   "source": [
    "ordered_count.iloc[0:5].iplot(kind=\"pie\",values=\"count\",labels=\"name\",title=\"Five Most Common Trees\") "
   ]
  },
  {
   "cell_type": "code",
   "execution_count": null,
   "metadata": {},
   "outputs": [],
   "source": [
    "ordered_count.iplot(kind=\"pie\",values=\"count\",labels=\"name\",title=\"All Trees\") "
   ]
  },
  {
   "cell_type": "markdown",
   "metadata": {},
   "source": [
    "---\n",
    "### Exercise 5\n",
    "\n",
    "1. Hover over the plots.\n",
    "2. What is the percentage associated to each tree? \n",
    "3. What is the 'dominant' species? \n",
    "4. What tree species would you recommend restoring and why? \n",
    "\n",
    "#### Your observations here\n",
    "\n",
    "---"
   ]
  },
  {
   "cell_type": "markdown",
   "metadata": {},
   "source": [
    "## Final remarks"
   ]
  },
  {
   "cell_type": "markdown",
   "metadata": {},
   "source": [
    "![alt text](https://github.com/callysto/callysto-sample-notebooks/blob/master/notebooks/images/Callysto_Notebook-Banners_Bottom_06.06.18.jpg?raw=true)"
   ]
  }
 ],
 "metadata": {
  "kernelspec": {
   "display_name": "Python 3",
   "language": "python",
   "name": "python3"
  },
  "language_info": {
   "codemirror_mode": {
    "name": "ipython",
    "version": 3
   },
   "file_extension": ".py",
   "mimetype": "text/x-python",
   "name": "python",
   "nbconvert_exporter": "python",
   "pygments_lexer": "ipython3",
   "version": "3.7.4"
  }
 },
 "nbformat": 4,
 "nbformat_minor": 2
}
