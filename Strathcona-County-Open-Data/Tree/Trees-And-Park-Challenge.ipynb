{
 "cells": [
  {
   "cell_type": "markdown",
   "metadata": {},
   "source": [
    "![alt text](https://github.com/callysto/callysto-sample-notebooks/blob/master/notebooks/images/Callysto_Notebook-Banner_Top_06.06.18.jpg?raw=true)"
   ]
  },
  {
   "cell_type": "markdown",
   "metadata": {},
   "source": [
    "# Data detective: are there still zombies in Strathcona County?\n",
    "\n",
    "\n",
    "#### What you need to do\n",
    "\n",
    "The apocalypse happened because of a chemical explosion; people turned into tree-eating zombies. However, the County’s zombie hunter, James Bond, found Polar spp trees turn them to ash. \n",
    "\n",
    "There are reports the zombie apocalypse is over in Strathcona County and parks are safe. People don’t know if it’s true. That’s where you come in. \n",
    "\n",
    "There are two things the County needs you to do:\n",
    "\n",
    "1. Use their data to find zombie “hot spots” in local parks. Red,  yellow, and orange areas is where trees are clustered. Zombies like these areas. \n",
    "\n",
    "2. Use their data to find the clusters of “Poplar spp” trees and a special star-like tree configuration. \n",
    "\n",
    "##### Data \n",
    "\n",
    "The tree data set is provided by the Strathcona County, Environment https://data.strathcona.ca/Environment/Tree/v78i-7ntw\n",
    "\n",
    "The Park data set is provided by the Strathcona County, Recreation-Culture  https://data.strathcona.ca/Recreation-Culture/Parks/533n-6rzt\n"
   ]
  },
  {
   "cell_type": "markdown",
   "metadata": {},
   "source": [
    "## Downloading and parsing data into 'dataframe'\n",
    "\n",
    "We begin by downloading the data directly from the website. \n",
    "\n",
    "https://data.strathcona.ca/Environment/Tree/v78i-7ntw\n",
    "\n",
    "We can do this by selecting the 'API' tag and choosing CSV format on the top right side. Pressing the 'Copy' button will give us the URL we need to download the full dataset.\n"
   ]
  },
  {
   "cell_type": "code",
   "execution_count": null,
   "metadata": {},
   "outputs": [],
   "source": [
    "#!pip install git+https://github.com/python-visualization/folium -q"
   ]
  },
  {
   "cell_type": "code",
   "execution_count": null,
   "metadata": {},
   "outputs": [],
   "source": [
    "# Import modules\n",
    "# We will store the data into a 'dataframe' using pandas\n",
    "import pandas as pd\n",
    "# We want to be as precise as possible in keeping tree coordinates\n",
    "from decimal import *\n",
    "# We will visualize the coordinates in a map using the folium \n",
    "import folium\n",
    "# We want to cluster them using the MarkerCluster submodule from folium plugins\n",
    "from folium.plugins import MarkerCluster\n",
    "\n",
    "print(\"Importing Python libraries was successful!\")"
   ]
  },
  {
   "cell_type": "markdown",
   "metadata": {},
   "source": [
    "### Tree Data"
   ]
  },
  {
   "cell_type": "code",
   "execution_count": null,
   "metadata": {},
   "outputs": [],
   "source": [
    "# Download tree data from API \n",
    "# Main Source: https://data.strathcona.ca/Environment/Tree/v78i-7ntw\n",
    "# Pick API Tag - I chose the CSV option\n",
    "link = \"https://data.strathcona.ca/resource/v78i-7ntw.csv\"\n",
    "\n",
    "# Read and parse data as a pandas CSV\n",
    "treeData = pd.read_csv(link)\n",
    "\n",
    "# Rename columns\n",
    "treeData = treeData.rename(columns={\"treesiteid\": \"ID\", \"name\": \"name\",\"location\":\"location\"})\n",
    "\n",
    "# Look at the first five columns\n",
    "treeData.head()"
   ]
  },
  {
   "cell_type": "markdown",
   "metadata": {},
   "source": [
    "### Park Data"
   ]
  },
  {
   "cell_type": "code",
   "execution_count": null,
   "metadata": {},
   "outputs": [],
   "source": [
    "# Download park data from API \n",
    "# Main Source: \"https://data.strathcona.ca/Recreation-Culture/Parks/533n-6rzt\"\n",
    "# Pick API Tag - I chose the CSV option\n",
    "\n",
    "link_park = \"https://data.strathcona.ca/resource/533n-6rzt.csv\"\n",
    "# Store into CSV \n",
    "parkData = pd.read_csv(link_park)\n",
    "\n",
    "# Remove unused columns \n",
    "parkData = parkData.drop(['athletic_park','athletic_park','bmx_skate','campground','cross_country_skiing',\\\n",
    "              'football', 'golf', 'outdoor_rink','baseball',\n",
    "       'playground', 'rugby', 'soccer', 'tennis', 'tot_playground',\n",
    "       'volleyball', 'water_recreation', 'x_coord',\n",
    "       'y_coord','longitude','latitude'],axis=1)\n",
    "# Diplay first few rows \n",
    "parkData.head()"
   ]
  },
  {
   "cell_type": "markdown",
   "metadata": {},
   "source": [
    "---\n",
    "### Challenge 1\n",
    "\n",
    "Explore the dataset above. \n",
    "\n",
    "What kinds of parks would have trees in them? \n",
    "\n",
    "Using your knowledge of pandas, select an appropriate data subset.\n",
    "\n",
    "We have selected hint conditions that can help you narrow down the data. \n",
    "\n",
    "`condition_1 = parkData[\"wilderness_trail\"]==\"YES\"`\n",
    "\n",
    "`condition_2 = parkData[\"nature_appreciation\"]==\"Yes\"`\n",
    "\n",
    "`condition_3 = parkData[\"off_leash\"]==\"Yes\"`\n",
    "\n",
    "\n",
    "Each condition is separated by `|`. Add at least one more category into the data frame. Follow the same format. \n",
    "\n",
    "A sample code sniped is added in the cell below. \n",
    "\n",
    "---"
   ]
  },
  {
   "cell_type": "code",
   "execution_count": null,
   "metadata": {},
   "outputs": [],
   "source": [
    "# Look at the first five columns\n",
    "condition_1 = parkData[\"wilderness_trail\"]==\"YES\"\n",
    "condition_2 = parkData[\"nature_appreciation\"]==\"YES\"\n",
    "condition_3 = parkData[\"off_leash\"]==\"YES\"\n",
    "condition_4 = parkData[\"purpose\"] == 'Recreation'\n",
    "condition_5 = parkData[\"day_use\"] =='YES'\n",
    "parkData = parkData[(condition_1)| (condition_2) ]\n",
    "parkData.head()"
   ]
  },
  {
   "cell_type": "markdown",
   "metadata": {},
   "source": [
    "## Data Cleanup\n",
    "\n",
    "The two tables contain data identifying parks and trees along with their `location`. \n",
    "\n",
    "A clean coordinate pair would look like\n",
    "\n",
    "`(53.5227206433883, -113.324197520184)`\n",
    "\n",
    "Our data set is not clean, we observe the presence of special characters `\\n, \\n` in each entry. We need to clean it up before we can visualize it. \n",
    "\n",
    "The special character `\\n` is known as a 'line break'. \n",
    "\n",
    "This tells us that the coordinates are given as a string. \n",
    "\n",
    "In the cell below we will clean the data following three steps:\n",
    "\n",
    "1. Remove special characters `\\n, \\n`\n",
    "2. Remove left parenthesis `(` and right parenthesis `)`\n",
    "3. Separate the pair into an `latitude` and `longitude` coordinates - and create separate columns (one for each)\n",
    "4. Remove `'location'` column"
   ]
  },
  {
   "cell_type": "code",
   "execution_count": null,
   "metadata": {},
   "outputs": [],
   "source": [
    "# Helper function to clean up data\n",
    "\n",
    "def clean_dataframe(dataframe):\n",
    "    try:\n",
    "        \"\"\"\n",
    "        Function description: this function takes as input a dataframe with special characters\n",
    "        and returns a 'clean' dataframe - a dataframe with no special characters and no parenthesis,\n",
    "        as well as a latitude and longitude coordinate\n",
    "        \"\"\"\n",
    "        \n",
    "        # Remove special characters \n",
    "        dataframe = dataframe.replace('\\n,  \\n','',regex=True)\n",
    "        # Data cleanup - Remove parenthesis \n",
    "        dataframe['location'] = dataframe['location'].str.replace('(','').str.replace(')','')\n",
    "\n",
    "        dataframe[['latitude','longitude']] = dataframe['location'].str.split(\",\", n=1, expand=True)\n",
    "\n",
    "        dataframe = dataframe.drop(['location'],axis=1)\n",
    "\n",
    "        return dataframe\n",
    "    \n",
    "    except:\n",
    "        \n",
    "        print(\"WARNING! Make sure you are passing a pandas dataframe, and make sure your dataframe contains\\\n",
    "              a column named 'location' with comma-separated values.\")"
   ]
  },
  {
   "cell_type": "markdown",
   "metadata": {},
   "source": [
    "---\n",
    "### Challenge 2a\n",
    "\n",
    "1. Use the helper function to cleanup the tree data `treeData`.\n",
    "2. Run the cell and confirm that the odd characters and parenthesis were removed and that we have a latitude and a longitude column. \n",
    "\n",
    "---"
   ]
  },
  {
   "cell_type": "code",
   "execution_count": null,
   "metadata": {},
   "outputs": [],
   "source": [
    "# Your code here\n",
    "treeData = clean_dataframe()\n",
    "# Look at the first five entries\n",
    "treeData.head()"
   ]
  },
  {
   "cell_type": "markdown",
   "metadata": {},
   "source": [
    "---\n",
    "### Challenge 2b\n",
    "\n",
    "1. Use the helper function to cleanup the park data `parkData`. (Hint: use the cell above to help you)\n",
    "2. Run the cell and confirm that the odd characters and parenthesis were removed and that we have a latitude and a longitude column. \n",
    "\n",
    "---"
   ]
  },
  {
   "cell_type": "code",
   "execution_count": null,
   "metadata": {},
   "outputs": [],
   "source": [
    "# Your code here\n",
    "parkData = \n",
    "# Look at the first five entries\n",
    "parkData.head()"
   ]
  },
  {
   "cell_type": "markdown",
   "metadata": {},
   "source": [
    "## Data Visualization\n",
    "\n",
    "Now that we have cleaned up the dataframe and separated the string `location` values into separate numerical values containing the `X` and `Y` coordinates, we will use the `folium` package to visualize our data geographically. \n"
   ]
  },
  {
   "cell_type": "markdown",
   "metadata": {},
   "source": [
    "---\n",
    "### Challenge 3 \n",
    "\n",
    "1. Look up the coordinates for Strathcona County\n",
    "2. In the cell below, enter the North coordinate (latitude) and the West coordinate (longitude) into separate variables (we have created the variable names for you). Make sure you enter numbers only!\n",
    "3. These will be the initial coordinates that will help us locate our map. \n",
    "4. Run the cell to display the map. Ensure you are in the right location (hint: Edmonton should appear in the map)\n",
    "---"
   ]
  },
  {
   "cell_type": "code",
   "execution_count": null,
   "metadata": {},
   "outputs": [],
   "source": [
    "# Your code here \n",
    "latitude = \n",
    "longitude = \n",
    "\n",
    "# Initial coordinates \n",
    "SC_COORDINATES = [latitude, longitude]\n",
    "\n",
    "# Create a map using our initial coordinates\n",
    "map_osm=folium.Map(location=SC_COORDINATES, zoom_start=10, tiles='Stamen Terrain')\n",
    "\n",
    "# Display the map \n",
    "display(map_osm)"
   ]
  },
  {
   "cell_type": "markdown",
   "metadata": {},
   "source": [
    "## Displaying the tree and park locations\n",
    "\n",
    "We can now add the tree locations into our map. \n",
    "\n",
    "In the cell below we will iterate over each record in our dataframe `treeData`. We repeat this for out `parkData` dataframe. \n",
    "\n",
    "Parks are markers in blue, while trees are markers in green with a tree icon in them. \n",
    "\n",
    "![PT](ParkTree.png)\n",
    "\n",
    "We will then add markers (one marker for each pair of coordinates) using the `folium.Marker` function. \n",
    "\n",
    "We will pass the `latitude` and `longitude` coordinates using the `location` parameter, and mark each tree with its `name` using the `popup` parameter. \n",
    "\n",
    "We will ad this to our `marker_cluster`, which has been added to our map `map_osm`. \n",
    "\n",
    "Run the cell below to see the locations of the trees and parks. "
   ]
  },
  {
   "cell_type": "code",
   "execution_count": null,
   "metadata": {},
   "outputs": [],
   "source": [
    "from folium.plugins import HeatMap\n",
    "\n",
    "treeData['count'] = treeData.groupby('name')['name'].transform('count')\n",
    "\n",
    "# Create marker cluster and add to our map\n",
    "marker_cluster = MarkerCluster().add_to(map_osm)\n",
    "\n",
    "# Iterate over each record, and add tree x and y coordinates, as well as tree name\n",
    "MAX_RECORDS = len(treeData)\n",
    "# For each record in rawData\n",
    "for each in treeData[0:MAX_RECORDS].iterrows():\n",
    "    # Use folium.Marker function, use X and Y coordinates to specify location\n",
    "    folium.Marker(location = [each[1]['latitude'],each[1]['longitude']], \n",
    "                  # Add tree name\n",
    "                  popup=folium.Popup(each[1]['name'],sticky=True),\n",
    "                  #Make color/style changes here\n",
    "                  icon=folium.Icon(color='green', icon='tree', prefix='fa'),\n",
    "                  # Make sure our trees cluster nicely!\n",
    "                  clustered_marker = True).add_to(marker_cluster)\n",
    "\n",
    "# Add park data points \n",
    "marker_cluster = MarkerCluster().add_to(map_osm)\n",
    "\n",
    "MAX_RECORDS = len(parkData)   \n",
    "for each in parkData[0:MAX_RECORDS].iterrows():\n",
    "    # Use folium.Marker function, use X and Y coordinates to specify location\n",
    "    folium.Marker(location = [each[1]['latitude'],each[1]['longitude']], \n",
    "                  # Add tree name\n",
    "                  popup=folium.Popup(each[1]['park_name'],sticky=True),\n",
    "                  #Make color/style changes here\n",
    "                  icon=folium.Icon(color='blue', icon='acorn', prefix='fa'),\n",
    "                  # Make sure our trees cluster nicely!\n",
    "                  clustered_marker = True).add_to(marker_cluster)\n",
    "\n",
    "# Add heatmap\n",
    "max_amount = float(treeData['count'].max())    \n",
    "hm_wide = HeatMap( list(zip(treeData.latitude.values, treeData.longitude.values, treeData['count'])),\n",
    "                    min_opacity=0.5,\n",
    "                  max_val=max_amount,\n",
    "                    radius=15, blur=20, \n",
    "                   max_zoom=1, \n",
    "                 )\n",
    "\n",
    "\n",
    "map_osm.add_child(hm_wide)\n",
    "# Show the map\n",
    "display(map_osm)\n",
    "\n",
    "# Optional - you can save this map as an HTML file\n",
    "map_osm.save('TreeMapParks.html')"
   ]
  },
  {
   "cell_type": "markdown",
   "metadata": {},
   "source": [
    "---\n",
    "### Challenge 4: Find the special tree configurations\n",
    "\n",
    "The map above contains 'warm' and 'cold' regions. Warm regions have a higher concentration of trees - and zombies! \n",
    "\n",
    "There is one special kind of tree configuration, where the trees are clustered into a star-like shape. These trees are usually of the same species. Below is an example:\n",
    "\n",
    "![Tree](5StarPoplar.png)\n",
    "\n",
    "All of these trees are of the same species: the Poplar spp. Can you find it using the heat regions and park locations? \n",
    "\n",
    "Use the interactive map above for this exercise. \n",
    "\n",
    "1. Click on the tree clusters using the blue park markers and the heat regions. \n",
    "2. If you cannot find a cluster when you zoom in, zoom back out and try a different heat region. \n",
    "3. Once you find the special configuration, click on the tree icons to reveal the species.\n",
    "\n",
    "#### Your observations here\n",
    "\n",
    "We found a tree cluster with ....... trees in ........ Park. \n",
    "\n",
    "The trees in the cluster were ...... species. \n",
    "\n",
    "---"
   ]
  },
  {
   "cell_type": "markdown",
   "metadata": {},
   "source": [
    "## Final remarks\n",
    "\n",
    "In this notebook we explored two datasets that helped us find the special tree configuration that will defeat the zombies. The Strathcona County can be saved if we plant more configurations like this in other parks. \n",
    "\n",
    "We found ....... species clusters in ....... Park, making this the safest park. \n",
    "\n",
    "We can make other Parks safer by bringing in more tree samples and special configurations. "
   ]
  },
  {
   "cell_type": "markdown",
   "metadata": {},
   "source": [
    "![alt text](https://github.com/callysto/callysto-sample-notebooks/blob/master/notebooks/images/Callysto_Notebook-Banners_Bottom_06.06.18.jpg?raw=true)"
   ]
  }
 ],
 "metadata": {
  "kernelspec": {
   "display_name": "Python 3",
   "language": "python",
   "name": "python3"
  },
  "language_info": {
   "codemirror_mode": {
    "name": "ipython",
    "version": 3
   },
   "file_extension": ".py",
   "mimetype": "text/x-python",
   "name": "python",
   "nbconvert_exporter": "python",
   "pygments_lexer": "ipython3",
   "version": "3.6.6"
  }
 },
 "nbformat": 4,
 "nbformat_minor": 2
}
