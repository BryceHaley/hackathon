{
 "cells": [
  {
   "cell_type": "markdown",
   "metadata": {},
   "source": [
    "![Callysto.ca Banner](https://github.com/callysto/curriculum-notebooks/blob/master/callysto-notebook-banner-top.jpg?raw=true)"
   ]
  },
  {
   "cell_type": "markdown",
   "metadata": {},
   "source": [
    "# Downloading and Visualizing Statistics Canada Open Data"
   ]
  },
  {
   "cell_type": "code",
   "execution_count": 1,
   "metadata": {},
   "outputs": [],
   "source": [
    "from time import sleep\n",
    "%run -i ./StatsCan/helpers.py\n",
    "%run -i ./StatsCan/scwds.py\n",
    "%run -i ./StatsCan/sc.py"
   ]
  },
  {
   "cell_type": "code",
   "execution_count": 2,
   "metadata": {},
   "outputs": [
    {
     "name": "stderr",
     "output_type": "stream",
     "text": [
      "Downloading Dataset: 100%|██████████| 1/1 [00:01<00:00,  1.29s/it]"
     ]
    },
    {
     "name": "stdout",
     "output_type": "stream",
     "text": [
      "PARSING DATA AS PANDAS DATAFRAME\n"
     ]
    },
    {
     "name": "stderr",
     "output_type": "stream",
     "text": [
      "\n"
     ]
    },
    {
     "data": {
      "text/html": [
       "<div>\n",
       "<style scoped>\n",
       "    .dataframe tbody tr th:only-of-type {\n",
       "        vertical-align: middle;\n",
       "    }\n",
       "\n",
       "    .dataframe tbody tr th {\n",
       "        vertical-align: top;\n",
       "    }\n",
       "\n",
       "    .dataframe thead th {\n",
       "        text-align: right;\n",
       "    }\n",
       "</style>\n",
       "<table border=\"1\" class=\"dataframe\">\n",
       "  <thead>\n",
       "    <tr style=\"text-align: right;\">\n",
       "      <th></th>\n",
       "      <th>REF_DATE</th>\n",
       "      <th>GEO</th>\n",
       "      <th>Estimates</th>\n",
       "      <th>UOM</th>\n",
       "      <th>SCALAR_FACTOR</th>\n",
       "      <th>VALUE</th>\n",
       "    </tr>\n",
       "  </thead>\n",
       "  <tbody>\n",
       "    <tr>\n",
       "      <th>0</th>\n",
       "      <td>1946-01-01</td>\n",
       "      <td>Canada</td>\n",
       "      <td>Births</td>\n",
       "      <td>Number</td>\n",
       "      <td>units</td>\n",
       "      <td>73273.0</td>\n",
       "    </tr>\n",
       "    <tr>\n",
       "      <th>1</th>\n",
       "      <td>1946-01-01</td>\n",
       "      <td>Canada</td>\n",
       "      <td>Deaths</td>\n",
       "      <td>Number</td>\n",
       "      <td>units</td>\n",
       "      <td>31629.0</td>\n",
       "    </tr>\n",
       "    <tr>\n",
       "      <th>2</th>\n",
       "      <td>1946-01-01</td>\n",
       "      <td>Canada</td>\n",
       "      <td>Marriages</td>\n",
       "      <td>Number</td>\n",
       "      <td>units</td>\n",
       "      <td>19648.0</td>\n",
       "    </tr>\n",
       "    <tr>\n",
       "      <th>3</th>\n",
       "      <td>1946-01-01</td>\n",
       "      <td>Prince Edward Island</td>\n",
       "      <td>Births</td>\n",
       "      <td>Number</td>\n",
       "      <td>units</td>\n",
       "      <td>598.0</td>\n",
       "    </tr>\n",
       "    <tr>\n",
       "      <th>4</th>\n",
       "      <td>1946-01-01</td>\n",
       "      <td>Prince Edward Island</td>\n",
       "      <td>Deaths</td>\n",
       "      <td>Number</td>\n",
       "      <td>units</td>\n",
       "      <td>272.0</td>\n",
       "    </tr>\n",
       "  </tbody>\n",
       "</table>\n",
       "</div>"
      ],
      "text/plain": [
       "    REF_DATE                   GEO  Estimates     UOM SCALAR_FACTOR    VALUE\n",
       "0 1946-01-01                Canada     Births  Number         units  73273.0\n",
       "1 1946-01-01                Canada     Deaths  Number         units  31629.0\n",
       "2 1946-01-01                Canada  Marriages  Number         units  19648.0\n",
       "3 1946-01-01  Prince Edward Island     Births  Number         units    598.0\n",
       "4 1946-01-01  Prince Edward Island     Deaths  Number         units    272.0"
      ]
     },
     "execution_count": 2,
     "metadata": {},
     "output_type": "execute_result"
    }
   ],
   "source": [
    "# # Download data \n",
    "# DATA SET PRODUCT ID  for internal use only. \n",
    "productId = '17-10-0059-01'\n",
    "\n",
    "        \n",
    "download_tables(str(productId))\n",
    "\n",
    "\n",
    "df_fullDATA = zip_table_to_dataframe(productId)\n",
    "\n",
    "\n",
    "# Clean up full dataset - remove internal use columns\n",
    "cols = list(df_fullDATA.loc[:,'REF_DATE':'UOM'])+ ['SCALAR_FACTOR'] +  ['VALUE']\n",
    "df_less = df_fullDATA[cols]\n",
    "df_less2 = df_less.drop([\"DGUID\"], axis=1)\n",
    "\n",
    "# Display only first five entries\n",
    "df_less2.head()"
   ]
  },
  {
   "cell_type": "code",
   "execution_count": 3,
   "metadata": {},
   "outputs": [
    {
     "name": "stdout",
     "output_type": "stream",
     "text": [
      "/bin/sh: pip: command not found\r\n"
     ]
    }
   ],
   "source": [
    "!pip install pixiedust"
   ]
  },
  {
   "cell_type": "code",
   "execution_count": 4,
   "metadata": {},
   "outputs": [
    {
     "name": "stdout",
     "output_type": "stream",
     "text": [
      "Pixiedust database opened successfully\n"
     ]
    },
    {
     "data": {
      "text/html": [
       "\n",
       "        <div style=\"margin:10px\">\n",
       "            <a href=\"https://github.com/ibm-watson-data-lab/pixiedust\" target=\"_new\">\n",
       "                <img src=\"https://github.com/ibm-watson-data-lab/pixiedust/raw/master/docs/_static/pd_icon32.png\" style=\"float:left;margin-right:10px\"/>\n",
       "            </a>\n",
       "            <span>Pixiedust version 1.1.18</span>\n",
       "        </div>\n",
       "        "
      ],
      "text/plain": [
       "<IPython.core.display.HTML object>"
      ]
     },
     "metadata": {},
     "output_type": "display_data"
    }
   ],
   "source": [
    "import pixiedust"
   ]
  },
  {
   "cell_type": "code",
   "execution_count": 5,
   "metadata": {
    "pixiedust": {
     "displayParams": {
      "handlerId": "tableView"
     }
    }
   },
   "outputs": [
    {
     "data": {
      "text/html": [
       "<div class=\"pixiedust\" pixiedust=\"{&quot;prefix&quot;: &quot;a7755548&quot;, &quot;command&quot;: &quot;pixiedust.display(df_less2,cell_id=&apos;a8a8e862b6f340cd8f3002848936cf16&apos;,nostore_pixiedust=&apos;true&apos;,handlerId=&apos;tableView&apos;,nostore_cw=&apos;1098&apos;,nostore_vh=&apos;954&apos;,org_params=&apos;nostore_pixiedust&apos;,nostore_bokeh=&apos;false&apos;)&quot;, &quot;entity&quot;: &quot;df_less2&quot;, &quot;options&quot;: {&quot;cell_id&quot;: &quot;a8a8e862b6f340cd8f3002848936cf16&quot;, &quot;nostore_pixiedust&quot;: &quot;true&quot;, &quot;handlerId&quot;: &quot;tableView&quot;, &quot;nostore_cw&quot;: &quot;1098&quot;, &quot;nostore_vh&quot;: &quot;954&quot;, &quot;org_params&quot;: &quot;nostore_pixiedust&quot;, &quot;nostore_bokeh&quot;: &quot;false&quot;}, &quot;sniffers&quot;: [&quot;{&apos;nostore_bokeh&apos;:!!window.Bokeh}&quot;], &quot;avoidMetadata&quot;: false, &quot;include_keys&quot;: [&quot;filter&quot;]}\">\n",
       "  \n",
       "  <button class=\"btn btn-default btn-sm expandButton\" data-toggle=\"collapse\"\n",
       "          data-target=\"#pixiedust-output-wrapper-a7755548\" title=\"Expand/Collapse Pixiedust output\">\n",
       "    <i class=\"fa\"></i>\n",
       "  </button>\n",
       "  \n",
       "  \n",
       "  <div id=\"pixiedust-output-wrapper-a7755548\" class=\"pixiedust-output-wrapper collapse in\">\n",
       "    \n",
       "      <div class=\"pixiedust-toolbar btn-group\" role=\"group\" style=\"margin-bottom:15px\">  \n",
       "      \n",
       "        \n",
       "          <a class=\"btn btn-small btn-default display-type-button\" id=\"menua7755548-tableView\" title=\"Table.Next\">\n",
       "            <i class=\"fa fa-table\"></i>\n",
       "          </a>\n",
       "          \n",
       "            <script>\n",
       "                $('#menua7755548-tableView').on('click', \n",
       "            \n",
       "            function(){\n",
       "                pixiedust.executeDisplay(\n",
       "                    {\"prefix\": \"a7755548\", \"command\": \"pixiedust.display(df_less2,cell_id='a8a8e862b6f340cd8f3002848936cf16',nostore_pixiedust='true',handlerId='tableView',nostore_cw='1098',nostore_vh='954',org_params='nostore_pixiedust',nostore_bokeh='false',prefix='a7755548')\", \"entity\": \"df_less2\", \"options\": {\"cell_id\": \"a8a8e862b6f340cd8f3002848936cf16\", \"nostore_pixiedust\": \"true\", \"handlerId\": \"tableView\", \"nostore_cw\": \"1098\", \"nostore_vh\": \"954\", \"org_params\": \"nostore_pixiedust\", \"nostore_bokeh\": \"false\", \"prefix\": \"a7755548\"}, \"sniffers\": [\"{'nostore_bokeh':!!window.Bokeh}\"], \"avoidMetadata\": true, \"include_keys\": [\"filter\"]},\n",
       "                    {'targetDivId': 'wrapperHTMLa7755548' }\n",
       "                );\n",
       "            }\n",
       "            )\n",
       "            </script>\n",
       "        \n",
       "        \n",
       "      \n",
       "        \n",
       "          <div class=\"btn-group btn-small display-type-button\">\n",
       "            \n",
       "            <a class=\"btn btn-small dropdown-toggle btn-default\" data-toggle=\"dropdown\" title=\"Chart\">\n",
       "              \n",
       "              <i class=\"fa fa-line-chart\"></i>\n",
       "              \n",
       "              <i class=\"fa fa-chevron-down\"></i>\n",
       "            </a>\n",
       "            <div class=\"dropdown-menu\" role=\"menu\" style=\"white-space:nowrap\">\n",
       "              <ul>\n",
       "              \n",
       "                <li id=\"menua7755548-barChart\">\n",
       "                  \n",
       "                  <i class=\"fa fa-bar-chart\"></i>\n",
       "                  \n",
       "                  <span>Bar Chart</span>\n",
       "                  \n",
       "            <script>\n",
       "                $('#menua7755548-barChart').on('click', \n",
       "            \n",
       "            function(){\n",
       "                pixiedust.executeDisplay(\n",
       "                    {\"prefix\": \"a7755548\", \"command\": \"pixiedust.display(df_less2,cell_id='a8a8e862b6f340cd8f3002848936cf16',nostore_pixiedust='true',handlerId='barChart',nostore_cw='1098',nostore_vh='954',org_params='nostore_pixiedust',nostore_bokeh='false',prefix='a7755548')\", \"entity\": \"df_less2\", \"options\": {\"cell_id\": \"a8a8e862b6f340cd8f3002848936cf16\", \"nostore_pixiedust\": \"true\", \"handlerId\": \"barChart\", \"nostore_cw\": \"1098\", \"nostore_vh\": \"954\", \"org_params\": \"nostore_pixiedust\", \"nostore_bokeh\": \"false\", \"prefix\": \"a7755548\"}, \"sniffers\": [\"{'nostore_bokeh':!!window.Bokeh}\"], \"avoidMetadata\": true, \"include_keys\": [\"filter\"]},\n",
       "                    {'targetDivId': 'wrapperHTMLa7755548' }\n",
       "                );\n",
       "            }\n",
       "            )\n",
       "            </script>\n",
       "        \n",
       "                </li>\n",
       "              \n",
       "                <li id=\"menua7755548-lineChart\">\n",
       "                  \n",
       "                  <i class=\"fa fa-line-chart\"></i>\n",
       "                  \n",
       "                  <span>Line Chart</span>\n",
       "                  \n",
       "            <script>\n",
       "                $('#menua7755548-lineChart').on('click', \n",
       "            \n",
       "            function(){\n",
       "                pixiedust.executeDisplay(\n",
       "                    {\"prefix\": \"a7755548\", \"command\": \"pixiedust.display(df_less2,cell_id='a8a8e862b6f340cd8f3002848936cf16',nostore_pixiedust='true',handlerId='lineChart',nostore_cw='1098',nostore_vh='954',org_params='nostore_pixiedust',nostore_bokeh='false',prefix='a7755548')\", \"entity\": \"df_less2\", \"options\": {\"cell_id\": \"a8a8e862b6f340cd8f3002848936cf16\", \"nostore_pixiedust\": \"true\", \"handlerId\": \"lineChart\", \"nostore_cw\": \"1098\", \"nostore_vh\": \"954\", \"org_params\": \"nostore_pixiedust\", \"nostore_bokeh\": \"false\", \"prefix\": \"a7755548\"}, \"sniffers\": [\"{'nostore_bokeh':!!window.Bokeh}\"], \"avoidMetadata\": true, \"include_keys\": [\"filter\"]},\n",
       "                    {'targetDivId': 'wrapperHTMLa7755548' }\n",
       "                );\n",
       "            }\n",
       "            )\n",
       "            </script>\n",
       "        \n",
       "                </li>\n",
       "              \n",
       "                <li id=\"menua7755548-scatterPlot\">\n",
       "                  \n",
       "                  <i class=\"fa fa-circle\"></i>\n",
       "                  \n",
       "                  <span>Scatter Plot</span>\n",
       "                  \n",
       "            <script>\n",
       "                $('#menua7755548-scatterPlot').on('click', \n",
       "            \n",
       "            function(){\n",
       "                pixiedust.executeDisplay(\n",
       "                    {\"prefix\": \"a7755548\", \"command\": \"pixiedust.display(df_less2,cell_id='a8a8e862b6f340cd8f3002848936cf16',nostore_pixiedust='true',handlerId='scatterPlot',nostore_cw='1098',nostore_vh='954',org_params='nostore_pixiedust',nostore_bokeh='false',prefix='a7755548')\", \"entity\": \"df_less2\", \"options\": {\"cell_id\": \"a8a8e862b6f340cd8f3002848936cf16\", \"nostore_pixiedust\": \"true\", \"handlerId\": \"scatterPlot\", \"nostore_cw\": \"1098\", \"nostore_vh\": \"954\", \"org_params\": \"nostore_pixiedust\", \"nostore_bokeh\": \"false\", \"prefix\": \"a7755548\"}, \"sniffers\": [\"{'nostore_bokeh':!!window.Bokeh}\"], \"avoidMetadata\": true, \"include_keys\": [\"filter\"]},\n",
       "                    {'targetDivId': 'wrapperHTMLa7755548' }\n",
       "                );\n",
       "            }\n",
       "            )\n",
       "            </script>\n",
       "        \n",
       "                </li>\n",
       "              \n",
       "                <li id=\"menua7755548-pieChart\">\n",
       "                  \n",
       "                  <i class=\"fa fa-pie-chart\"></i>\n",
       "                  \n",
       "                  <span>Pie Chart</span>\n",
       "                  \n",
       "            <script>\n",
       "                $('#menua7755548-pieChart').on('click', \n",
       "            \n",
       "            function(){\n",
       "                pixiedust.executeDisplay(\n",
       "                    {\"prefix\": \"a7755548\", \"command\": \"pixiedust.display(df_less2,cell_id='a8a8e862b6f340cd8f3002848936cf16',nostore_pixiedust='true',handlerId='pieChart',nostore_cw='1098',nostore_vh='954',org_params='nostore_pixiedust',nostore_bokeh='false',prefix='a7755548')\", \"entity\": \"df_less2\", \"options\": {\"cell_id\": \"a8a8e862b6f340cd8f3002848936cf16\", \"nostore_pixiedust\": \"true\", \"handlerId\": \"pieChart\", \"nostore_cw\": \"1098\", \"nostore_vh\": \"954\", \"org_params\": \"nostore_pixiedust\", \"nostore_bokeh\": \"false\", \"prefix\": \"a7755548\"}, \"sniffers\": [\"{'nostore_bokeh':!!window.Bokeh}\"], \"avoidMetadata\": true, \"include_keys\": [\"filter\"]},\n",
       "                    {'targetDivId': 'wrapperHTMLa7755548' }\n",
       "                );\n",
       "            }\n",
       "            )\n",
       "            </script>\n",
       "        \n",
       "                </li>\n",
       "              \n",
       "                <li id=\"menua7755548-mapView\">\n",
       "                  \n",
       "                  <i class=\"fa fa-globe\"></i>\n",
       "                  \n",
       "                  <span>Map</span>\n",
       "                  \n",
       "            <script>\n",
       "                $('#menua7755548-mapView').on('click', \n",
       "            \n",
       "            function(){\n",
       "                pixiedust.executeDisplay(\n",
       "                    {\"prefix\": \"a7755548\", \"command\": \"pixiedust.display(df_less2,cell_id='a8a8e862b6f340cd8f3002848936cf16',nostore_pixiedust='true',handlerId='mapView',nostore_cw='1098',nostore_vh='954',org_params='nostore_pixiedust',nostore_bokeh='false',prefix='a7755548')\", \"entity\": \"df_less2\", \"options\": {\"cell_id\": \"a8a8e862b6f340cd8f3002848936cf16\", \"nostore_pixiedust\": \"true\", \"handlerId\": \"mapView\", \"nostore_cw\": \"1098\", \"nostore_vh\": \"954\", \"org_params\": \"nostore_pixiedust\", \"nostore_bokeh\": \"false\", \"prefix\": \"a7755548\"}, \"sniffers\": [\"{'nostore_bokeh':!!window.Bokeh}\"], \"avoidMetadata\": true, \"include_keys\": [\"filter\"]},\n",
       "                    {'targetDivId': 'wrapperHTMLa7755548' }\n",
       "                );\n",
       "            }\n",
       "            )\n",
       "            </script>\n",
       "        \n",
       "                </li>\n",
       "              \n",
       "                <li id=\"menua7755548-histogram\">\n",
       "                  \n",
       "                  <i class=\"fa fa-area-chart\"></i>\n",
       "                  \n",
       "                  <span>Histogram</span>\n",
       "                  \n",
       "            <script>\n",
       "                $('#menua7755548-histogram').on('click', \n",
       "            \n",
       "            function(){\n",
       "                pixiedust.executeDisplay(\n",
       "                    {\"prefix\": \"a7755548\", \"command\": \"pixiedust.display(df_less2,cell_id='a8a8e862b6f340cd8f3002848936cf16',nostore_pixiedust='true',handlerId='histogram',nostore_cw='1098',nostore_vh='954',org_params='nostore_pixiedust',nostore_bokeh='false',prefix='a7755548')\", \"entity\": \"df_less2\", \"options\": {\"cell_id\": \"a8a8e862b6f340cd8f3002848936cf16\", \"nostore_pixiedust\": \"true\", \"handlerId\": \"histogram\", \"nostore_cw\": \"1098\", \"nostore_vh\": \"954\", \"org_params\": \"nostore_pixiedust\", \"nostore_bokeh\": \"false\", \"prefix\": \"a7755548\"}, \"sniffers\": [\"{'nostore_bokeh':!!window.Bokeh}\"], \"avoidMetadata\": true, \"include_keys\": [\"filter\"]},\n",
       "                    {'targetDivId': 'wrapperHTMLa7755548' }\n",
       "                );\n",
       "            }\n",
       "            )\n",
       "            </script>\n",
       "        \n",
       "                </li>\n",
       "              \n",
       "              </ul>\n",
       "            </div>\n",
       "          </div>\n",
       "        \n",
       "      \n",
       "        \n",
       "      \n",
       "        \n",
       "      \n",
       "        \n",
       "          <a class=\"btn btn-small btn-default display-type-button\" id=\"menua7755548-downloadFile\" title=\"Download as File\">\n",
       "            <i class=\"fa fa-download\"></i>\n",
       "          </a>\n",
       "          \n",
       "            <script>\n",
       "                $('#menua7755548-downloadFile').on('click', \n",
       "            \n",
       "            function(){\n",
       "                pixiedust.executeDisplay(\n",
       "                    {\"prefix\": \"a7755548\", \"command\": \"pixiedust.display(df_less2,cell_id='a8a8e862b6f340cd8f3002848936cf16',nostore_pixiedust='true',handlerId='downloadFile',nostore_cw='1098',nostore_vh='954',org_params='nostore_pixiedust',nostore_bokeh='false',prefix='a7755548')\", \"entity\": \"df_less2\", \"options\": {\"cell_id\": \"a8a8e862b6f340cd8f3002848936cf16\", \"nostore_pixiedust\": \"true\", \"handlerId\": \"downloadFile\", \"nostore_cw\": \"1098\", \"nostore_vh\": \"954\", \"org_params\": \"nostore_pixiedust\", \"nostore_bokeh\": \"false\", \"prefix\": \"a7755548\"}, \"sniffers\": [\"{'nostore_bokeh':!!window.Bokeh}\"], \"avoidMetadata\": true, \"include_keys\": [\"filter\"]},\n",
       "                    {'targetDivId': 'wrapperHTMLa7755548' }\n",
       "                );\n",
       "            }\n",
       "            )\n",
       "            </script>\n",
       "        \n",
       "        \n",
       "      \n",
       "        <a id=\"filterbuttona7755548\" href=\"#filtera7755548\" class=\"btn btn-small btn-default display-type-button\" data-toggle=\"collapse\" title=\"Filter\">\n",
       "          <i class=\"fa fa-filter\" aria-hidden=\"true\"></i>\n",
       "        </a>\n",
       "      </div>\n",
       "      <div id=\"filtera7755548\" class=\"collapse no_loading_msg\" style=\"margin-bottom:15px;padding:10px 15px;border: 1px solid #eaeaea;background-color: #fafafa;\">\n",
       "        <div pd_render_onload pd_app=\"pixiedust.display.chart.filter.FilterApp\" class=\"no_loading_msg\">\n",
       "          <script>\n",
       "            $(document).trigger('pd_event', {type:\"pd_load\", targetNode: $(\"#filtera7755548\")});\n",
       "          </script>\n",
       "        </div>\n",
       "      </div>\n",
       "    \n",
       "    <div id=\"wrapperJSa7755548\"></div>\n",
       "    <div id=\"wrapperHTMLa7755548\" class=\"pixiedustWrapperHTML\" pd_init\n",
       "        pixiedust=\"{&quot;prefix&quot;: &quot;a7755548&quot;, &quot;command&quot;: &quot;pixiedust.display(df_less2,cell_id=&apos;a8a8e862b6f340cd8f3002848936cf16&apos;,nostore_pixiedust=&apos;true&apos;,handlerId=&apos;tableView&apos;,nostore_cw=&apos;1098&apos;,nostore_vh=&apos;954&apos;,org_params=&apos;nostore_pixiedust&apos;,nostore_bokeh=&apos;false&apos;)&quot;, &quot;entity&quot;: &quot;df_less2&quot;, &quot;options&quot;: {&quot;cell_id&quot;: &quot;a8a8e862b6f340cd8f3002848936cf16&quot;, &quot;nostore_pixiedust&quot;: &quot;true&quot;, &quot;handlerId&quot;: &quot;tableView&quot;, &quot;nostore_cw&quot;: &quot;1098&quot;, &quot;nostore_vh&quot;: &quot;954&quot;, &quot;org_params&quot;: &quot;nostore_pixiedust&quot;, &quot;nostore_bokeh&quot;: &quot;false&quot;}, &quot;sniffers&quot;: [&quot;{&apos;nostore_bokeh&apos;:!!window.Bokeh}&quot;], &quot;avoidMetadata&quot;: false, &quot;include_keys&quot;: [&quot;filter&quot;]}\" style=\"min-height:100px\"></div>\n",
       "  </div>\n",
       "</div>\n",
       "                    <script>\n",
       "                    (\n",
       "            \n",
       "            function(){\n",
       "                pixiedust.executeDisplay(\n",
       "                    {\"prefix\": \"a7755548\", \"command\": \"pixiedust.display(df_less2,cell_id='a8a8e862b6f340cd8f3002848936cf16',nostore_pixiedust='true',handlerId='tableView',nostore_cw='1098',nostore_vh='954',org_params='nostore_pixiedust',nostore_bokeh='false',prefix='a7755548')\", \"entity\": \"df_less2\", \"options\": {\"cell_id\": \"a8a8e862b6f340cd8f3002848936cf16\", \"nostore_pixiedust\": \"true\", \"handlerId\": \"tableView\", \"nostore_cw\": \"1098\", \"nostore_vh\": \"954\", \"org_params\": \"nostore_pixiedust\", \"nostore_bokeh\": \"false\", \"prefix\": \"a7755548\"}, \"sniffers\": [\"{'nostore_bokeh':!!window.Bokeh}\"], \"avoidMetadata\": true, \"include_keys\": [\"filter\"]},\n",
       "                    {'targetDivId': 'wrapperHTMLa7755548' }\n",
       "                );\n",
       "            }\n",
       "            )();\n",
       "                    </script>\n",
       "                </div>"
      ],
      "text/plain": [
       "<IPython.core.display.HTML object>"
      ]
     },
     "metadata": {},
     "output_type": "display_data"
    }
   ],
   "source": [
    "pixiedust.display(df_less2)"
   ]
  },
  {
   "cell_type": "code",
   "execution_count": null,
   "metadata": {},
   "outputs": [],
   "source": []
  }
 ],
 "metadata": {
  "kernelspec": {
   "display_name": "Python 3",
   "language": "python",
   "name": "python3"
  },
  "language_info": {
   "codemirror_mode": {
    "name": "ipython",
    "version": 3
   },
   "file_extension": ".py",
   "mimetype": "text/x-python",
   "name": "python",
   "nbconvert_exporter": "python",
   "pygments_lexer": "ipython3",
   "version": "3.7.4"
  }
 },
 "nbformat": 4,
 "nbformat_minor": 2
}
