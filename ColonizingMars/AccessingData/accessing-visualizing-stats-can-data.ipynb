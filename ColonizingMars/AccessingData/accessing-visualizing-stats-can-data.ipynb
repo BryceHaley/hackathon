{
 "cells": [
  {
   "cell_type": "markdown",
   "metadata": {},
   "source": [
    "![Callysto.ca Banner](https://github.com/callysto/curriculum-notebooks/blob/master/callysto-notebook-banner-top.jpg?raw=true)"
   ]
  },
  {
   "cell_type": "markdown",
   "metadata": {},
   "source": [
    "# Downloading and Visualizing Statistics Canada Open Data\n",
    "\n",
    "Statistics Canada produces statistics that help Canadians better understand their country—its population, resources, economy, society and culture. Learn more about StatsCan in their website https://www.statcan.gc.ca/eng/about/about?MM=as\n",
    "\n",
    "\n",
    "Statistics Canada.  Table  25-10-0015-01   Electric power generation, monthly generation by type of electricity\n",
    "DOI:   https://doi.org/10.25318/2510001501-eng"
   ]
  },
  {
   "cell_type": "code",
   "execution_count": null,
   "metadata": {},
   "outputs": [],
   "source": [
    "from time import sleep\n",
    "%run -i ./StatsCan/helpers.py\n",
    "%run -i ./StatsCan/scwds.py\n",
    "%run -i ./StatsCan/sc.py"
   ]
  },
  {
   "cell_type": "code",
   "execution_count": null,
   "metadata": {},
   "outputs": [],
   "source": [
    "# # Download data \n",
    "# DATA SET PRODUCT ID  for internal use only. \n",
    "# '37-10-0093-01'School-age population by living arrangements and age group \n",
    "\n",
    "productId = \"25-10-0015-01\"\n",
    "\n",
    "        \n",
    "download_tables(str(productId))\n",
    "\n",
    "\n",
    "df_fullDATA = zip_table_to_dataframe(productId)\n",
    "\n",
    "\n",
    "# Clean up full dataset - remove internal use columns\n",
    "cols = list(df_fullDATA.loc[:,'REF_DATE':'UOM'])+ ['SCALAR_FACTOR'] +  ['VALUE']\n",
    "df_less = df_fullDATA[cols]\n",
    "df_less2 = df_less.drop([\"DGUID\"], axis=1)\n",
    "\n",
    "# Display only first five entries\n",
    "df_less2.head()"
   ]
  },
  {
   "cell_type": "markdown",
   "metadata": {},
   "source": [
    "### Important categories: Electricity Producers\n",
    "\n",
    "StatsCan data is extensive. \n",
    "\n",
    "Run the cell below to get all possible categories for the class of electricity producer. "
   ]
  },
  {
   "cell_type": "code",
   "execution_count": null,
   "metadata": {},
   "outputs": [],
   "source": [
    "df_less2[\"Class of electricity producer\"].unique()"
   ]
  },
  {
   "cell_type": "markdown",
   "metadata": {},
   "source": [
    "### Important Categories: Type of Electricity Generation"
   ]
  },
  {
   "cell_type": "code",
   "execution_count": null,
   "metadata": {},
   "outputs": [],
   "source": [
    "df_less2[\"Type of electricity generation\"].unique()"
   ]
  },
  {
   "cell_type": "markdown",
   "metadata": {},
   "source": [
    "### Plotting our data\n",
    "\n",
    "Substitute the values in the variables `class_of_electricity_producer` and `type_electricity_generation` - an example has been given for you."
   ]
  },
  {
   "cell_type": "code",
   "execution_count": null,
   "metadata": {},
   "outputs": [],
   "source": [
    "import plotly_express as px"
   ]
  },
  {
   "cell_type": "code",
   "execution_count": null,
   "metadata": {},
   "outputs": [],
   "source": [
    "class_of_electricity_producer = \"Total all classes of electricity producer\"\n",
    "type_electricity_generation = \"Hydraulic turbine\"\n",
    "\n",
    "geo_condition = df_less2[\"GEO\"] != \"Canada\"\n",
    "condition_1 = df_less2[\"Class of electricity producer\"] ==class_of_electricity_producer\n",
    "condition_2 = df_less2[\"Type of electricity generation\"] == type_electricity_generation\n",
    "final_df = df_less2[geo_condition & condition_1 & condition_2]"
   ]
  },
  {
   "cell_type": "code",
   "execution_count": null,
   "metadata": {},
   "outputs": [],
   "source": [
    "### ADD A TITLE\n",
    "px.bar(final_df,\n",
    "       x=\"REF_DATE\",\n",
    "       y=\"VALUE\",\n",
    "       title=class_of_electricity_producer + \" \" + type_electricity_generation,\n",
    "      color =\"GEO\")"
   ]
  },
  {
   "cell_type": "code",
   "execution_count": null,
   "metadata": {},
   "outputs": [],
   "source": []
  },
  {
   "cell_type": "markdown",
   "metadata": {},
   "source": [
    "[![Callysto.ca License](https://github.com/callysto/curriculum-notebooks/blob/master/callysto-notebook-banner-bottom.jpg?raw=true)](https://github.com/callysto/curriculum-notebooks/blob/master/LICENSE.md)"
   ]
  }
 ],
 "metadata": {
  "celltoolbar": "Edit Metadata",
  "kernelspec": {
   "display_name": "Python 3",
   "language": "python",
   "name": "python3"
  },
  "language_info": {
   "codemirror_mode": {
    "name": "ipython",
    "version": 3
   },
   "file_extension": ".py",
   "mimetype": "text/x-python",
   "name": "python",
   "nbconvert_exporter": "python",
   "pygments_lexer": "ipython3",
   "version": "3.7.4"
  }
 },
 "nbformat": 4,
 "nbformat_minor": 2
}
