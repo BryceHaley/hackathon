{
 "cells": [
  {
   "cell_type": "markdown",
   "metadata": {},
   "source": [
    "![Callysto.ca Banner](https://github.com/callysto/curriculum-notebooks/blob/master/callysto-notebook-banner-top.jpg?raw=true)"
   ]
  },
  {
   "cell_type": "markdown",
   "metadata": {},
   "source": [
    "# Downloading and Visualizing Statistics Canada Open Data\n",
    "\n",
    "\n",
    "In this notebook we will provide Product IDs you may use in your notebooks. For a more thorough example, see the case-study-electric-power-generation notebook. \n",
    "\n",
    "\n",
    "Statistics Canada produces statistics that help Canadians better understand their country—its population, resources, economy, society and culture. Learn more about StatsCan in their website https://www.statcan.gc.ca/eng/about/about?MM=as\n",
    "\n",
    "List of datasets you can download using this notebook:\n",
    "\n",
    "\n",
    "|ProductID| Name of dataset|\n",
    "|-|-|\n",
    "|25-10-0015-01 | Electric power generation, monthly generation by type of electricity|\n",
    "|32-10-0122-01| Stocks of frozen poultry meat | \n",
    "|32-10-0123-01 | Stocks of frozen eggs and edible dried eggs |\n",
    "|21-10-0164-01 | Engineering services, industry expenditures |\n",
    "|13-10-0102-01 | Private nursing and residential care facilities, summary statistics |\n",
    "|13-10-0114-01| Life expectancy and other elements of the life table, Canada, all provinces except Prince Edward Island |\n",
    "\n",
    "You can also ex"
   ]
  },
  {
   "cell_type": "markdown",
   "metadata": {},
   "source": [
    "Run the cell below to import modules and functions."
   ]
  },
  {
   "cell_type": "code",
   "execution_count": 2,
   "metadata": {},
   "outputs": [],
   "source": [
    "from time import sleep\n",
    "%run -i ./StatsCan/helpers.py\n",
    "%run -i ./StatsCan/scwds.py\n",
    "%run -i ./StatsCan/sc.py"
   ]
  },
  {
   "cell_type": "markdown",
   "metadata": {},
   "source": [
    "The product ID for the dataset Statistics Canada. Table 25-10-0015-01 Electric power generation, monthly generation by type of electricity DOI: https://doi.org/10.25318/2510001501-eng is `25-10-0015-01`. \n",
    "\n",
    "A list of product IDS you can use is provided in the main Statistics Canada directory.\n",
    "\n",
    "Run the cell below to download the data."
   ]
  },
  {
   "cell_type": "code",
   "execution_count": 6,
   "metadata": {},
   "outputs": [
    {
     "name": "stderr",
     "output_type": "stream",
     "text": [
      "Downloading Dataset: 100%|██████████| 1/1 [00:01<00:00,  1.05s/it]"
     ]
    },
    {
     "name": "stdout",
     "output_type": "stream",
     "text": [
      "PARSING DATA AS PANDAS DATAFRAME\n"
     ]
    },
    {
     "name": "stderr",
     "output_type": "stream",
     "text": [
      "\n"
     ]
    },
    {
     "data": {
      "text/html": [
       "<div>\n",
       "<style scoped>\n",
       "    .dataframe tbody tr th:only-of-type {\n",
       "        vertical-align: middle;\n",
       "    }\n",
       "\n",
       "    .dataframe tbody tr th {\n",
       "        vertical-align: top;\n",
       "    }\n",
       "\n",
       "    .dataframe thead th {\n",
       "        text-align: right;\n",
       "    }\n",
       "</style>\n",
       "<table border=\"1\" class=\"dataframe\">\n",
       "  <thead>\n",
       "    <tr style=\"text-align: right;\">\n",
       "      <th></th>\n",
       "      <th>REF_DATE</th>\n",
       "      <th>GEO</th>\n",
       "      <th>North American Industry Classification System (NAICS)</th>\n",
       "      <th>Industry expenditures</th>\n",
       "      <th>UOM</th>\n",
       "      <th>SCALAR_FACTOR</th>\n",
       "      <th>VALUE</th>\n",
       "    </tr>\n",
       "  </thead>\n",
       "  <tbody>\n",
       "    <tr>\n",
       "      <th>0</th>\n",
       "      <td>2013-01-01</td>\n",
       "      <td>Canada</td>\n",
       "      <td>Engineering services [54133]</td>\n",
       "      <td>Total operating expense</td>\n",
       "      <td>Percent</td>\n",
       "      <td>units</td>\n",
       "      <td>100.0</td>\n",
       "    </tr>\n",
       "    <tr>\n",
       "      <th>1</th>\n",
       "      <td>2013-01-01</td>\n",
       "      <td>Canada</td>\n",
       "      <td>Engineering services [54133]</td>\n",
       "      <td>Cost of goods sold</td>\n",
       "      <td>Percent</td>\n",
       "      <td>units</td>\n",
       "      <td>10.5</td>\n",
       "    </tr>\n",
       "    <tr>\n",
       "      <th>2</th>\n",
       "      <td>2013-01-01</td>\n",
       "      <td>Canada</td>\n",
       "      <td>Engineering services [54133]</td>\n",
       "      <td>Salaries, wages, commissions and benefits</td>\n",
       "      <td>Percent</td>\n",
       "      <td>units</td>\n",
       "      <td>40.5</td>\n",
       "    </tr>\n",
       "    <tr>\n",
       "      <th>3</th>\n",
       "      <td>2013-01-01</td>\n",
       "      <td>Canada</td>\n",
       "      <td>Engineering services [54133]</td>\n",
       "      <td>Subcontracts</td>\n",
       "      <td>Percent</td>\n",
       "      <td>units</td>\n",
       "      <td>16.9</td>\n",
       "    </tr>\n",
       "    <tr>\n",
       "      <th>4</th>\n",
       "      <td>2013-01-01</td>\n",
       "      <td>Canada</td>\n",
       "      <td>Engineering services [54133]</td>\n",
       "      <td>Research and development fees</td>\n",
       "      <td>Percent</td>\n",
       "      <td>units</td>\n",
       "      <td>0.2</td>\n",
       "    </tr>\n",
       "  </tbody>\n",
       "</table>\n",
       "</div>"
      ],
      "text/plain": [
       "    REF_DATE     GEO North American Industry Classification System (NAICS)  \\\n",
       "0 2013-01-01  Canada                       Engineering services [54133]      \n",
       "1 2013-01-01  Canada                       Engineering services [54133]      \n",
       "2 2013-01-01  Canada                       Engineering services [54133]      \n",
       "3 2013-01-01  Canada                       Engineering services [54133]      \n",
       "4 2013-01-01  Canada                       Engineering services [54133]      \n",
       "\n",
       "                       Industry expenditures      UOM SCALAR_FACTOR  VALUE  \n",
       "0                    Total operating expense  Percent         units  100.0  \n",
       "1                         Cost of goods sold  Percent         units   10.5  \n",
       "2  Salaries, wages, commissions and benefits  Percent         units   40.5  \n",
       "3                               Subcontracts  Percent         units   16.9  \n",
       "4              Research and development fees  Percent         units    0.2  "
      ]
     },
     "execution_count": 6,
     "metadata": {},
     "output_type": "execute_result"
    }
   ],
   "source": [
    "# # Download data \n",
    "productId = \"25-10-0015-01\"\n",
    "\n",
    "        \n",
    "download_tables(str(productId))\n",
    "\n",
    "\n",
    "df_fullDATA = zip_table_to_dataframe(productId)\n",
    "\n",
    "\n",
    "# Clean up full dataset - remove internal use columns\n",
    "cols = list(df_fullDATA.loc[:,'REF_DATE':'UOM'])+ ['SCALAR_FACTOR'] +  ['VALUE']\n",
    "df_less = df_fullDATA[cols]\n",
    "df_less2 = df_less.drop([\"DGUID\"], axis=1)\n",
    "\n",
    "# Display only first five entries\n",
    "df_less2.head()"
   ]
  },
  {
   "cell_type": "markdown",
   "metadata": {},
   "source": [
    "[![Callysto.ca License](https://github.com/callysto/curriculum-notebooks/blob/master/callysto-notebook-banner-bottom.jpg?raw=true)](https://github.com/callysto/curriculum-notebooks/blob/master/LICENSE.md)"
   ]
  }
 ],
 "metadata": {
  "celltoolbar": "Edit Metadata",
  "kernelspec": {
   "display_name": "Python 3",
   "language": "python",
   "name": "python3"
  },
  "language_info": {
   "codemirror_mode": {
    "name": "ipython",
    "version": 3
   },
   "file_extension": ".py",
   "mimetype": "text/x-python",
   "name": "python",
   "nbconvert_exporter": "python",
   "pygments_lexer": "ipython3",
   "version": "3.7.4"
  }
 },
 "nbformat": 4,
 "nbformat_minor": 2
}
