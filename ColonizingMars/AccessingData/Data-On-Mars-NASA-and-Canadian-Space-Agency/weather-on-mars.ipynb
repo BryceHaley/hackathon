{
 "cells": [
  {
   "cell_type": "markdown",
   "metadata": {},
   "source": [
    "![Callysto.ca Banner](https://github.com/callysto/curriculum-notebooks/blob/master/callysto-notebook-banner-top.jpg?raw=true)\n",
    "\n",
    "<a href=\"https://hub.callysto.ca/jupyter/hub/user-redirect/git-pull?repo=https%3A%2F%2Fgithub.com%2Fcallysto%2Fhackathon&branch=master&subPath=ColonizingMars/AccessingData/weather-on-mars.ipynb&depth=1\" target=\"_parent\"><img src=\"https://raw.githubusercontent.com/callysto/curriculum-notebooks/master/open-in-callysto-button.svg?sanitize=true\" width=\"123\" height=\"24\" alt=\"Open in Callysto\"/></a>"
   ]
  },
  {
   "cell_type": "markdown",
   "metadata": {},
   "source": [
    "# Weather on Mars: NASA API\n",
    "\n",
    "Source: [NASA API](https://api.nasa.gov/). The objective of this site is to make NASA data accessible to application developers.\n",
    "\n",
    "## Weather at Elysium Planitia\n",
    "\n",
    "[InSight](https://en.wikipedia.org/wiki/InSight) is taking daily weather measurements (temperature, wind, pressure) on the surface of Mars at Elysium Planitia, a flat, smooth plain near Mars’ equator. (Text from their [dataset description](https://mars.nasa.gov/insight/weather/).)"
   ]
  },
  {
   "cell_type": "code",
   "execution_count": null,
   "metadata": {},
   "outputs": [],
   "source": [
    "import requests\n",
    "import pandas as pd\n",
    "\n",
    "# Get data\n",
    "DEMO_KEY='MCPiQTUOtrm8K1bZAXY2UIYVB3JNcunfwkEd2IYm'\n",
    "base_url = \"https://api.nasa.gov/insight_weather/?api_key=\"+str(DEMO_KEY)+\"&feedtype=json&ver=1.0\"\n",
    "resp = requests.get(url=base_url)\n",
    "data = resp.json()\n",
    "\n",
    "# Parse JSON response\n",
    "# Temperature\n",
    "min_temp = [data[key][\"AT\"]['mn'] for key in data['sol_keys']]\n",
    "max_temp = [data[key][\"AT\"]['mx'] for key in data['sol_keys']]\n",
    "avg_temp = [data[key][\"AT\"]['av'] for key in data['sol_keys']]\n",
    "# Pressure\n",
    "min_pres = [data[key][\"PRE\"]['mn'] for key in data['sol_keys']]\n",
    "max_pres = [data[key][\"PRE\"]['mx'] for key in data['sol_keys']]\n",
    "avg_pres = [data[key][\"PRE\"]['av'] for key in data['sol_keys']]\n",
    "# Wind Speed\n",
    "min_wind = [data[key][\"HWS\"]['mn'] for key in data['sol_keys']]\n",
    "max_wind = [data[key][\"HWS\"]['mx'] for key in data['sol_keys']]\n",
    "avg_wind = [data[key][\"HWS\"]['av'] for key in data['sol_keys']]\n",
    "# Season and UTC time stamps\n",
    "firstUTC = [data[key][\"First_UTC\"] for key in data['sol_keys']]\n",
    "lastUTC = [data[key][\"Last_UTC\"] for key in data['sol_keys']]\n",
    "season = [data[key][\"Season\"] for key in data['sol_keys']]\n",
    "\n",
    "# Build dataframe\n",
    "df = pd.DataFrame({\"FirstUTC\": firstUTC,\n",
    "             \"LastUTC\": lastUTC,\n",
    "             \"Season\": season,\n",
    "             \"AverageTemperature\":avg_temp,\n",
    "             \"MinTemperature\":min_temp,\n",
    "             \"MaxTemperature\":max_temp,\n",
    "             \"AverageWindSpeed\":avg_wind,\n",
    "             \"MinWindSpeed\":min_wind,\n",
    "             \"MaxWindSpeed\":max_wind,\n",
    "             \"AveragePressure\":avg_pres,\n",
    "             \"MinPressure\":min_pres,\n",
    "             \"MaxPressure\":max_temp})\n",
    "df"
   ]
  },
  {
   "cell_type": "markdown",
   "metadata": {},
   "source": [
    "[![Callysto.ca License](https://github.com/callysto/curriculum-notebooks/blob/master/callysto-notebook-banner-bottom.jpg?raw=true)](https://github.com/callysto/curriculum-notebooks/blob/master/LICENSE.md)"
   ]
  }
 ],
 "metadata": {
  "kernelspec": {
   "display_name": "Python 3",
   "language": "python",
   "name": "python3"
  },
  "language_info": {
   "codemirror_mode": {
    "name": "ipython",
    "version": 3
   },
   "file_extension": ".py",
   "mimetype": "text/x-python",
   "name": "python",
   "nbconvert_exporter": "python",
   "pygments_lexer": "ipython3",
   "version": "3.7.4"
  }
 },
 "nbformat": 4,
 "nbformat_minor": 4
}
