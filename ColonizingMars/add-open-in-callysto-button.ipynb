{
 "cells": [
  {
   "cell_type": "markdown",
   "metadata": {},
   "source": [
    "# Adding \"Open In Callysto\" Buttons to notebooks"
   ]
  },
  {
   "cell_type": "code",
   "execution_count": 1,
   "metadata": {},
   "outputs": [],
   "source": [
    "import os\n",
    "import json\n",
    "import pandas as pd\n",
    "\n",
    "def button_code_generator(notebook_path, notebook_filename):\n",
    "    notebook_path = notebook_path.replace('./','',1)\n",
    "    button_image = 'https://raw.githubusercontent.com/callysto/curriculum-notebooks/master/open-in-callysto-button.svg?sanitize=true'\n",
    "    repo_path = 'https%3A%2F%2Fgithub.com%2Fcallysto%2Fhackathon&branch=master'\n",
    "    a = '<a href=\"https://hub.callysto.ca/jupyter/hub/user-redirect/git-pull?repo='\n",
    "    size_etc = '\" width=\"123\" height=\"24\" alt=\"Open in Callysto\"/></a>'\n",
    "    button_code = a+repo_path+'&subPath='+notebook_path+'/'+notebook_filename+'&depth=1\" target=\"_parent\"><img src=\"'+button_image+size_etc\n",
    "    return button_code\n",
    "\n",
    "def replace_first_cell(notebook_name_and_path, first_cell_code):\n",
    "    original_file = open(notebook_name_and_path, 'r')\n",
    "    notebook_contents = json.load(original_file)\n",
    "    original_file.close()\n",
    "    del notebook_contents['cells'][0]\n",
    "    notebook_contents['cells'].insert(0, first_cell_code)\n",
    "    with open(notebook_name_and_path, 'w') as notebook_file:\n",
    "        json.dump(notebook_contents, notebook_file)"
   ]
  },
  {
   "cell_type": "markdown",
   "metadata": {},
   "source": [
    "## Create Notebooks DataFrame"
   ]
  },
  {
   "cell_type": "code",
   "execution_count": 2,
   "metadata": {},
   "outputs": [
    {
     "data": {
      "text/html": [
       "<div>\n",
       "<style scoped>\n",
       "    .dataframe tbody tr th:only-of-type {\n",
       "        vertical-align: middle;\n",
       "    }\n",
       "\n",
       "    .dataframe tbody tr th {\n",
       "        vertical-align: top;\n",
       "    }\n",
       "\n",
       "    .dataframe thead th {\n",
       "        text-align: right;\n",
       "    }\n",
       "</style>\n",
       "<table border=\"1\" class=\"dataframe\">\n",
       "  <thead>\n",
       "    <tr style=\"text-align: right;\">\n",
       "      <th></th>\n",
       "      <th>Notebook</th>\n",
       "      <th>Button Code</th>\n",
       "    </tr>\n",
       "  </thead>\n",
       "  <tbody>\n",
       "    <tr>\n",
       "      <th>0</th>\n",
       "      <td>./accessing-open-data.ipynb</td>\n",
       "      <td>&lt;a href=\"https://hub.callysto.ca/jupyter/hub/u...</td>\n",
       "    </tr>\n",
       "    <tr>\n",
       "      <th>1</th>\n",
       "      <td>./markdown-text-formatting.ipynb</td>\n",
       "      <td>&lt;a href=\"https://hub.callysto.ca/jupyter/hub/u...</td>\n",
       "    </tr>\n",
       "    <tr>\n",
       "      <th>2</th>\n",
       "      <td>./olympics-data.ipynb</td>\n",
       "      <td>&lt;a href=\"https://hub.callysto.ca/jupyter/hub/u...</td>\n",
       "    </tr>\n",
       "    <tr>\n",
       "      <th>3</th>\n",
       "      <td>./google-trends.ipynb</td>\n",
       "      <td>&lt;a href=\"https://hub.callysto.ca/jupyter/hub/u...</td>\n",
       "    </tr>\n",
       "    <tr>\n",
       "      <th>4</th>\n",
       "      <td>./graphing-with-matplotlib.ipynb</td>\n",
       "      <td>&lt;a href=\"https://hub.callysto.ca/jupyter/hub/u...</td>\n",
       "    </tr>\n",
       "    <tr>\n",
       "      <th>5</th>\n",
       "      <td>./gapminder-data.ipynb</td>\n",
       "      <td>&lt;a href=\"https://hub.callysto.ca/jupyter/hub/u...</td>\n",
       "    </tr>\n",
       "    <tr>\n",
       "      <th>6</th>\n",
       "      <td>./google-ngram-viewer.ipynb</td>\n",
       "      <td>&lt;a href=\"https://hub.callysto.ca/jupyter/hub/u...</td>\n",
       "    </tr>\n",
       "    <tr>\n",
       "      <th>7</th>\n",
       "      <td>./graphing-with-cufflinks.ipynb</td>\n",
       "      <td>&lt;a href=\"https://hub.callysto.ca/jupyter/hub/u...</td>\n",
       "    </tr>\n",
       "    <tr>\n",
       "      <th>8</th>\n",
       "      <td>./climate-data.ipynb</td>\n",
       "      <td>&lt;a href=\"https://hub.callysto.ca/jupyter/hub/u...</td>\n",
       "    </tr>\n",
       "    <tr>\n",
       "      <th>9</th>\n",
       "      <td>./persuasive-example-mars-or-venus-jc-cn.ipynb</td>\n",
       "      <td>&lt;a href=\"https://hub.callysto.ca/jupyter/hub/u...</td>\n",
       "    </tr>\n",
       "    <tr>\n",
       "      <th>10</th>\n",
       "      <td>./add-open-in-callysto-button.ipynb</td>\n",
       "      <td>&lt;a href=\"https://hub.callysto.ca/jupyter/hub/u...</td>\n",
       "    </tr>\n",
       "    <tr>\n",
       "      <th>11</th>\n",
       "      <td>./pandas-dataframes.ipynb</td>\n",
       "      <td>&lt;a href=\"https://hub.callysto.ca/jupyter/hub/u...</td>\n",
       "    </tr>\n",
       "  </tbody>\n",
       "</table>\n",
       "</div>"
      ],
      "text/plain": [
       "                                          Notebook  \\\n",
       "0                      ./accessing-open-data.ipynb   \n",
       "1                 ./markdown-text-formatting.ipynb   \n",
       "2                            ./olympics-data.ipynb   \n",
       "3                            ./google-trends.ipynb   \n",
       "4                 ./graphing-with-matplotlib.ipynb   \n",
       "5                           ./gapminder-data.ipynb   \n",
       "6                      ./google-ngram-viewer.ipynb   \n",
       "7                  ./graphing-with-cufflinks.ipynb   \n",
       "8                             ./climate-data.ipynb   \n",
       "9   ./persuasive-example-mars-or-venus-jc-cn.ipynb   \n",
       "10             ./add-open-in-callysto-button.ipynb   \n",
       "11                       ./pandas-dataframes.ipynb   \n",
       "\n",
       "                                          Button Code  \n",
       "0   <a href=\"https://hub.callysto.ca/jupyter/hub/u...  \n",
       "1   <a href=\"https://hub.callysto.ca/jupyter/hub/u...  \n",
       "2   <a href=\"https://hub.callysto.ca/jupyter/hub/u...  \n",
       "3   <a href=\"https://hub.callysto.ca/jupyter/hub/u...  \n",
       "4   <a href=\"https://hub.callysto.ca/jupyter/hub/u...  \n",
       "5   <a href=\"https://hub.callysto.ca/jupyter/hub/u...  \n",
       "6   <a href=\"https://hub.callysto.ca/jupyter/hub/u...  \n",
       "7   <a href=\"https://hub.callysto.ca/jupyter/hub/u...  \n",
       "8   <a href=\"https://hub.callysto.ca/jupyter/hub/u...  \n",
       "9   <a href=\"https://hub.callysto.ca/jupyter/hub/u...  \n",
       "10  <a href=\"https://hub.callysto.ca/jupyter/hub/u...  \n",
       "11  <a href=\"https://hub.callysto.ca/jupyter/hub/u...  "
      ]
     },
     "execution_count": 2,
     "metadata": {},
     "output_type": "execute_result"
    }
   ],
   "source": [
    "df = pd.DataFrame(columns=['Notebook', 'Button Code'])\n",
    "for root, dirs, files in os.walk(\".\"):\n",
    "    for filename in files:\n",
    "        if filename.endswith('.ipynb'):\n",
    "            if not 'checkpoint' in filename:\n",
    "                notebook_name_and_path = os.path.join(root, filename)\n",
    "\n",
    "                button_code = button_code_generator(root, filename)\n",
    "                df = df.append({'Notebook':notebook_name_and_path, 'Button Code':button_code}, ignore_index=True)\n",
    "df"
   ]
  },
  {
   "cell_type": "markdown",
   "metadata": {},
   "source": [
    "## Iterate through the DataFrame\n",
    "\n",
    "Replace the first cell in each notebook with the banner and button."
   ]
  },
  {
   "cell_type": "code",
   "execution_count": null,
   "metadata": {},
   "outputs": [],
   "source": [
    "for i, row in df.iterrows():\n",
    "    notebook_name_and_path = row['Notebook']\n",
    "    banner_code = '![Callysto.ca Banner](https://github.com/callysto/curriculum-notebooks/blob/master/callysto-notebook-banner-top.jpg?raw=true)'\n",
    "    first_cell_code = {'cell_type': 'markdown', 'metadata': {}, 'source': [banner_code, '\\n', '\\n', row['Button Code']]}\n",
    "    if notebook_name_and_path != './notebooks-button-creator.ipynb':\n",
    "        replace_first_cell(notebook_name_and_path, first_cell_code)"
   ]
  },
  {
   "cell_type": "markdown",
   "metadata": {},
   "source": [
    "## Check our Work"
   ]
  },
  {
   "cell_type": "code",
   "execution_count": null,
   "metadata": {},
   "outputs": [],
   "source": [
    "df = pd.DataFrame(columns=['Name','First Cell'])\n",
    "for root, dirs, files in os.walk(\".\"):\n",
    "    for filename in files:\n",
    "        if filename.endswith('.ipynb'):\n",
    "            if not 'checkpoint' in filename:\n",
    "                notebook_name = filename[:-6]\n",
    "                notebook_name_and_path = os.path.join(root, filename)\n",
    "                notebook = json.load(open(notebook_name_and_path))\n",
    "                first_cell = notebook['cells'][0]['source']#[0]\n",
    "                #last_cell = notebook['cells'][-1]['source']#[0]\n",
    "                button_code = button_code_generator(root, filename)\n",
    "                df = df.append({'Name':notebook_name,'First Cell':first_cell}, ignore_index=True)\n",
    "for i, row in df.iterrows():\n",
    "    print(i, row['Name'])\n",
    "    print(row['First Cell'])\n",
    "    print('')"
   ]
  }
 ],
 "metadata": {
  "kernelspec": {
   "display_name": "Python 3",
   "language": "python",
   "name": "python3"
  },
  "language_info": {
   "codemirror_mode": {
    "name": "ipython",
    "version": 3
   },
   "file_extension": ".py",
   "mimetype": "text/x-python",
   "name": "python",
   "nbconvert_exporter": "python",
   "pygments_lexer": "ipython3",
   "version": "3.7.6"
  }
 },
 "nbformat": 4,
 "nbformat_minor": 4
}
