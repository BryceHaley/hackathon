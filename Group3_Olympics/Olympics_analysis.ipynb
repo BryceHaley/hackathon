{
 "cells": [
  {
   "cell_type": "code",
   "execution_count": null,
   "metadata": {},
   "outputs": [],
   "source": [
    "from IPython.display import HTML, display\n",
    "display(HTML(\"<table><tr><td><img src='data/rings2.png' width='620'></td><td><img src='data/sports.png' width='300'></td></tr></table>\"))"
   ]
  },
  {
   "cell_type": "code",
   "execution_count": null,
   "metadata": {},
   "outputs": [],
   "source": [
    "#!pip install cufflinks\n",
    "#!pip install ipywidgets"
   ]
  },
  {
   "cell_type": "code",
   "execution_count": null,
   "metadata": {},
   "outputs": [],
   "source": [
    "# load libraries and helper code\n",
    "from helper_code.olympics import *\n",
    "cf.go_offline()"
   ]
  },
  {
   "cell_type": "markdown",
   "metadata": {},
   "source": [
    "# Group goal\n",
    "\n",
    " \n",
    "Go through the  analysis below, work on challenges.\n",
    "\n",
    "\n",
    "**Extra challenge**:\n",
    "\n",
    "Is there anything else interesting you can find and visualize for this data? "
   ]
  },
  {
   "cell_type": "markdown",
   "metadata": {},
   "source": [
    "### Getting data\n",
    "Olympics dataset was downloaded from [Kaggle](https://www.kaggle.com/heesoo37/120-years-of-olympic-history-athletes-and-results/data#athlete_events.csv)\n",
    "\n",
    "**Kaggle** is the online community of data scientists and machine learners and the most well known competition platform for predictive modeling and analytics."
   ]
  },
  {
   "cell_type": "code",
   "execution_count": null,
   "metadata": {},
   "outputs": [],
   "source": [
    "#there are 2 data files:\n",
    "\n",
    "#Athlets\n",
    "file_name1 = \"data/athlete_events.csv\"\n",
    "\n",
    "#National Olympic regions\n",
    "file_name2 = \"data/noc_regions.csv\""
   ]
  },
  {
   "cell_type": "code",
   "execution_count": null,
   "metadata": {},
   "outputs": [],
   "source": [
    "#if reading from cloud object storage\n",
    "target_url1=\"https://swift-yeg.cloud.cybera.ca:8080/v1/AUTH_d22d1e3f28be45209ba8f660295c84cf/hackaton/athlete_events.csv\"\n",
    "urllib.request.urlretrieve(target_url1, file_name1)\n",
    "target_url2=\"https://swift-yeg.cloud.cybera.ca:8080/v1/AUTH_d22d1e3f28be45209ba8f660295c84cf/hackaton/noc_regions.csv\"\n",
    "urllib.request.urlretrieve(target_url2, file_name2)"
   ]
  },
  {
   "cell_type": "code",
   "execution_count": null,
   "metadata": {},
   "outputs": [],
   "source": [
    "#reading both files and combining the into one dataframe\n",
    "athlets = pd.read_csv(file_name1) \n",
    "nocs = pd.read_csv(file_name2) \n",
    "\n",
    "\n",
    "olympics = pd.merge(athlets,nocs, how=\"left\", on=\"NOC\")"
   ]
  },
  {
   "cell_type": "code",
   "execution_count": null,
   "metadata": {},
   "outputs": [],
   "source": [
    "#how many rows and colums does the dataframe have?\n",
    "olympics.shape"
   ]
  },
  {
   "cell_type": "code",
   "execution_count": null,
   "metadata": {},
   "outputs": [],
   "source": [
    "#what are the column names?\n",
    "olympics.columns"
   ]
  },
  {
   "cell_type": "markdown",
   "metadata": {},
   "source": [
    "Here is the column description from Kaggle:\n",
    "\n",
    "**ID** - Unique number for each athlete  \n",
    "**Name** - Athlete's name  \n",
    "**Sex** - M or F  \n",
    "**Age** - Integer  \n",
    "**Height** - In centimeters  \n",
    "**Weight** - In kilograms  \n",
    "**Team** - Team name  \n",
    "**NOC** - National Olympic Committee 3-letter code  \n",
    "**Games** - Year and season  \n",
    "**Year** - Integer  \n",
    "**Season** - Summer or Winter  \n",
    "**City** - Host city  \n",
    "**Sport** - Sport  \n",
    "**Event** - Event  \n",
    "**Medal** - Gold, Silver, Bronze, or NA  \n",
    "**region** - Country "
   ]
  },
  {
   "cell_type": "code",
   "execution_count": null,
   "metadata": {},
   "outputs": [],
   "source": [
    "#display first 5 rows to explore how the data looks like\n",
    "olympics.head()"
   ]
  },
  {
   "cell_type": "markdown",
   "metadata": {},
   "source": [
    "### Number of participants by year"
   ]
  },
  {
   "cell_type": "code",
   "execution_count": null,
   "metadata": {},
   "outputs": [],
   "source": [
    "#lets group by year and calculate number of rows for every group\n",
    "athlets_by_year = olympics.groupby([\"Year\"]).size()\n",
    "\n",
    "#creating additional column \"count\" with the number of athlets per year \n",
    "athlets_by_year = athlets_by_year.reset_index(name=\"count\")\n",
    "\n",
    "#printing first 5 years and umber of athlets on the screen\n",
    "athlets_by_year.head()"
   ]
  },
  {
   "cell_type": "code",
   "execution_count": null,
   "metadata": {},
   "outputs": [],
   "source": [
    "#what is the maximum number of participants:\n",
    "athlets_by_year[\"count\"].max()"
   ]
  },
  {
   "cell_type": "code",
   "execution_count": null,
   "metadata": {},
   "outputs": [],
   "source": [
    "#we create line graph\n",
    "#setting index to \"year\" column so it will display year when we plot\n",
    "\n",
    "athlets_by_year.set_index(\"Year\")iplot()"
   ]
  },
  {
   "cell_type": "markdown",
   "metadata": {},
   "source": [
    "### Challenge\n",
    "\n",
    "Find the minimum number of Olympics participants using **min()** function\n",
    "\n",
    "Experiment with differnt kinds of plots:\n",
    "\n",
    " - Try creating new cell by copying the call above and change **iplot()** to **iplot(kind=\"bar\")** or **iplot(kind=\"barh\")** or **.iplot(kind=\"area\",fill=True)**  - wich visualisation works best?\n",
    " \n",
    " - What interesting can you notice on this plot? What do you think happened between years 1992 and 1994?\n"
   ]
  },
  {
   "cell_type": "markdown",
   "metadata": {},
   "source": [
    "### Number of participants by year and by season"
   ]
  },
  {
   "cell_type": "code",
   "execution_count": null,
   "metadata": {},
   "outputs": [],
   "source": [
    "#in this case we call function \"get_counts_by_group()\" - we have defined it in olympics.py file\n",
    "athlets_by_season = get_counts_by_group(olympics, \"Season\")\n",
    "\n",
    "athlets_by_season.head()"
   ]
  },
  {
   "cell_type": "code",
   "execution_count": null,
   "metadata": {},
   "outputs": [],
   "source": [
    "athlets_by_season.iplot(kind=\"bar\", barmode=\"stack\")"
   ]
  },
  {
   "cell_type": "markdown",
   "metadata": {},
   "source": [
    "Looks like Summer and Winter Olympics were  run in the same year before 1994!\n",
    "\n",
    "Lets find the year with the most participants in Summer season:\n",
    " - we will do this using **sort_values()** function:"
   ]
  },
  {
   "cell_type": "code",
   "execution_count": null,
   "metadata": {},
   "outputs": [],
   "source": [
    "#note we have \"ascending = False\" , try changing it to \"ascending = True\" and see what happens\n",
    "\n",
    "athlets_by_season.sort_values(\"Summer\", ascending = False).head(10)"
   ]
  },
  {
   "cell_type": "markdown",
   "metadata": {},
   "source": [
    "### Challenge\n",
    "\n",
    " - Using the example above - create new cell(s) and try to find number of participants by year and by sex(using \"Sex\" column)\n",
    " - Which year had the most number of female participants?"
   ]
  },
  {
   "cell_type": "markdown",
   "metadata": {},
   "source": [
    "### Number of medals by country by sport"
   ]
  },
  {
   "cell_type": "code",
   "execution_count": null,
   "metadata": {},
   "outputs": [],
   "source": [
    "#we will keep only the rows for athlets who got medals\n",
    "medals = olympics.dropna(subset=[\"Medal\"])\n",
    "\n",
    "#lets select only Winter season\n",
    "medals_winter = medals[medals[\"Season\"]==\"Winter\"]\n",
    "\n",
    "#grouping by year and country and calculating the number  of rows\n",
    "medals_by_region = get_counts_by_group(medals_winter, \"region\")\n",
    "\n",
    "#displaying top 5 rows\n",
    "medals_by_region.head()"
   ]
  },
  {
   "cell_type": "code",
   "execution_count": null,
   "metadata": {},
   "outputs": [],
   "source": [
    "#we will display data only for some countries - there are too many of them - it will get too messy if we plot all\n",
    "medals_subset = medals_by_region[[\"Canada\",\"Russia\",\"USA\",\"Norway\",\"Japan\",\"China\"]]\n",
    "\n",
    "medals_subset.iplot(kind=\"area\",fill=True)"
   ]
  },
  {
   "cell_type": "markdown",
   "metadata": {},
   "source": [
    "### Challenge\n",
    " - Using the example above - create new cell(s) and display number of medals for summer season\n",
    " \n",
    " - Is Canada more successful in Winter or in Summer Olympics?\n",
    " - What was the year when Canada got the most medals in Summer Olympics?\n",
    "     "
   ]
  },
  {
   "cell_type": "markdown",
   "metadata": {},
   "source": [
    "### Extra:   \n",
    "\n",
    "We can choose country using interactive input   \n",
    "\n",
    "**Note**:if you enter not existing country - the code will give an error, restart the cell to start over."
   ]
  },
  {
   "cell_type": "code",
   "execution_count": null,
   "metadata": {},
   "outputs": [],
   "source": [
    "print(\"Enter country:\")\n",
    "\n",
    "country = input()\n",
    "\n",
    "medals_subset1 = medals_by_region[country]\n",
    "\n",
    "medals_subset1.iplot(kind=\"area\",fill=True)"
   ]
  },
  {
   "cell_type": "markdown",
   "metadata": {},
   "source": [
    "### For Summer olympics 1984 how many gold/silver/bronze medals in total and by sport"
   ]
  },
  {
   "cell_type": "code",
   "execution_count": null,
   "metadata": {},
   "outputs": [],
   "source": [
    "# we subset by specific year, county and season\n",
    "\n",
    "medals_by_country = medals[(medals[\"Season\"]==\"Summer\") \n",
    "                            &(medals[\"Year\"]==1984) \n",
    "                            &(medals[\"region\"]==\"Canada\")]"
   ]
  },
  {
   "cell_type": "code",
   "execution_count": null,
   "metadata": {},
   "outputs": [],
   "source": [
    "# we call predefined function to get medal counts - its in code_helper/olympics.py\n",
    "medals_by_kind = medals_by_country.groupby([\"Medal\"]).size().reset_index(name=\"count\")\n",
    "\n",
    "medals_by_kind"
   ]
  },
  {
   "cell_type": "code",
   "execution_count": null,
   "metadata": {},
   "outputs": [],
   "source": [
    "#using new kind of plot - Pie chart, note it needs labels and values set so specific columns\n",
    "\n",
    "medals_by_kind.iplot(kind=\"pie\", labels=\"Medal\",values=\"count\")"
   ]
  },
  {
   "cell_type": "code",
   "execution_count": null,
   "metadata": {},
   "outputs": [],
   "source": [
    "# to get number of medal by sport - we call predefined function - its in code_helper/olympics.py\n",
    "medal_by_sport = get_counts_by_medal(medals_by_country)\n",
    "\n",
    "medal_by_sport"
   ]
  },
  {
   "cell_type": "code",
   "execution_count": null,
   "metadata": {},
   "outputs": [],
   "source": [
    "#note: barmode ='stack'  means bars stack on top of each other\n",
    "medal_by_sport.iplot(kind = \"bar\", barmode = \"stack\")"
   ]
  },
  {
   "cell_type": "markdown",
   "metadata": {},
   "source": [
    "### Challenge\n",
    "\n",
    "- Using the example above - create new cell(s) and analyse number of medals for Russia in Summer 1980\n",
    "  - What was the location of these Olympics?"
   ]
  },
  {
   "cell_type": "markdown",
   "metadata": {},
   "source": [
    "## Extra\n",
    "\n",
    "On the plot below we can compare the number of participants vs number of medals, feel free to play with the \n",
    "different years, countries and seasons."
   ]
  },
  {
   "cell_type": "code",
   "execution_count": null,
   "metadata": {},
   "outputs": [],
   "source": [
    "\n",
    "summary = get_participation_counts(olympics ,year=1984, season=\"Summer\", country=\"Canada\")\n",
    "\n",
    "summary.iplot(kind= \"bar\", barmode=\"stack\")"
   ]
  }
 ],
 "metadata": {
  "kernelspec": {
   "display_name": "Python 3",
   "language": "python",
   "name": "python3"
  },
  "language_info": {
   "codemirror_mode": {
    "name": "ipython",
    "version": 3
   },
   "file_extension": ".py",
   "mimetype": "text/x-python",
   "name": "python",
   "nbconvert_exporter": "python",
   "pygments_lexer": "ipython3",
   "version": "3.6.8"
  },
  "latex_envs": {
   "LaTeX_envs_menu_present": true,
   "autoclose": false,
   "autocomplete": true,
   "bibliofile": "biblio.bib",
   "cite_by": "apalike",
   "current_citInitial": 1,
   "eqLabelWithNumbers": true,
   "eqNumInitial": 1,
   "hotkeys": {
    "equation": "Ctrl-E",
    "itemize": "Ctrl-I"
   },
   "labels_anchors": false,
   "latex_user_defs": false,
   "report_style_numbering": false,
   "user_envs_cfg": false
  },
  "nbTranslate": {
   "displayLangs": [
    "*"
   ],
   "hotkey": "alt-t",
   "langInMainMenu": true,
   "sourceLang": "en",
   "targetLang": "fr",
   "useGoogleTranslate": true
  }
 },
 "nbformat": 4,
 "nbformat_minor": 2
}
