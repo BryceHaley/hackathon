{
 "cells": [
  {
   "cell_type": "code",
   "execution_count": null,
   "metadata": {
    "scrolled": true
   },
   "outputs": [],
   "source": [
    "from IPython.display import HTML, display\n",
    "display(HTML(\"<table><tr><td><img src='data/pokemon.png' width='730'></td><td><img src='data/cosmoem.jpeg' width='270'></td></tr></table>\"))"
   ]
  },
  {
   "cell_type": "code",
   "execution_count": null,
   "metadata": {},
   "outputs": [],
   "source": [
    "#!pip install cufflinks\n",
    "#!pip install ipywidgets"
   ]
  },
  {
   "cell_type": "code",
   "execution_count": null,
   "metadata": {},
   "outputs": [],
   "source": [
    "# load libraries and helper code\n",
    "from helper_code.pokemon import *\n",
    "cf.go_offline()"
   ]
  },
  {
   "cell_type": "markdown",
   "metadata": {},
   "source": [
    "# Group goal\n",
    "\n",
    " \n",
    "Go through the  analysis below, work on challenges, try modifying the code.\n",
    "\n",
    "\n",
    "**Extra challenge**:\n",
    "\n",
    "Is there anything else interesting you can find and visualize for this data? "
   ]
  },
  {
   "cell_type": "markdown",
   "metadata": {},
   "source": [
    "### Getting data\n",
    "Pokemon dataset was downloaded from [Kaggle](https://www.kaggle.com/rounakbanik/pokemon)\n",
    "\n",
    "**Kaggle** is the online community of data scientists and machine learners and the most well known competition platform for predictive modeling and analytics.\n"
   ]
  },
  {
   "cell_type": "code",
   "execution_count": null,
   "metadata": {},
   "outputs": [],
   "source": [
    "#name of the input file\n",
    "file_name=\"data/pokemon.csv\""
   ]
  },
  {
   "cell_type": "code",
   "execution_count": null,
   "metadata": {},
   "outputs": [],
   "source": [
    "#if reading from cloud object storage\n",
    "target_url=\"https://swift-yeg.cloud.cybera.ca:8080/v1/AUTH_d22d1e3f28be45209ba8f660295c84cf/hackaton/pokemon.csv\"\n",
    "urllib.request.urlretrieve(target_url, file_name)"
   ]
  },
  {
   "cell_type": "code",
   "execution_count": null,
   "metadata": {},
   "outputs": [],
   "source": [
    "#reading the input file and creating dataframe\n",
    "pokemon = pd.read_csv(file_name) "
   ]
  },
  {
   "cell_type": "code",
   "execution_count": null,
   "metadata": {},
   "outputs": [],
   "source": [
    "#how many rows and colums does the dataframe have?\n",
    "pokemon.shape"
   ]
  },
  {
   "cell_type": "code",
   "execution_count": null,
   "metadata": {},
   "outputs": [],
   "source": [
    "#what are the column names?\n",
    "pokemon.columns"
   ]
  },
  {
   "cell_type": "markdown",
   "metadata": {},
   "source": [
    "Here is the column description from Kaggle:\n",
    "\n",
    "- **name**: The English name of the Pokemon\n",
    "- **japanese_name**: The Original Japanese name of the Pokemon\n",
    "- **pokedex_number**: The entry number of the Pokemon in the National Pokedex\n",
    "- **percentage_male**: The percentage of the species that are male. Blank if the Pokemon is genderless.\n",
    "- **type1**: The Primary Type of the Pokemon\n",
    "- **type2**: The Secondary Type of the Pokemon\n",
    "- **classfication**: The Classification of the Pokemon as described by the Sun and Moon Pokedex\n",
    "- **height_m**: Height of the Pokemon in metres\n",
    "- **weight_kg**: The Weight of the Pokemon in kilograms\n",
    "- **capture_rate**: Capture Rate of the Pokemon\n",
    "- **base_egg_steps**: The number of steps required to hatch an egg of the Pokemon\n",
    "- **abilities**: A stringified list of abilities that the Pokemon is capable of having\n",
    "- **experience_growth**: The Experience Growth of the Pokemon\n",
    "- **base_happiness**: Base Happiness of the Pokemon\n",
    "- **against_?**: Eighteen features that denote the amount of damage taken against an attack of a particular type\n",
    "- **hp**: The Base HP of the Pokemon\n",
    "- **attack**: The Base Attack of the Pokemon\n",
    "- **defense**: The Base Defense of the Pokemon\n",
    "- **sp_attack**: The Base Special Attack of the Pokemon\n",
    "- **sp_defense**: The Base Special Defense of the Pokemon\n",
    "- **speed**: The Base Speed of the Pokemon\n",
    "- **generation**: The numbered generation which the Pokemon was first introduced\n",
    "- **is_legendary**: Denotes if the Pokemon is legendary."
   ]
  },
  {
   "cell_type": "code",
   "execution_count": null,
   "metadata": {},
   "outputs": [],
   "source": [
    "#display first 20 columns to explore how the data look like\n",
    "#0:20 - means from column 0 up to column 19\n",
    "\n",
    "pokemon.iloc[:,0:20].head()"
   ]
  },
  {
   "cell_type": "markdown",
   "metadata": {},
   "source": [
    "### Challenge\n",
    "\n",
    " - display columns from 21 to 40\n",
    " - experiment with head() function in the previous  try changing it to head(10) or head(33)to display different number of rows \n",
    " "
   ]
  },
  {
   "cell_type": "markdown",
   "metadata": {},
   "source": [
    "### Weight and hight "
   ]
  },
  {
   "cell_type": "code",
   "execution_count": null,
   "metadata": {},
   "outputs": [],
   "source": [
    "#lets select only two columns \"weight_kg\" and \"name\"\n",
    "pokemon_by_weight = pokemon[[\"weight_kg\",\"name\"]]\n",
    "\n",
    "#we will order by \"weight_kg\" in descending order\n",
    "pokemon_by_weight = pokemon_by_weight.sort_values(by=['weight_kg'],ascending=False)\n",
    "\n",
    "#print on the screen the top 10 heaviest pokemon\n",
    "pokemon_by_weight.head(10)"
   ]
  },
  {
   "cell_type": "code",
   "execution_count": null,
   "metadata": {},
   "outputs": [],
   "source": [
    "# we need to set index to \"name\" - so our graph has pokemon names as  labels\n",
    "\n",
    "# .iplot(kind=\"bar\")  - means create bar chart\n",
    "\n",
    "pokemon_by_weight.head(10).set_index(\"name\").iplot(kind=\"bar\")"
   ]
  },
  {
   "cell_type": "markdown",
   "metadata": {},
   "source": [
    "### Challenge\n",
    " - Using the example above - create new cell(s) and try to find top 20 smallest pokemon (use **height_m** column)\n",
    " - Plot the top 20 smallest pokemon - try changing **iplot(kind=\"bar\")** to **iplot(kind=\"barh\")**  or **.iplot(kind=\"line\")** -  which graph does better visualize the results?"
   ]
  },
  {
   "cell_type": "markdown",
   "metadata": {},
   "source": [
    "### Bonus\n",
    " - Run the cell below and try changing **iplot(kind=\"histogram\")** to **iplot(kind=\"box\")** \n",
    " \n",
    " - Can you guess how to interpret both these kind of graphs?\n",
    " \n",
    " More information about [histograms](https://www.mathsisfun.com/data/histograms.html) and [boxplots](https://www.mathsisfun.com/definitions/box-and-whisker-plot.html) "
   ]
  },
  {
   "cell_type": "code",
   "execution_count": null,
   "metadata": {},
   "outputs": [],
   "source": [
    "pokemon_by_weight.set_index(\"name\").iplot(kind=\"histogram\")"
   ]
  },
  {
   "cell_type": "markdown",
   "metadata": {},
   "source": [
    "### For the top 10 heaviest pokemon - what will be the hight?"
   ]
  },
  {
   "cell_type": "code",
   "execution_count": null,
   "metadata": {},
   "outputs": [],
   "source": [
    "#this time we are interested in weight and height - we select three columns \"weight_kg\",\"height_m\" and \"name\"\n",
    "pokemon_by_weight_height = pokemon[[\"weight_kg\",\"height_m\",\"name\"]]\n",
    "\n",
    "#we will order by weight_kg in descending order\n",
    "pokemon_by_weight_height = pokemon_by_weight_height.sort_values(by=['weight_kg'],ascending=False)\n",
    "\n",
    "#print on the screen the top 10 heaviest pokemon\n",
    "pokemon_by_weight_height.head(10)"
   ]
  },
  {
   "cell_type": "markdown",
   "metadata": {},
   "source": [
    "Interestingly [Cosmoem](https://www.pokemon.com/us/pokedex/cosmoem) - has a super large weight and minimum height!"
   ]
  },
  {
   "cell_type": "code",
   "execution_count": null,
   "metadata": {},
   "outputs": [],
   "source": [
    "pokemon_by_weight_height.head(10).set_index(\"name\").iplot(kind=\"bar\")"
   ]
  },
  {
   "cell_type": "code",
   "execution_count": null,
   "metadata": {},
   "outputs": [],
   "source": [
    "#note: we are using entire dataset now, not just 10 rows\n",
    "\n",
    "#new kind of plot - scatterplot\n",
    "\n",
    "#mode = 'markers' -  means we just plotting markers(dots),not lines\n",
    "\n",
    "#x='weight_kg', y='height_m' - which columns are going to y and x axis\n",
    "\n",
    "#text=\"name\" - name of the pokemon will be displayed when you hoover your mouse over it\n",
    "\n",
    "pokemon_by_weight_height.iplot(kind=\"scatter\", mode='markers', x='weight_kg', y='height_m', text=\"name\")"
   ]
  },
  {
   "cell_type": "markdown",
   "metadata": {},
   "source": [
    "### Challenge\n",
    " - Using the example above - create new cell(s) and try to find top 10 strongest pokemon (highest base attack), whats is the base defense for these pokemons (use **attack**  and **defense** columns)\n",
    " - Plot defence and attack for the top 10 strongest pokemon "
   ]
  },
  {
   "cell_type": "markdown",
   "metadata": {},
   "source": [
    "### Pokemon by primary type"
   ]
  },
  {
   "cell_type": "code",
   "execution_count": null,
   "metadata": {},
   "outputs": [],
   "source": [
    "#unique primary types\n",
    "pokemon_types1 = pokemon[\"type1\"].unique()\n",
    "\n",
    "#how many primary types do exist\n",
    "print(len(pokemon_types1), \"types\")\n",
    "\n",
    "#print the actual type names\n",
    "print(pokemon_types1)"
   ]
  },
  {
   "cell_type": "code",
   "execution_count": null,
   "metadata": {},
   "outputs": [],
   "source": [
    "#calculate how many of the pokemons belong to every type\n",
    "pokemon_by_type = pokemon.groupby(\"type1\").size()\n",
    "\n",
    "#create additional column \"count\" to store the number of pokemons \n",
    "pokemon_by_type = pokemon_by_type.reset_index(name='count')\n",
    "\n",
    "#sort by number of pokemons - what type has the largest number\n",
    "pokemon_by_type = pokemon_by_type.sort_values(['count'], ascending=False)\n",
    "\n",
    "#print the results on the screen\n",
    "pokemon_by_type"
   ]
  },
  {
   "cell_type": "code",
   "execution_count": null,
   "metadata": {},
   "outputs": [],
   "source": [
    "#this time we use pie chart \n",
    "\n",
    "#labels = \"type1\" which column are we using to label\n",
    "\n",
    "#values = \"count\" wich column are plotting\n",
    "\n",
    "#colors = colors20 use extended color palette with 20 colors \n",
    "\n",
    "pokemon_by_type.iplot(kind=\"pie\",labels = \"type1\",values = \"count\",colors = colors20)"
   ]
  },
  {
   "cell_type": "markdown",
   "metadata": {},
   "source": [
    "### Challenge\n",
    "Using the example above - create new cell(s) and try analyzing pokemons by secondary type(**type2**):\n",
    " - how many secondary  types do exist\n",
    " - number of pokemon by secondary type\n",
    " \n",
    " \n",
    " What if you look at secondary type only for water type pokemons?  \n",
    " Use **water_type = pokemon [pokemon[\"type1\"]==\"water\"]** to subset only water type pokemon"
   ]
  },
  {
   "cell_type": "markdown",
   "metadata": {},
   "source": [
    "### Attack and defense by primary type"
   ]
  },
  {
   "cell_type": "code",
   "execution_count": null,
   "metadata": {},
   "outputs": [],
   "source": [
    "#we use scatterplot again to plot attack on x axis and defense on y axis for all the pokemon\n",
    "\n",
    "#we will color by primary type using categories =\"type1\"\n",
    "\n",
    "pokemon.iplot(kind=\"scatter\",mode='markers', x='attack', y='defense', \n",
    "              categories =\"type1\",text =\"name\",color=colors20)"
   ]
  },
  {
   "cell_type": "markdown",
   "metadata": {},
   "source": [
    "This look a little messy, lets try setting the type manually, we use **input()** for that\n",
    "\n",
    "\n",
    "**Note**:if you enter not existing type - the code will give an error, restart the cell to start over."
   ]
  },
  {
   "cell_type": "code",
   "execution_count": null,
   "metadata": {},
   "outputs": [],
   "source": [
    "print(\"Enter pokemon primary type:\")\n",
    "\n",
    "# will read user input into input1 varable\n",
    "input1 = input()\n",
    "\n",
    "#we do the same graph but subset the data by input\n",
    "pokemon[(pokemon[\"type1\"]==input1)].iplot(kind=\"scatter\",mode='markers', x='attack', y='defense', \n",
    "              categories =\"type1\",text =\"name\",color=colors20)"
   ]
  },
  {
   "cell_type": "markdown",
   "metadata": {},
   "source": [
    "### Challenge\n",
    "\n",
    "Using the cell above - create new cell and try adding two user inputs and plot two pokemon types \n",
    "  - Use **pokemon[(pokemon[\"type1\"]==input1) | (pokemon[\"type1\"]==input2)]** to select two types at the same time"
   ]
  },
  {
   "cell_type": "markdown",
   "metadata": {},
   "source": [
    "&nbsp;    \n",
    "&nbsp;\n",
    "&nbsp;                                  \n",
    "&nbsp;                                \n",
    "&nbsp;                                   \n",
    "&nbsp;                                  \n",
    "&nbsp;\n",
    "&nbsp;\n",
    "&nbsp;\n",
    "&nbsp;\n",
    "&nbsp;\n",
    "&nbsp;\n",
    "&nbsp;"
   ]
  },
  {
   "cell_type": "markdown",
   "metadata": {},
   "source": [
    "\n",
    "##  Extra \n",
    "\n",
    "### Avergae attack and defense by primary type"
   ]
  },
  {
   "cell_type": "code",
   "execution_count": null,
   "metadata": {},
   "outputs": [],
   "source": [
    "#calculate average attack and defense by primary type\n",
    "avg_by_type = pokemon[['type1', 'attack', 'defense']].groupby('type1').mean()\n",
    "\n",
    "#how many pokemon belong to each primary type\n",
    "counts = pokemon.groupby('type1').size()\n",
    "\n",
    "#combine pokemon counts and average attack/defense\n",
    "avg_by_type[\"count\"] = counts\n",
    "\n",
    "#reset index to have \"type1\" as a column\n",
    "avg_by_type = avg_by_type.reset_index()\n",
    "\n",
    "avg_by_type"
   ]
  },
  {
   "cell_type": "code",
   "execution_count": null,
   "metadata": {},
   "outputs": [],
   "source": [
    "# we use bubble chart here\n",
    "\n",
    "#the size of bubble is set to \"count\" - the bigger the bubble is the more pokemons belong to this primary type\n",
    "\n",
    "avg_by_type.iplot(kind=\"bubble\",mode='markers', x='attack', y='defense', size=\"count\", \n",
    "              categories =\"type1\",color=colors20)"
   ]
  },
  {
   "cell_type": "markdown",
   "metadata": {},
   "source": []
  }
 ],
 "metadata": {
  "celltoolbar": "Raw Cell Format",
  "kernelspec": {
   "display_name": "Python 3",
   "language": "python",
   "name": "python3"
  },
  "language_info": {
   "codemirror_mode": {
    "name": "ipython",
    "version": 3
   },
   "file_extension": ".py",
   "mimetype": "text/x-python",
   "name": "python",
   "nbconvert_exporter": "python",
   "pygments_lexer": "ipython3",
   "version": "3.6.8"
  },
  "latex_envs": {
   "LaTeX_envs_menu_present": true,
   "autoclose": false,
   "autocomplete": true,
   "bibliofile": "biblio.bib",
   "cite_by": "apalike",
   "current_citInitial": 1,
   "eqLabelWithNumbers": true,
   "eqNumInitial": 1,
   "hotkeys": {
    "equation": "Ctrl-E",
    "itemize": "Ctrl-I"
   },
   "labels_anchors": false,
   "latex_user_defs": false,
   "report_style_numbering": false,
   "user_envs_cfg": false
  },
  "nbTranslate": {
   "displayLangs": [
    "*"
   ],
   "hotkey": "alt-t",
   "langInMainMenu": true,
   "sourceLang": "en",
   "targetLang": "fr",
   "useGoogleTranslate": true
  }
 },
 "nbformat": 4,
 "nbformat_minor": 2
}
