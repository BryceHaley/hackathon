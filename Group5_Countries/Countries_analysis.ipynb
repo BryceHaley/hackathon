{
 "cells": [
  {
   "cell_type": "markdown",
   "metadata": {},
   "source": [
    "![alt text](https://github.com/callysto/callysto-sample-notebooks/blob/master/notebooks/images/Callysto_Notebook-Banner_Top_06.06.18.jpg?raw=true)"
   ]
  },
  {
   "cell_type": "code",
   "execution_count": null,
   "metadata": {},
   "outputs": [],
   "source": [
    "#from IPython.display import HTML, display\n",
    "#display(HTML(\"<table><tr><td><img src='data/map.png' width='550'></td><td><img src='data/globe.jpeg' width='420'></td></tr></table>\"))"
   ]
  },
  {
   "cell_type": "markdown",
   "metadata": {},
   "source": [
    "### Prep work"
   ]
  },
  {
   "cell_type": "markdown",
   "metadata": {},
   "source": [
    "Uncomment and run the cell below to install libraries:"
   ]
  },
  {
   "cell_type": "code",
   "execution_count": null,
   "metadata": {},
   "outputs": [],
   "source": [
    "#!pip install mapclassify geopandas"
   ]
  },
  {
   "cell_type": "markdown",
   "metadata": {},
   "source": [
    "Run the next cell to load libaries and pre-defined functions:"
   ]
  },
  {
   "cell_type": "code",
   "execution_count": null,
   "metadata": {},
   "outputs": [],
   "source": [
    "# load libraries and helper code\n",
    "#from helper_code.countries import *\n",
    "import pandas as pd\n",
    "import matplotlib.pyplot as plt\n",
    "import geopandas as gpd\n",
    "from pylab import rcParams\n",
    "%matplotlib inline\n",
    "\n",
    "world = gpd.read_file(gpd.datasets.get_path('naturalearth_lowres'))\n",
    "world = world[[\"name\",\"geometry\"]]\n",
    "\n",
    "\n",
    "def get_countries_geometry(countries):\n",
    "    countries.loc[countries[\"country\"]==\"United States\", [\"country\"]] = \"United States of America\"\n",
    "    result = world.merge(countries, left_on = 'name', right_on = 'country')\n",
    "    result = result.drop(['name'], axis=1)\n",
    "    return result"
   ]
  },
  {
   "cell_type": "markdown",
   "metadata": {},
   "source": [
    "# Group goal\n",
    "\n",
    " \n",
    "Go through the  analysis below, work on challenges.\n",
    "\n",
    "\n",
    "**Extra challenge**:\n",
    "\n",
    "Is there anything else interesting you can find and visualize for this data? "
   ]
  },
  {
   "cell_type": "markdown",
   "metadata": {},
   "source": [
    "### Getting data\n",
    "\n",
    "This dataset was createwd by [Bootstrap](https://www.bootstrapworld.org/index.shtml) company and can be downloaded from  [here](https://docs.google.com/spreadsheets/d/19VoYxPw0tmuSViN1qFIkyUoepjNSRsuQCe0TZZDmrZs/edit#gid=213565368).\n",
    "\n",
    "\n",
    "Data was aggreagted from the following souces :\n",
    " - The World Factbook:\n",
    "  - [GDP (PPP)](https://www.cia.gov/library/publications/the-world-factbook/rankorder/2001rank.html)\n",
    "  - [Life expectancy at birth](https://www.cia.gov/library/publications/the-world-factbook/fields/355rank.html)\n",
    "  - [Population](https://www.cia.gov/library/publications/the-world-factbook/fields/335rank.html)\n",
    "\n",
    "- Wikipedia:\n",
    " - [Universal Health Care](https://en.wikipedia.org/wiki/List_of_countries_with_universal_health_care)\n",
    " \n",
    "    \n",
    "Some countries/territories/regions were omitted from the dataset due to incomplete data.\n",
    "   "
   ]
  },
  {
   "cell_type": "code",
   "execution_count": null,
   "metadata": {},
   "outputs": [],
   "source": [
    "#if reading from cloud object storage\n",
    "target_url=\"https://swift-yeg.cloud.cybera.ca:8080/v1/AUTH_d22d1e3f28be45209ba8f660295c84cf/hackaton/countries.csv\""
   ]
  },
  {
   "cell_type": "code",
   "execution_count": null,
   "metadata": {},
   "outputs": [],
   "source": [
    "#reading the input file and creating dataframe\n",
    "countries = pd.read_csv(target_url) "
   ]
  },
  {
   "cell_type": "code",
   "execution_count": null,
   "metadata": {},
   "outputs": [],
   "source": [
    "#how many rows and colums does the dataframe have?\n",
    "countries.shape"
   ]
  },
  {
   "cell_type": "code",
   "execution_count": null,
   "metadata": {},
   "outputs": [],
   "source": [
    "#what are the column names?\n",
    "countries.columns"
   ]
  },
  {
   "cell_type": "markdown",
   "metadata": {},
   "source": [
    "Columns description:  \n",
    "   \n",
    "**gdp(\\$US)**  - the sum value of all goods and services produced in the country valued at prices prevailing in the United States.\n",
    "\n",
    "**life-expectancy (yrs)** -  the average number of years to be lived by a group of people born in the same year, if mortality at each age remains constant in the future. Life expectancy at birth is also a measure of overall quality of life in a country and summarizes the mortality at all ages.\n",
    "\n",
    "**population** - population of the country.\n",
    "\n",
    "**has-univ-healthcare** - Universal health coverage is a broad concept that has been implemented in several ways. The common denominator for all such programs is some form of government action aimed at extending access to health care as widely as possible and setting minimum standards."
   ]
  },
  {
   "cell_type": "code",
   "execution_count": null,
   "metadata": {},
   "outputs": [],
   "source": [
    "#display first 5 rows to explore how the data looks like\n",
    "countries.head()"
   ]
  },
  {
   "cell_type": "code",
   "execution_count": null,
   "metadata": {},
   "outputs": [],
   "source": [
    "#call function get_countries_geometry() \n",
    "countries2 = get_countries_geometry(countries)\n",
    "\n",
    "countries2.head()"
   ]
  },
  {
   "cell_type": "markdown",
   "metadata": {},
   "source": [
    "### Challenge\n",
    "- Which additional column was added when calling `get_countries_geometry()` function? What data do you think it has?\n",
    "- Try experimenting with \"head\" function, like head(20), head(5), etc.\n"
   ]
  },
  {
   "cell_type": "markdown",
   "metadata": {},
   "source": [
    "### Exploring data by country"
   ]
  },
  {
   "cell_type": "markdown",
   "metadata": {},
   "source": [
    "We can just plot all countries that we have using `plot()`  function"
   ]
  },
  {
   "cell_type": "code",
   "execution_count": null,
   "metadata": {},
   "outputs": [],
   "source": [
    "#figure size 20 by 10 \n",
    "rcParams['figure.figsize'] = 20, 10\n",
    "\n",
    "countries2.plot()"
   ]
  },
  {
   "cell_type": "markdown",
   "metadata": {},
   "source": [
    "Lets try coloring the countries differently depending on the specific column:"
   ]
  },
  {
   "cell_type": "code",
   "execution_count": null,
   "metadata": {},
   "outputs": [],
   "source": [
    "#figure size 20 by 10 \n",
    "rcParams['figure.figsize'] = 20, 10\n",
    "\n",
    "#plotting the world map colored by 'life-expectancy'\n",
    "countries2.plot(column='life-expectancy (yrs)', legend = True)"
   ]
  },
  {
   "cell_type": "markdown",
   "metadata": {},
   "source": [
    "Look at the map  - interestingly  - Japan has the highest life expectancy!  \n",
    "Lets find out what is the exact number:"
   ]
  },
  {
   "cell_type": "code",
   "execution_count": null,
   "metadata": {},
   "outputs": [],
   "source": [
    "countries2[countries2[\"country\"]==\"Japan\"]"
   ]
  },
  {
   "cell_type": "markdown",
   "metadata": {},
   "source": [
    "### Challenge\n",
    " - Using the cells above as an example - create new cells and draw a map colored by `population` and `gdp ($US)`\n",
    " \n",
    " - If you look at the colorbar for population  - can you figure out what is `1e9`(on top)?\n",
    "  - its actually one plus 9 zeros - 1 000 000 000 - one billion - China and India have more than 1 billion popuplation.\n",
    " - Print on the screen the exact number for China population.\n",
    "  \n",
    "- If you look at both maps you created - do they look similar? Why do you think it happens?"
   ]
  },
  {
   "cell_type": "code",
   "execution_count": null,
   "metadata": {},
   "outputs": [],
   "source": [
    "#let's create another column - GDP per person\n",
    "countries2['gdp ($US) person'] = countries2['gdp ($US)']/countries2[\"population\"]\n",
    "\n",
    "#and plot by new created column\n",
    "rcParams['figure.figsize'] = 20, 10\n",
    "countries2.plot(column='gdp ($US) person',legend = True)"
   ]
  },
  {
   "cell_type": "markdown",
   "metadata": {},
   "source": [
    "Lets find out the top 20 countries having the highest \"gdp per person\" value."
   ]
  },
  {
   "cell_type": "code",
   "execution_count": null,
   "metadata": {},
   "outputs": [],
   "source": [
    "#select only two columns - \"gdp ($US) person\" and \"country\"\n",
    "gdp_person = countries2[[\"gdp ($US) person\",\"country\"]]\n",
    "\n",
    "#order by \"gdp ($US) person\", having highest numbers on top and get top 20\n",
    "#note ascending is set to False, try chaning it to True and see how the output changes\n",
    "gdp_person = gdp_person.sort_values(\"gdp ($US) person\", ascending = False).head(20)\n",
    "\n",
    "gdp_person"
   ]
  },
  {
   "cell_type": "code",
   "execution_count": null,
   "metadata": {},
   "outputs": [],
   "source": [
    "#plotting top 20 countries, setting index to country - so the bars are marked with country names\n",
    "rcParams['figure.figsize'] = 20, 10\n",
    "gdp_person.set_index(\"country\").plot(kind = \"bar\")"
   ]
  },
  {
   "cell_type": "markdown",
   "metadata": {},
   "source": [
    "Looks like some of the countries in the top 20 are quite small - like Luxembourg or Brunei.   \n",
    "Let's find out what is the population for these countries."
   ]
  },
  {
   "cell_type": "code",
   "execution_count": null,
   "metadata": {},
   "outputs": [],
   "source": [
    "# creating new column  - population in thousands \n",
    "countries2[\"population_t\"] = countries2[\"population\"]/1000"
   ]
  },
  {
   "cell_type": "code",
   "execution_count": null,
   "metadata": {},
   "outputs": [],
   "source": [
    "#this time we select 3 columns - \"gdp ($US) person\", \"population_t\" and \"country\"\n",
    "gdp_person = countries2[[\"gdp ($US) person\",\"population_t\" ,\"country\"]]\n",
    "\n",
    "#sorting again  by \"gdp ($US) person\"\n",
    "gdp_person = gdp_person.sort_values(\"gdp ($US) person\", ascending = False).head(20)\n",
    "\n",
    "rcParams['figure.figsize'] = 20, 10\n",
    "gdp_person.set_index(\"country\").plot(kind = \"bar\")"
   ]
  },
  {
   "cell_type": "markdown",
   "metadata": {},
   "source": [
    "We can see that the majority of countires in top 20 have smaller population, but United States populalion significantly larger than other countries, so there likely no connection between GDP per person and population number"
   ]
  },
  {
   "cell_type": "markdown",
   "metadata": {},
   "source": [
    "### Challenge\n",
    " - Using the cells above as an example create new cells and find out the top 20 countries with least life expectancy.\n",
    " - Do these countries have Universal Health Care?"
   ]
  },
  {
   "cell_type": "markdown",
   "metadata": {},
   "source": [
    "### Exploring data by continent\n",
    "\n",
    "#### Number of countries per continent"
   ]
  },
  {
   "cell_type": "code",
   "execution_count": null,
   "metadata": {},
   "outputs": [],
   "source": [
    "#unique continents\n",
    "continents = countries2[\"continent\"].unique()\n",
    "\n",
    "#how many of them?\n",
    "print(len(continents),\" continents\")\n",
    "\n",
    "continents"
   ]
  },
  {
   "cell_type": "code",
   "execution_count": null,
   "metadata": {},
   "outputs": [],
   "source": [
    "#group by continent anc calclulate how many rows/countries\n",
    "counts_by_continent = countries2.groupby(\"continent\").size()\n",
    "\n",
    "counts_by_continent"
   ]
  },
  {
   "cell_type": "code",
   "execution_count": null,
   "metadata": {},
   "outputs": [],
   "source": [
    "#the figure size 10 by 10  - to make the figure fit in the square\n",
    "rcParams['figure.figsize'] = 10, 10\n",
    "\n",
    "#using kind pie to create a pie chart\n",
    "counts_by_continent.plot(kind = \"pie\")"
   ]
  },
  {
   "cell_type": "markdown",
   "metadata": {},
   "source": [
    "Looks like Asia, Africa nad Europe have almost equal number of countries."
   ]
  },
  {
   "cell_type": "markdown",
   "metadata": {},
   "source": [
    "#### Population by continent\n",
    "\n",
    "Calculate wich continent has the largest population:"
   ]
  },
  {
   "cell_type": "code",
   "execution_count": null,
   "metadata": {},
   "outputs": [],
   "source": [
    "#group by continent anc calclulate sum for every column\n",
    "sum_by_continent = countries2.groupby(\"continent\").sum()\n",
    "\n",
    "sum_by_continent"
   ]
  },
  {
   "cell_type": "code",
   "execution_count": null,
   "metadata": {},
   "outputs": [],
   "source": [
    "rcParams['figure.figsize'] = 10, 10\n",
    "\n",
    "# we select only one column - population and create a pie chart\n",
    "sum_by_continent[\"population\"].plot(kind=\"pie\")"
   ]
  },
  {
   "cell_type": "markdown",
   "metadata": {},
   "source": [
    "### Challenge\n",
    "  - Try changing the plot in the cell above to bar graph, what kind of plot gives better understanding for this data? \n",
    "  - Using **sum_by_continent** dataframe  - create new cell(s) and plot the `has-univ-healthcare` column  to visualize which continent has more countries with Unviversal Healthcare available..\n",
    "  - Using the cell above as an example - calculate the the averages for every column\n",
    "      - Use `mean()` function\n",
    "  - Plot average life expectancy per continent"
   ]
  },
  {
   "cell_type": "markdown",
   "metadata": {},
   "source": [
    "![alt text](https://github.com/callysto/callysto-sample-notebooks/blob/master/notebooks/images/Callysto_Notebook-Banners_Bottom_06.06.18.jpg?raw=true)"
   ]
  }
 ],
 "metadata": {
  "kernelspec": {
   "display_name": "Python 3",
   "language": "python",
   "name": "python3"
  },
  "language_info": {
   "codemirror_mode": {
    "name": "ipython",
    "version": 3
   },
   "file_extension": ".py",
   "mimetype": "text/x-python",
   "name": "python",
   "nbconvert_exporter": "python",
   "pygments_lexer": "ipython3",
   "version": "3.6.8"
  },
  "nbTranslate": {
   "displayLangs": [
    "*"
   ],
   "hotkey": "alt-t",
   "langInMainMenu": true,
   "sourceLang": "en",
   "targetLang": "fr",
   "useGoogleTranslate": true
  }
 },
 "nbformat": 4,
 "nbformat_minor": 2
}
